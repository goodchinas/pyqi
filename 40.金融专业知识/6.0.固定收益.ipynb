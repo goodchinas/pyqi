{
 "cells": [
  {
   "cell_type": "markdown",
   "metadata": {},
   "source": [
    "# 固定收益债券\n",
    "## 债券的价格、收益率、评级\n",
    "1. 债券最普通的收益类型是一个债券承诺支付一系列固定额度的利息和到期支付本金。\n",
    "2. 当债券收益率增加时，根据现金流折现模型，债券的价值减少。\n",
    "3. 债券根据其相对违约（不能支付承诺的现金）的概率来进行评级。\n",
    "4. 更小违约概率的债券，相应的债券收益率更低，对应的债券价值更高，反之亦然。\n",
    "\n",
    "## 债券的特征和分类\n",
    "1. 债券发行人：企业、国家政府、非国家政府、准国家政府、超政府结构。\n",
    "2. 债券到期日：本金归还日，即债券发行后到债券到期之间的时间，称为债券存续期。货币市场债，资本市场债，永续债。\n",
    "3. 债券面值（归还的本金价值）：到期应归还得本金。价格高于面值溢价，依次：折价和平价。\n",
    "4. 票面利率和付息频率：普通债券、零息债券（纯折价债），固定利率，浮动利率。\n",
    "5. 计价货币：稳定、双货币债\n",
    "\n",
    "## 债券的合同性质\n",
    "1. 债券合约本质是一份合同，债券发行人和持有人之间是一种信托关系\n",
    "2. 合约包含否定性条款和肯定性条款\n",
    "\n",
    "## 债券发行和交易的影响因素\n",
    "债券由于不同的发行和交易差别涉及的法律和监管要求也不同。本币债、外币债（熊猫债、扬基债、“欧”债）\n",
    "1. 发行主体的信用差别\n",
    "2. 还款来源\n",
    "3. 抵押质量、信用增级、债券分级\n",
    "4. 债券税收\n",
    "\n",
    "评级:证券化债>非证券化债>次级债"
   ]
  },
  {
   "cell_type": "markdown",
   "metadata": {},
   "source": [
    "## 现金流\n",
    "$\\Large v=\\sum_{t=1}^{T}{\\left[\\frac{p_t+r_i\\sum_{m=t}^{T}{p_m}}{{(1+r_c)}^t}\\right]}\\\\v:债券折现值\\\\p_t:t期支付本金\\\\r_i:债券票面利率\\\\r_c:贴现率$\n",
    "\n",
    "**到期还本**\n",
    "***\n",
    "<img width=\"50%\" src=\"images/一次性还款.png\">\n",
    "\n",
    "**完全按揭**\n",
    "***\n",
    "<img width=\"50%\" src=\"images/按揭债.png\">\n",
    "\n",
    "**部分按揭**\n",
    "***\n",
    "<img width=\"50%\" src=\"images/部分按揭.png\">"
   ]
  },
  {
   "cell_type": "markdown",
   "metadata": {},
   "source": [
    "## 票面利率结构\n",
    "1. 固定利率\n",
    "2. 浮动利率，基准利率+成本基点，反向浮动利率\n",
    "3. 逐级增加利息债，票面利率逐渐增加，同时具有赎回条款\n",
    "4. 信用链接票据\n",
    "5. 支付选择票据\n",
    "6. 延迟利息票据\n",
    "7. 指数链接票据\n",
    "    8. 通胀链接债\n",
    "    9. 权益链接票据"
   ]
  },
  {
   "cell_type": "markdown",
   "metadata": {},
   "source": [
    "## 或有条款的影响\n",
    "或有权益指的是某事件发生时的可能行为，可被认为是一种内含期权，为债券合约的一部分。\n",
    "\n",
    "**可赎回债**\n",
    "1. 当债券处于可赎回期内，赎回价格就是债券的市场价格上限。\n",
    "2. 赎回条款对于发行人有力，当市场利率下降，或者债券信用风险增大导致债券利率上升时，发行人可以赎回债券。\n",
    "3. 发行人只有在对自己有利的时候才会行权，投资人则需要承担更多的再投资风险，所以可赎回债的利率要更高，其中的价格差反应了债券内含的期权价值。\n",
    "\n",
    "**可回售债**\n",
    "1. 给予持有人将债券卖回给发行人的权利，持有人一般当债券市值小于回售价格时会倾向于行权。\n",
    "2. 权利对于持有人有利，因此该债券的价格高于常规债券。\n",
    "\n",
    "**可转换债**\n",
    "1. 可转换债给予持有人将债券转换为股票的权利，持有人可以享受股票价值增长带来的潜在收益。\n",
    "2. 可转换债的价格最低等于普通债券的价格。\n",
    "3. 债券利率相对较低。\n",
    "\n",
    ">可转债的特征：转换价格、转换比例、转换价值\n",
    "\n",
    "**购买凭证**\n",
    "1. 给予持有人购买普通股的权利\n",
    "2. 提高债券吸引力，降低融资利率\n",
    "\n",
    "**获有可转换债**\n",
    "1. 特定情况下，自动将债券转换为股票\n",
    "\n",
    "**总结：**\n",
    "1. 以普通固定收益债券为基础\n",
    "2. 通过或有条款出让权利或义务，来调整债券的结构，满足特定需求"
   ]
  },
  {
   "cell_type": "markdown",
   "metadata": {},
   "source": [
    "## 一级市场\n",
    "通过在监管机构注册进行公开发行，或者只对少数投资者进行私人发行，被称为一级市场交易。\n",
    "\n",
    "公开发行一般有投资银行进行协助：\n",
    "1. 判断融资需求\n",
    "2. 设计债券结构\n",
    "3. 设计债券条款\n",
    "3. 确定债券信托人\n",
    "3. 监管机构注册\n",
    "3. 评估需求，债券定价\n",
    "3. 销售债券"
   ]
  },
  {
   "cell_type": "markdown",
   "metadata": {},
   "source": [
    "## 二级市场\n",
    "1. 二级市场指的是已发行债券的交易场所\n",
    "2. 做市场提供报价\n",
    "3. 债券清算类似于股票清算\n"
   ]
  },
  {
   "cell_type": "markdown",
   "metadata": {},
   "source": [
    "# 固定收益估值\n",
    "## 债券收益率指标\n",
    "### 当期收益率\n",
    "$\\large 当期收益率=\\frac{利息支付}{债券市价}$\n",
    "\n",
    "1. 债券票面利率一般是固定的，债券的当期收益率与债券市价反向变动。\n",
    "2. 当期收益率只考虑了债券的利息收入，将其用于比较债券收益率高低并不妥当。\n",
    "3. 零息债券不付息，故其当期收益率等于零\n",
    "4. 随着到期的临近，折价债券的当期收益率逐步下降（票面利率固定，但债券价格不断上升接近面值）\n",
    "\n",
    "### 到期收益率（YTM）\n",
    "到期收益率，是使债券到期之前全部现金流的现值等于债券的当前市场价格的贴现率，也是债券投资的内部收益率（IRR）。\n",
    "\n",
    "$\\Large v=\\sum_{t=1}^{T}{\\left[\\frac{p_t+r_i\\sum_{m=t}^{T}{p_m}}{{(1+r_c)}^t}\\right]}=\\sum_{t=1}^{T}{\\left[\\frac{p_T\\times r_i}{{(1+r_c)}^t}\\right]}+\\frac{p_T}{{(1+r_c)}^t}\\\\v:债券折现值（价格）\\\\p_t:t期支付本金\\\\r_i:债券票面利率\\\\r_c:到期收益率（贴现率、内部收益率）$\n",
    "\n",
    "**两付息日之间的到期收益率：**\n",
    "\n",
    "在债券两次付息日之间的日期，债券买方必须向卖方支付债券自上次付息以来的累积利息。应计利息取决于累计期间占付息间隔时期长短的比例$f$。\n",
    "<img src='images/两付息日.png'>\n",
    "\n",
    "$\\large v+f\\times C\\\\\\large =\\sum_{t=1}^{T}{\\left[\\frac{p_t+r_i\\sum_{m=t}^{T}{p_m}}{{(1+r_c)}^{t-{\\color{red}f}}}\\right]}\\\\\\large ={(1+r_c)}^{\\color{red}f}\\sum_{t=1}^{T}{\\left[\\frac{p_t+r_i\\sum_{m=t}^{T}{p_m}}{{(1+r_c)}^{t}}\\right]}\\\\C:当期需要支付的利息金额$\n",
    "\n"
   ]
  },
  {
   "cell_type": "markdown",
   "metadata": {},
   "source": [
    "### 即期收益率\n",
    "到期收益率假设未来每期的折现率一样，即期收益率指未来每一期现金流的贴现率，对应的折现率为零息票据折现率。\n",
    "$\\Large v=\\sum_{t=1}^{T}{\\left[\\frac{p_t+r_i\\sum_{m=t}^{T}{p_m}}{{(1+{r})}^t}\\right]}=\\frac{p_T}{{(1+r_{0,T})}^T}$\n",
    "\n",
    "### 远期收益率\n",
    "远期收益率是指在将来某个时刻开始起息的一定期限的利率，表示投资者对于将来利率的预期。和即期收益率是相对的概念，即期收益率表示从现在开始的一点期限的利率。\n",
    "\n",
    "用$r_{m,n}$，表示远期利率，$m$表示远期利率的起息时间，其中$n$表示远期利率的期限（**注：利率都是单期化的利率，一般指年化利率**）。比如$r_{2,1}$，表示两年后的一年期利率，特别的，$r_{0,1}$,表示零年后的一年期利率，也就是一年期的即期利率。\n",
    "\n",
    "从贷款的成本来讲，在即期贷一个n年期贷款和n年中每年贷一个一年期的成本是相同的，可以得到即期利率和远期利率的关系如下：\n",
    "\n",
    "$\\large {(1+r_{0,n})}^n=\\prod_{t=1}^n{(1+r_{t-1,t})}\\\\\\large \\to r_{n,m-n}=\\sqrt[m-n]{\\frac{{(1+r_{0,m})}^m}{{(1+r_{0,n})}^n}}-1$"
   ]
  },
  {
   "cell_type": "markdown",
   "metadata": {},
   "source": [
    "## 矩阵定价\n",
    "矩阵定价主要是用于使用信用级别类似的债券来估计非上市交易或流动性不好的债券的到期收益率。\n",
    "\n",
    "具体方法是：\n",
    "1. 收集参考数据，相似债券的要素；\n",
    "2. 相似债券分组求均值；\n",
    "3. 左右参考求平均；\n",
    "\n",
    "例如：\n",
    "<img width=40% src=\"images/矩阵定价.PNG\">"
   ]
  },
  {
   "cell_type": "markdown",
   "metadata": {},
   "source": [
    "## 债券价格、票面利率、到期日、市场贴现率的关系\n",
    "1. 债券到期收益率（市场贴现利率）下降，债券价格上升\n",
    "2. 债券票面利率大于到期收益率，债券价格溢价，反之折价\n",
    "3. 低票面利率债券对利率变动更敏感\n",
    "4. 债券期限长对利率变化更敏感\n",
    "\n",
    "<img width=30%  src=\"images/债券价格与到期收益率.PNG\">"
   ]
  },
  {
   "cell_type": "markdown",
   "metadata": {},
   "source": [
    "# 固定收益的风险和回报\n",
    "**本节“风险”指的是未来利率不确定性引起的风险。**\n",
    "## 投资固定收益债券的利润来源\n",
    "来源：\n",
    "1. 票息和本金的收益\n",
    "2. 票息再投资的收益\n",
    "3. 提前买卖的资本利得收益\n",
    "\n",
    "假设**债券均按时支付本息**且再投资利润率等于债券的到期收益率："
   ]
  },
  {
   "cell_type": "code",
   "execution_count": 1,
   "metadata": {},
   "outputs": [],
   "source": [
    "import sympy as sp\n",
    "import numpy as np"
   ]
  },
  {
   "cell_type": "code",
   "execution_count": 2,
   "metadata": {},
   "outputs": [],
   "source": [
    "# 票面利率，投资期数，票面面值，贴现率（内部收益率、到期收益率YTM）,每期时点\n",
    "i,n,v,r,t=sp.symbols(\"i,n,v,r,t\")\n",
    "x_i,x_n,x_v,x_r=.06,3,1000,.07"
   ]
  },
  {
   "cell_type": "code",
   "execution_count": 3,
   "metadata": {
    "scrolled": false
   },
   "outputs": [
    {
     "data": {
      "text/latex": [
       "$\\displaystyle v \\left(r + 1\\right)^{- n} + \\sum_{t=1}^{n} i v \\left(r + 1\\right)^{- t}$"
      ],
      "text/plain": [
       "v*(r + 1)**(-n) + Sum(i*v*(r + 1)**(-t), (t, 1, n))"
      ]
     },
     "execution_count": 3,
     "metadata": {},
     "output_type": "execute_result"
    }
   ],
   "source": [
    "expr_pv=sp.Sum((v*i)/((1+r)**t),(t,1,n))+v/((1+r)**n)\n",
    "expr_pv"
   ]
  },
  {
   "cell_type": "markdown",
   "metadata": {},
   "source": [
    "6%票面利率3年期债券面值1000，到期收益率7%，则市场价值（现值）为："
   ]
  },
  {
   "cell_type": "code",
   "execution_count": 4,
   "metadata": {},
   "outputs": [
    {
     "data": {
      "text/latex": [
       "$\\displaystyle 973.756839555836$"
      ],
      "text/plain": [
       "973.756839555836"
      ]
     },
     "execution_count": 4,
     "metadata": {},
     "output_type": "execute_result"
    }
   ],
   "source": [
    "expr_pv.evalf(subs={i:x_i,n:x_n,v:x_v,r:x_r})"
   ]
  },
  {
   "cell_type": "code",
   "execution_count": 5,
   "metadata": {
    "scrolled": true
   },
   "outputs": [
    {
     "data": {
      "text/latex": [
       "$\\displaystyle \\sum_{t=1}^{n} i v \\left(r + 1\\right)^{t - 1}$"
      ],
      "text/plain": [
       "Sum(i*v*(r + 1)**(t - 1), (t, 1, n))"
      ]
     },
     "execution_count": 5,
     "metadata": {},
     "output_type": "execute_result"
    }
   ],
   "source": [
    "expr_r_fv=sp.Sum(v*i*((1+r)**(t-1)),(t,1,n))\n",
    "expr_r_fv"
   ]
  },
  {
   "cell_type": "markdown",
   "metadata": {},
   "source": [
    "到期时，投资人会收到票息收入，票息再投资收入为："
   ]
  },
  {
   "cell_type": "code",
   "execution_count": 6,
   "metadata": {},
   "outputs": [
    {
     "data": {
      "text/latex": [
       "$\\displaystyle 192.894$"
      ],
      "text/plain": [
       "192.894000000000"
      ]
     },
     "execution_count": 6,
     "metadata": {},
     "output_type": "execute_result"
    }
   ],
   "source": [
    "expr_r_fv.evalf(subs={i:x_i,n:x_n,v:x_v,r:x_r})"
   ]
  },
  {
   "cell_type": "code",
   "execution_count": 7,
   "metadata": {
    "scrolled": true
   },
   "outputs": [
    {
     "data": {
      "text/latex": [
       "$\\displaystyle - i n v + \\sum_{t=1}^{n} i v \\left(r + 1\\right)^{t - 1}$"
      ],
      "text/plain": [
       "-i*n*v + Sum(i*v*(r + 1)**(t - 1), (t, 1, n))"
      ]
     },
     "execution_count": 7,
     "metadata": {},
     "output_type": "execute_result"
    }
   ],
   "source": [
    "expr_r_r=expr_r_fv-v*i*n\n",
    "expr_r_r"
   ]
  },
  {
   "cell_type": "markdown",
   "metadata": {},
   "source": [
    "那么，有票息产生的再投资收益为："
   ]
  },
  {
   "cell_type": "code",
   "execution_count": 8,
   "metadata": {},
   "outputs": [
    {
     "data": {
      "text/latex": [
       "$\\displaystyle 12.894$"
      ],
      "text/plain": [
       "12.8940000000000"
      ]
     },
     "execution_count": 8,
     "metadata": {},
     "output_type": "execute_result"
    }
   ],
   "source": [
    "expr_r_r.evalf(subs={i:x_i,n:x_n,v:x_v,r:x_r})"
   ]
  },
  {
   "cell_type": "code",
   "execution_count": 9,
   "metadata": {},
   "outputs": [
    {
     "data": {
      "text/latex": [
       "$\\displaystyle \\left(\\frac{v + \\sum_{t=1}^{n} i v \\left(r + 1\\right)^{t - 1}}{v \\left(r + 1\\right)^{- n} + \\sum_{t=1}^{n} i v \\left(r + 1\\right)^{- t}}\\right)^{\\frac{1}{n}} - 1$"
      ],
      "text/plain": [
       "((v + Sum(i*v*(r + 1)**(t - 1), (t, 1, n)))/(v*(r + 1)**(-n) + Sum(i*v*(r + 1)**(-t), (t, 1, n))))**(1/n) - 1"
      ]
     },
     "execution_count": 9,
     "metadata": {},
     "output_type": "execute_result"
    }
   ],
   "source": [
    "expr_ytm=((expr_r_fv+v)/expr_pv)**(1/n)-1\n",
    "expr_ytm"
   ]
  },
  {
   "cell_type": "markdown",
   "metadata": {},
   "source": [
    "那么，实际年化收益为："
   ]
  },
  {
   "cell_type": "code",
   "execution_count": 10,
   "metadata": {},
   "outputs": [
    {
     "data": {
      "text/latex": [
       "$\\displaystyle 0.07$"
      ],
      "text/plain": [
       "0.0700000000000000"
      ]
     },
     "execution_count": 10,
     "metadata": {},
     "output_type": "execute_result"
    }
   ],
   "source": [
    "expr_ytm.evalf(subs={i:x_i,n:x_n,v:x_v,r:x_r})"
   ]
  },
  {
   "cell_type": "code",
   "execution_count": 11,
   "metadata": {},
   "outputs": [],
   "source": [
    "f=sp.lambdify([i,n,v,r],expr_ytm,\"numpy\")"
   ]
  },
  {
   "cell_type": "code",
   "execution_count": 12,
   "metadata": {},
   "outputs": [
    {
     "data": {
      "text/plain": [
       "(array([0.02, 0.04, 0.06, 0.08, 0.1 , 0.12, 0.14, 0.16, 0.18, 0.2 ]),\n",
       " array([0.02, 0.04, 0.06, 0.08, 0.1 , 0.12, 0.14, 0.16, 0.18, 0.2 ]))"
      ]
     },
     "execution_count": 12,
     "metadata": {},
     "output_type": "execute_result"
    }
   ],
   "source": [
    "x_x=np.linspace(.02,.2,10)\n",
    "x_x,f(x_i,x_n,x_v,x_x)"
   ]
  },
  {
   "cell_type": "markdown",
   "metadata": {},
   "source": [
    "**结论：**\n",
    "1. 投资持有到期，则实际收益率（实际年化收益率）等于到期收益率（YTM、贴现率、内部收益率）\n",
    "2. 提前卖出且卖出时的到期收益率未变，则实际收益率等于到期收益率\n",
    ">相当于持有期为$m,m<n$\n",
    "3. 如果到期收益率在债券购买后增加（下降）且早于第一次付息日，则买入**并持有到期**获得的实际收益率高于（低于）购买时的到期收益率\n",
    ">到期收益率提高，票息再投资累积终值增加，终值增加，实际收益率增高。对于打算持有到期的投资是不承担利率风险的，只承担再投资风险，此时实际收益率因为再投资收益率（到期收益率）增加而上升\n",
    "4. 如果到期收益率在债券购买后增加（下降）且早于第一次付息日，则买入**不持有到期**获得的实际收益率低于（高于）购买时的到期收益率\n",
    ">购买价格$PV_0$不变，持有至$t$时刻的价格$PV_t$。到期收益率提高，虽然票息再投资收入增加，但是$PV_t$变小，实际收益$\\frac{PV_t}{PV_0}-1$减小。对于短期的投资，利率风险上升，再投资风险下降。\n"
   ]
  },
  {
   "cell_type": "markdown",
   "metadata": {},
   "source": [
    "## 价格对利率的敏感性分析\n",
    "### 久期\n",
    "#### 定义\n",
    "久期用来估计债券利率风险，或债券全价对利率的敏感度。\n",
    "<img width=30%  src=\"images/债券价格与到期收益率.PNG\">\n",
    "利率是影响债券价格最重要的因素。因此，债券风险可定义为给定利率变动导致的债券价值变动。债券估值公式为：\n",
    "\n",
    "$P=\\sum_{t=1}^{n}{\\left [\\frac{CF_t}{(1+r)^t}\\right]}$\n",
    "\n",
    "要计算收益率变动导致的债券价格变动，求价格$P$对到期收益率$r$的一阶偏导即可：\n",
    "\n",
    "$\\frac{\\partial P}{\\partial r}=-P\\times{\\color{blue}{\\underbrace{\\frac{1}{1+r}{\\color{red}{\\underbrace{\\sum_{t=1}^{n}{\\left [\\frac{CF_t}{P(1+r)^t}\\times t\\right]}}_{麦考利久期:D_{Macaulay}}}}}_{修正久期:D_{Modified}}}}\\\\\\to D_{Modified}=-\\frac{\\partial P}{\\partial r}\\times\\frac{1}{P}=\\frac{{\\color{red}{\\underbrace{-\\frac{1}{10000}\\frac{\\partial P}{\\partial r}}_{DV01}}}\\times 10000}{P}$\n",
    "\n",
    "**注：$DV01$描述的是收益率变动1个基点（万分之一）时债券价格的变化。**"
   ]
  },
  {
   "cell_type": "code",
   "execution_count": 13,
   "metadata": {},
   "outputs": [
    {
     "data": {
      "text/latex": [
       "$\\displaystyle \\frac{n v \\left(r + 1\\right)^{- n} + \\sum_{t=1}^{n} i t v \\left(r + 1\\right)^{- t}}{v \\left(r + 1\\right)^{- n} + \\sum_{t=1}^{n} i v \\left(r + 1\\right)^{- t}}$"
      ],
      "text/plain": [
       "(n*v*(r + 1)**(-n) + Sum(i*t*v*(r + 1)**(-t), (t, 1, n)))/(v*(r + 1)**(-n) + Sum(i*v*(r + 1)**(-t), (t, 1, n)))"
      ]
     },
     "execution_count": 13,
     "metadata": {},
     "output_type": "execute_result"
    }
   ],
   "source": [
    "# 麦考利久期计算\n",
    "expr_d=(sp.Sum(v*i/((1+r)**t)*t,(t,1,n))+v*(1+r)**(-n)*n)/(expr_pv)\n",
    "expr_d"
   ]
  },
  {
   "cell_type": "code",
   "execution_count": 14,
   "metadata": {
    "scrolled": true
   },
   "outputs": [
    {
     "data": {
      "text/latex": [
       "$\\displaystyle 7.04394555489937$"
      ],
      "text/plain": [
       "7.04394555489937"
      ]
     },
     "execution_count": 14,
     "metadata": {},
     "output_type": "execute_result"
    }
   ],
   "source": [
    "expr_d.evalf(subs={i:.08,n:10,v:x_v,r:.1})"
   ]
  },
  {
   "cell_type": "markdown",
   "metadata": {},
   "source": [
    "对于零息债券来说，中间没有利息支付，所以久期就等于到期偿付的现值乘上到期期限，再除以价格。价格本身就是到期偿付额的现值，所以零息债券的久期等于到期期限。"
   ]
  },
  {
   "cell_type": "code",
   "execution_count": 15,
   "metadata": {},
   "outputs": [
    {
     "data": {
      "text/latex": [
       "$\\displaystyle 10.0$"
      ],
      "text/plain": [
       "10.0000000000000"
      ]
     },
     "execution_count": 15,
     "metadata": {},
     "output_type": "execute_result"
    }
   ],
   "source": [
    "expr_d.evalf(subs={i:0,n:10,v:x_v,r:.1})"
   ]
  },
  {
   "cell_type": "markdown",
   "metadata": {},
   "source": [
    "从上面的推导我们能够看到，债券价格对利率的敏感性可以用久期衡量。\n",
    "\n",
    "以上推导只是针对现金流为确定值的债券，对于含有不确定现金流的债券（如含权债），上述指标就不再适用。于是更新的有效久期就被定义出来：\n",
    "\n",
    "$\\because D_{Modified}=-\\frac{1}{P}\\times\\frac{\\partial P}{\\partial r},并且,DV01=-\\frac{1}{10000}\\frac{\\partial P}{\\partial r}\\\\\\to D=-\\frac{1}{P}\\times\\frac{\\partial P}{\\partial r}=10000\\times\\frac{DV01}{P}=\\underbrace{D_{effective}}_{有效久期}$"
   ]
  },
  {
   "cell_type": "markdown",
   "metadata": {},
   "source": [
    "从麦考利久期、修正久期、有效久期的概念解释久期：\n",
    "1. 久期是收益率变动一个基点时价格变化的近似值，这是对久期最直观、最容易的解释\n",
    "2. 久期是时间的一种衡量，即久期是每次支付现金所用时间的加权平均值\n",
    "3. 久期是在当前到期收益率条件下价格与收益率曲线的斜率\n",
    "\n",
    "麦考利久期和修正久期都是根据债券未来的现金流计算出来的，这种计算方法没有考虑债券的含权问题。有效久期根据债券内在价值对收益率变化计算出来的，而债券内在价值考虑了债券含权问题，因此有效久期是衡量含权债券利率风险的最佳指标。"
   ]
  },
  {
   "cell_type": "markdown",
   "metadata": {},
   "source": [
    "#### 含义和内在假设\n",
    "久期考虑了影响债券波动性的下列因素：\n",
    "1. 所有的现金流\n",
    "2. 到期收益率\n",
    "3. 当前的债券价格\n",
    "\n",
    "就利率风险而言，投资者通常认为附息债券与到期日等于附息债券久期的零息息债券无差异。\n",
    "\n",
    "在用麦考利久期的时候，暗含假设所有现金流均按照相同贴现率贴现或再投资，这时候利率的期限结构是水平的（即所有期限的到期收益率均等于一个单一的值，这个值被称为市场收益率），这个贴现率这时等于债券的到期收益率。但是实际上，每项现金流应该用不同期限的贴现率贴现，这时候久期计算出来的结果就不同。"
   ]
  },
  {
   "cell_type": "markdown",
   "metadata": {},
   "source": [
    "#### 久期的决定因素\n",
    "债券久期是债券的到期期限、票面利率、累积利息、到期收益率、偿债基金条款以及提前赎回条款等债券特征的函数。\n",
    "##### 到期期限\n",
    "如果债券是平价或者溢价发行的，久期与债券的到期期限存在正向关系：债券的期限越长，久期也越长。但是随着期限增加，久期的增速会减小。\n",
    "\n",
    "如果债券是折价发行的，久期起初同样会随债券期限增加而增加，但一旦到达一个水平，久期会随债券期限增加而减少。\n",
    "\n",
    "因此，与债券的期限可以无限增大不同，久期是不会无限增加的。最大的久期值是：$永久债券的久期=\\frac{1}{债券收益率}+1$\n",
    "<img width=30%  src=\"images/到期期限-久期.PNG\">\n",
    "\n",
    "##### 票面利率\n",
    "久期与票面利率呈反向关系，其他条件相同，票面利率低的债券久期高于票面利率高的债券，久期随着票面利率不断增加而减小，但减小的速率是递减的。\n",
    "<img width=30%  src=\"images/票面利率-久期.PNG\">"
   ]
  },
  {
   "cell_type": "markdown",
   "metadata": {},
   "source": [
    "### 凸性\n",
    "久期认为债券价格与收益率之间为线性函数关系，事实上，是一个凸函数关系，久期试图用直线来预测一个凸函数，因此，当价格与收益率偏离当前参考水平时，误差项就越大。\n",
    "\n",
    "<img width=40%  src=\"images/凸函数.PNG\">\n",
    "\n",
    "可知：\n",
    "1. 久期是一个需要不断修正的瞬时值\n",
    "2. 久期不能反映价格波动的非对称性\n",
    "3. 用久期预测永远会低估债券的价格\n",
    "4. 久期对价格的预测精度取决于债券价格与收益率曲线的凸度\n",
    "5. 如果收益率变化很大，不应该用久期来近似模拟债券价格的变化"
   ]
  },
  {
   "cell_type": "markdown",
   "metadata": {},
   "source": [
    "#### 定义\n",
    "根据泰勒级数原理，相对于久期，采用泰勒级数的前两阶表示价格变动，可提高预测的精确度，如下：\n",
    "\n",
    "${\\Delta P}=\\underbrace{{\\color{red}{\\Delta r}}\\times\\frac{\\partial P}{\\partial r}}_{正或负}+\\underbrace{\\frac{1}{2}{\\color{red}{{\\Delta r}^2}}\\times\\frac{\\partial^2 P}{\\partial k^2}}_{总是正}+\\epsilon\\\\\\to\\\\\\Delta P\\cdot\\frac{1}{P}=\\Delta r\\times\\frac{\\partial P}{\\partial r}\\cdot\\frac{1}{P}+\\frac{1}{2}{\\Delta r}^2\\times\\frac{\\partial^2 P}{\\partial k^2}\\cdot\\frac{1}{P}+\\epsilon\\cdot\\frac{1}{P}$\n",
    "\n",
    "其中：\n",
    "\n",
    "$-\\frac{\\partial P}{\\partial r}\\cdot\\frac{1}{P}=D:久期\\\\\\frac{1}{2}\\cdot\\frac{\\partial^2 P}{\\partial k^2}\\cdot\\frac{1}{P}=C:凸性$\n",
    "\n",
    "**凸性衡量了随着收益率变化，价格/收益率曲线斜率的变化程度。**\n",
    "<img width=40%  src=\"images/价格收益率曲线-凸性.PNG\">\n"
   ]
  },
  {
   "cell_type": "markdown",
   "metadata": {},
   "source": [
    "#### 含权债券\n",
    "含权债券的价格由两部分组成：\n",
    "1. 无期权债券的价值\n",
    "2. 嵌入期权的价值\n",
    "\n",
    "##### 可赎回债券\n",
    "\n",
    "与无期权债券不同，可赎回债券的价格收益曲线不是一个标准的凸性形状，因为当利率或者到期收益率下降时，债券可能按照约定的赎回价格被发行人赎回。\n",
    "\n",
    "如果债券被赎回，那么可赎回债券的持有人只能得到固定的收益，所以债券的价格并不能反映标准利率定价下较低的市场利率，而是主要反映赎回这一性质。\n",
    "\n",
    "在任何给定收益率下，赎回期权的价值可通过计算无期权债券价格和可赎回债券价格之间的差额来确定。\n",
    "<img width=40%  src=\"images/价格收益率曲线-可赎回债券.PNG\">\n"
   ]
  },
  {
   "cell_type": "markdown",
   "metadata": {},
   "source": [
    "##### 可售回债券\n",
    "在整个债券存续期间，持有者被允许把债券售回给发行者。这样，当利率上升，债券价格下降时，投资者就可以将债券按约定价格售回给发行人。\n",
    "\n",
    "$可售回债券价值=不可售回债券价格+可售回期权（看跌期权）价值$\n",
    "\n",
    "<img width=40%  src=\"images/价格收益率曲线-可售回债券.PNG\">"
   ]
  },
  {
   "cell_type": "markdown",
   "metadata": {},
   "source": [
    "# 信用基本面分析\n",
    "## 信用风险\n",
    "信用风险源于债务人没有按时或是全额偿付本金或利息所带来的风险，具体包括：\n",
    "1. 违约风险\n",
    "2. 违约损失\n",
    "\n",
    "$预期损失=违约风险概率\\times 违约损失$\n",
    "\n",
    "\n",
    "信用利差反映有信用风险债券与无信用风险债券的收益率差值。信用利差与债券价值成反比，信用利差越大，债券价值越小，反之亦然，影响因素：\n",
    "1. 信用迁移风险或降级风险\n",
    "2. 市场流动性风险\n",
    "\n",
    "## 偿付优先级\n",
    "1. 第一抵押权债务\n",
    "2. 优先抵押债务\n",
    "3. 次级抵押债务\n",
    "4. 优先无抵押债务\n",
    "5. 优先从属债务\n",
    "6. 从属债务\n",
    "7. 次级从属债务\n",
    "\n",
    "## 评级和调级\n",
    "评级机构对于发行人主体和发行人的具体债务分别给予评级：\n",
    "1. 主体评级\n",
    "2. 债项评级\n",
    "\n",
    "级别包括：\n",
    "1. 最高评级\n",
    "2. 投资级\n",
    "3. 非投资级\n",
    "4. 垃圾级（高收益债券）\n",
    "<img src=\"images/评级.png\">"
   ]
  },
  {
   "cell_type": "markdown",
   "metadata": {},
   "source": [
    "\n",
    "债项评级取决于债券的偿付优先级和债券契约条款。**调级**是指评级机构根据债券的具体情况，对同一发行人的不同债券给予不同的评级。影响调级的因素：\n",
    "1. 债券优先级\n",
    "2. 潜在损失严重性\n",
    "\n",
    "调级在低评级债券中的应用要广于在高评级债券中的应用。"
   ]
  },
  {
   "cell_type": "markdown",
   "metadata": {},
   "source": [
    "## 依赖评级公司评级的风险\n",
    "1. 评级是动态的\n",
    "2. 评级机构不是完美的\n",
    "3. 事件驱动型风险难以衡量\n",
    "4. 信用评级滞后于市场定价"
   ]
  },
  {
   "cell_type": "markdown",
   "metadata": {},
   "source": [
    "## 传统信用分析的组成\n",
    "4个C：、能力、抵押物、债券契约、性格特征\n",
    "### 能力\n",
    "反应债务人按时偿付债务的能力：\n",
    "1. 行业结构\n",
    "2. 行业基本面\n",
    "3. 公司基本面\n",
    "\n",
    "### 抵押物\n",
    "1. 无形资产\n",
    "2. 折旧\n",
    "3. 股票市值\n",
    "4. 人力和智力资本\n",
    "\n",
    "### 债券契约\n",
    "1. 肯定性\n",
    "2. 否定性\n",
    "\n",
    "### 性格特征\n",
    "1. 战略合理性\n",
    "2. 历史业绩\n",
    "3. 会计政策和税收策略\n",
    "4. 欺诈或渎职记录\n",
    "5. 之前对待债权人的方式"
   ]
  },
  {
   "cell_type": "markdown",
   "metadata": {},
   "source": [
    "## 信用分析中的财务比率\n",
    "### 利润和现金流\n",
    "1. 息税折旧、摊销前利润（EBITDA）\n",
    "2. 经营性资金（FFO）\n",
    "3. 股利前自由现金流\n",
    "4. 股利后自由现金流\n",
    "\n",
    "### 杠杆比率\n",
    "1. 负债/资本\n",
    "2. 负债/EBITDA\n",
    "3. 经营性资金/负债\n",
    "\n",
    "### 覆盖比率\n",
    "1. EBITDA/利息费用\n",
    "2. 息税折旧、摊销后利润（EBIT）/利息费用"
   ]
  },
  {
   "cell_type": "markdown",
   "metadata": {},
   "source": [
    "## 行业参考\n",
    "<img width=\"50%\" src=\"images/行业参考评级.PNG\">"
   ]
  },
  {
   "cell_type": "markdown",
   "metadata": {},
   "source": [
    "## 影响收益率利差和波动性的因素\n",
    "$不含期权公司债的收益率=\\underbrace{无风险收益率+预期通胀率+到期溢价}_{影响所有债券的价格和收益率}+\\underbrace{流动性溢价+信用利差}_{收益率利差}$\n",
    "\n",
    "公司债的收益率利差主要影响因素：\n",
    "1. 信用周期\n",
    "2. 经济状况\n",
    "3. 金融市场走势\n",
    "4. 中介资本\n",
    "5. 市场总供需\n",
    "\n",
    "波动性主要影响因素：\n",
    "1. 信用资质"
   ]
  },
  {
   "cell_type": "markdown",
   "metadata": {},
   "source": [
    "## 利差变动对收益的影响\n",
    "利差变动对收益影响由：\n",
    "1. 利差变动幅度\n",
    "2. 债券价格对利率变动的敏感性\n",
    "\n",
    "两个因素共同作用。\n",
    "\n",
    "当利差小幅变动，$收益影响=-D_{Modfied}\\times \\Delta r$\n",
    "\n",
    "当利差大幅变动，$收益影响=-D_{Modfied}\\times \\Delta r+ C\\times{\\Delta r}^2$"
   ]
  },
  {
   "cell_type": "markdown",
   "metadata": {},
   "source": [
    "## 特殊考虑\n",
    "### 高收益债券\n",
    "#### 特征\n",
    "1. 高杠杆\n",
    "2. 没有稳定的运营历史\n",
    "3. 低或者负的自由现金流\n",
    "4. 对运营周期敏感\n",
    "5. 对管理层缺乏信心\n",
    "6. 不明确的竞争优势\n",
    "7. 巨大的表外负债\n",
    "8. 行业趋于下行\n",
    "\n",
    "#### 关注要点\n",
    "1. 流动性：\n",
    "    1. 资产负债表上的现金\n",
    "    2. 运营资本\n",
    "    3. 经营性现金流\n",
    "    4. 银行信贷\n",
    "    5. 发行的股票\n",
    "    6. 资产出售\n",
    "1. 财务预测\n",
    "1. 债务结构\n",
    "1. 公司结构\n",
    "1. 债券契约\n",
    "    1. 控股权变更\n",
    "    2. 支出限制\n",
    "    3. 优先级限制\n",
    "    3. 限制与非限制子公司\n",
    "\n",
    "### 主权债券\n",
    "基本分析框架：\n",
    "1. 运作的有效性\n",
    "2. 经济的前景\n",
    "3. 国际投资的地位\n",
    "4. 财政灵活性\n",
    "5. 货币政策灵活性\n",
    "\n",
    "### 市政债券\n",
    "1. 地方发行的债务\n",
    "2. 分为一般负债债务和收入债务"
   ]
  },
  {
   "cell_type": "code",
   "execution_count": null,
   "metadata": {},
   "outputs": [],
   "source": []
  }
 ],
 "metadata": {
  "kernelspec": {
   "display_name": "Python 3",
   "language": "python",
   "name": "python3"
  },
  "language_info": {
   "codemirror_mode": {
    "name": "ipython",
    "version": 3
   },
   "file_extension": ".py",
   "mimetype": "text/x-python",
   "name": "python",
   "nbconvert_exporter": "python",
   "pygments_lexer": "ipython3",
   "version": "3.7.3"
  },
  "toc": {
   "base_numbering": 1,
   "nav_menu": {
    "height": "592px",
    "width": "541px"
   },
   "number_sections": true,
   "sideBar": true,
   "skip_h1_title": false,
   "title_cell": "Table of Contents",
   "title_sidebar": "Contents",
   "toc_cell": false,
   "toc_position": {},
   "toc_section_display": true,
   "toc_window_display": false
  }
 },
 "nbformat": 4,
 "nbformat_minor": 2
}
