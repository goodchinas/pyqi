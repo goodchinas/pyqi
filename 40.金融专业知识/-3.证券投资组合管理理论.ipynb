{
 "cells": [
  {
   "cell_type": "markdown",
   "metadata": {},
   "source": [
    "# 组合收益与风险"
   ]
  },
  {
   "cell_type": "markdown",
   "metadata": {},
   "source": [
    "## 单个证券的收益和风险\n",
    "1. 预期收益：$E(r)=\\sum_sp(s)r(s)$\n",
    "2. 风险：金融学上的风险表示实际收益偏离预期值的程序。方差（标准差）：$\\sigma^2=\\sum_sp(s)[r(s)-E(r)]^2$\n",
    "3. 【举例】"
   ]
  },
  {
   "cell_type": "markdown",
   "metadata": {},
   "source": [
    "## 两种证券构造的资产组合的收益与风险\n",
    "1. 资产组合的收益：$E(R_p)=w_1E(R_1)+w_2E(R_2)$\n",
    "2. 资产组合的风险（协方差）：$\\sigma_p^2=w_1^2\\sigma_1^2+w_2^2\\sigma_2^2+2w_1w_2\\sigma_1\\sigma_2\\rho_{12}$"
   ]
  },
  {
   "cell_type": "markdown",
   "metadata": {},
   "source": [
    "## 资产组合可行集与有效集\n",
    "不同资产组合比例的收益风险特征\n",
    "1. 不同比例资产组合的预期收益率介于两个资产预期收益之间\n",
    "2. \n",
    "\n",
    "风险收益二维坐标图\n",
    "1. 可行集和有效集的形状，可行集是穷举比例组合点组成的区域\n",
    "2. 有效集是可行集中同等风险最大收益点组成的曲线\n",
    "2. 相关系数影响有效集形状"
   ]
  },
  {
   "cell_type": "markdown",
   "metadata": {},
   "source": [
    "## 最小方差资产组合\n",
    "1. 在风险资产可行集中，最靠近左边的点，所代表的的资产组合成为最小方差资产组合。"
   ]
  },
  {
   "cell_type": "markdown",
   "metadata": {},
   "source": [
    "## 三种风险资产的组合二维表示"
   ]
  },
  {
   "cell_type": "markdown",
   "metadata": {},
   "source": [
    "## n种风险资产的组合二位表示"
   ]
  },
  {
   "cell_type": "markdown",
   "metadata": {},
   "source": [
    "## 分散风险\n",
    "1. 资产在最充分分散化条件下仍存在的风险叫做市场风险\n",
    "2. 相反，那些在资产分散化下能够消除的风险，叫做非系统风险"
   ]
  },
  {
   "cell_type": "markdown",
   "metadata": {},
   "source": [
    "## 风险资产和无风险资产组合\n",
    "1. 资本配置线CAL\n",
    "2. 资本市场线CML，CAL与有效边界的切点，是最优的CAL\n",
    "3. CML上切点最优组合M点是市场各种行为下的最优组合，而非个人的。\n",
    "4. 个人的最优点，是个人的小勇无差异曲线与资本市场线CML的切点"
   ]
  },
  {
   "cell_type": "markdown",
   "metadata": {},
   "source": [
    "# CAPM、APT"
   ]
  },
  {
   "cell_type": "markdown",
   "metadata": {},
   "source": [
    "## 假设\n",
    "1. 投资者都是采用资产期望收益及标准差来衡量资产的收益和风险；\n",
    "2. 投资者都是风险回避者\n",
    "3. 投资者永不满足\n",
    "4. 每种资产无限可分\n",
    "5. 投资者可按相同的无风险利率接入资金\n",
    "6. 投资期限皆相同\n",
    "7. 无风险利率都相同\n",
    "8. 市场信息免费\n",
    "9. etc，补充"
   ]
  },
  {
   "cell_type": "markdown",
   "metadata": {},
   "source": [
    "## 市场均衡与CAPM\n",
    "1. $E(r_i)=r_f+\\beta_i[E(r_m)-r_f]$\n",
    "2. 证券市场线SML，横坐标为贝塔"
   ]
  },
  {
   "cell_type": "markdown",
   "metadata": {},
   "source": [
    "## 套利\n",
    "1. 套利概念\n",
    "2. 一价定律"
   ]
  },
  {
   "cell_type": "markdown",
   "metadata": {},
   "source": [
    "## 套利投资组合的条件和无套利分析"
   ]
  },
  {
   "cell_type": "markdown",
   "metadata": {},
   "source": [
    "### 三个条件\n",
    "1. 不需要追加额外投资\n",
    "2. 投资组合的。。。\n",
    "3. 。。。"
   ]
  },
  {
   "cell_type": "markdown",
   "metadata": {},
   "source": [
    "### 无套利定价基本思想"
   ]
  },
  {
   "cell_type": "markdown",
   "metadata": {},
   "source": [
    "### 无套利定价模型：APT：多因素模型"
   ]
  },
  {
   "cell_type": "markdown",
   "metadata": {},
   "source": [
    "## APT与CAPM的对比"
   ]
  },
  {
   "cell_type": "markdown",
   "metadata": {},
   "source": [
    "# 市场有效性与行为金融"
   ]
  },
  {
   "cell_type": "markdown",
   "metadata": {},
   "source": [
    "## 随机游走与有效市场\n",
    "1. 股价只对新的信息作出反应，新信息的到来是无法预测的，因此估计是不可预测的。\n",
    "2. 通过各种‘信息’或‘消息’来预测价格的未来变化，但这些都反映在股价上了\n",
    "3. 价格随信息变动的特性，称之为有效性"
   ]
  },
  {
   "cell_type": "markdown",
   "metadata": {},
   "source": [
    "## 有效市场假说（EMH）\n",
    "1. 市场效率的衡量标准包括：证券价格对信息反映的速度和信息集合范围"
   ]
  },
  {
   "cell_type": "markdown",
   "metadata": {},
   "source": [
    "## 有效市场和缺乏效率市场价格对新信息的反应\n",
    "1. 反应速度（瞬时，延时）和反应强度（正向：强中弱，逆向）\n",
    "1. 如果价格能够迅速的对所有相关信息作出准确调整，则市场是有效的，而且调整速度越快，有效性越强"
   ]
  },
  {
   "cell_type": "markdown",
   "metadata": {},
   "source": [
    "## 信息集\n",
    "1. 过于价格的信息\n",
    "2. 可得的公共信息\n",
    "3. 所有信息"
   ]
  },
  {
   "cell_type": "markdown",
   "metadata": {},
   "source": [
    "## 三种信息集对应的三种市场形态\n",
    "1. 弱有效市场：技术分析失效\n",
    "2. 半强式有效：基本面分析失效\n",
    "3. 强有效：内幕交易失效"
   ]
  },
  {
   "cell_type": "markdown",
   "metadata": {},
   "source": [
    "## 市场有效性与投资决策\n",
    "1. 弱有效，技术分析无效\n",
    "2. 半强有效，基本面无效\n",
    "3. 市场越有效，组合的积极管理越无效\n",
    "4. 市场完全有效，市场组合是最优组合，意味组合的被动管理是有效的\n",
    "5. 只有当足够多的投资者相信市场无效时，市场才有可能在竞争压力下变的有效\n",
    "6. 公开的投资策略不能够获得超额回报\n",
    "7. 在有效市场中，专业投资者在选股方面不应该比普通投资者表现的更好\n",
    "8. 投资者过往的业绩不代表其未来的业绩\n",
    "9. 有效市场中的投资者不能战胜市场，但认可得到市场的公平回报"
   ]
  },
  {
   "cell_type": "markdown",
   "metadata": {},
   "source": [
    "## 竞争和市场效率\n",
    "1. 市场为什么有效？是竞争博弈得到的结果"
   ]
  },
  {
   "cell_type": "markdown",
   "metadata": {},
   "source": [
    "## 行为金融的起源：异象\n",
    "1. 关于效率市场假说的另一些实证研究，提出了质疑\n",
    "    1. 一月份效应\n",
    "    2. 周历效应\n",
    "    3. 小市值效应\n",
    "    4. 。。。"
   ]
  },
  {
   "cell_type": "markdown",
   "metadata": {},
   "source": [
    "## 对于“市场异象”的解释\n",
    "1. 投资者的错误是错误定价的根源\n",
    "2.  \n",
    "    1. 投资者是理性的，因此能理性评估证券价格\n",
    "    2. 行为金融学认为：投资人是非理性的\n",
    "3. \n",
    "    1. 有效市场理论假设：即使有些人是非理性的，但是随机性会抵消\n",
    "    2. 行为金融认为：投资人的非理性行为，不是随机的\n",
    "4. \n",
    "    1. 有效市场假说，若部分投资者有相同的非理性行为，市场仍可利用“套利”机制使价格恢复理性价格\n",
    "    2. 行为金融学认为，套利会受一些条件限制，使其不能发挥预期效果\n",
    "   "
   ]
  },
  {
   "cell_type": "markdown",
   "metadata": {},
   "source": [
    "## 行为金融\n",
    "1. 是一个重要的流派\n",
    "2. 运用心理学、行为理论和金融分析相结合的研究方法与理论体系。\n",
    "3. 试图了解和解释投资者的投资决策过程。\n",
    "4. 是从人类心理、行为角度解释投资；"
   ]
  },
  {
   "cell_type": "markdown",
   "metadata": {},
   "source": [
    "## 行为金融学：展望理论\n",
    "1. 展望理论向预期效用理论提出了强有力的挑战\n",
    "2. 表明：获利时呈现凹状的效用函数（风险厌恶），损失时，相反\n",
    "3. 举例"
   ]
  },
  {
   "cell_type": "markdown",
   "metadata": {},
   "source": [
    "在展望理论中，投资者不再总是风险厌恶者。与标准效用函数相比，展望理论的效用函数“S”型-在获利区间凹，在损失区间凸，这与人们风险偏好的实际观察结果是一致的（即损失厌恶）"
   ]
  },
  {
   "cell_type": "markdown",
   "metadata": {},
   "source": [
    "## 投资者心理偏差与非理性\n",
    "1. 过分自信：投资者总是相信自己的能力和判断，后果：低估证券的实际风险，过度交易\n",
    "2. 重视当前和熟悉的事物：对近期发生的事件和最新的经验更为重视，从而在投资决策中过分依赖近期事件：后果：对熟悉的股票投资，对不熟悉的敬而远之；\n",
    "3. 回避损失和心理账户\n",
    "4. 避免后悔\n",
    "5. 相互影响：社会性的压力使人们之间的行为趋向一致（羊群效应），后果：从众心理，羊群效应。"
   ]
  },
  {
   "cell_type": "markdown",
   "metadata": {},
   "source": [
    "## 综合以上5点：\n",
    "1. 投资者决策时的心理因素偏离理性，且是系统性的偏离，从而证券的价格不同于现在金融理论\n",
    "2. "
   ]
  },
  {
   "cell_type": "markdown",
   "metadata": {},
   "source": [
    "## 行为金融的局限性\n",
    "1. 没有形成理论体系，解释问题不具有普遍性\n",
    "2. 缺乏稳健实证研究结果的支持"
   ]
  },
  {
   "cell_type": "code",
   "execution_count": null,
   "metadata": {},
   "outputs": [],
   "source": [
    "\n"
   ]
  }
 ],
 "metadata": {
  "kernelspec": {
   "display_name": "Python 3",
   "language": "python",
   "name": "python3"
  },
  "language_info": {
   "codemirror_mode": {
    "name": "ipython",
    "version": 3
   },
   "file_extension": ".py",
   "mimetype": "text/x-python",
   "name": "python",
   "nbconvert_exporter": "python",
   "pygments_lexer": "ipython3",
   "version": "3.7.6"
  },
  "toc-autonumbering": true
 },
 "nbformat": 4,
 "nbformat_minor": 4
}
