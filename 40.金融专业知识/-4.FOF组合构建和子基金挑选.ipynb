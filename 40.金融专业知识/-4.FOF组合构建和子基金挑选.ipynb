{
 "cells": [
  {
   "cell_type": "markdown",
   "metadata": {},
   "source": [
    "#  FOF：\n",
    "1. 针对机构的财富管理\n",
    "2. 分散化投资，降低下行风险\n",
    "3. 暴露需要的风险敞口\n",
    "4. 整个过程先模块化"
   ]
  },
  {
   "cell_type": "markdown",
   "metadata": {},
   "source": [
    "# 罗素投资的投资流程\n",
    "-从投资组合的目标到可重复的结果\n",
    "1. 确定多风格投资组合在站里资产配置中的特定角色-设计-投资组合目标\n",
    "2. 通过第三方"
   ]
  },
  {
   "cell_type": "markdown",
   "metadata": {},
   "source": [
    "# 重要：如何识别基金的因子？barra\n",
    "1. 资本市场行为偏好\n",
    "2. 坚守风格的基金经理"
   ]
  },
  {
   "cell_type": "markdown",
   "metadata": {},
   "source": [
    "# 投资是一种行为和信仰"
   ]
  },
  {
   "cell_type": "markdown",
   "metadata": {},
   "source": [
    "# 总结\n",
    "-一套体系化的FOF投资流程将为您的客户创造优良的投资结果\n",
    "1. FOF投资组合中最重要的收益来源并不是子基金的筛选，而是投资组合的优先配置方案；FOF投资组合应该始终与FOF组合经理、FOF投资公司的优先配置保持一致；\n",
    "2. 子基金的筛选应该关注在界定每个投资管理人的差异化能力上，并且应该是使这些能力与FOF投资组合的战略资产配置以及因子配置保持一致；\n",
    "3. FOF投资组合的监控是一项全天候的、主动地工作：FOF投资管理团队应该综合利用定量分析和定性分析流程来密切地监控投资组合，并在必要的时候对投资管理人或其资产配置进行调整；"
   ]
  },
  {
   "cell_type": "markdown",
   "metadata": {},
   "source": [
    "# 启发：模块化实现"
   ]
  },
  {
   "cell_type": "markdown",
   "metadata": {},
   "source": [
    "# todo:把ppt内容记下来"
   ]
  }
 ],
 "metadata": {
  "kernelspec": {
   "display_name": "Python 3",
   "language": "python",
   "name": "python3"
  },
  "language_info": {
   "codemirror_mode": {
    "name": "ipython",
    "version": 3
   },
   "file_extension": ".py",
   "mimetype": "text/x-python",
   "name": "python",
   "nbconvert_exporter": "python",
   "pygments_lexer": "ipython3",
   "version": "3.7.6"
  }
 },
 "nbformat": 4,
 "nbformat_minor": 4
}
