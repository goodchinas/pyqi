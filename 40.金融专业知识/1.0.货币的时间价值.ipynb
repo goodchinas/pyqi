{
 "cells": [
  {
   "cell_type": "markdown",
   "metadata": {},
   "source": [
    "# 货币的时间价值\n",
    "- 复利和利息的利息\n",
    "- 终值(Future Value,简称FV)和现值(Present Value,简称PV)\n",
    "\n",
    "- 时间轴(Time Lines)"
   ]
  },
  {
   "cell_type": "code",
   "execution_count": 1,
   "metadata": {},
   "outputs": [
    {
     "data": {
      "text/plain": [
       "[-1000, 300, 300, 300, 300, 300]"
      ]
     },
     "execution_count": 1,
     "metadata": {},
     "output_type": "execute_result"
    }
   ],
   "source": [
    "[-1000,300,300,300,300,300]"
   ]
  },
  {
   "cell_type": "markdown",
   "metadata": {},
   "source": [
    "* 利率、收益率、折现率和机会成本\n",
    "* 名义的无风险利率=实际的无风险利率+预期的通货膨胀率\n",
    "* 要求的利率=名义的无风险利率+违约风险溢价+流动性风险溢价+期限风险溢价\n",
    "* $实际年利率(EAR)={(1+\\frac{名义年利率(nominal\\ \\ rate)}{年复利期数(m)})}^{m}-1$"
   ]
  },
  {
   "cell_type": "code",
   "execution_count": 2,
   "metadata": {},
   "outputs": [],
   "source": [
    "import math\n",
    "def f_ear(nr,m):\n",
    "    return math.pow(1+nr/m,m)-1"
   ]
  },
  {
   "cell_type": "code",
   "execution_count": 3,
   "metadata": {},
   "outputs": [],
   "source": [
    "%matplotlib inline\n",
    "import matplotlib.pyplot as plt\n",
    "plt.rcParams['font.sans-serif'] = ['SimHei']\n",
    "plt.rcParams['axes.unicode_minus'] = False\n",
    "import numpy as np"
   ]
  },
  {
   "cell_type": "code",
   "execution_count": 4,
   "metadata": {},
   "outputs": [
    {
     "data": {
      "text/plain": [
       "[<matplotlib.lines.Line2D at 0x25c3cd7a358>]"
      ]
     },
     "execution_count": 4,
     "metadata": {},
     "output_type": "execute_result"
    },
    {
     "data": {
      "image/png": "[encoded data removed]",
      "text/plain": [
       "<Figure size 432x288 with 1 Axes>"
      ]
     },
     "metadata": {
      "needs_background": "light"
     },
     "output_type": "display_data"
    }
   ],
   "source": [
    "xy=np.array([(m,f_ear(.08,m)) for m in range(1,15,2)])\n",
    "plt.plot(xy[:,0],xy[:,1])"
   ]
  },
  {
   "cell_type": "markdown",
   "metadata": {},
   "source": [
    "* 连续计复利利率"
   ]
  },
  {
   "cell_type": "code",
   "execution_count": 5,
   "metadata": {},
   "outputs": [],
   "source": [
    "import sympy as sp"
   ]
  },
  {
   "cell_type": "code",
   "execution_count": 6,
   "metadata": {},
   "outputs": [],
   "source": [
    "nr,m=sp.symbols(\" nr m\")"
   ]
  },
  {
   "cell_type": "code",
   "execution_count": 7,
   "metadata": {},
   "outputs": [
    {
     "data": {
      "text/latex": [
       "$\\displaystyle \\left(1 + \\frac{nr}{m}\\right)^{m}$"
      ],
      "text/plain": [
       "(1 + nr/m)**m"
      ]
     },
     "execution_count": 7,
     "metadata": {},
     "output_type": "execute_result"
    }
   ],
   "source": [
    "expr_ear=(1+nr/m)**m\n",
    "expr_ear"
   ]
  },
  {
   "cell_type": "code",
   "execution_count": 8,
   "metadata": {},
   "outputs": [
    {
     "data": {
      "text/latex": [
       "$\\displaystyle \\lim_{m \\to \\infty} \\left(1 + \\frac{nr}{m}\\right)^{m}$"
      ],
      "text/plain": [
       "Limit((1 + nr/m)**m, m, oo, dir='-')"
      ]
     },
     "execution_count": 8,
     "metadata": {},
     "output_type": "execute_result"
    }
   ],
   "source": [
    "expr_ear_l=sp.Limit(expr_ear,m,sp.oo)\n",
    "expr_ear_l"
   ]
  },
  {
   "cell_type": "code",
   "execution_count": 9,
   "metadata": {},
   "outputs": [
    {
     "data": {
      "text/latex": [
       "$\\displaystyle e^{nr}$"
      ],
      "text/plain": [
       "exp(nr)"
      ]
     },
     "execution_count": 9,
     "metadata": {},
     "output_type": "execute_result"
    }
   ],
   "source": [
    "expr_ear_l.doit()"
   ]
  },
  {
   "cell_type": "code",
   "execution_count": 10,
   "metadata": {},
   "outputs": [],
   "source": [
    "pv,fv,y=sp.symbols(\"pv,fv,y\")"
   ]
  },
  {
   "cell_type": "markdown",
   "metadata": {},
   "source": [
    "* 单笔货币的终值(FV)"
   ]
  },
  {
   "cell_type": "code",
   "execution_count": 11,
   "metadata": {
    "scrolled": true
   },
   "outputs": [
    {
     "data": {
      "text/latex": [
       "$\\displaystyle pv \\left(1 + \\frac{nr}{m}\\right)^{m y}$"
      ],
      "text/plain": [
       "pv*(1 + nr/m)**(m*y)"
      ]
     },
     "execution_count": 11,
     "metadata": {},
     "output_type": "execute_result"
    }
   ],
   "source": [
    "expr_fv=pv*(1+nr/m)**(m*y)\n",
    "expr_fv"
   ]
  },
  {
   "cell_type": "code",
   "execution_count": 12,
   "metadata": {},
   "outputs": [
    {
     "data": {
      "text/latex": [
       "$\\displaystyle 2929.14845250566$"
      ],
      "text/plain": [
       "2929.14845250566"
      ]
     },
     "execution_count": 12,
     "metadata": {},
     "output_type": "execute_result"
    }
   ],
   "source": [
    "expr_fv.subs([(pv,2500),(nr,.08),(m,4),[y,2]])"
   ]
  },
  {
   "cell_type": "markdown",
   "metadata": {},
   "source": [
    "* 单笔货币的现值(PV)"
   ]
  },
  {
   "cell_type": "code",
   "execution_count": 13,
   "metadata": {},
   "outputs": [
    {
     "data": {
      "text/latex": [
       "$\\displaystyle fv \\left(1 + \\frac{nr}{m}\\right)^{- m y}$"
      ],
      "text/plain": [
       "fv*(1 + nr/m)**(-m*y)"
      ]
     },
     "execution_count": 13,
     "metadata": {},
     "output_type": "execute_result"
    }
   ],
   "source": [
    "expr_pv=fv/((1+nr/m)**(m*y))\n",
    "expr_pv"
   ]
  },
  {
   "cell_type": "code",
   "execution_count": 14,
   "metadata": {},
   "outputs": [
    {
     "data": {
      "text/latex": [
       "$\\displaystyle 3820.7448030769$"
      ],
      "text/plain": [
       "3820.74480307690"
      ]
     },
     "execution_count": 14,
     "metadata": {},
     "output_type": "execute_result"
    }
   ],
   "source": [
    "expr_pv.subs([(fv,5000),(nr,.09),(m,12),[y,3]])"
   ]
  },
  {
   "cell_type": "markdown",
   "metadata": {},
   "source": [
    "* 年金：在一段期间内，相同时间的间隔一系列相同金额的现金流。"
   ]
  },
  {
   "cell_type": "markdown",
   "metadata": {},
   "source": [
    "* 普通年金的终值"
   ]
  },
  {
   "cell_type": "code",
   "execution_count": 15,
   "metadata": {},
   "outputs": [],
   "source": [
    "def f_nianjin_fv(pmt,r,n):\n",
    "    \"\"\"\n",
    "    pmt:每期现金流\n",
    "    r:利率\n",
    "    n:期数\n",
    "    \"\"\"\n",
    "    return np.sum([pmt*(1+r)**i for i in range(n)])"
   ]
  },
  {
   "cell_type": "code",
   "execution_count": 16,
   "metadata": {},
   "outputs": [
    {
     "data": {
      "text/plain": [
       "3769.35330153286"
      ]
     },
     "execution_count": 16,
     "metadata": {},
     "output_type": "execute_result"
    }
   ],
   "source": [
    "f_nianjin_fv(150,.07,15)"
   ]
  },
  {
   "cell_type": "markdown",
   "metadata": {},
   "source": [
    "* 普通年金的现值"
   ]
  },
  {
   "cell_type": "code",
   "execution_count": 17,
   "metadata": {},
   "outputs": [],
   "source": [
    "def f_nianjin_pv(pmt,r,n):\n",
    "    \"\"\"\n",
    "    pmt:每期现金流\n",
    "    r:折现率\n",
    "    n:期数\n",
    "    \"\"\"\n",
    "    return np.sum([pmt/((1+r)**i) for i in range(1,n+1)])"
   ]
  },
  {
   "cell_type": "code",
   "execution_count": 18,
   "metadata": {},
   "outputs": [
    {
     "data": {
      "text/plain": [
       "1770.536592525154"
      ]
     },
     "execution_count": 18,
     "metadata": {},
     "output_type": "execute_result"
    }
   ],
   "source": [
    "f_nianjin_pv(200,.06,13)"
   ]
  },
  {
   "cell_type": "markdown",
   "metadata": {},
   "source": [
    "* 先付年金的终值"
   ]
  },
  {
   "cell_type": "code",
   "execution_count": 19,
   "metadata": {},
   "outputs": [],
   "source": [
    "def f_nianjin_xianfu_fv(pmt,r,n):\n",
    "    \"\"\"\n",
    "    pmt:每期现金流\n",
    "    r:利率\n",
    "    n:期数\n",
    "    \"\"\"\n",
    "    return np.sum([pmt*(1+r)**i for i in range(1,n+1)])"
   ]
  },
  {
   "cell_type": "code",
   "execution_count": 20,
   "metadata": {},
   "outputs": [
    {
     "data": {
      "text/plain": [
       "364.1000000000001"
      ]
     },
     "execution_count": 20,
     "metadata": {},
     "output_type": "execute_result"
    }
   ],
   "source": [
    "f_nianjin_xianfu_fv(100,.1,3)"
   ]
  },
  {
   "cell_type": "markdown",
   "metadata": {},
   "source": [
    "* 先付年金的现值"
   ]
  },
  {
   "cell_type": "code",
   "execution_count": 21,
   "metadata": {},
   "outputs": [],
   "source": [
    "def f_nianjin_xianfu_pv(pmt,r,n):\n",
    "    \"\"\"\n",
    "    pmt:每期现金流\n",
    "    r:折现率\n",
    "    n:期数\n",
    "    \"\"\"\n",
    "    return np.sum([pmt/((1+r)**i) for i in range(n)])"
   ]
  },
  {
   "cell_type": "code",
   "execution_count": 22,
   "metadata": {},
   "outputs": [
    {
     "data": {
      "text/plain": [
       "273.55371900826447"
      ]
     },
     "execution_count": 22,
     "metadata": {},
     "output_type": "execute_result"
    }
   ],
   "source": [
    "f_nianjin_xianfu_pv(100,.1,3)"
   ]
  },
  {
   "cell_type": "markdown",
   "metadata": {},
   "source": [
    "* 永续年金的现值=$\\frac{PMT}{r}$"
   ]
  },
  {
   "cell_type": "code",
   "execution_count": 23,
   "metadata": {},
   "outputs": [],
   "source": [
    "def f_nianjin_yongxu_pv(pmt,r):\n",
    "    return pmt/r"
   ]
  },
  {
   "cell_type": "code",
   "execution_count": 24,
   "metadata": {},
   "outputs": [
    {
     "data": {
      "text/plain": [
       "56.25"
      ]
     },
     "execution_count": 24,
     "metadata": {},
     "output_type": "execute_result"
    }
   ],
   "source": [
    "f_nianjin_yongxu_pv(4.5,0.08)"
   ]
  },
  {
   "cell_type": "markdown",
   "metadata": {},
   "source": [
    "* 不规则现金流的现值和终值 \n",
    "    1. 单独计算每期现金流的现值和终值\n",
    "    2. 求和"
   ]
  },
  {
   "cell_type": "markdown",
   "metadata": {},
   "source": [
    "* 年金不同的应用场景\n",
    "    1. 贷款偿付(已知pv,y,r,求pmt)\n",
    "    2. 计算年金的期数(已知fv,pmt,r,求y)\n",
    "    3. 计算复利率"
   ]
  },
  {
   "cell_type": "markdown",
   "metadata": {},
   "source": [
    "* 现金流可加性原理\n",
    "    1. 一系列现金流的现值(终值)，就是该系列现金流中，每个单独的现金流的现值(终值)的加总。"
   ]
  },
  {
   "cell_type": "markdown",
   "metadata": {},
   "source": [
    "**numpy关于货币时间价值相关的金融函数**"
   ]
  },
  {
   "cell_type": "markdown",
   "metadata": {},
   "source": [
    "* fv：终值"
   ]
  },
  {
   "cell_type": "code",
   "execution_count": 25,
   "metadata": {},
   "outputs": [],
   "source": [
    "x_rate,x_nper,x_pmt=.05/12,12*10,-100"
   ]
  },
  {
   "cell_type": "code",
   "execution_count": 26,
   "metadata": {
    "scrolled": true
   },
   "outputs": [
    {
     "data": {
      "text/plain": [
       "15692.928894335748"
      ]
     },
     "execution_count": 26,
     "metadata": {},
     "output_type": "execute_result"
    }
   ],
   "source": [
    "# 现金流负值代表流出/投资，现金流正值代表流入/回报\n",
    "np.fv(rate=x_rate,nper=x_nper,pmt=x_pmt,pv=-100,when=\"end\")"
   ]
  },
  {
   "cell_type": "code",
   "execution_count": 27,
   "metadata": {},
   "outputs": [
    {
     "data": {
      "text/plain": [
       "15692.92889433575"
      ]
     },
     "execution_count": 27,
     "metadata": {},
     "output_type": "execute_result"
    }
   ],
   "source": [
    "# 先付年金等价普通年金(后付)\n",
    "np.fv(rate=x_rate,nper=x_nper,pmt=x_pmt,pv=0,when=\"begin\")+100"
   ]
  },
  {
   "cell_type": "markdown",
   "metadata": {},
   "source": [
    "* pv：现值"
   ]
  },
  {
   "cell_type": "code",
   "execution_count": 28,
   "metadata": {},
   "outputs": [
    {
     "data": {
      "text/plain": [
       "9428.135032823473"
      ]
     },
     "execution_count": 28,
     "metadata": {},
     "output_type": "execute_result"
    }
   ],
   "source": [
    "np.pv(rate=x_rate,nper=x_nper,pmt=x_pmt,fv=0,when=\"end\")"
   ]
  },
  {
   "cell_type": "code",
   "execution_count": 29,
   "metadata": {},
   "outputs": [
    {
     "data": {
      "text/plain": [
       "-1.8189894035458565e-12"
      ]
     },
     "execution_count": 29,
     "metadata": {},
     "output_type": "execute_result"
    }
   ],
   "source": [
    "np.fv(rate=x_rate,nper=x_nper,pmt=x_pmt,pv=9428.135032823473,when=\"end\")"
   ]
  },
  {
   "cell_type": "markdown",
   "metadata": {},
   "source": [
    "* pmt：每期支付金额"
   ]
  },
  {
   "cell_type": "code",
   "execution_count": 30,
   "metadata": {},
   "outputs": [
    {
     "data": {
      "text/plain": [
       "-100.0"
      ]
     },
     "execution_count": 30,
     "metadata": {},
     "output_type": "execute_result"
    }
   ],
   "source": [
    "np.pmt(rate=x_rate,nper=x_nper,pv=9428.135032823473,fv=0,when=\"end\")"
   ]
  },
  {
   "cell_type": "markdown",
   "metadata": {},
   "source": [
    "* ppmt：每期支付金额之本金"
   ]
  },
  {
   "cell_type": "code",
   "execution_count": 31,
   "metadata": {},
   "outputs": [
    {
     "data": {
      "text/plain": [
       "-61.734381277854474"
      ]
     },
     "execution_count": 31,
     "metadata": {},
     "output_type": "execute_result"
    }
   ],
   "source": [
    "# per表示目前处在第几个还款期，\n",
    "# 在等额还款方式下虽然每期偿还的总金额（本金+利息）相等，但是各期的本金及利息不相等，随着时间的推移，每期偿还的本金逐渐增加，利息逐渐减少。\n",
    "np.ppmt(rate=x_rate,per=5,nper=x_nper,pv=9428.135032823473,fv=0,when=\"end\")"
   ]
  },
  {
   "cell_type": "markdown",
   "metadata": {},
   "source": [
    "* ipmt：每期支付金额之利息"
   ]
  },
  {
   "cell_type": "code",
   "execution_count": 32,
   "metadata": {},
   "outputs": [
    {
     "data": {
      "text/plain": [
       "array(-38.26561872)"
      ]
     },
     "execution_count": 32,
     "metadata": {},
     "output_type": "execute_result"
    }
   ],
   "source": [
    "np.ipmt(rate=x_rate,per=5,nper=x_nper,pv=9428.135032823473,fv=0,when=\"end\")"
   ]
  },
  {
   "cell_type": "code",
   "execution_count": 33,
   "metadata": {},
   "outputs": [
    {
     "data": {
      "text/plain": [
       "120"
      ]
     },
     "execution_count": 33,
     "metadata": {},
     "output_type": "execute_result"
    }
   ],
   "source": [
    "x_nper"
   ]
  },
  {
   "cell_type": "code",
   "execution_count": 34,
   "metadata": {
    "scrolled": false
   },
   "outputs": [
    {
     "data": {
      "text/plain": [
       "[<matplotlib.lines.Line2D at 0x25c3e28a2b0>,\n",
       " <matplotlib.lines.Line2D at 0x25c3e28a400>]"
      ]
     },
     "execution_count": 34,
     "metadata": {},
     "output_type": "execute_result"
    },
    {
     "data": {
      "image/png": "[encoded data removed]",
      "text/plain": [
       "<Figure size 432x288 with 1 Axes>"
      ]
     },
     "metadata": {
      "needs_background": "light"
     },
     "output_type": "display_data"
    }
   ],
   "source": [
    "x_pis = [(np.ppmt(rate=x_rate,\n",
    "                  per=i,\n",
    "                  nper=x_nper,\n",
    "                  pv=9428.135032823473,\n",
    "                  fv=0,\n",
    "                  when=\"end\"),\n",
    "          np.ipmt(rate=x_rate,\n",
    "                  per=i,\n",
    "                  nper=x_nper,\n",
    "                  pv=9428.135032823473,\n",
    "                  fv=0,\n",
    "                  when=\"end\")) for i in range(1, x_nper + 1)]\n",
    "plt.plot(range(x_nper),x_pis)"
   ]
  },
  {
   "cell_type": "markdown",
   "metadata": {},
   "source": [
    "* nper：分期数"
   ]
  },
  {
   "cell_type": "code",
   "execution_count": 35,
   "metadata": {},
   "outputs": [
    {
     "data": {
      "text/plain": [
       "array(120.)"
      ]
     },
     "execution_count": 35,
     "metadata": {},
     "output_type": "execute_result"
    }
   ],
   "source": [
    "np.nper(rate=x_rate,pmt=x_pmt,pv=9428.135032823473,fv=0,when='end')"
   ]
  },
  {
   "cell_type": "markdown",
   "metadata": {},
   "source": [
    "* rate：利率"
   ]
  },
  {
   "cell_type": "code",
   "execution_count": 36,
   "metadata": {},
   "outputs": [
    {
     "data": {
      "text/plain": [
       "0.0041666666666694"
      ]
     },
     "execution_count": 36,
     "metadata": {},
     "output_type": "execute_result"
    }
   ],
   "source": [
    "np.rate(nper=x_nper,pmt=x_pmt,pv=9428.135032823473,fv=0,when='end')"
   ]
  },
  {
   "cell_type": "code",
   "execution_count": 37,
   "metadata": {},
   "outputs": [
    {
     "data": {
      "text/plain": [
       "0.004166666666666667"
      ]
     },
     "execution_count": 37,
     "metadata": {},
     "output_type": "execute_result"
    }
   ],
   "source": [
    "x_rate"
   ]
  },
  {
   "cell_type": "markdown",
   "metadata": {},
   "source": [
    "# 现金流折现\n",
    "## NPV(净现值)\n",
    "一个投资项目的净现值(NPV)，是这个项目的预期现金流流入(expected cash inflows)的现值(PV)，减去改项目预期现金流流出(expected cash outflows)的现值。所有的现金流都按照一个合适的资金成本(appropriate cost of capital)折现。计算NPV的步骤：\n",
    "1. 找出该项投资带来的所有成本(outflows-现金流出)和收益(inflows-现金流入)\n",
    "2. 找出该项投资的合适折现率(discount rate)，又叫机会成本(opportunity cost)\n",
    "3. 用合适的折现率，计算每一笔现金流的现值(PV)。现金流入为正的现值，将增加NPV\n",
    "4. 将所有的折现的现金流(DCFs)加起来，计算NPV，$NPV=\\sum_{t=0}^N{\\frac{CF_t}{{(1+r)}^t}}$"
   ]
  },
  {
   "cell_type": "code",
   "execution_count": 38,
   "metadata": {},
   "outputs": [],
   "source": [
    "def f_npv(values,r):\n",
    "    return sum([values[i]/((1+r)**i)for i in range(len(values))])"
   ]
  },
  {
   "cell_type": "code",
   "execution_count": 39,
   "metadata": {},
   "outputs": [
    {
     "data": {
      "text/plain": [
       "0.33482142857142794"
      ]
     },
     "execution_count": 39,
     "metadata": {},
     "output_type": "execute_result"
    }
   ],
   "source": [
    "f_npv(values=[-5,1.6,2.4,2.8],r=.12)"
   ]
  },
  {
   "cell_type": "markdown",
   "metadata": {},
   "source": [
    "**numpy计算NPV的金融函数**"
   ]
  },
  {
   "cell_type": "code",
   "execution_count": 40,
   "metadata": {},
   "outputs": [
    {
     "data": {
      "text/plain": [
       "0.33482142857142794"
      ]
     },
     "execution_count": 40,
     "metadata": {},
     "output_type": "execute_result"
    }
   ],
   "source": [
    "np.npv(rate=.12,values=[-5,1.6,2.4,2.8])"
   ]
  },
  {
   "cell_type": "markdown",
   "metadata": {},
   "source": [
    "## IRR(内部回报率)\n",
    "内部回报率，指的是在该回报率下，一项投资的所有的期望现金流入的现值，与该投资所有的期望现金流出的现值绝对值相同。即在该回报率下，这个投资的净现值(NPV)为0.\n",
    "\n",
    "计算IRR，只需要知道一个投资机会的相关现金流即可。IRR与市场决定的折现率或者任何受市场引导的外部数据无关。求解IRR的一般公式：$NPV=0=\\sum_{t=0}^N{\\frac{CF_t}{{(1+IRR)}^t}}$\n",
    "\n",
    "在IRR的应用中，多数涉及到资本预算。初始的现金流$CF_0$，表示一个投资机会的初始现金投入，因此是一个负数。所以，任何比$IRR$大的折现率下，得到的NPV都都是负数。当折现率为$IRR$时，这个投资的净现值(NPV)为0。"
   ]
  },
  {
   "cell_type": "code",
   "execution_count": 41,
   "metadata": {},
   "outputs": [
    {
     "data": {
      "text/plain": [
       "0.15517572757540488"
      ]
     },
     "execution_count": 41,
     "metadata": {},
     "output_type": "execute_result"
    }
   ],
   "source": [
    "np.irr(values=[-5,1.6,2.4,2.8])"
   ]
  },
  {
   "cell_type": "markdown",
   "metadata": {},
   "source": [
    "**mirr(modified internal rate of return)：修正内部收益率**\n",
    "\n",
    "在资本投资中，由于内部收益率（IRR）指标存在着再投资收益率假设失误，可能有多个内部收益率同时存在和内部收益率指标的结论与NPV指标结论相矛盾等不足。\n",
    "修正的内含报酬率是在一定的贴现率条件下，将投资项目未来的现金流入量按照预定的贴现率计算至最后一年的终值，而将投资项目的现金流入量（投资额）折算成现值，并使现金流入量的终值与投资项目的现金流出量达到价值平衡的贴现率。"
   ]
  },
  {
   "cell_type": "code",
   "execution_count": 42,
   "metadata": {},
   "outputs": [
    {
     "data": {
      "text/plain": [
       "0.14686295772275715"
      ]
     },
     "execution_count": 42,
     "metadata": {},
     "output_type": "execute_result"
    }
   ],
   "source": [
    "np.mirr(values=[-100, 39, 59, 55, 20],finance_rate=0,reinvest_rate=0)"
   ]
  },
  {
   "cell_type": "markdown",
   "metadata": {},
   "source": [
    "## NPV规则与IRR规则\n",
    "### NPV决策规则\n",
    "1. 如果一项项目有正的NPV,就应该投资这个项目。正的NPV项目会增加股东超额价值；\n",
    "2. 如果一项项目有负的NPV,就不应该投资这个项目。负的NPV项目会减小股东超额价值；\n",
    "3. 如果一项项目NPV=0，表示项目的投资收益率和预期收益率相等，对应的股东超额价值为0；\n",
    "4. 两个项目，只能投资其中一个的时候，应该投资于NPV较大的一个。\n",
    "\n",
    "### IRR规则\n",
    "1. 如果一个项目的IRR，大于公司(投资者)要求的回报率，应该投资于这个项目；\n",
    "2. 如果一个项目的IRR，小于公司(投资者)要求的回报率，不应该投资于这个项目；\n",
    "\n",
    "### 不相容项目\n",
    "对于两个互不相容的项目，NPV和IRR决策规则可能得到不同的决策结果。如下："
   ]
  },
  {
   "cell_type": "code",
   "execution_count": 43,
   "metadata": {},
   "outputs": [
    {
     "data": {
      "text/plain": [
       "(0.6000000000000001, 0.33333333333333326)"
      ]
     },
     "execution_count": 43,
     "metadata": {},
     "output_type": "execute_result"
    }
   ],
   "source": [
    "x_values1,x_values2,r=[-5000,8000],[-30000,40000],.1\n",
    "np.irr(x_values1),np.irr(x_values2)"
   ]
  },
  {
   "cell_type": "code",
   "execution_count": 44,
   "metadata": {},
   "outputs": [
    {
     "data": {
      "text/plain": [
       "(2272.727272727272, 6363.63636363636)"
      ]
     },
     "execution_count": 44,
     "metadata": {},
     "output_type": "execute_result"
    }
   ],
   "source": [
    "np.npv(rate=r,values=x_values1),np.npv(rate=r,values=x_values2)"
   ]
  },
  {
   "cell_type": "markdown",
   "metadata": {},
   "source": [
    "此时，我们需要将NPV进行单位化再对比："
   ]
  },
  {
   "cell_type": "code",
   "execution_count": 45,
   "metadata": {},
   "outputs": [
    {
     "data": {
      "text/plain": [
       "(0.4545454545454544, 0.21212121212121202)"
      ]
     },
     "execution_count": 45,
     "metadata": {},
     "output_type": "execute_result"
    }
   ],
   "source": [
    "np.npv(rate=r,values=x_values1)/abs(x_values1[0]),np.npv(rate=r,values=x_values2)/abs(x_values2[0])"
   ]
  },
  {
   "cell_type": "markdown",
   "metadata": {},
   "source": [
    "## 收益率\n",
    "### 持有期回报(holding period return-HPR)\n",
    "如果某个资产中间会产生现金流，我们把包含进这些中间现金流的汇报，称作总投资汇报。那么，$持有期汇报HPR=\\frac{总投资回报}{投资}-1$"
   ]
  },
  {
   "cell_type": "code",
   "execution_count": 46,
   "metadata": {},
   "outputs": [
    {
     "data": {
      "text/plain": [
       "(0.012244897959183598, 0.1166666666666667)"
      ]
     },
     "execution_count": 46,
     "metadata": {},
     "output_type": "execute_result"
    }
   ],
   "source": [
    "992/980-1,(33+0.5)/30-1"
   ]
  },
  {
   "cell_type": "markdown",
   "metadata": {},
   "source": [
    "### 银行贴现收益率\n",
    "$r_{BD}=\\frac{D}{F}\\times\\frac{360}{t}$\n",
    "\n",
    "$r_{BD}$：基于银行贴现的年度化收益率\n",
    "$D$：投资的现值，即折现值\n",
    "$F$：投资标的的票面价值\n",
    "$t$：到期前剩下的天数\n",
    "$360$：一年的总天数，按照习惯以360天计算\n",
    "\n",
    "银行贴现收益率的特点：用折现值占票面价值的比例来表示。"
   ]
  },
  {
   "cell_type": "code",
   "execution_count": 47,
   "metadata": {},
   "outputs": [
    {
     "data": {
      "text/plain": [
       "0.045"
      ]
     },
     "execution_count": 47,
     "metadata": {},
     "output_type": "execute_result"
    }
   ],
   "source": [
    "(100000-98500)/100000*360/120"
   ]
  },
  {
   "cell_type": "markdown",
   "metadata": {},
   "source": [
    "基于银行贴现计算出来的收益率，并不能代表投资者的实际收益率，原因如下：\n",
    "1. 银行贴现收益率利用简单利息进行年度化，忽略了复利的影响；\n",
    "2. 银行贴现收益率的计算基于标的的票面价值，而不是实际的购买价格；\n",
    "3. 银行贴现收益率是按照一年360天计算，而不是实际天数年度化；"
   ]
  }
 ],
 "metadata": {
  "kernelspec": {
   "display_name": "Python 3",
   "language": "python",
   "name": "python3"
  },
  "language_info": {
   "codemirror_mode": {
    "name": "ipython",
    "version": 3
   },
   "file_extension": ".py",
   "mimetype": "text/x-python",
   "name": "python",
   "nbconvert_exporter": "python",
   "pygments_lexer": "ipython3",
   "version": "3.7.3"
  },
  "toc": {
   "base_numbering": 1,
   "nav_menu": {
    "height": "331.969px",
    "width": "466.917px"
   },
   "number_sections": true,
   "sideBar": true,
   "skip_h1_title": false,
   "title_cell": "Table of Contents",
   "title_sidebar": "Contents",
   "toc_cell": false,
   "toc_position": {},
   "toc_section_display": true,
   "toc_window_display": false
  }
 },
 "nbformat": 4,
 "nbformat_minor": 2
}
