{
 "cells": [
  {
   "cell_type": "markdown",
   "metadata": {},
   "source": [
    "# 行情软件.分析功能"
   ]
  },
  {
   "cell_type": "markdown",
   "metadata": {},
   "source": [
    "# 行情软件\n",
    "## 都有哪些软件？\n",
    "### 按客户端\n",
    "1. pc\n",
    "2. app\n",
    "3. web\n",
    "4. etc（定制终端）\n",
    "\n",
    "### 按用户类型\n",
    "#### 个人版\n",
    "1. 同花顺\n",
    "2. 通达信\n",
    "3. 大智慧\n",
    "4. 东方财富\n",
    "5. etc\n",
    "\n",
    "#### 机构版\n",
    "1. 万德-wind\n",
    "2. 彭博-bloomberg\n",
    "3. 东方财富-choice\n",
    "4. etc\n",
    "\n",
    "## 都有哪些功能？\n",
    "1. 行情列表\n",
    "2. 行情内容\n",
    "2. 数据浏览\n",
    "3. 分析功能（基本面分析、技术分析）\n",
    "4. 辅助功能\n",
    "5. 交易端"
   ]
  },
  {
   "cell_type": "markdown",
   "metadata": {},
   "source": [
    "# 分析功能\n",
    "1. 画线\n",
    "2. 公式\n",
    "\n",
    "# K线\n",
    "## 组成\n",
    "1. 高开低收四价，开收组成实体，高低组成影线\n",
    "2. 收大于开阳线、收小于开阴线、收等于开一字线\n",
    "\n",
    "## 分析原则\n",
    "1. 阳（阴）实体越大表示做多（做空）力量越大\n",
    "2. 上（下）影线越大表示做空（做多）力量越大\n",
    "3. 实体为主，影线次之"
   ]
  },
  {
   "cell_type": "markdown",
   "metadata": {},
   "source": [
    "# 趋势分析\n",
    "简单地说，趋势就是股票价格的波动方向，或者说是股票市场运动的方向。趋势的方向有三个：a.上升方向；b.下降方向；c.水平方向，也就是无趋势方向。按道氏理论的分类，趋势分为三个类型：主要趋势、次要趋势和短暂趋势。\n",
    "\n",
    "## 支撑线和压力线\n",
    "### 支撑线和压力线的作用\n",
    "支撑线(surport line)又称为抵抗线。当股价跌到某个价位附近时，股价停止下跌，甚至有可能还有回升。这个起着阻止股价继续下跌或暂时阻止股价继续下跌的价格就是支撑线所在的位置。\n",
    "\n",
    "压力线(resistance line)又称为阻力线。当股价上涨到某价位附近时，股价会停止上涨，甚至回落。这个起着阻止或暂时阻止股价继续上升的价位就是压力线所在的位置。\n",
    "\n",
    "支撑线和压力线的作用是阻止或暂时阻止股价向一个方向继续运动。同时，支撑线和压力线又有彻底阻止股价按原方向变动的可能。\n",
    "### 支撑线与压力线相互转化\n",
    "一条支撑线如果被跌破，那么这个支撑线将成为压力线；同理，一条压力线被突破，这个压力线将成为支撑线。这说明支撑线和压力线的地位不是一成不变的，而是可以改变的，条件是它被有效的足够强大的股价变动突破。\n",
    "### 支撑线和压力线的确认和印正\n",
    "一般来说，一条支撑线或压力线对当前影响的重要性有三个方面的考虑，一是股价在这个区域停留时间的长短；二是股价在这个区域伴随的成交量大小；三是这个支撑区域或压力区域发生的时间距离当前这个时期的远近。"
   ]
  },
  {
   "cell_type": "markdown",
   "metadata": {},
   "source": [
    "## 趋势线和轨道线\n",
    "### 趋势线\n",
    "\n",
    "　　趋势线是衡量价格波动的方向的，由趋势线的方向可以明确地看出股价的趋势。在上升趋势中，将两个低点连成一条直线，就得到上升趋势线。在下降趋势中，将两个高点连成一条直线，就得到下降趋势线。要得到一条真正起作用的趋势线，要经多方面的验证才能最终确认。首先，必须确实有趋势存在。其次，画出直线后，还应得到第三个点的验证才能确认这条趋势线是有效的。\n",
    "\n",
    "### 轨道线\n",
    "\n",
    "　　轨道线又称通道线或管道线，是基于趋势线的一种方法。在已经得到了趋势线后，通过第一个峰和谷可以作出这条趋势线的平行线，这条平行线就是轨道线。 两条平行线组成一个轨道，这就是常说的上升和下降轨道。轨道的作用是限制股价的变动范围。对上面的或下面的直线的突破将意味着有一个大的变化。与突破趋势线不同，对轨道线的突破并不是趋势反向的开始，而是趋势加速的开始。轨道线的另一个作用是提出趋势转向的警报。"
   ]
  },
  {
   "cell_type": "code",
   "execution_count": null,
   "metadata": {},
   "outputs": [],
   "source": []
  }
 ],
 "metadata": {
  "kernelspec": {
   "display_name": "Python 3",
   "language": "python",
   "name": "python3"
  },
  "language_info": {
   "codemirror_mode": {
    "name": "ipython",
    "version": 3
   },
   "file_extension": ".py",
   "mimetype": "text/x-python",
   "name": "python",
   "nbconvert_exporter": "python",
   "pygments_lexer": "ipython3",
   "version": "3.7.4"
  },
  "toc": {
   "base_numbering": 1,
   "nav_menu": {
    "height": "529px",
    "width": "541px"
   },
   "number_sections": true,
   "sideBar": true,
   "skip_h1_title": false,
   "title_cell": "Table of Contents",
   "title_sidebar": "Contents",
   "toc_cell": false,
   "toc_position": {},
   "toc_section_display": true,
   "toc_window_display": false
  },
  "toc-autonumbering": true,
  "toc-showcode": false,
  "toc-showmarkdowntxt": false
 },
 "nbformat": 4,
 "nbformat_minor": 4
}
