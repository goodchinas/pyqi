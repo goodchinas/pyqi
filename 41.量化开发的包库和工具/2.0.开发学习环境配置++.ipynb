{
 "cells": [
  {
   "cell_type": "markdown",
   "metadata": {},
   "source": [
    "# 开发学习环境配置++"
   ]
  },
  {
   "cell_type": "markdown",
   "metadata": {},
   "source": [
    "# python"
   ]
  },
  {
   "cell_type": "markdown",
   "metadata": {},
   "source": [
    "## python语言\n",
    "1. Python 是一个高层次的结合了解释性、编译性、互动性和面向对象的脚本语言。\n",
    "1. Python 的设计具有很强的可读性。\n",
    "1. Python 是一种解释型语言。\n",
    "1. Python 是交互式语言。\n",
    "1. Python 是面向对象语言。\n",
    "1. Python 是初学者的语言。"
   ]
  },
  {
   "cell_type": "markdown",
   "metadata": {},
   "source": [
    "## python特点\n",
    "Python为我们提供了非常完善的基础代码库，覆盖了网络、文件、GUI、数据库、文本等大量内容，被形象地称作“内置电池（batteries included）”。用Python开发，许多功能不必从零编写，直接使用现成的即可。\n",
    "\n",
    "除了内置的库外，Python还有大量的第三方库，也就是别人开发的，供你直接使用的东西。当然，如果你开发的代码通过很好的封装，也可以作为第三方库给别人使用。\n"
   ]
  },
  {
   "cell_type": "markdown",
   "metadata": {},
   "source": [
    "## python官网\n",
    ">[官网](https://www.python.org/)\n"
   ]
  },
  {
   "cell_type": "markdown",
   "metadata": {},
   "source": [
    "# 开发工具"
   ]
  },
  {
   "cell_type": "markdown",
   "metadata": {},
   "source": [
    "## 文本编辑器+插件\n",
    "1. Visual Studio Code\n",
    "1. Eclipse + pydev\n",
    "1. emacs\n",
    "1. NetBeans\n",
    "1. Notepad++\n",
    "1. SlickEdit\n",
    "1. TextMate\n",
    "1. Python Tools for Visual Studio\n",
    "1. Vim\n",
    "1. Sublime Text\n",
    "1. EditPlus\n",
    "1. UltraEdit\n",
    "1. PSPad\n",
    "1. Editra\n"
   ]
  },
  {
   "cell_type": "markdown",
   "metadata": {},
   "source": [
    "## IDE\n",
    "1. **PyCharm**\n",
    "1. **Spyder**\n",
    "1. **IDLE**\n",
    "1. **jupyter notebook**\n",
    "1. **jupyter lab**\n",
    "1. Eric\n",
    "1. Komodo和Komodo Edit\n",
    "1. PyScripter\n",
    "1. PythonWin\n",
    "1. SPE\n",
    "1. Ulipad\n",
    "1. WingIDE\n"
   ]
  },
  {
   "cell_type": "markdown",
   "metadata": {},
   "source": [
    "# conda"
   ]
  },
  {
   "cell_type": "markdown",
   "metadata": {},
   "source": [
    "## conda、Anaconda、Miniconda\n",
    "1. conda\n",
    "\n",
    "conda是一种通用包管理系统，旨在构建和管理任何语言和任何类型的软件。\n",
    "2. Anaconda\n",
    "\n",
    "Anaconda则是一个打包的集合，里面预装好了conda、某个版本的python、众多packages、科学计算工具等等，就是把很多常用的不常用的库都给你装好了。\n",
    "3. Miniconda\n",
    "\n",
    "Miniconda，顾名思义，它只包含最基本的内容——python与conda，以及相关的必须依赖项，对于空间要求严格的用户，Miniconda是一种选择。就只包含最基本的东西，其他的库得自己装。"
   ]
  },
  {
   "cell_type": "markdown",
   "metadata": {},
   "source": [
    "## miniconda官网\n",
    ">[官网](https://docs.conda.io/en/latest/miniconda.html)"
   ]
  },
  {
   "cell_type": "markdown",
   "metadata": {},
   "source": [
    "## conda命令\n",
    "1. 打开conda命令行终端：\\<Anaconda Prompt\\>\n",
    "2. 管理python环境：\n",
    "    1. 创建虚拟环境：conda create -n env_name list of packagenaem\n",
    "    1. eg:  conda create -n env_name pandas \n",
    "    1. 指定python版本：conda create -n env_name python2 = 2.7 pandas \n",
    "    1. 激活环境： activate env_name\n",
    "    1. 退出环境 :  deactivate  env_name\n",
    "    1. 删除虚拟环境：conda env remove -n env_name\n",
    "    1. 显示所有虚拟环境：conda env list  \n",
    "\n",
    "2. 基本操作：\n",
    "    1. 升级全部库：  conda upgrade --all\n",
    "    1. 升级一个包  conda update packagename\n",
    "    1. 安装包：conda install packagename\n",
    "    1. 也可以安装多个包：   conda installl numpy pandas scipy\n",
    "    1. 安装固定版本的包：conda install numpy =1.10\n",
    "    1. 移除一个包：conda remove packagename \n",
    "    1. 查看所有包：conda list "
   ]
  },
  {
   "cell_type": "markdown",
   "metadata": {},
   "source": [
    "# ipython\n",
    "IPython是一种基于Python的交互式解释器。相较于原生的Python Shell，IPython提供了更为强大的编辑和交互功能。\n",
    "IPython的开发者吸收了标准解释器的基本概念，在此 基础上进行了大量的改进，创造出一个令人惊奇的工具。在它的主页上是这么说的：“这是一个增强的交互式Python shell。” 这个说法太谦虚了。IPython优雅，设计精巧同时兼具极强的扩展能力。那些精心设计使得IPython如此有用：tab补全，对象自省，强大的历史机 制，内嵌的源代码编辑，集成Python调试器，%run机制，宏，创建多个环境以及调用系统shell的能力。\n"
   ]
  },
  {
   "cell_type": "markdown",
   "metadata": {},
   "source": [
    "# jupyter notebook\n",
    "Jupyter Notebook（此前被称为 IPython notebook）是一个交互式笔记本，支持运行 40 多种编程语言。\n",
    "\n",
    "Jupyter Notebook 的本质是一个 Web 应用程序，便于创建和共享文学化程序文档，支持实时代码，数学方程，可视化和 markdown。 用途包括：数据清理和转换，数值模拟，统计建模，机器学习等等\n"
   ]
  },
  {
   "cell_type": "markdown",
   "metadata": {},
   "source": [
    "## install\n",
    "```\n",
    "pip install jupyter_contrib_nbextensions\n",
    "jupyter contrib nbextension install --user\n",
    "```"
   ]
  },
  {
   "cell_type": "markdown",
   "metadata": {},
   "source": [
    "## extensions\n",
    "1. toc\n",
    "2. Live Markdown Preview\n",
    "3. Code prettify"
   ]
  },
  {
   "cell_type": "markdown",
   "metadata": {},
   "source": [
    "# jupyter lab\n",
    "JupyterLab是一个交互式的开发环境，是jupyter notebook的下一代产品，集成了更多的功能。\n",
    "\n",
    "通过使用JupyterLab，能够以灵活，集成和可扩展的方式处理文档和活动：\n",
    "1. 可以开启终端，用于交互式运行代码，完全支持丰富的输出\n",
    "1. 支持Markdown，Python，R，LaTeX等任何文本文件\n",
    "1. 增强notebook功能\n",
    "1. 更多插件支持"
   ]
  },
  {
   "cell_type": "markdown",
   "metadata": {},
   "source": [
    "## install\n",
    "```\n",
    "pip install jupyterlab\n",
    "conda install nodejs\n",
    "```"
   ]
  },
  {
   "cell_type": "markdown",
   "metadata": {},
   "source": [
    "## update all\n",
    "```\n",
    "pip install pip-review  # 安装 pip-review\n",
    " \n",
    "pip-review  # 查看可更新的包\n",
    " \n",
    "pip-review --auto  # 自动更新所有包\n",
    " \n",
    "pip-review --local --interactive  # 更新包，提供操作可选项\n",
    "```"
   ]
  },
  {
   "cell_type": "markdown",
   "metadata": {},
   "source": [
    "## extensions\n",
    "1. toc\n",
    "2. formater\n",
    "3. drawio\n",
    "4. [15个好用到爆炸的Jupyter Lab插件](https://www.jianshu.com/p/bb80b4d01177)"
   ]
  },
  {
   "cell_type": "markdown",
   "metadata": {},
   "source": [
    "## search\n",
    ">[npm](https://www.npmjs.com/search?q=keywords%3Ajupyterlab)"
   ]
  },
  {
   "cell_type": "markdown",
   "metadata": {},
   "source": [
    "## 启动 jupyter notebook\n",
    "> help->lanch classic notebook"
   ]
  },
  {
   "cell_type": "code",
   "execution_count": null,
   "metadata": {},
   "outputs": [],
   "source": []
  }
 ],
 "metadata": {
  "history": [],
  "kernelspec": {
   "display_name": "Python 3",
   "language": "python",
   "name": "python3"
  },
  "language_info": {
   "codemirror_mode": {
    "name": "ipython",
    "version": 3
   },
   "file_extension": ".py",
   "mimetype": "text/x-python",
   "name": "python",
   "nbconvert_exporter": "python",
   "pygments_lexer": "ipython3",
   "version": "3.7.5"
  },
  "toc-autonumbering": true,
  "toc-showcode": false,
  "toc-showmarkdowntxt": false,
  "uuid": "d8f64d42-2a35-4e4c-bfed-564c7d37e178"
 },
 "nbformat": 4,
 "nbformat_minor": 4
}
