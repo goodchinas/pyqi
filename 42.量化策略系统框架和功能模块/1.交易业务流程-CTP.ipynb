{
 "cells": [
  {
   "cell_type": "markdown",
   "metadata": {},
   "source": [
    "# 量化策略开发流程"
   ]
  },
  {
   "cell_type": "markdown",
   "metadata": {},
   "source": [
    "1. 思路-代码-数据-回测-绩效-模拟-实盘-反馈；"
   ]
  },
  {
   "cell_type": "markdown",
   "metadata": {},
   "source": [
    "# 交易业务流程"
   ]
  },
  {
   "cell_type": "markdown",
   "metadata": {},
   "source": [
    "<img align='left' src='images/ctp报单时序图.png'>"
   ]
  },
  {
   "cell_type": "markdown",
   "metadata": {},
   "source": [
    "1. 本地（客户端）\n",
    "    1. 终端程序\n",
    "    2. API端；\n",
    "2. 远程（服务端）\n",
    "    2. 综合交易平台在经纪商（期货、证券、外汇、比特币）端运行；\n",
    "    3. 交易所系统在交易所运行；"
   ]
  },
  {
   "cell_type": "markdown",
   "metadata": {},
   "source": [
    "# CTP API"
   ]
  },
  {
   "cell_type": "markdown",
   "metadata": {},
   "source": [
    "1. md、trade\n",
    "2. api、spi\n",
    "\n",
    "**见：**\n",
    ">1. ctp帮助文档；\n",
    ">2. ctp api文件"
   ]
  },
  {
   "cell_type": "markdown",
   "metadata": {},
   "source": [
    "# 消息传递模式"
   ]
  },
  {
   "cell_type": "markdown",
   "metadata": {},
   "source": [
    "$Service[s]\\to CB[s]\\to Service[s]$"
   ]
  },
  {
   "cell_type": "markdown",
   "metadata": {},
   "source": [
    "# structure"
   ]
  },
  {
   "cell_type": "markdown",
   "metadata": {},
   "source": [
    "1. obj：数据类型\n",
    "    1. event：事件数据\n",
    "    2. model：模型数据\n",
    "2. service：业务模块：业务处理\n",
    "    1. gataway\n",
    "    2. broker\n",
    "    3. exchange\n",
    "    4. ...\n",
    "    "
   ]
  },
  {
   "cell_type": "markdown",
   "metadata": {},
   "source": [
    "# 工程结构\n",
    "1. actor:业务模块\n",
    "    1. gataway\n",
    "    2. broker\n",
    "    3. exchange\n",
    "    4. ...\n",
    "2. msg:消息类型\n",
    "3. service:功能服务\n",
    "4. app:应用"
   ]
  },
  {
   "cell_type": "markdown",
   "metadata": {},
   "source": [
    "# 消息类型\n",
    "1. md:行情类\n",
    "2. td:交易类\n",
    "3. pa:配置类"
   ]
  },
  {
   "cell_type": "markdown",
   "metadata": {},
   "source": [
    "# 回调中心\n",
    "1. 内部回调中心：实现角色之间通信；\n",
    "2. 统一回调中心，作为消息的统一入口；"
   ]
  },
  {
   "cell_type": "markdown",
   "metadata": {},
   "source": [
    "# 第一个APP\n",
    "1. 角色和回调的组装；\n",
    "2. 暴漏统一消息入口；"
   ]
  },
  {
   "cell_type": "code",
   "execution_count": null,
   "metadata": {},
   "outputs": [],
   "source": []
  }
 ],
 "metadata": {
  "kernelspec": {
   "display_name": "Python 3",
   "language": "python",
   "name": "python3"
  },
  "language_info": {
   "codemirror_mode": {
    "name": "ipython",
    "version": 3
   },
   "file_extension": ".py",
   "mimetype": "text/x-python",
   "name": "python",
   "nbconvert_exporter": "python",
   "pygments_lexer": "ipython3",
   "version": "3.7.6"
  },
  "toc-autonumbering": true
 },
 "nbformat": 4,
 "nbformat_minor": 4
}
