{
 "cells": [
  {
   "cell_type": "markdown",
   "metadata": {},
   "source": [
    "<font size=6>1.4.深层神经网络</font>\n",
    "# 回顾\n",
    "1. 逻辑回归\n",
    "2. 参数初始化\n",
    "2. 前向传播、激活单元、损失函数、代价函数、后向传播\n",
    "3. 梯度下降-参数更新\n",
    "4. 向量化\n",
    "5. etc\n",
    "\n",
    "## 逻辑回归和浅层神经网络\n",
    "<img src='../images/7c1cc04132b946baec5487ba68242362.png'>\n",
    "\n",
    "## 神经网络层数的定义\n",
    "1. 从左到右\n",
    "3. 去除输入层\n",
    "4. 包含输出层\n",
    "4. 逻辑回归是一个一层的神经网络\n",
    "5. 层数=隐含层数+1\n",
    "<img src='../images/be71cf997759e4aeaa4be1123c6bb6ba.png'>\n",
    "\n",
    "## 案例\n",
    "1. $L:$表示层数，$L=4$\n",
    "2. $n^{[l]}:$表示第$l$层的节点(或特征)数，eg.$n^{[1]}=5$,$n^{[2]}=5$，$n^{[3]}=3$，$n^{[4]}$=$n^{[L]}=1$（输出单元为1）。而输入层，${n}^{[0]}={n}_{x}=3$。\n",
    "2. ${w}^{[l]}$来记作*l*层权重向量\n",
    "3. ${z}^{[l]}$来记作*l*层多元线性回归值\n",
    "3. ${g}^{[l]}$来记作*l*层激活函数\n",
    "3. ${a}^{[l]}$来记作*l*层激活值\n",
    "4. ...\n",
    "<img src='../images/9927bcb34e8e5bfe872937fccd693081.png'>\n",
    "\n",
    "## 符号\n",
    "<font size=3>\n",
    "<ul>\n",
    "<li>上标 $^{(i)}$ 代表第 $i$ 个训练样本</li>\n",
    "<li>上标 $^{[l]}$ 代表第 $l$ 层</li>\n",
    "<li>$m$ 数据集的样本数</li>\n",
    "<li>下标 $_x$ 输入数据</li>\n",
    "<li>下标 $_y$ 输出数据</li>\n",
    "<li>$n_x$ 输入大小</li>\n",
    "<li>$n_y$ 输出大小 (或者类别数)</li>\n",
    "<li>$n_h^{[l]}$ 第 $l$ 层的隐藏单元数</li>\n",
    "<li>$L$ 神经网络的层数</li>\n",
    "<li>$n_x = n^{[0]}$</li>\n",
    "<li>$n_y = n^{[L]}$</li>\n",
    "</font>"
   ]
  },
  {
   "cell_type": "markdown",
   "metadata": {},
   "source": [
    "# 前向传播和反向传播\n",
    "## 前向传播\n",
    "### 单个样本\n",
    "$z^{[l]}=W^{[l]}\\cdot{a}^{[l-1]}+{b}^{[l]}$\n",
    "\n",
    "$a^{[l]}=g^{[l]}\\left(z^{[l]}\\right)$\n",
    "### 全体样本集-向量化\n",
    "${Z}^{[l]}={W}^{[l]}\\cdot {A}^{[l-1]}+{b}^{[l]}$\n",
    "\n",
    "${A}^{[l]}={g}^{[l]}({Z}^{[l]})$\n",
    "## 反向传播\n",
    "### 单个样本\n",
    "1. 输入：$da^{[l]}$\n",
    "2. 输出：$da^{[l-1]}$,$dw^{[l]}$,$db^{[l]}$\n",
    "\n",
    "反向传播的步骤可以写成：\n",
    "\n",
    "（1）$dz^{[l]}=d{a}^{[l]}*{g^{[l]}}'({z}^{[l]})$\n",
    "\n",
    "（2）$dw^{[l]}=d{z}^{[l]}\\cdot{a}^{[l-1]}~$\n",
    "\n",
    "（3）$db^{[l]}=d{z}^{[l]}~~$\n",
    "\n",
    "（4）$da^{[l-1]}=w^{\\left [ l \\right ] T}\\cdot{dz}^{[l]}$\n",
    "\n",
    "（5）$dz^{[l]}=w^{[l+1]T}dz^{[l+1]}\\cdot{g^{[l]}}'({z}^{[l]})$\n",
    "\n",
    "式子（5）由式子（4）带入式子（1）得到，前四个式子就可实现反向函数。\n",
    "### 全体样本集-向量化\n",
    "（6）$d{Z^{[l]}}=d{A^{[l]}}*{g^{\\left[ l \\right]}}'\\left({Z^{[l]}} \\right)~~$\n",
    "\n",
    "（7）$d{W^{[l]}}=\\frac{1}{m}\\text{}d{Z^{[l]}}\\cdot {A^{\\left[ l-1 \\right]T}}$\n",
    "\n",
    "（8）$d{b^{[l]}}=\\frac{1}{m}\\text{ }np.sum(d{z^{[l]}},axis=1,keepdims=True)$\n",
    "\n",
    "（9）$d{A^{[l-1]}}={W^{\\left[ l \\right]T}}.d{Z^{[l]}}$\n",
    "\n",
    "<img src='../images/53a5b4c71c0facfc8145af3b534f8583.png'>"
   ]
  },
  {
   "cell_type": "markdown",
   "metadata": {},
   "source": [
    "# 矩阵的维数\n",
    "## 单个样本\n",
    "$w$的维度是（下一层的维数，前一层的维数），即${w^{[l]}}$: (${n^{[l]}}$,${n^{[l-1]}}$)；\n",
    "\n",
    "$b$的维度是（下一层的维数，1），即:${b^{[l]}}$ : (${n^{[l]}},1)$；\n",
    "\n",
    "${z^{[l]}}$,${a^{[l]}}$: $({n^{[l]}},1)$;\n",
    "\n",
    "${dw^{[l]}}$和${w^{[l]}}$维度相同，${db^{[l]}}$和${b^{[l]}}$维度相同，且$w$和$b$向量化维度不变，但$z$,$a$以及$x$的维度会向量化后发生变化。\n",
    "## 样本集向量化\n",
    "$Z^{[l]}$可以看成由每一个单独的$z^{[l](i)}$叠加而得到，${Z}^{[l]}=({z^{[l](1)}}，{z^{[l](2)}}，{z^{[l](3)}}，\\dots，{z^{[l](m)}})$，\n",
    "\n",
    "$m$为训练集大小，所以$Z^{[l]}$的维度不再是$({n^{[l]}},1)$，而是$({n^{[l]}},m)$。\n",
    "\n",
    "$A^{[l]}$：$(n^{[l]},m)$，$A^{[0]} = X =(n^{[l]},m)$"
   ]
  },
  {
   "cell_type": "markdown",
   "metadata": {},
   "source": [
    "# 参数VS超参数\n",
    "1. 参数:$w,b$\n",
    "2. 超参数:\n",
    "    * **learning rate** $a$（学习率）\n",
    "    * **iterations**(梯度下降法循环的数量)\n",
    "    * $L$（神经网咯的层数）、${n^{[l]}}$（隐藏层单元数目）\n",
    "    * **choice of activation function**（激活函数的选择）\n",
    "\n",
    "超参数实际上控制了最后的参数$W$和$b$的值，所以它们被称作超参数。"
   ]
  },
  {
   "cell_type": "markdown",
   "metadata": {},
   "source": [
    "# 创建深层神经网络\n",
    "## 库包和环境配置"
   ]
  },
  {
   "cell_type": "code",
   "execution_count": 1,
   "metadata": {},
   "outputs": [],
   "source": [
    "import numpy as np\n",
    "import matplotlib.pyplot as plt\n",
    "plt.rcParams['font.sans-serif'] = ['SimHei'] #指定默认字体,用来正常显示中文标签\n",
    "plt.rcParams['axes.unicode_minus'] = False #解决保存图像是负号'-'显示为方块的问题\n",
    "%matplotlib inline\n",
    "np.random.seed(1) "
   ]
  },
  {
   "cell_type": "markdown",
   "metadata": {},
   "source": [
    "## 业务全景\n",
    "<img src=\"images/final outline.png\" style=\"width:800px;height:500px;\">"
   ]
  },
  {
   "cell_type": "markdown",
   "metadata": {},
   "source": [
    "## 参数初始化"
   ]
  },
  {
   "cell_type": "code",
   "execution_count": 2,
   "metadata": {},
   "outputs": [],
   "source": [
    "def initialize_parameters_deep(layer_dims):\n",
    "    \"\"\"\n",
    "    Arguments:\n",
    "    layer_dims -- (list) 从0到L，每一层的特征(节点)数\n",
    "    \n",
    "    Returns:\n",
    "    parameters -- (dictionary) 每一层参数值 \"W1\", \"b1\", ..., \"WL\", \"bL\":\n",
    "                    Wl -- 第l层的权重矩阵，shape= (layer_dims[l], layer_dims[l-1])\n",
    "                    bl -- 第l层的截距向量，shape (layer_dims[l], 1)\n",
    "    \"\"\"   \n",
    "    np.random.seed(1)\n",
    "    parameters = {}\n",
    "    L = len(layer_dims)# 层数+1\n",
    "    for l in range(1, L):\n",
    "        parameters['W' + str(l)] = np.random.randn(layer_dims[l],layer_dims[l-1])/ np.sqrt(layer_dims[l-1])\n",
    "        parameters['b' + str(l)] = np.zeros((layer_dims[l],1))\n",
    "    return parameters"
   ]
  },
  {
   "cell_type": "code",
   "execution_count": 3,
   "metadata": {},
   "outputs": [
    {
     "data": {
      "text/plain": [
       "{'W1': array([[ 0.93781623, -0.35319773, -0.3049401 ],\n",
       "        [-0.61947872,  0.49964333, -1.32879399]]), 'b1': array([[0.],\n",
       "        [0.]]), 'W2': array([[ 1.23376823, -0.53825456]]), 'b2': array([[0.]])}"
      ]
     },
     "execution_count": 3,
     "metadata": {},
     "output_type": "execute_result"
    }
   ],
   "source": [
    "initialize_parameters_deep([3,2,1])"
   ]
  },
  {
   "cell_type": "markdown",
   "metadata": {},
   "source": [
    "## 前向传播\n",
    "### 多元线性函数"
   ]
  },
  {
   "cell_type": "code",
   "execution_count": 4,
   "metadata": {},
   "outputs": [],
   "source": [
    "def linear_forward(A, W, b):\n",
    "    \"\"\"\n",
    "    计算某层的多元线性值\n",
    "    Arguments:\n",
    "    A -- 前一层的激活值 (或者输入值)，形状=(前一层的节点数, 样本数目)\n",
    "    W -- 当前层权重矩阵，形状= (当前层节点数, 前一层的节点数)\n",
    "    b -- 当前层截距向量，形状= (当前层节点数, 1)\n",
    "\n",
    "    Returns:\n",
    "    Z -- 多元线性回归值，即当前层激活函数的输入值，又叫预激活值\n",
    "    cache -- （dictionary） 存储 \"A\", \"W\" and \"b\" 等值， 以便后面后向传播使用\n",
    "    \"\"\"\n",
    "    Z = np.dot(W,A) + b\n",
    "    cache = (A, W, b)\n",
    "    return Z, cache"
   ]
  },
  {
   "cell_type": "markdown",
   "metadata": {},
   "source": [
    "### 激活函数"
   ]
  },
  {
   "cell_type": "code",
   "execution_count": 5,
   "metadata": {},
   "outputs": [],
   "source": [
    "def sigmoid(Z):  \n",
    "    A = 1/(1+np.exp(-Z))\n",
    "    cache = Z    \n",
    "    return A, cache\n",
    "\n",
    "def relu(Z):    \n",
    "    A = np.maximum(0,Z)    \n",
    "    cache = Z \n",
    "    return A, cache"
   ]
  },
  {
   "cell_type": "markdown",
   "metadata": {},
   "source": [
    "### 前向传播函数"
   ]
  },
  {
   "cell_type": "code",
   "execution_count": 6,
   "metadata": {},
   "outputs": [],
   "source": [
    "def linear_activation_forward(A_prev, W, b, activation):\n",
    "    \"\"\"\n",
    "    执行第l层的前向传播\n",
    "    Arguments:\n",
    "    A_prev -- 前一层的激活值 (或者输入值)，形状=(前一层的节点数, 样本数目)\n",
    "    W -- 当前层权重矩阵，形状= (当前层节点数, 前一层的节点数)\n",
    "    b -- 当前层截距向量，形状= (当前层节点数, 1)\n",
    "    activation -- 当前层的激活函数类型: \"sigmoid\" or \"relu\"\n",
    "\n",
    "    Returns:\n",
    "    A -- 多元线性回归值，即当前层激活函数的输入值，又叫预激活值\n",
    "    cache -- （dictionary） 存储 \"linear_cache\" and \"activation_cache\"等值， 以便后面后向传播使用\n",
    "    \"\"\"    \n",
    "    if activation == \"sigmoid\":\n",
    "        Z, linear_cache = linear_forward(A_prev,W,b)\n",
    "        A, activation_cache = sigmoid(Z)  \n",
    "    elif activation == \"relu\":\n",
    "        Z, linear_cache = linear_forward(A_prev,W,b)\n",
    "        A, activation_cache = relu(Z)\n",
    "    cache = (linear_cache, activation_cache)\n",
    "    return A, cache"
   ]
  },
  {
   "cell_type": "markdown",
   "metadata": {},
   "source": [
    "### $L$层前向传播模型"
   ]
  },
  {
   "cell_type": "code",
   "execution_count": 7,
   "metadata": {},
   "outputs": [],
   "source": [
    "def L_model_forward(X, parameters):\n",
    "    \"\"\"\n",
    "    神经网络前向传播\n",
    "    \n",
    "    Arguments:\n",
    "    X -- 特征数据集, 形状=(特征数,样本数)\n",
    "    parameters -- 初始化参数：初始化函数的输出值\n",
    "    \n",
    "    Returns:\n",
    "    AL -- 预测值：输出层的激活值\n",
    "    caches -- （list） 存储:每一层的多元线性函数和激活函数的返回值\n",
    "    \"\"\"\n",
    "    caches = []\n",
    "    A = X\n",
    "    L = len(parameters) // 2\n",
    "    for l in range(1, L):\n",
    "        A_prev = A \n",
    "        A, cache = linear_activation_forward(A_prev,parameters['W' + str(l)],parameters['b' + str(l)],activation = \"relu\")\n",
    "        caches.append(cache)\n",
    "    AL, cache = linear_activation_forward(A,parameters['W' + str(L)],parameters['b' + str(L)],activation = \"sigmoid\")\n",
    "    caches.append(cache)            \n",
    "    return AL, caches"
   ]
  },
  {
   "cell_type": "markdown",
   "metadata": {},
   "source": [
    "## 成本函数\n",
    "成本值$J$, 计算公式: $$-\\frac{1}{m} \\sum\\limits_{i = 1}^{m} (y^{(i)}\\log\\left(a^{[L] (i)}\\right) + (1-y^{(i)})\\log\\left(1- a^{[L](i)}\\right)) \\tag{7}$$"
   ]
  },
  {
   "cell_type": "code",
   "execution_count": 8,
   "metadata": {},
   "outputs": [],
   "source": [
    "def compute_cost(AL, Y):\n",
    "    \"\"\"\n",
    "    计算模型成本值.\n",
    "    Arguments:\n",
    "    AL -- 标签预测值, 形状=(标签维数=1, 样本数=m)\n",
    "    Y -- 真实标签值（0 or 1）, 形状=(标签维数=1, 样本数=m)\n",
    "    Returns:\n",
    "    cost -- 交叉熵\n",
    "    \"\"\"    \n",
    "    m = Y.shape[1]\n",
    "    cost = -1 / m * np.sum(Y * np.log(AL) + (1-Y) * np.log(1-AL),axis=1,keepdims=True)    \n",
    "    cost = np.squeeze(cost) #转为标量值\n",
    "    return cost"
   ]
  },
  {
   "cell_type": "markdown",
   "metadata": {},
   "source": [
    "## 后向传播\n",
    "<img src=\"images/backprop_kiank.png\" style=\"width:650px;height:250px;\">\n",
    "\n",
    "<img src=\"images/linearback_kiank.png\" style=\"width:250px;height:300px;\">\n",
    "$$ dW^{[l]} = \\frac{\\partial \\mathcal{L} }{\\partial W^{[l]}} = \\frac{1}{m} dZ^{[l]} A^{[l-1] T}$$\n",
    "$$ db^{[l]} = \\frac{\\partial \\mathcal{L} }{\\partial b^{[l]}} = \\frac{1}{m} \\sum_{i = 1}^{m} dZ^{[l](i)}$$\n",
    "$$ dA^{[l-1]} = \\frac{\\partial \\mathcal{L} }{\\partial A^{[l-1]}} = W^{[l] T} dZ^{[l]}$$"
   ]
  },
  {
   "cell_type": "markdown",
   "metadata": {},
   "source": [
    "### 多元线性函数微分"
   ]
  },
  {
   "cell_type": "code",
   "execution_count": 9,
   "metadata": {},
   "outputs": [],
   "source": [
    "def linear_backward(dZ, cache):\n",
    "    \"\"\"\n",
    "    第l层多元线性函数的微分\n",
    "    Arguments:\n",
    "    dZ -- 第l层多元线性值的微分\n",
    "    cache -- 第l层，前向传播的缓存值-(A_prev, W, b)\n",
    "    Returns:\n",
    "    dA_prev -- 第l-1层的激活值得微分, 形状同A_prev；\n",
    "    dW -- 当前层权重矩阵的微分, 形状同W\n",
    "    db -- 当前层截距向量的微分, 形状同b\n",
    "    \"\"\"\n",
    "    A_prev, W, b = cache\n",
    "    m = A_prev.shape[1]\n",
    "    dW = 1 / m * np.dot(dZ ,A_prev.T)\n",
    "    db = 1 / m * np.sum(dZ,axis = 1 ,keepdims=True)\n",
    "    dA_prev = np.dot(W.T,dZ) \n",
    "    return dA_prev, dW, db"
   ]
  },
  {
   "cell_type": "markdown",
   "metadata": {},
   "source": [
    "### 激活函数微分"
   ]
  },
  {
   "cell_type": "code",
   "execution_count": 10,
   "metadata": {},
   "outputs": [],
   "source": [
    "def relu_backward(dA, cache):\n",
    "    Z = cache\n",
    "    dZ = np.array(dA, copy=True)\n",
    "    dZ[Z <= 0] = 0       \n",
    "    return dZ\n",
    "def sigmoid_backward(dA, cache):\n",
    "    Z = cache    \n",
    "    s = 1/(1+np.exp(-Z))\n",
    "    dZ = dA * s * (1-s)    \n",
    "    return dZ"
   ]
  },
  {
   "cell_type": "markdown",
   "metadata": {},
   "source": [
    "### 后向传播函数微分"
   ]
  },
  {
   "cell_type": "code",
   "execution_count": 11,
   "metadata": {},
   "outputs": [],
   "source": [
    "def linear_activation_backward(dA, cache, activation):\n",
    "    \"\"\"\n",
    "    后向传播    \n",
    "    Arguments:\n",
    "    dA -- 当前层激活值的微分\n",
    "    cache -- 当前层前向传播的缓存值： (linear_cache, activation_cache)\n",
    "    activation --  当前层的激活函数类型: \"sigmoid\" or \"relu\"    \n",
    "    Returns:\n",
    "    dA_prev -- 第l-1层的激活值得微分, 形状同A_prev；\n",
    "    dW -- 当前层权重矩阵的微分, 形状同W\n",
    "    db -- 当前层截距向量的微分, 形状同b\n",
    "    \"\"\"\n",
    "    linear_cache, activation_cache = cache    \n",
    "    if activation == \"relu\":\n",
    "        dZ = relu_backward(dA, activation_cache)\n",
    "        dA_prev, dW, db = linear_backward(dZ, linear_cache)\n",
    "    elif activation == \"sigmoid\":\n",
    "        dZ = sigmoid_backward(dA, activation_cache)\n",
    "        dA_prev, dW, db = linear_backward(dZ, linear_cache)\n",
    "    return dA_prev, dW, db"
   ]
  },
  {
   "cell_type": "markdown",
   "metadata": {},
   "source": [
    "### $L$层后向传播模型"
   ]
  },
  {
   "cell_type": "code",
   "execution_count": 12,
   "metadata": {},
   "outputs": [],
   "source": [
    "def L_model_backward(AL, Y, caches):\n",
    "    \"\"\"\n",
    "    神经网络后向传播    \n",
    "    Arguments:\n",
    "    AL -- 标签预测值, 形状=(标签维数=1, 样本数=m)，前向传播的输出值\n",
    "    Y -- 真实标签值（0 or 1）, 形状=(标签维数=1, 样本数=m)\n",
    "    caches -- (list)存储:每一层的前向传播中多元线性函数和激活函数的返回值\n",
    "    \n",
    "    Returns:\n",
    "    grads -- （dictionary）所有参数的梯度下降值，即所有参数的微分值\n",
    "    \"\"\"\n",
    "    grads = {}\n",
    "    L = len(caches)\n",
    "    m = AL.shape[1]\n",
    "    Y = Y.reshape(AL.shape)\n",
    "    dAL = - (np.divide(Y, AL) - np.divide(1 - Y, 1 - AL))\n",
    "    current_cache = caches[L-1]\n",
    "    grads[\"dA\" + str(L)], grads[\"dW\" + str(L)], grads[\"db\" + str(L)] =\\\n",
    "    linear_activation_backward(dAL, current_cache, activation = \"sigmoid\")\n",
    "    for l in reversed(range(L - 1)):\n",
    "        current_cache = caches[l]\n",
    "        dA_prev_temp, dW_temp, db_temp = \\\n",
    "        linear_activation_backward(grads[\"dA\" + str(l+2)], current_cache, activation = \"relu\")\n",
    "        grads[\"dA\" + str(l + 1)] = dA_prev_temp\n",
    "        grads[\"dW\" + str(l + 1)] = dW_temp\n",
    "        grads[\"db\" + str(l + 1)] = db_temp\n",
    "    return grads"
   ]
  },
  {
   "cell_type": "markdown",
   "metadata": {},
   "source": [
    "### 梯度下降-更新参数\n",
    "$$ W^{[l]} := W^{[l]} - \\alpha \\text{ } dW^{[l]}$$\n",
    "$$ b^{[l]} := b^{[l]} - \\alpha \\text{ } db^{[l]}$$"
   ]
  },
  {
   "cell_type": "code",
   "execution_count": 13,
   "metadata": {},
   "outputs": [],
   "source": [
    "def update_parameters(parameters, grads, learning_rate):\n",
    "    \"\"\"\n",
    "    梯度下降-更新参数    \n",
    "    Arguments:\n",
    "    parameters -- 更新前的参数\n",
    "    grads -- 后向传播的输出-所有参数的梯度下降值    \n",
    "    Returns:\n",
    "    parameters -- 更新后的参数\n",
    "    \"\"\"    \n",
    "    L = len(parameters) // 2\n",
    "    for l in range(L):\n",
    "        parameters[\"W\" + str(l+1)] =  parameters[\"W\" + str(l+1)] - learning_rate * grads[\"dW\" + str(l + 1)]\n",
    "        parameters[\"b\" + str(l+1)] = parameters[\"b\" + str(l+1)] - learning_rate * grads[\"db\" + str(l + 1)]\n",
    "    return parameters"
   ]
  },
  {
   "cell_type": "markdown",
   "metadata": {},
   "source": [
    "# 应用深层神经网络对图片进行分类\n",
    "## 数据"
   ]
  },
  {
   "cell_type": "code",
   "execution_count": 14,
   "metadata": {},
   "outputs": [],
   "source": [
    "import h5py\n",
    "def load_data():\n",
    "    train_dataset = h5py.File('datasets/train_catvnoncat.h5', \"r\")\n",
    "    train_set_x_orig = np.array(train_dataset[\"train_set_x\"][:]) # 训练集的特征\n",
    "    train_set_y_orig = np.array(train_dataset[\"train_set_y\"][:]) # 训练集的标签\n",
    "\n",
    "    test_dataset = h5py.File('datasets/test_catvnoncat.h5', \"r\")\n",
    "    test_set_x_orig = np.array(test_dataset[\"test_set_x\"][:]) # 测试集的特征\n",
    "    test_set_y_orig = np.array(test_dataset[\"test_set_y\"][:]) # 测试集的标签\n",
    "\n",
    "    classes = np.array(test_dataset[\"list_classes\"][:])# 分类类型\n",
    "    \n",
    "    train_set_y_orig = train_set_y_orig.reshape((1, train_set_y_orig.shape[0]))\n",
    "    test_set_y_orig = test_set_y_orig.reshape((1, test_set_y_orig.shape[0]))\n",
    "    \n",
    "    return train_set_x_orig, train_set_y_orig, test_set_x_orig, test_set_y_orig, classes"
   ]
  },
  {
   "cell_type": "code",
   "execution_count": 15,
   "metadata": {},
   "outputs": [],
   "source": [
    "train_x_orig, train_y, test_x_orig, test_y, classes = load_data()"
   ]
  },
  {
   "cell_type": "code",
   "execution_count": 16,
   "metadata": {},
   "outputs": [
    {
     "name": "stdout",
     "output_type": "stream",
     "text": [
      "y = 1. It's a cat picture.\n"
     ]
    },
    {
     "data": {
      "image/png": "[encoded data removed]",
      "text/plain": [
       "<Figure size 216x216 with 1 Axes>"
      ]
     },
     "metadata": {
      "needs_background": "light"
     },
     "output_type": "display_data"
    }
   ],
   "source": [
    "#展示图片\n",
    "index = 7\n",
    "plt.figure(figsize=(3,3))\n",
    "plt.imshow(train_x_orig[index])\n",
    "print (\"y = \" + str(train_y[0,index]) + \". It's a \" + classes[train_y[0,index]].decode(\"utf-8\") +  \" picture.\")"
   ]
  },
  {
   "cell_type": "code",
   "execution_count": 17,
   "metadata": {},
   "outputs": [
    {
     "data": {
      "text/plain": [
       "((209, 64, 64, 3), (1, 209), (50, 64, 64, 3), (1, 50), (2,))"
      ]
     },
     "execution_count": 17,
     "metadata": {},
     "output_type": "execute_result"
    }
   ],
   "source": [
    "train_x_orig.shape, train_y.shape, test_x_orig.shape, test_y.shape, classes.shape"
   ]
  },
  {
   "cell_type": "markdown",
   "metadata": {},
   "source": [
    "## 数据处理\n",
    "<img src=\"images/imvectorkiank.png\" style=\"width:450px;height:300px;\">\n",
    "\n",
    "### 数据规整"
   ]
  },
  {
   "cell_type": "code",
   "execution_count": 18,
   "metadata": {},
   "outputs": [],
   "source": [
    "train_x_flatten = train_x_orig.reshape(train_x_orig.shape[0], -1).T \n",
    "test_x_flatten = test_x_orig.reshape(test_x_orig.shape[0], -1).T"
   ]
  },
  {
   "cell_type": "code",
   "execution_count": 19,
   "metadata": {},
   "outputs": [
    {
     "data": {
      "text/plain": [
       "((12288, 209), (12288, 50))"
      ]
     },
     "execution_count": 19,
     "metadata": {},
     "output_type": "execute_result"
    }
   ],
   "source": [
    "train_x_flatten.shape,test_x_flatten.shape"
   ]
  },
  {
   "cell_type": "markdown",
   "metadata": {},
   "source": [
    "### 数据标准化"
   ]
  },
  {
   "cell_type": "code",
   "execution_count": 20,
   "metadata": {},
   "outputs": [],
   "source": [
    "train_x = train_x_flatten/255.\n",
    "test_x = test_x_flatten/255."
   ]
  },
  {
   "cell_type": "code",
   "execution_count": 21,
   "metadata": {},
   "outputs": [
    {
     "data": {
      "text/plain": [
       "(1.0, 1.0)"
      ]
     },
     "execution_count": 21,
     "metadata": {},
     "output_type": "execute_result"
    }
   ],
   "source": [
    "train_x.max(),test_x.max()"
   ]
  },
  {
   "cell_type": "markdown",
   "metadata": {},
   "source": [
    "## $L$层神经网络模型\n",
    "### 训练"
   ]
  },
  {
   "cell_type": "code",
   "execution_count": 22,
   "metadata": {},
   "outputs": [],
   "source": [
    "def L_layer_model(X, Y, layers_dims, learning_rate = 0.0075, num_iterations = 2000, print_cost=False):\n",
    "    \"\"\"\n",
    "    训练𝐿 层神经网络模型    \n",
    "    Arguments:\n",
    "    X -- 特征数据集, 形状=(特征数,样本数)\n",
    "    Y -- 真实标签值（0 or 1）, 形状=(标签维数=1, 样本数=m)\n",
    "    layers_dims -- (list) 从0到L，每一层的特征(节点)数\n",
    "    learning_rate -- 梯度下降时设置的学习率\n",
    "    num_iterations -- 迭代次数\n",
    "    print_cost -- 是否展示成本值的变动情况，如果展示，每一百次采集一个点    \n",
    "    Returns:\n",
    "    parameters -- 模型学习到的最优参数，可以用作预测.\n",
    "    \"\"\"\n",
    "    np.random.seed(1)\n",
    "    costs = []# 保存每一次梯度下降时的成本值    \n",
    "    # 参数初始化.\n",
    "    parameters = initialize_parameters_deep(layers_dims)    \n",
    "    # 循环梯度下降\n",
    "    for i in range(0, num_iterations):\n",
    "        # 前向传播\n",
    "        AL, caches = L_model_forward(X, parameters)\n",
    "        # 成本值\n",
    "        cost = compute_cost(AL, Y)\n",
    "        # 后向传播\n",
    "        grads = L_model_backward(AL, Y, caches)\n",
    "        # 梯度下降-更新参数.\n",
    "        parameters = update_parameters(parameters, grads, learning_rate)\n",
    "        # Print the cost every 100 training example\n",
    "        if print_cost and i % 100 == 0:\n",
    "            print (\"Cost after iteration %i: %f\" %(i, cost))\n",
    "        if print_cost and i % 100 == 0:\n",
    "            costs.append(cost)            \n",
    "    # 展示成本值的下降\n",
    "    plt.figure(figsize=(5,4))\n",
    "    plt.plot(np.squeeze(costs))\n",
    "    plt.ylabel('成本值')\n",
    "    plt.xlabel('迭代(100次)')\n",
    "    plt.title(\"学习率=\" + str(learning_rate))\n",
    "    plt.show()    \n",
    "    return parameters"
   ]
  },
  {
   "cell_type": "markdown",
   "metadata": {},
   "source": [
    "### 预测"
   ]
  },
  {
   "cell_type": "code",
   "execution_count": 23,
   "metadata": {},
   "outputs": [],
   "source": [
    "def predict(X, y, parameters):\n",
    "    \"\"\"\n",
    "    使用𝐿 层神经网络模型训练的参数进行预测    \n",
    "    Arguments:\n",
    "    X -- 测试特征数据\n",
    "    y -- 测试标签数据\n",
    "    parameters -- 训练模型得到的最优参数    \n",
    "    Returns:\n",
    "    p -- 测试集预测准确率\n",
    "    \"\"\"    \n",
    "    m = X.shape[1]\n",
    "    n = len(parameters) // 2 # 深层神经网络模型的层数\n",
    "    p = np.zeros((1,m))\n",
    "    probas, caches = L_model_forward(X, parameters)\n",
    "    # 预测值离散化\n",
    "    for i in range(0, probas.shape[1]):\n",
    "        if probas[0,i] > 0.5:\n",
    "            p[0,i] = 1\n",
    "        else:\n",
    "            p[0,i] = 0\n",
    "    print(\"准确率:\"  + str(np.sum((p == y)/m)))\n",
    "    return p"
   ]
  },
  {
   "cell_type": "markdown",
   "metadata": {},
   "source": [
    "## 两层神经网络的应用"
   ]
  },
  {
   "cell_type": "code",
   "execution_count": 24,
   "metadata": {},
   "outputs": [
    {
     "name": "stdout",
     "output_type": "stream",
     "text": [
      "Cost after iteration 0: 0.695046\n",
      "Cost after iteration 100: 0.589260\n",
      "Cost after iteration 200: 0.523261\n",
      "Cost after iteration 300: 0.449769\n",
      "Cost after iteration 400: 0.420900\n",
      "Cost after iteration 500: 0.372464\n",
      "Cost after iteration 600: 0.347421\n",
      "Cost after iteration 700: 0.317192\n",
      "Cost after iteration 800: 0.266438\n",
      "Cost after iteration 900: 0.219914\n",
      "Cost after iteration 1000: 0.143579\n",
      "Cost after iteration 1100: 0.453092\n",
      "Cost after iteration 1200: 0.094994\n",
      "Cost after iteration 1300: 0.080141\n",
      "Cost after iteration 1400: 0.069402\n",
      "Cost after iteration 1500: 0.060217\n",
      "Cost after iteration 1600: 0.053274\n",
      "Cost after iteration 1700: 0.047629\n",
      "Cost after iteration 1800: 0.042976\n",
      "Cost after iteration 1900: 0.039036\n",
      "Cost after iteration 2000: 0.035683\n",
      "Cost after iteration 2100: 0.032915\n",
      "Cost after iteration 2200: 0.030472\n",
      "Cost after iteration 2300: 0.028388\n",
      "Cost after iteration 2400: 0.026615\n"
     ]
    },
    {
     "data": {
      "image/png": "[encoded data removed]",
      "text/plain": [
       "<Figure size 360x288 with 1 Axes>"
      ]
     },
     "metadata": {
      "needs_background": "light"
     },
     "output_type": "display_data"
    }
   ],
   "source": [
    "parameters = L_layer_model(train_x, train_y, [train_x.shape[0],7,1], num_iterations = 2500, print_cost = True)"
   ]
  },
  {
   "cell_type": "code",
   "execution_count": 25,
   "metadata": {},
   "outputs": [
    {
     "name": "stdout",
     "output_type": "stream",
     "text": [
      "准确率:0.9999999999999998\n"
     ]
    }
   ],
   "source": [
    "pred_train=predict(train_x,train_y,parameters)"
   ]
  },
  {
   "cell_type": "code",
   "execution_count": 26,
   "metadata": {},
   "outputs": [
    {
     "name": "stdout",
     "output_type": "stream",
     "text": [
      "准确率:0.74\n"
     ]
    }
   ],
   "source": [
    "pred_test=predict(test_x,test_y,parameters)"
   ]
  },
  {
   "cell_type": "markdown",
   "metadata": {},
   "source": [
    "## 四层神经网络的应用"
   ]
  },
  {
   "cell_type": "code",
   "execution_count": 27,
   "metadata": {},
   "outputs": [
    {
     "name": "stdout",
     "output_type": "stream",
     "text": [
      "Cost after iteration 0: 0.771749\n",
      "Cost after iteration 100: 0.672053\n",
      "Cost after iteration 200: 0.648263\n",
      "Cost after iteration 300: 0.611507\n",
      "Cost after iteration 400: 0.567047\n",
      "Cost after iteration 500: 0.540138\n",
      "Cost after iteration 600: 0.527930\n",
      "Cost after iteration 700: 0.465477\n",
      "Cost after iteration 800: 0.369126\n",
      "Cost after iteration 900: 0.391747\n",
      "Cost after iteration 1000: 0.315187\n",
      "Cost after iteration 1100: 0.272700\n",
      "Cost after iteration 1200: 0.237419\n",
      "Cost after iteration 1300: 0.199601\n",
      "Cost after iteration 1400: 0.189263\n",
      "Cost after iteration 1500: 0.161189\n",
      "Cost after iteration 1600: 0.148214\n",
      "Cost after iteration 1700: 0.137775\n",
      "Cost after iteration 1800: 0.129740\n",
      "Cost after iteration 1900: 0.121225\n",
      "Cost after iteration 2000: 0.113821\n",
      "Cost after iteration 2100: 0.107839\n",
      "Cost after iteration 2200: 0.102855\n",
      "Cost after iteration 2300: 0.100897\n",
      "Cost after iteration 2400: 0.092878\n"
     ]
    },
    {
     "data": {
      "image/png": "[encoded data removed]",
      "text/plain": [
       "<Figure size 360x288 with 1 Axes>"
      ]
     },
     "metadata": {
      "needs_background": "light"
     },
     "output_type": "display_data"
    }
   ],
   "source": [
    "parameters = L_layer_model(train_x, train_y, [train_x.shape[0],20, 7, 5, 1], num_iterations = 2500, print_cost = True)"
   ]
  },
  {
   "cell_type": "code",
   "execution_count": 28,
   "metadata": {},
   "outputs": [
    {
     "name": "stdout",
     "output_type": "stream",
     "text": [
      "准确率:0.9856459330143539\n"
     ]
    }
   ],
   "source": [
    "pred_train=predict(train_x,train_y,parameters)"
   ]
  },
  {
   "cell_type": "code",
   "execution_count": 29,
   "metadata": {},
   "outputs": [
    {
     "name": "stdout",
     "output_type": "stream",
     "text": [
      "准确率:0.8\n"
     ]
    }
   ],
   "source": [
    "pred_test=predict(test_x,test_y,parameters)"
   ]
  }
 ],
 "metadata": {
  "kernelspec": {
   "display_name": "Python 3",
   "language": "python",
   "name": "python3"
  },
  "language_info": {
   "codemirror_mode": {
    "name": "ipython",
    "version": 3
   },
   "file_extension": ".py",
   "mimetype": "text/x-python",
   "name": "python",
   "nbconvert_exporter": "python",
   "pygments_lexer": "ipython3",
   "version": "3.6.5"
  },
  "toc": {
   "base_numbering": 1,
   "nav_menu": {},
   "number_sections": true,
   "sideBar": true,
   "skip_h1_title": false,
   "title_cell": "Table of Contents",
   "title_sidebar": "Contents",
   "toc_cell": false,
   "toc_position": {},
   "toc_section_display": true,
   "toc_window_display": false
  },
  "varInspector": {
   "cols": {
    "lenName": 16,
    "lenType": 16,
    "lenVar": 40
   },
   "kernels_config": {
    "python": {
     "delete_cmd_postfix": "",
     "delete_cmd_prefix": "del ",
     "library": "var_list.py",
     "varRefreshCmd": "print(var_dic_list())"
    },
    "r": {
     "delete_cmd_postfix": ") ",
     "delete_cmd_prefix": "rm(",
     "library": "var_list.r",
     "varRefreshCmd": "cat(var_dic_list()) "
    }
   },
   "types_to_exclude": [
    "module",
    "function",
    "builtin_function_or_method",
    "instance",
    "_Feature"
   ],
   "window_display": false
  }
 },
 "nbformat": 4,
 "nbformat_minor": 2
}
