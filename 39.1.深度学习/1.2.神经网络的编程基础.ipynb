{
 "cells": [
  {
   "cell_type": "markdown",
   "metadata": {},
   "source": [
    "# 二分类\n",
    "1. 矩阵由于循环\n",
    "2. 前向传播和反向传播\n",
    "3. 逻辑回归(l**ogistic regression**)"
   ]
  },
  {
   "cell_type": "markdown",
   "metadata": {},
   "source": [
    "<img style=\"float:left\" src=\"../images/e173fd42de5f1953deb617623d5087e8.png\">"
   ]
  },
  {
   "cell_type": "markdown",
   "metadata": {},
   "source": [
    "**符号定义** ：\n",
    "\n",
    "$x$：表示一个$n_x$维数据，为输入数据，维度为$(n_x,1)$； \n",
    "\n",
    "$y​$：表示输出结果，取值为$(0,1)​$；\n",
    "\n",
    "$(x^{(i)},y^{(i)})$：表示第$i$组数据，可能是训练数据，也可能是测试数据，此处默认为训练数据； \n",
    "\n",
    "$X=[x^{(1)},x^{(2)},...,x^{(m)}]$：表示所有的训练数据集的输入值，放在一个 $n_x×m$的矩阵中，其中$m$表示样本数目; \n",
    "\n",
    "$Y=[y^{(1)},y^{(2)},...,y^{(m)}]$：对应表示所有训练数据集的输出值，维度为$1×m$。\n",
    "\n",
    "用一对$(x,y)$来表示一个单独的样本，$x$代表$n_x$维的特征向量，$y$ 表示标签(输出结果)只能为0或1。\n",
    "而训练集将由$m$个训练样本组成，其中$(x^{(1)},y^{(1)})$表示第一个样本的输入和输出，$(x^{(2)},y^{(2)})$表示第二个样本的输入和输出，直到最后一个样本$(x^{(m)},y^{(m)})$，然后所有的这些一起表示整个训练集。有时候为了强调这是训练样本的个数，会写作$M_{train}$，当涉及到测试集的时候，我们会使用$M_{test}$来表示测试集的样本数，所以这是测试集的样本数："
   ]
  },
  {
   "cell_type": "markdown",
   "metadata": {},
   "source": [
    "<img style=\"float:left\" src=\"../images/55345ba411053da11ff843bbb3406369.png\">"
   ]
  },
  {
   "cell_type": "code",
   "execution_count": 1,
   "metadata": {},
   "outputs": [
    {
     "data": {
      "text/plain": [
       "(3, 2)"
      ]
     },
     "execution_count": 1,
     "metadata": {},
     "output_type": "execute_result"
    }
   ],
   "source": [
    "import numpy as np\n",
    "X=np.ones((3,2))\n",
    "X.shape"
   ]
  },
  {
   "cell_type": "markdown",
   "metadata": {},
   "source": [
    "# 逻辑回归"
   ]
  },
  {
   "cell_type": "markdown",
   "metadata": {},
   "source": [
    "<img style=\"float:left\" src=\"../images/dfb5731c30b81eced917450d31e860a3.png\">\n",
    "<img style=\"float:left\" src=\"../images/7e304debcca5945a3443d56bcbdd2964.png\">"
   ]
  },
  {
   "cell_type": "markdown",
   "metadata": {},
   "source": [
    "# 逻辑回归的代价函数\n",
    "**为什么需要代价函数：**"
   ]
  },
  {
   "cell_type": "markdown",
   "metadata": {},
   "source": [
    "<img style=\"float:left\" src=\"../images/4c9a27b071ce9162dbbcdad3393061d2.png\">"
   ]
  },
  {
   "cell_type": "markdown",
   "metadata": {},
   "source": [
    "训练样本$i$所对应的预测值是${\\hat y}^{(i)}$,是用训练样本的${w}^{T}{x}^{(i)}+b$然后通过**sigmoid**函数来得到，也可以把$z$定义为${z}^{(i)}={w}^{T}{x}^{(i)}+b$,我们将使用这个符号$(i)$注解，上标$(i)$来指明数据表示$x$或者$y$或者$z$或者其他数据的第$i$个训练样本，这就是上标$(i)$的含义。"
   ]
  },
  {
   "cell_type": "markdown",
   "metadata": {},
   "source": [
    "**损失函数：**\n",
    "\n",
    "损失函数又叫做误差函数，用来衡量算法的运行情况，**Loss function:$L\\left( \\hat{y},y \\right)$.**\n",
    "\n",
    "逻辑回归中用到的损失函数是：$L\\left( \\hat{y},y \\right)=-y\\log(\\hat{y})-(1-y)\\log (1-\\hat{y})$\n",
    ">* 当$y=1$时损失函数$L=-\\log (\\hat{y})$，如果想要损失函数$L$尽可能得小，那么$\\hat{y}$就要尽可能大，因为**sigmoid**函数取值$[0,1]$，所以$\\hat{y}$会无限接近于1。\n",
    "* 当$y=0$时损失函数$L=-\\log (1-\\hat{y})$，如果想要损失函数$L$尽可能得小，那么$\\hat{y}$就要尽可能小，因为**sigmoid**函数取值$[0,1]$，所以$\\hat{y}$会无限接近于0。\n"
   ]
  },
  {
   "cell_type": "markdown",
   "metadata": {},
   "source": [
    "**代价函数:**\n",
    "\n",
    "$J\\left( w,b \\right)=\\frac{1}{m}\\sum\\limits_{i=1}^{m}{L\\left( {\\hat{y}}^{(i)},{y}^{(i)} \\right)}=\\frac{1}{m}\\sum\\limits_{i=1}^{m}{\\left (-{y}^{(i)}\\log {\\hat{y}}^{(i)}-(1-{y}^{(i)})\\log {(1-{\\hat{y}}^{(i)})} \\right)}$"
   ]
  },
  {
   "cell_type": "markdown",
   "metadata": {},
   "source": [
    "# 梯度下降法\n",
    "## **梯度下降法可以做什么？**"
   ]
  },
  {
   "cell_type": "markdown",
   "metadata": {},
   "source": [
    "<img style=\"float:left\" src=\"../images/cbd5ff8c461fcb5a699c4ec4789687b3.jpg\">"
   ]
  },
  {
   "cell_type": "markdown",
   "metadata": {},
   "source": [
    "<img style=\"float:left\" src=\"../images/a3c81d2c8629d674141def47dc02f312.jpg\">\n",
    "<img style=\"float:left\" src=\"../images/236774be30d12524a2002c3c484d22d5.jpg\">\n",
    "<img style=\"float:left\" src=\"../images/af11ecd5d72c85f777592f8660678ce6.jpg\">"
   ]
  },
  {
   "cell_type": "markdown",
   "metadata": {},
   "source": [
    "## **梯度下降步骤：**\n",
    "\n",
    "**1. 初始化$w$和$b$，**\n",
    "\n",
    "可以用如图那个小红点来初始化参数$w$和$b$，也可以采用随机初始化的方法，对于逻辑回归几乎所有的初始化方法都有效，因为函数是凸函数，无论在哪里初始化，应该达到同一点或大致相同的点。"
   ]
  },
  {
   "cell_type": "markdown",
   "metadata": {},
   "source": [
    "<img style=\"float:left\" src=\"../images/0ad6c298d0ac25ca9b26546bb06d462c.jpg\">"
   ]
  },
  {
   "cell_type": "markdown",
   "metadata": {},
   "source": [
    "**2. 朝最陡的下坡方向走一步，不断地迭代**"
   ]
  },
  {
   "cell_type": "markdown",
   "metadata": {},
   "source": [
    "<img style=\"float:left\" src=\"../images/bb909b874b2865e66eaf9a5d18cc00e5.jpg\">\n",
    "<img style=\"float:left\" src=\"../images/c5eda5608fd2f4d846559ed8e89ed33c.jpg\">"
   ]
  },
  {
   "cell_type": "markdown",
   "metadata": {},
   "source": [
    "**3.直到走到全局最优解或者接近全局最优解的地方**"
   ]
  },
  {
   "cell_type": "markdown",
   "metadata": {},
   "source": [
    "<img style=\"float:left\" src=\"../images/1b79cca8e1902f0ee24b4eb966755ddd.jpg\">"
   ]
  },
  {
   "cell_type": "markdown",
   "metadata": {},
   "source": [
    "## **梯度下降法的细节化说明（仅有一个参数）**\n",
    "假定代价函数（成本函数）$J(w)$ 只有一个参数$w$，即用一维曲线代替多维曲线，这样可以更好画出图像。\n",
    "\n",
    "$w:=w-a\\frac{\\mathrm{d} J(w)}{\\mathrm{d}w}$\n",
    "\n",
    "$:=$表示更新参数,\n",
    "\n",
    "$a $ 表示学习率（**learning rate**），用来控制步长（**step**），即向下走一步的长度$\\frac{dJ(w)}{dw}$  就是函数$J(w)$对$w$ 求导（**derivative**），在代码中我们会使用$dw$表示这个结果"
   ]
  },
  {
   "cell_type": "markdown",
   "metadata": {},
   "source": [
    "<img style=\"float:left\" src=\"../images/4fb3b91114ecb2cd81ec9f3662434d81.jpg\">\n",
    "<img style=\"float:left\" src=\"../images/21541fc771ad8895c18d292dd4734fe7.jpg\">"
   ]
  },
  {
   "cell_type": "markdown",
   "metadata": {},
   "source": [
    "## **梯度下降法的细节化说明（两个参数）**\n",
    "$w:=w-a\\frac{\\partial J(w,b)}{\\partial w}$\n",
    "\n",
    "$b:=b-a\\frac{\\partial J(w,b)}{\\partial b}$\n",
    "\n",
    "$\\partial$ 表示求偏导符号，\n",
    "$\\frac{\\partial J(w,b)}{\\partial w}$  就是函数$J(w,b)$ 对$w$ 求偏导，在代码中我们会使用$dw$ 表示这个结果，\n",
    "$\\frac{\\partial J(w,b)}{\\partial b}$  就是函数$J(w,b)$对$b$ 求偏导，在代码中我们会使用$db$ 表示这个结果，\n",
    "小写字母$d$ 用在求导数（**derivative**），即函数只有一个参数，\n",
    "偏导数符号$\\partial $ 用在求偏导（**partial derivative**），即函数含有两个以上的参数。"
   ]
  },
  {
   "cell_type": "markdown",
   "metadata": {},
   "source": [
    "# 导数\n",
    "<img style=\"float:left\" src=\"../images/efe674e73c693a0c5439b68652ed2ce1.png\">"
   ]
  },
  {
   "cell_type": "markdown",
   "metadata": {},
   "source": [
    "# 更多的导数例子\n",
    "<img style=\"float:left\" src=\"../images/c34ba67cca6cb94c79a2e63cc5749c1f.png\">\n",
    "<img style=\"float:left\" src=\"../images/5b78b725478a0b4def09539f54c784be.png\">"
   ]
  },
  {
   "cell_type": "markdown",
   "metadata": {},
   "source": [
    "# 计算图\n",
    "一个神经网络的计算，都是按照前向或反向传播过程组织的。首先我们计算出一个新的网络的输出（前向过程），紧接着进行一个反向传输操作。后者我们用来计算出对应的梯度或导数。计算图解释了为什么我们用这种方式组织这些计算过程。"
   ]
  },
  {
   "cell_type": "markdown",
   "metadata": {},
   "source": [
    "<img style=\"float:left\" src=\"../images/5216254e20325aad2dd51975bbc70068.png\">"
   ]
  },
  {
   "cell_type": "markdown",
   "metadata": {},
   "source": [
    "# 使用计算图求导数\n",
    "下面用到的公式：\n",
    "\n",
    "$\\frac{dJ}{du}=\\frac{dJ}{dv}\\frac{dv}{du}$  ，         $\\frac{dJ}{db}=\\frac{dJ}{du}\\frac{du}{db}$ ，          $\\frac{dJ}{da}=\\frac{dJ}{du}\\frac{du}{da}$"
   ]
  },
  {
   "cell_type": "markdown",
   "metadata": {},
   "source": [
    "<img style=\"float:left\" src=\"../images/cd75ffa2793fa4af02bdd869fe962bc1.png\">"
   ]
  },
  {
   "cell_type": "markdown",
   "metadata": {},
   "source": [
    "# 逻辑回归中的梯度下降\n",
    "假设样本只有两个特征${x}_{1}$和${x}_{2}$，为了计算$z$，我们需要输入参数${w}_{1}$、${w}_{2}$ 和$b$，除此之外还有特征值${x}_{1}$和${x}_{2}$。因此$z$的计算公式为：\n",
    "$z={w}_{1}{x}_{1}+{w}_{2}{x}_{2}+b$ \n",
    "\n",
    "回想一下逻辑回归的公式定义如下：\n",
    "$\\hat{y}=a=\\sigma (z)$\n",
    "其中$z={w}^{T}x+b$，\n",
    "$\\sigma \\left( z \\right)=\\frac{1}{1+{e}^{-z}}$\n",
    "\n",
    "损失函数：\n",
    "$L( {\\hat{y}}^{(i)},{y}^{(i)})=-{y}^{(i)}\\log {\\hat{y}^{(i)}}-(1-{y}^{(i)})\\log (1-{\\hat{y}}^{(i)})$ \n",
    "\n",
    "代价函数：\n",
    "$J\\left( w,b \\right)=\\frac{1}{m}\\sum\\nolimits_{i}^{m}{L({\\hat{y}}^{(i)},{y}^{(i)})}$ \n",
    "\n",
    "假设现在只考虑单个样本的情况，单个样本的代价函数定义如下：\n",
    "$L(a,y)=-(y\\log (a)+(1-y)\\log (1-a))$ \n",
    "其中$a$是逻辑回归的输出，$y$是样本的标签值。\n",
    "\n",
    "现在让我们画出表示这个计算的计算图。\n",
    "这里先复习下梯度下降法，$w$和$b$的修正量可以表达如下：\n",
    "\n",
    "$w:=w-a \\frac{\\partial J(w,b)}{\\partial w}$，$b:=b-a\\frac{\\partial J(w,b)}{\\partial b}$"
   ]
  },
  {
   "cell_type": "markdown",
   "metadata": {},
   "source": [
    "<img style=\"float:left\" src=\"../images/03f5f96177ab15d5ead8298ba50300ac.jpg\">"
   ]
  },
  {
   "cell_type": "markdown",
   "metadata": {},
   "source": [
    "前面我们已经讲解了如何在单个训练样本上计算代价函数的前向步骤。\n",
    "\n",
    "现在让我们来讨论通过**反向计算出导数**。因为我们想要计算出的代价函数$L(a,y)$的导数，首先我们需要反向计算出代价函数$L(a,y)$关于$a$的导数，在编写代码时，你只需要用$da$ 来表示$\\frac{dL(a,y)}{da}$  。\n",
    "通过微积分得到：\n",
    "$\\frac{dL(a,y)}{da}=-y/a+(1-y)/(1-a)$ 。"
   ]
  },
  {
   "cell_type": "markdown",
   "metadata": {},
   "source": [
    "**可以再反向一步**，在编写**Python**代码时，你只需要用$dz$来表示代价函数$L$关于$z$ 的导数$\\frac{dL}{dz}$，也可以写成$\\frac{dL(a,y)}{dz}$。\n",
    "\n",
    "$\\frac{dL}{dz}=a-y$ 。\n",
    "因为$\\frac{dL(a,y)}{dz}=\\frac{dL}{dz}=(\\frac{dL}{da})\\cdot (\\frac{da}{dz})$，并且$\\frac{da}{dz}=a\\cdot (1-a)$，\n",
    "而 $\\frac{dL}{da}=(-\\frac{y}{a}+\\frac{(1-y)}{(1-a)})$，因此将这两项相乘，得到：\n",
    "\n",
    "${dz} = \\frac{{dL}(a,y)}{dz} = \\frac{dL}{dz} = \\left( \\frac{dL}{da} \\right) \\cdot \\left(\\frac{da}{dz} \\right) = ( - \\frac{y}{a} + \\frac{(1 - y)}{(1 - a)})\\cdot a(1 - a) = a - y$"
   ]
  },
  {
   "cell_type": "markdown",
   "metadata": {},
   "source": [
    "**最后一步反向推导**，也就是计算$w$和$b$变化对代价函数$L$的影响，可以用:<br>\n",
    "$d{w}_{1}=\\frac{1}{m}\\sum\\limits_{i}^{m}{x_{1}^{(i)}}({a}^{(i)}-{y}^{(i)})$ <br>\n",
    "$d{w}_{2}=\\frac{1}{m}\\sum\\limits_{i}^{m}{x_{2}^{(i)}}({a}^{(i)}-{y}^{(i)})$ <br>\n",
    "$db=\\frac{1}{m}\\sum\\limits_{i}^{m}{({a}^{(i)}-{y}^{(i)})}$ \n",
    "\n",
    "$d{w}_{1}$ 表示$\\frac{\\partial L}{\\partial {w}_{1}}={x}_{1}\\cdot dz$， <br>\n",
    "$d{w}_{\\text{2}}$ 表示$\\frac{\\partial L}{\\partial {w}_{2}}={x}_{2}\\cdot dz$，<br>\n",
    "$db=dz$。\n",
    "\n",
    "因此，关于单个样本的梯度下降算法，你所需要做的就是如下的事情：<br>\n",
    "使用$dz=(a-y)$计算$dz$，<br>\n",
    "使用$d{w}_{1}={x}_{1}\\cdot dz$计算$d{w}_{1}$， <br>\n",
    "使用$d{w}_{2}={x}_{2}\\cdot dz$计算$d{w}_{2}$，<br>\n",
    "使用$db=dz$ 来计算$db$，<br>\n",
    "然后:<br>\n",
    "${w}_{1}:={w}_{1}-a d{w}_{1}$，<br>\n",
    "${w}_{2}:={w}_{2}-a d{w}_{2}$，<br>\n",
    "$b:=b-\\alpha db$。"
   ]
  },
  {
   "cell_type": "markdown",
   "metadata": {},
   "source": [
    "<img style=\"float:left\" src=\"../images/6403f00e5844c3100f4aa9ff043e2319.jpg\">"
   ]
  },
  {
   "cell_type": "markdown",
   "metadata": {},
   "source": [
    "# m个样本的梯度下降"
   ]
  },
  {
   "cell_type": "markdown",
   "metadata": {},
   "source": [
    "<img style=\"float:left\" src=\"../images/bf930b1f68d8e0726dda5393afc83672.png\">"
   ]
  },
  {
   "cell_type": "markdown",
   "metadata": {},
   "source": [
    "**代价函数：**\n",
    "$J\\left( w,b \\right)=\\frac{1}{m}\\sum\\nolimits_{i}^{m}{L({\\hat{y}}^{(i)},{y}^{(i)})}$ \n",
    "\n",
    "**反向传播**的全局梯度值：<br>\n",
    "$d{w}_{1}=\\frac{1}{m}\\sum\\limits_{i}^{m}{x_{1}^{(i)}}({a}^{(i)}-{y}^{(i)})$ <br>\n",
    "$d{w}_{2}=\\frac{1}{m}\\sum\\limits_{i}^{m}{x_{2}^{(i)}}({a}^{(i)}-{y}^{(i)})$ <br>\n",
    "$db=\\frac{1}{m}\\sum\\limits_{i}^{m}{({a}^{(i)}-{y}^{(i)})}$ \n",
    "\n",
    "**迭代梯度下降：**<br>\n",
    "${w}_{1}:={w}_{1}-a d{w}_{1}$，<br>\n",
    "${w}_{2}:={w}_{2}-a d{w}_{2}$，<br>\n",
    "$b:=b-\\alpha db$。"
   ]
  },
  {
   "cell_type": "markdown",
   "metadata": {},
   "source": [
    "<img style=\"float:left\" src=\"../images/8b725e51dcffc53a5def49438b70d925.png\">"
   ]
  },
  {
   "cell_type": "markdown",
   "metadata": {},
   "source": [
    "代码流程：\n",
    "\n",
    "```\n",
    "J=0;dw1=0;dw2=0;db=0;\n",
    "for i = 1 to m\n",
    "    z(i) = wx(i)+b;\n",
    "    a(i) = sigmoid(z(i));\n",
    "    J += -[y(i)log(a(i))+(1-y(i)）log(1-a(i));\n",
    "    dz(i) = a(i)-y(i);\n",
    "    dw1 += x1(i)dz(i);\n",
    "    dw2 += x2(i)dz(i);\n",
    "    db += dz(i);\n",
    "J/= m;\n",
    "dw1/= m;\n",
    "dw2/= m;\n",
    "db/= m;\n",
    "w=w-alpha*dw\n",
    "b=b-alpha*db\n",
    "```"
   ]
  },
  {
   "cell_type": "markdown",
   "metadata": {},
   "source": [
    "# 向量化"
   ]
  },
  {
   "cell_type": "markdown",
   "metadata": {},
   "source": [
    "在单一样本的逻辑回归中我们需要去计算$z={w}^{T}x+b$，$w$、$x$都是列向量。如果我们有很多的特征，那么就会有一个非常大的向量，其中$w\\in {\\mathbb{R}}^{n_x}$ , $x\\in{\\mathbb{R}}^{n_x}$，所以如果想使用非向量化方法去计算$w^Tx$，需要用如下方式：\n",
    "\n",
    "```\n",
    "z=0\n",
    "for i in range(n_x)\n",
    "\n",
    "    z+=w[i]*x[i]\n",
    "z+=b\n",
    "```\n"
   ]
  },
  {
   "cell_type": "markdown",
   "metadata": {},
   "source": [
    "**向量化实现**\n",
    "```\n",
    "z=np.dot(w,x)+b\n",
    "```"
   ]
  },
  {
   "cell_type": "markdown",
   "metadata": {},
   "source": [
    "**代码案例：**"
   ]
  },
  {
   "cell_type": "code",
   "execution_count": 2,
   "metadata": {},
   "outputs": [
    {
     "name": "stdout",
     "output_type": "stream",
     "text": [
      "[1 2 3 4]\n",
      "向量计算:1.0006427764892578ms\n",
      "普通循环:474.7426509857178ms\n"
     ]
    }
   ],
   "source": [
    "import numpy as np #导入numpy库\n",
    "a = np.array([1,2,3,4]) #创建一个数据a\n",
    "print(a)\n",
    "# [1 2 3 4]\n",
    "import time #导入时间库\n",
    "a = np.random.rand(1000000)\n",
    "b = np.random.rand(1000000) #通过round随机得到两个一百万维度的数组\n",
    "tic = time.time() #现在测量一下当前时间\n",
    "#向量化的版本\n",
    "c = np.dot(a,b)\n",
    "toc = time.time()\n",
    "print(\"向量计算:\" + str(1000*(toc-tic)) +\"ms\") #打印一下向量化的版本的时间\n",
    "\n",
    "#继续增加非向量化的版本\n",
    "c = 0\n",
    "tic = time.time()\n",
    "for i in range(1000000):\n",
    "    c += a[i]*b[i]\n",
    "toc = time.time()\n",
    "print(\"普通循环:\" + str(1000*(toc-tic)) + \"ms\")#打印for循环的版本的时间"
   ]
  },
  {
   "cell_type": "markdown",
   "metadata": {},
   "source": [
    "# 向量化的更多例子"
   ]
  },
  {
   "cell_type": "code",
   "execution_count": 3,
   "metadata": {},
   "outputs": [
    {
     "data": {
      "text/plain": [
       "array([0, 1, 2, 3])"
      ]
     },
     "execution_count": 3,
     "metadata": {},
     "output_type": "execute_result"
    }
   ],
   "source": [
    "a=np.arange(4)\n",
    "a"
   ]
  },
  {
   "cell_type": "code",
   "execution_count": 4,
   "metadata": {},
   "outputs": [
    {
     "data": {
      "text/plain": [
       "array([ 1.        ,  2.71828183,  7.3890561 , 20.08553692])"
      ]
     },
     "execution_count": 4,
     "metadata": {},
     "output_type": "execute_result"
    }
   ],
   "source": [
    "np.exp(a)"
   ]
  },
  {
   "cell_type": "code",
   "execution_count": 5,
   "metadata": {},
   "outputs": [
    {
     "data": {
      "text/plain": [
       "array([0.        , 0.69314718, 1.09861229, 1.38629436])"
      ]
     },
     "execution_count": 5,
     "metadata": {},
     "output_type": "execute_result"
    }
   ],
   "source": [
    "np.log(a+1)"
   ]
  },
  {
   "cell_type": "code",
   "execution_count": 6,
   "metadata": {},
   "outputs": [
    {
     "data": {
      "text/plain": [
       "array([0, 1, 2, 3])"
      ]
     },
     "execution_count": 6,
     "metadata": {},
     "output_type": "execute_result"
    }
   ],
   "source": [
    "np.abs(a)"
   ]
  },
  {
   "cell_type": "code",
   "execution_count": 7,
   "metadata": {},
   "outputs": [
    {
     "data": {
      "text/plain": [
       "array([2, 2, 2, 3])"
      ]
     },
     "execution_count": 7,
     "metadata": {},
     "output_type": "execute_result"
    }
   ],
   "source": [
    "np.maximum(a,2)"
   ]
  },
  {
   "cell_type": "code",
   "execution_count": 8,
   "metadata": {},
   "outputs": [
    {
     "data": {
      "text/plain": [
       "array([0, 1, 4, 9], dtype=int32)"
      ]
     },
     "execution_count": 8,
     "metadata": {},
     "output_type": "execute_result"
    }
   ],
   "source": [
    "a**2"
   ]
  },
  {
   "cell_type": "code",
   "execution_count": 9,
   "metadata": {},
   "outputs": [
    {
     "data": {
      "text/plain": [
       "array([0. , 0.5, 1. , 1.5])"
      ]
     },
     "execution_count": 9,
     "metadata": {},
     "output_type": "execute_result"
    }
   ],
   "source": [
    "a/2"
   ]
  },
  {
   "cell_type": "markdown",
   "metadata": {},
   "source": [
    "用向量算法替代for循环"
   ]
  },
  {
   "cell_type": "markdown",
   "metadata": {},
   "source": [
    "\n",
    "<img style=\"float:left\" src=\"../images/af298e37ade1883eaeb44c822e279d42.png\">"
   ]
  },
  {
   "cell_type": "markdown",
   "metadata": {},
   "source": [
    "**去除第一层for循环的代码流程：**\n",
    "\n",
    "```\n",
    "J=0;dw=np.zeros((n,1));db=0;\n",
    "for i = 1 to m\n",
    "    z(i) = wx(i)+b;\n",
    "    a(i) = sigmoid(z(i));\n",
    "    J += -[y(i)log(a(i))+(1-y(i)）log(1-a(i));\n",
    "    dz(i) = a(i)-y(i);\n",
    "    dw += x(i)dz(i)\n",
    "    db += dz(i);\n",
    "J/= m;\n",
    "dw1/= m;\n",
    "dw2/= m;\n",
    "dw=dw.mean()\n",
    "db/= m;\n",
    "w=w-alpha*dw\n",
    "b=b-alpha*db\n",
    "```"
   ]
  },
  {
   "cell_type": "markdown",
   "metadata": {},
   "source": [
    "# 向量化逻辑回归\n",
    "**去除第二层for循环的代码流程：**"
   ]
  },
  {
   "cell_type": "code",
   "execution_count": 10,
   "metadata": {
    "variables": {
     "0:{1": "<p><strong>SyntaxError</strong>: unexpected EOF while parsing (<ipython-input-20-8fa524e0c5cf>, line 1)</p>\n",
     "0:{2": "<p><strong>SyntaxError</strong>: unexpected EOF while parsing (<ipython-input-20-e2d8b75ae7e9>, line 1)</p>\n",
     "{{0:{1": "<p><strong>SyntaxError</strong>: unexpected EOF while parsing (<ipython-input-20-11c27b795c75>, line 1)</p>\n"
    }
   },
   "outputs": [],
   "source": [
    "import sympy as sp\n",
    "sp.init_printing()\n",
    "def getM(var_name,r,c):\n",
    "    \"\"\"\n",
    "    make a sympy s matrix\n",
    "    :param var_name:the symbol name\n",
    "    :param r:matrix s rows\n",
    "    :param c:matrix s cols\n",
    "    \"\"\"\n",
    "    if r>1 and c>1:\n",
    "        ss=sp.symbols(\"{0}_{{{{0:{1}}}{{0:{2}}}}}\".format(var_name,r,c))        \n",
    "    elif r==1:\n",
    "        ss=sp.symbols(\"{0}_{{0:{1}}}\".format(var_name,c))\n",
    "    elif c==1:\n",
    "        ss=sp.symbols(\"{0}_{{0:{1}}}\".format(var_name,r))\n",
    "    else:\n",
    "        raise Exception('invalid input parameter！')\n",
    "    return sp.Matrix([ss[i*c:(i+1)*c] for i in range(r)])"
   ]
  },
  {
   "cell_type": "markdown",
   "metadata": {},
   "source": [
    "**构造矩阵，前向传播**"
   ]
  },
  {
   "cell_type": "markdown",
   "metadata": {},
   "source": [
    "<img style=\"float:left\" src=\"../images/3a8a0c9ed33cd6c033103e35c26eeeb7.png\">"
   ]
  },
  {
   "cell_type": "code",
   "execution_count": 11,
   "metadata": {},
   "outputs": [
    {
     "data": {
      "text/latex": [
       "$$\\left ( \\left[\\begin{matrix}x_{{0}{0}} & x_{{0}{1}} & x_{{0}{2}}\\\\x_{{1}{0}} & x_{{1}{1}} & x_{{1}{2}}\\\\x_{{2}{0}} & x_{{2}{1}} & x_{{2}{2}}\\\\x_{{3}{0}} & x_{{3}{1}} & x_{{3}{2}}\\end{matrix}\\right], \\quad \\left[\\begin{matrix}w_{0}\\\\w_{1}\\\\w_{2}\\\\w_{3}\\end{matrix}\\right], \\quad \\left[\\begin{matrix}b_{0} & b_{1} & b_{2}\\end{matrix}\\right]\\right )$$"
      ],
      "text/plain": [
       "⎛⎡x_{{0}{0}}  x_{{0}{1}}  x_{{0}{2}}⎤  ⎡w_{0}⎤                       ⎞\n",
       "⎜⎢                                  ⎥  ⎢     ⎥                       ⎟\n",
       "⎜⎢x_{{1}{0}}  x_{{1}{1}}  x_{{1}{2}}⎥  ⎢w_{1}⎥                       ⎟\n",
       "⎜⎢                                  ⎥, ⎢     ⎥, [b_{0}  b_{1}  b_{2}]⎟\n",
       "⎜⎢x_{{2}{0}}  x_{{2}{1}}  x_{{2}{2}}⎥  ⎢w_{2}⎥                       ⎟\n",
       "⎜⎢                                  ⎥  ⎢     ⎥                       ⎟\n",
       "⎝⎣x_{{3}{0}}  x_{{3}{1}}  x_{{3}{2}}⎦  ⎣w_{3}⎦                       ⎠"
      ]
     },
     "execution_count": 11,
     "metadata": {},
     "output_type": "execute_result"
    }
   ],
   "source": [
    "m,n=3,4\n",
    "X=getM('x',n,m)\n",
    "W=getM('w',n,1)\n",
    "B=getM('b',1,m)\n",
    "X,W,B"
   ]
  },
  {
   "cell_type": "code",
   "execution_count": 12,
   "metadata": {},
   "outputs": [
    {
     "data": {
      "text/latex": [
       "$$\\left[\\begin{matrix}b_{0} + w_{0} x_{{0}{0}} + w_{1} x_{{1}{0}} + w_{2} x_{{2}{0}} + w_{3} x_{{3}{0}}\\end{matrix}\\right]$$"
      ],
      "text/plain": [
       "[b_{0} + w_{0}⋅x_{{0}{0}} + w_{1}⋅x_{{1}{0}} + w_{2}⋅x_{{2}{0}} + w_{3}⋅x_{{3}\n",
       "{0}}]"
      ]
     },
     "execution_count": 12,
     "metadata": {},
     "output_type": "execute_result"
    }
   ],
   "source": [
    "Z1=W.T*X[:,[0]]+B[[0],0]\n",
    "Z1"
   ]
  },
  {
   "cell_type": "code",
   "execution_count": 13,
   "metadata": {},
   "outputs": [
    {
     "data": {
      "image/png": "[encoded data removed]",
      "text/latex": [
       "$$\\frac{1}{e^{- b_{0} - w_{0} x_{{0}{0}} - w_{1} x_{{1}{0}} - w_{2} x_{{2}{0}} - w_{3} x_{{3}{0}}} + 1}$$"
      ],
      "text/plain": [
       "                                           1                                  \n",
       "──────────────────────────────────────────────────────────────────────────────\n",
       " -b_{0} - w_{0}⋅x_{{0}{0}} - w_{1}⋅x_{{1}{0}} - w_{2}⋅x_{{2}{0}} - w_{3}⋅x_{{3\n",
       "ℯ                                                                             \n",
       "\n",
       "         \n",
       "─────────\n",
       "}{0}}    \n",
       "      + 1"
      ]
     },
     "execution_count": 13,
     "metadata": {},
     "output_type": "execute_result"
    }
   ],
   "source": [
    "A1=1/(1+sp.exp(-Z1)[0])\n",
    "A1"
   ]
  },
  {
   "cell_type": "code",
   "execution_count": 14,
   "metadata": {},
   "outputs": [
    {
     "data": {
      "text/latex": [
       "$$\\left[\\begin{matrix}b_{0} + w_{0} x_{{0}{0}} + w_{1} x_{{1}{0}} + w_{2} x_{{2}{0}} + w_{3} x_{{3}{0}} & b_{1} + w_{0} x_{{0}{1}} + w_{1} x_{{1}{1}} + w_{2} x_{{2}{1}} + w_{3} x_{{3}{1}} & b_{2} + w_{0} x_{{0}{2}} + w_{1} x_{{1}{2}} + w_{2} x_{{2}{2}} + w_{3} x_{{3}{2}}\\end{matrix}\\right]$$"
      ],
      "text/plain": [
       "[b_{0} + w_{0}⋅x_{{0}{0}} + w_{1}⋅x_{{1}{0}} + w_{2}⋅x_{{2}{0}} + w_{3}⋅x_{{3}\n",
       "{0}}  b_{1} + w_{0}⋅x_{{0}{1}} + w_{1}⋅x_{{1}{1}} + w_{2}⋅x_{{2}{1}} + w_{3}⋅x\n",
       "_{{3}{1}}  b_{2} + w_{0}⋅x_{{0}{2}} + w_{1}⋅x_{{1}{2}} + w_{2}⋅x_{{2}{2}} + w_\n",
       "{3}⋅x_{{3}{2}}]"
      ]
     },
     "execution_count": 14,
     "metadata": {},
     "output_type": "execute_result"
    }
   ],
   "source": [
    "Z=W.T*X+B\n",
    "Z"
   ]
  },
  {
   "cell_type": "code",
   "execution_count": 15,
   "metadata": {},
   "outputs": [
    {
     "data": {
      "text/latex": [
       "$$\\left[\\begin{matrix}\\frac{1}{e^{- b_{0} - w_{0} x_{{0}{0}} - w_{1} x_{{1}{0}} - w_{2} x_{{2}{0}} - w_{3} x_{{3}{0}}} + 1} & \\frac{1}{e^{- b_{1} - w_{0} x_{{0}{1}} - w_{1} x_{{1}{1}} - w_{2} x_{{2}{1}} - w_{3} x_{{3}{1}}} + 1} & \\frac{1}{e^{- b_{2} - w_{0} x_{{0}{2}} - w_{1} x_{{1}{2}} - w_{2} x_{{2}{2}} - w_{3} x_{{3}{2}}} + 1}\\end{matrix}\\right]$$"
      ],
      "text/plain": [
       "⎡                                           1                                 \n",
       "⎢─────────────────────────────────────────────────────────────────────────────\n",
       "⎢ -b_{0} - w_{0}⋅x_{{0}{0}} - w_{1}⋅x_{{1}{0}} - w_{2}⋅x_{{2}{0}} - w_{3}⋅x_{{\n",
       "⎣ℯ                                                                            \n",
       "\n",
       "                                                       1                      \n",
       "──────────  ──────────────────────────────────────────────────────────────────\n",
       "3}{0}}       -b_{1} - w_{0}⋅x_{{0}{1}} - w_{1}⋅x_{{1}{1}} - w_{2}⋅x_{{2}{1}} -\n",
       "       + 1  ℯ                                                                 \n",
       "\n",
       "                                                                  1           \n",
       "─────────────────────  ───────────────────────────────────────────────────────\n",
       " w_{3}⋅x_{{3}{1}}       -b_{2} - w_{0}⋅x_{{0}{2}} - w_{1}⋅x_{{1}{2}} - w_{2}⋅x\n",
       "                  + 1  ℯ                                                      \n",
       "\n",
       "                                ⎤\n",
       "────────────────────────────────⎥\n",
       "_{{2}{2}} - w_{3}⋅x_{{3}{2}}    ⎥\n",
       "                             + 1⎦"
      ]
     },
     "execution_count": 15,
     "metadata": {},
     "output_type": "execute_result"
    }
   ],
   "source": [
    "A=Z.applyfunc(lambda x:1/(1+sp.E**(-x)))\n",
    "A"
   ]
  },
  {
   "cell_type": "code",
   "execution_count": 16,
   "metadata": {},
   "outputs": [
    {
     "data": {
      "text/plain": [
       "(array([[ 1.11711755,  0.35454944,  0.1777668 ],\n",
       "        [-0.5513768 , -0.15913049,  0.27497068],\n",
       "        [-0.67076256,  0.5705479 , -2.92802511],\n",
       "        [ 0.80782945,  2.16104962, -1.71683675]]), array([[-0.40908726],\n",
       "        [ 0.03913573],\n",
       "        [-0.01835147],\n",
       "        [ 0.20966831]]), array([[-1.00599687, -1.35187798, -0.77622394]]))"
      ]
     },
     "execution_count": 16,
     "metadata": {},
     "output_type": "execute_result"
    }
   ],
   "source": [
    "x=np.random.randn(n,m)\n",
    "w=np.random.randn(n,1)\n",
    "b=np.random.randn(1,m)\n",
    "x,w,b"
   ]
  },
  {
   "cell_type": "code",
   "execution_count": 17,
   "metadata": {},
   "outputs": [
    {
     "data": {
      "text/plain": [
       "array([[-1.30288825, -1.06051411, -1.14441758]])"
      ]
     },
     "execution_count": 17,
     "metadata": {},
     "output_type": "execute_result"
    }
   ],
   "source": [
    "z=np.dot(w.T,x)+b\n",
    "z"
   ]
  },
  {
   "cell_type": "code",
   "execution_count": 18,
   "metadata": {},
   "outputs": [
    {
     "data": {
      "text/plain": [
       "array([[0.78632067, 0.74278878, 0.75848979]])"
      ]
     },
     "execution_count": 18,
     "metadata": {},
     "output_type": "execute_result"
    }
   ],
   "source": [
    "a=1/(1+np.exp(z))\n",
    "a"
   ]
  },
  {
   "cell_type": "markdown",
   "metadata": {},
   "source": [
    "# 向量化逻辑回归的梯度输出\n",
    "之前我们在讲梯度计算的时候，逐个求解：<br> \n",
    "$dz^{(1)}=a^{(1)}-y^{(1)}$，<br>\n",
    "$dz^{(2)}=a^{(2)}-y^{(2)}$ ……等等一系列类似公式。\n",
    "\n",
    "现在，对 $m$个训练数据做同样的运算，我们可以定义一个新的变量：<br>\n",
    "$dZ=[dz^{(1)} ,dz^{(2)} ... dz^{(m)}]$，所有的 $dz$ 变量横向排列，因此，$dZ$ 是一个 $1\\times m$ 的矩阵，或者说，是一个$m$维行向量。\n",
    "\n",
    "之前的学习中，我们已经知道如何计算真实输出值$Y$的估计值$A$，<br>\n",
    "即 $[a^{(1)},a^{(2)} ... a^{(m)}]$,我们需要找到这样的一个行向量 $Y=[y^{(1)} y^{(2)} ... y^{(m)}]$ ，<br>\n",
    "由此，我们可以这样计算 $dZ=A-Y=[a^{(1)}-y^{(1)},a^{(2)}-y^{(2)},...,a^{(m)}-y^{(m)}]$，<br>\n",
    "不难发现第一个元素就是 $dz^{(1)}$，第二个元素就是 $dz^{(2)}$ ……所以我们现在仅需一行代码，就可以同时完成这所有的计算。\n",
    "\n",
    "在之前的实现中，我们已经去掉了一个逐个特征**for**循环，但我们仍有一个遍历训练集的循环，如下所示：\n",
    "\n",
    "$dw=0$<br>\n",
    "$dw + = x^{(1)}*{dz}^{(1)}$<br>\n",
    "$dw + = x^{(2)}\\ *dz^{(2)}$<br>\n",
    "………….<br>\n",
    "$dw + = x^{(m)}*{dz}^{(m)}$<br>\n",
    "$dw = \\frac{dw}{m}$<br>\n",
    "$db = 0$<br>\n",
    "$db + = {dz}^{(1)}$<br>\n",
    "$db + = {dz}^{(2)}$<br>\n",
    "………….<br>\n",
    "$db + = dz^{(m)}$<br>\n",
    "$db = \\frac{db}{m}$\n",
    "\n",
    "上述（伪）代码就是我们在之前实现中做的，我们已经去掉了一个**for**循环，但用上述方法计算 $dw$ 仍然需要一个循环遍历训练集，我们现在借鉴前向传播中将样本**for**循环向量化的方法，将反向传播向量化！"
   ]
  },
  {
   "cell_type": "markdown",
   "metadata": {},
   "source": [
    "**向量化**\n",
    "\n",
    "$Z = w^{T}X + b = np.dot( w.T,X)+b$<br>\n",
    "$A = \\sigma( Z )$<br>\n",
    "$dZ = A - Y$<br>\n",
    "${{dw} = \\frac{1}{m}*X*dz^{T}\\ }$<br>\n",
    "$db= \\frac{1}{m}*np.sum( dZ)​$<br>\n",
    "$w: = w - a*dw$<br>\n",
    "$b: = b - a*db$<br>"
   ]
  },
  {
   "cell_type": "markdown",
   "metadata": {},
   "source": [
    "# 逻辑回归损失函数\n",
    "## **损失函数：**\n",
    "\n",
    "损失函数又叫做误差函数，用来衡量算法的运行情况，**Loss function:$L\\left( \\hat{y},y \\right)$.**\n",
    "\n",
    "逻辑回归中用到的损失函数是：$L\\left( \\hat{y},y \\right)=-y\\log(\\hat{y})-(1-y)\\log (1-\\hat{y})$\n",
    ">* 当$y=1$时损失函数$L=-\\log (\\hat{y})$，如果想要损失函数$L$尽可能得小，那么$\\hat{y}$就要尽可能大，因为**sigmoid**函数取值$[0,1]$，所以$\\hat{y}$会无限接近于1。\n",
    "* 当$y=0$时损失函数$L=-\\log (1-\\hat{y})$，如果想要损失函数$L$尽可能得小，那么$\\hat{y}$就要尽可能小，因为**sigmoid**函数取值$[0,1]$，所以$\\hat{y}$会无限接近于0。"
   ]
  },
  {
   "cell_type": "markdown",
   "metadata": {},
   "source": [
    "回想一下，在逻辑回归中，需要预测的结果$\\hat{y}$,可以表示为$\\hat{y}=\\sigma(w^{T}x+b)$，$\\sigma$是我们熟悉的$S$型函数 $\\sigma(z)=\\sigma(w^{T}x+b)=\\frac{1}{1+e^{-z}}$ 。\n",
    "\n",
    "我们约定 $\\hat{y}=p(y=1|x)$ ，即算法的输出$\\hat{y}$ 是给定训练样本 $x$ 条件下 $y$ 等于1的概率。\n",
    "\n",
    "换句话说，如果$y=1$，在给定训练样本 $x$ 条件下$y=\\hat{y}$；\n",
    "\n",
    "反过来说，如果$y=0$，在给定训练样本$x$条件下 $y$ 等于1减去$\\hat{y},即(y=1-\\hat{y})$，因此，如果 $\\hat{y}$ 代表 $y=1$ 的概率，那么$1-\\hat{y}$就是 $y=0$的概率。即:<br>\n",
    "$\\begin{cases}if&y=1:&p(y=1|x)=\\hat y\\\\if&y=0:&p(y=0|x)=1-\\hat y\\end{cases}$\n",
    "\n",
    "上述的两个条件概率公式可以合并成如下公式：\n",
    "\n",
    "$p(y|x)={\\hat{y}}^{y}{(1-\\hat{y})}^{(1-y)}$\n",
    "\n",
    "第一种情况，假设 $y=1$，由于$y=1$，那么${(\\hat{y})}^{y}=\\hat{y}$，因为 $\\hat{y}$的1次方等于$\\hat{y}$，${(1-\\hat{y})}^{(1-y)}$的指数项$(1-y)$等于0，由于任何数的0次方都是1，$\\hat{y}$乘以1等于$\\hat{y}$。因此当$y=1$时 $p(y|x)=\\hat{y}$。\n",
    "\n",
    "第二种情况，当 $y=0$ 时 $p(y|x)$ 等于多少呢?\n",
    "假设$y=0$，$\\hat{y}$的$y$次方就是 $\\hat{y}$ 的0次方，任何数的0次方都等于1，因此 $p(y|x)=1×{(1-\\hat{y})}^{1-y}$ ，前面假设 $y=0$ 因此$(1-y)$就等于1，因此 $p(y|x)=1×(1-\\hat{y})$。因此在这里当$y=0$时，$p(y|x)=1-\\hat{y}$。\n",
    "\n",
    "刚才的推导表明 $p(y|x)={\\hat{y}}^{(y)}{(1-\\hat{y})}^{(1-y)}$，就是 $p(y|x)$ 的完整定义。由于 log 函数是严格单调递增的函数，最大化 $log(p(y|x))$ 等价于最大化 $p(y|x)$ 并且地计算 $p(y|x)$ 的 log对数，就是计算 $log({\\hat{y}}^{(y)}{(1-\\hat{y})}^{(1-y)})$ (其实就是将 $p(y|x)$ 代入)，通过对数函数化简为：\n",
    "\n",
    "$ylog\\hat{y}+(1-y)log(1-\\hat{y})$\n",
    "\n",
    "而这就是我们前面提到的损失函数的负数 $(-L(\\hat{y},y))$ ，前面有一个负号的原因是当你训练学习算法时需要算法输出值的概率是最大的（以最大的概率预测这个值），然而在逻辑回归中我们需要最小化损失函数，因此最小化损失函数与最大化条件概率的对数 $log(p(y|x))$ 关联起来了，因此这就是单个训练样本的损失函数表达式。"
   ]
  },
  {
   "cell_type": "markdown",
   "metadata": {},
   "source": [
    "## **$m$个训练样本的整个训练集对应的代价函数**\n",
    "\n",
    "假设所有的训练样本服从同一分布且相互独立，也即独立同分布的，所有这些样本的联合概率就是每个样本概率的乘积:\n",
    "\n",
    "$P\\left(\\text{labels  in training set} \\right) = \\prod_{i =1}^{m}{P(y^{(i)}|x^{(i)})}$。\n",
    "\n",
    "如果你想做最大似然估计，需要寻找一组参数，使得给定样本的观测值概率最大，但令这个概率最大化等价于令其对数最大化，在等式两边取对数：\n",
    "\n",
    "$logp\\left( \\text{labels  in  training set} \\right) = log\\prod_{i =1}^{m}{P(y^{(i)}|x^{(i)})} = \\sum_{i = 1}^{m}{logP(y^{(i)}|x^{(i)})} = \\sum_{i =1}^{m}{- L(\\hat y^{(i)},y^{(i)})}$\n",
    "\n",
    "在统计学里面，有一个方法叫做最大似然估计，即求出一组参数，使这个式子取最大值，也就是说，使得这个式子取最大值，$\\sum_{i= 1}^{m}{- L(\\hat y^{(i)},y^{(i)})}$，可以将负号移到求和符号的外面，$- \\sum_{i =1}^{m}{L(\\hat y^{(i)},y^{(i)})}$，这样我们就推导出了前面给出的**logistic**回归的成本函数$J(w,b)= \\sum_{i = 1}^{m}{L(\\hat y^{(i)},y^{\\hat( i)})}$。"
   ]
  },
  {
   "cell_type": "markdown",
   "metadata": {},
   "source": [
    "# 练习搭建神经网络\n",
    "## 环境和库包"
   ]
  },
  {
   "cell_type": "code",
   "execution_count": 19,
   "metadata": {},
   "outputs": [],
   "source": [
    "import numpy as np\n",
    "import matplotlib.pyplot as plt\n",
    "import h5py#一个操作h5文件的通用包\n",
    "import scipy\n",
    "from lr_utils import load_dataset\n",
    "from scipy import ndimage\n",
    "%matplotlib inline"
   ]
  },
  {
   "cell_type": "markdown",
   "metadata": {},
   "source": [
    "## 问题分析\n",
    "我们能够获得数据为:\n",
    "1. 标记了是否有猫的训练集；\n",
    "2. 标记了是否有猫的测试集；\n",
    "3. 每一个图片文件的数据结构为（num_px，num_px，3），其中3指的是RGB三原色的的数据结构，每一张图片都是一个高度和宽度相等为64的方形图片。\n",
    "\n",
    "基于上面的数据，我们建立一个能够识别图片是否有猫图片识别模型。"
   ]
  },
  {
   "cell_type": "code",
   "execution_count": 20,
   "metadata": {},
   "outputs": [],
   "source": [
    "# 加载数据\n",
    "train_set_x_orig, train_set_y, test_set_x_orig, test_set_y, classes = load_dataset()"
   ]
  },
  {
   "cell_type": "code",
   "execution_count": 21,
   "metadata": {},
   "outputs": [
    {
     "data": {
      "image/png": "[encoded data removed]",
      "text/latex": [
       "$$\\left ( 209, \\quad 64, \\quad 64, \\quad 3\\right )$$"
      ],
      "text/plain": [
       "(209, 64, 64, 3)"
      ]
     },
     "execution_count": 21,
     "metadata": {},
     "output_type": "execute_result"
    }
   ],
   "source": [
    "train_set_x_orig.shape"
   ]
  },
  {
   "cell_type": "code",
   "execution_count": 22,
   "metadata": {},
   "outputs": [
    {
     "data": {
      "text/plain": [
       "array([b'non-cat', b'cat'], dtype='|S7')"
      ]
     },
     "execution_count": 22,
     "metadata": {},
     "output_type": "execute_result"
    }
   ],
   "source": [
    "classes"
   ]
  },
  {
   "cell_type": "code",
   "execution_count": 23,
   "metadata": {},
   "outputs": [
    {
     "name": "stdout",
     "output_type": "stream",
     "text": [
      "y = [1], 这是一个 'cat' picture.\n"
     ]
    },
    {
     "data": {
      "image/png": "[encoded data removed]",
      "text/plain": [
       "<Figure size 432x288 with 1 Axes>"
      ]
     },
     "metadata": {
      "needs_background": "light"
     },
     "output_type": "display_data"
    }
   ],
   "source": [
    "# 随机抽取样本集中的图片\n",
    "index = 2\n",
    "plt.imshow(train_set_x_orig[index])\n",
    "print (\"y = \" + str(train_set_y[:, index]) + \", 这是一个 '\" + classes[np.squeeze(train_set_y[:, index])].decode(\"utf-8\") +  \"' picture.\")"
   ]
  },
  {
   "cell_type": "code",
   "execution_count": 24,
   "metadata": {},
   "outputs": [],
   "source": [
    "train_set_x_flatten=train_set_x_orig.reshape(train_set_x_orig.shape[0],-1).T\n",
    "test_set_x_flatten=test_set_x_orig.reshape(test_set_x_orig.shape[0],-1).T"
   ]
  },
  {
   "cell_type": "code",
   "execution_count": 25,
   "metadata": {},
   "outputs": [
    {
     "data": {
      "image/png": "[encoded data removed]",
      "text/latex": [
       "$$\\left ( \\left ( 12288, \\quad 209\\right ), \\quad \\left ( 1, \\quad 209\\right ), \\quad \\left ( 12288, \\quad 50\\right ), \\quad \\left ( 1, \\quad 50\\right )\\right )$$"
      ],
      "text/plain": [
       "((12288, 209), (1, 209), (12288, 50), (1, 50))"
      ]
     },
     "execution_count": 25,
     "metadata": {},
     "output_type": "execute_result"
    }
   ],
   "source": [
    "train_set_x_flatten.shape,train_set_y.shape,test_set_x_flatten.shape,test_set_y.shape"
   ]
  },
  {
   "cell_type": "markdown",
   "metadata": {},
   "source": [
    "**数据标准化**"
   ]
  },
  {
   "cell_type": "code",
   "execution_count": 26,
   "metadata": {},
   "outputs": [
    {
     "data": {
      "text/plain": [
       "(255, 0)"
      ]
     },
     "execution_count": 26,
     "metadata": {},
     "output_type": "execute_result"
    }
   ],
   "source": [
    "train_set_x_flatten.max(),train_set_x_flatten.min()"
   ]
  },
  {
   "cell_type": "code",
   "execution_count": 27,
   "metadata": {},
   "outputs": [],
   "source": [
    "train_set_x=train_set_x_flatten/255\n",
    "test_set_x=test_set_x_flatten/255"
   ]
  },
  {
   "cell_type": "markdown",
   "metadata": {},
   "source": [
    "**数据加工要点：**\n",
    "1. 了解数据规模和数据的结构\n",
    "2. 按照矩阵的要求，整理数据的结构\n",
    "3. 数据标准化"
   ]
  },
  {
   "cell_type": "markdown",
   "metadata": {},
   "source": [
    "## 模型结构\n",
    "\n",
    "<img src=\"images/LogReg_kiank.png\" style=\"float:left;width:650px;height:400px;\">"
   ]
  },
  {
   "cell_type": "markdown",
   "metadata": {},
   "source": [
    "**模型表达式**:\n",
    "\n",
    "以$x^{(i)}$为例:<br>\n",
    "$z^{(i)} = w^T x^{(i)} + b$<br>\n",
    "$\\hat{y}^{(i)} = a^{(i)} = sigmoid(z^{(i)})$<br>\n",
    "$ \\mathcal{L}(a^{(i)}, y^{(i)}) =  - y^{(i)}  \\log(a^{(i)}) - (1-y^{(i)} )  \\log(1-a^{(i)})$<br>\n",
    "\n",
    "训练样本集的代价函数（成本函数）:<br>\n",
    "$ J = \\frac{1}{m} \\sum_{i=1}^m \\mathcal{L}(a^{(i)}, y^{(i)})$\n",
    "\n",
    "**关键步骤:**\n",
    "1. 初始化模型的参数w、b；\n",
    "2. 通过最小化代价函数值学习最优的参数；\n",
    "3. 使用最优参数预测测试集；\n",
    "4. 分析预测结果并给出结论；"
   ]
  },
  {
   "cell_type": "markdown",
   "metadata": {},
   "source": [
    "## 构建模型的各功能模块\n",
    "建立神经网络的主要步骤为:\n",
    "1. 定义模型的结构；\n",
    "2. 初始化模型的参数；\n",
    "3. 梯度下降迭代：\n",
    "    * 正向传播，计算代价函数值；\n",
    "    * 反向传播，计算梯度下降值；\n",
    "    * 用梯度下降值更新模型的参数；\n",
    "    \n",
    "### sigmoid函数"
   ]
  },
  {
   "cell_type": "code",
   "execution_count": 28,
   "metadata": {},
   "outputs": [],
   "source": [
    "# sigmoid\n",
    "def sigmoid(z):\n",
    "    s = 1 / (1 + np.exp(-z))    \n",
    "    return s"
   ]
  },
  {
   "cell_type": "code",
   "execution_count": 29,
   "metadata": {},
   "outputs": [
    {
     "data": {
      "text/plain": [
       "array([0.5       , 0.73105858])"
      ]
     },
     "execution_count": 29,
     "metadata": {},
     "output_type": "execute_result"
    }
   ],
   "source": [
    "sigmoid(np.array([0,1]))"
   ]
  },
  {
   "cell_type": "markdown",
   "metadata": {},
   "source": [
    "### 参数初始化函数"
   ]
  },
  {
   "cell_type": "code",
   "execution_count": 30,
   "metadata": {},
   "outputs": [],
   "source": [
    "# initialize_with_zeros\n",
    "def initialize_with_zeros(dim):\n",
    "    w = np.zeros((dim, 1))\n",
    "    b = 0\n",
    "    assert(w.shape == (dim, 1))\n",
    "    assert(isinstance(b, float) or isinstance(b, int))    \n",
    "    return w, b"
   ]
  },
  {
   "cell_type": "code",
   "execution_count": 31,
   "metadata": {},
   "outputs": [
    {
     "data": {
      "text/plain": [
       "(array([[0.],\n",
       "        [0.],\n",
       "        [0.]]), 0)"
      ]
     },
     "execution_count": 31,
     "metadata": {},
     "output_type": "execute_result"
    }
   ],
   "source": [
    "dim=3\n",
    "w,b=initialize_with_zeros(dim)\n",
    "w,b"
   ]
  },
  {
   "cell_type": "markdown",
   "metadata": {},
   "source": [
    "### 前向和后向传播函数\n",
    "**前向传播：**\n",
    "\n",
    "* 计算$Y$的估计值$A = \\sigma(w^T X + b) = (a^{(0)}, a^{(1)}, ..., a^{(m-1)}, a^{(m)})$\n",
    "* 代价函数值： $J = -\\frac{1}{m}\\sum_{i=1}^{m}y^{(i)}\\log(a^{(i)})+(1-y^{(i)})\\log(1-a^{(i)})$\n",
    "\n",
    "**反向传播:**\n",
    "\n",
    "* $ \\frac{\\partial J}{\\partial w} = \\frac{1}{m}X(A-Y)^T$\n",
    "* $ \\frac{\\partial J}{\\partial b} = \\frac{1}{m} \\sum_{i=1}^m (a^{(i)}-y^{(i)})$"
   ]
  },
  {
   "cell_type": "code",
   "execution_count": 32,
   "metadata": {},
   "outputs": [],
   "source": [
    "# propagate\n",
    "def propagate(w, b, X, Y):    \n",
    "    m = X.shape[1]#样本量\n",
    "    A = sigmoid(np.dot(w.T, X) + b)#真实标签值的估计值\n",
    "    cost = -1 / m * np.sum(Y * np.log(A) + (1 - Y) * np.log(1 - A))#成本函数值\n",
    "    dw = 1 / m * np.dot(X, (A - Y).T)\n",
    "    db = 1 / m * np.sum(A - Y)\n",
    "    assert(dw.shape == w.shape)\n",
    "    assert(db.dtype == float)\n",
    "    cost = np.squeeze(cost)\n",
    "    assert(cost.shape == ())    \n",
    "    grads = {\"dw\": dw,\n",
    "             \"db\": db}    \n",
    "    return grads, cost"
   ]
  },
  {
   "cell_type": "code",
   "execution_count": 33,
   "metadata": {},
   "outputs": [
    {
     "name": "stdout",
     "output_type": "stream",
     "text": [
      "dw = [[0.99993216]\n",
      " [1.99980262]]\n",
      "db = 0.49993523062470574\n",
      "cost = 6.000064773192205\n"
     ]
    }
   ],
   "source": [
    "w, b, X, Y = np.array([[1],[2]]), 2, np.array([[1,2],[3,4]]), np.array([[1,0]])\n",
    "grads, cost = propagate(w, b, X, Y)\n",
    "print (\"dw = \" + str(grads[\"dw\"]))\n",
    "print (\"db = \" + str(grads[\"db\"]))\n",
    "print (\"cost = \" + str(cost))"
   ]
  },
  {
   "cell_type": "markdown",
   "metadata": {},
   "source": [
    "### 优化(梯度下降)函数"
   ]
  },
  {
   "cell_type": "code",
   "execution_count": 34,
   "metadata": {},
   "outputs": [],
   "source": [
    "# optimize\n",
    "def optimize(w, b, X, Y, num_iterations, learning_rate, print_cost = False):    \n",
    "    costs = []    \n",
    "    for i in range(num_iterations):\n",
    "        grads, cost = propagate(w, b, X, Y)\n",
    "        dw = grads[\"dw\"]\n",
    "        db = grads[\"db\"]\n",
    "        w = w - learning_rate * dw\n",
    "        b = b - learning_rate * db\n",
    "        if i % 100 == 0:\n",
    "            costs.append(cost)\n",
    "        if print_cost and i % 100 == 0:\n",
    "            print (\"Cost after iteration %i: %f\" %(i, cost))  \n",
    "    params = {\"w\": w,\n",
    "              \"b\": b}    \n",
    "    grads = {\"dw\": dw,\n",
    "             \"db\": db}    \n",
    "    return params, grads, costs"
   ]
  },
  {
   "cell_type": "code",
   "execution_count": 35,
   "metadata": {},
   "outputs": [
    {
     "name": "stdout",
     "output_type": "stream",
     "text": [
      "w = [[0.1124579 ]\n",
      " [0.23106775]]\n",
      "b = 1.5593049248448891\n",
      "dw = [[0.90158428]\n",
      " [1.76250842]]\n",
      "db = 0.4304620716786828\n",
      "[6.000064773192205]\n"
     ]
    }
   ],
   "source": [
    "params, grads, costs = optimize(w, b, X, Y, num_iterations= 100, learning_rate = 0.009, print_cost = False)\n",
    "print (\"w = \" + str(params[\"w\"]))\n",
    "print (\"b = \" + str(params[\"b\"]))\n",
    "print (\"dw = \" + str(grads[\"dw\"]))\n",
    "print (\"db = \" + str(grads[\"db\"]))\n",
    "print(costs)"
   ]
  },
  {
   "cell_type": "markdown",
   "metadata": {},
   "source": [
    "### 预测函数\n",
    "$\\hat{Y} = A = \\sigma(w^T X + b)$"
   ]
  },
  {
   "cell_type": "code",
   "execution_count": 36,
   "metadata": {},
   "outputs": [],
   "source": [
    "# predict\n",
    "def predict(w, b, X): \n",
    "    m = X.shape[1]\n",
    "    Y_prediction = np.zeros((1,m))\n",
    "    w = w.reshape(X.shape[0], 1)\n",
    "    A = sigmoid(np.dot(w.T, X) + b)\n",
    "    for i in range(A.shape[1]):\n",
    "        if A[0, i] <= 0.5:\n",
    "            Y_prediction[0, i] = 0\n",
    "        else:\n",
    "            Y_prediction[0, i] = 1\n",
    "    assert(Y_prediction.shape == (1, m))    \n",
    "    return Y_prediction"
   ]
  },
  {
   "cell_type": "code",
   "execution_count": 37,
   "metadata": {},
   "outputs": [
    {
     "name": "stdout",
     "output_type": "stream",
     "text": [
      "predictions = [[1. 1.]]\n"
     ]
    }
   ],
   "source": [
    "print (\"predictions = \" + str(predict(w, b, X)))"
   ]
  },
  {
   "cell_type": "markdown",
   "metadata": {},
   "source": [
    "## 用模块函数搭建模型"
   ]
  },
  {
   "cell_type": "code",
   "execution_count": 38,
   "metadata": {},
   "outputs": [],
   "source": [
    "# model\n",
    "def model(X_train, Y_train, X_test, Y_test, num_iterations = 2000, learning_rate = 0.5, print_cost = False):\n",
    "    w, b = initialize_with_zeros(X_train.shape[0])#初始化模型参数\n",
    "    # 训练模型获得最优参数\n",
    "    parameters, grads, costs = optimize(w, b, X_train, Y_train, num_iterations, learning_rate, print_cost)\n",
    "    w = parameters[\"w\"]\n",
    "    b = parameters[\"b\"]\n",
    "    Y_prediction_test = predict(w, b, X_test)#预测测试集\n",
    "    Y_prediction_train = predict(w, b, X_train)#预测训练集\n",
    "    print(\"训练集的准确率: {} %\".format(100 - np.mean(np.abs(Y_prediction_train - Y_train)) * 100))\n",
    "    print(\"测试集的准确率: {} %\".format(100 - np.mean(np.abs(Y_prediction_test - Y_test)) * 100))    \n",
    "    d = {\"costs\": costs,\n",
    "         \"Y_prediction_test\": Y_prediction_test, \n",
    "         \"Y_prediction_train\" : Y_prediction_train, \n",
    "         \"w\" : w, \n",
    "         \"b\" : b,\n",
    "         \"learning_rate\" : learning_rate,\n",
    "         \"num_iterations\": num_iterations} \n",
    "    return d"
   ]
  },
  {
   "cell_type": "code",
   "execution_count": 39,
   "metadata": {},
   "outputs": [
    {
     "name": "stdout",
     "output_type": "stream",
     "text": [
      "Cost after iteration 0: 0.693147\n",
      "Cost after iteration 100: 0.584508\n",
      "Cost after iteration 200: 0.466949\n",
      "Cost after iteration 300: 0.376007\n",
      "Cost after iteration 400: 0.331463\n",
      "Cost after iteration 500: 0.303273\n",
      "Cost after iteration 600: 0.279880\n",
      "Cost after iteration 700: 0.260042\n",
      "Cost after iteration 800: 0.242941\n",
      "Cost after iteration 900: 0.228004\n",
      "Cost after iteration 1000: 0.214820\n",
      "Cost after iteration 1100: 0.203078\n",
      "Cost after iteration 1200: 0.192544\n",
      "Cost after iteration 1300: 0.183033\n",
      "Cost after iteration 1400: 0.174399\n",
      "Cost after iteration 1500: 0.166521\n",
      "Cost after iteration 1600: 0.159305\n",
      "Cost after iteration 1700: 0.152667\n",
      "Cost after iteration 1800: 0.146542\n",
      "Cost after iteration 1900: 0.140872\n",
      "训练集的准确率: 99.04306220095694 %\n",
      "测试集的准确率: 70.0 %\n"
     ]
    }
   ],
   "source": [
    "d = model(train_set_x, train_set_y, test_set_x, test_set_y\n",
    "          , num_iterations = 2000, learning_rate = 0.005, print_cost = True)"
   ]
  },
  {
   "cell_type": "markdown",
   "metadata": {},
   "source": [
    "**备注：**\n",
    "1. 我们可以基于训练集的准确率，来检验模型是否准确。训练准确度接近100%，说明我们的模型搭建的没有逻辑bug；\n",
    "2. 测试集的准确率为70%，这个对于小样本的数据集，以及简单的逻辑回归算法来说；\n",
    "3. 通过训练集合和测试集预测准确度的偏差，说明模型存在过度优化的问题；"
   ]
  },
  {
   "cell_type": "code",
   "execution_count": 40,
   "metadata": {},
   "outputs": [
    {
     "name": "stdout",
     "output_type": "stream",
     "text": [
      "y = 0, 预测的结果是: \"non-cat\" picture.\n"
     ]
    },
    {
     "data": {
      "image/png": "[encoded data removed]",
      "text/plain": [
       "<Figure size 432x288 with 1 Axes>"
      ]
     },
     "metadata": {
      "needs_background": "light"
     },
     "output_type": "display_data"
    }
   ],
   "source": [
    "# 例子\n",
    "index = 16\n",
    "num_px=64\n",
    "plt.imshow(test_set_x[:,index].reshape((num_px, num_px, 3)))\n",
    "print (\"y = \" + str(test_set_y[0,index]) + \", 预测的结果是: \\\"\" + classes[int(d[\"Y_prediction_test\"][0,index])].decode(\"utf-8\") +  \"\\\" picture.\")"
   ]
  },
  {
   "cell_type": "code",
   "execution_count": 41,
   "metadata": {},
   "outputs": [
    {
     "data": {
      "image/png": "[encoded data removed]",
      "text/plain": [
       "<Figure size 432x288 with 1 Axes>"
      ]
     },
     "metadata": {
      "needs_background": "light"
     },
     "output_type": "display_data"
    }
   ],
   "source": [
    "# 学习曲线即成本函数值\n",
    "costs = np.squeeze(d['costs'])\n",
    "plt.plot(costs)\n",
    "plt.ylabel('cost')\n",
    "plt.xlabel('iterations (per hundreds)')\n",
    "plt.title(\"Learning rate =\" + str(d[\"learning_rate\"]))\n",
    "plt.show()"
   ]
  },
  {
   "cell_type": "markdown",
   "metadata": {},
   "source": [
    "## 不同的学习率"
   ]
  },
  {
   "cell_type": "code",
   "execution_count": 42,
   "metadata": {},
   "outputs": [
    {
     "name": "stdout",
     "output_type": "stream",
     "text": [
      "学习率: 0.01\n",
      "训练集的准确率: 99.52153110047847 %\n",
      "测试集的准确率: 68.0 %\n",
      "\n",
      "-------------------------------------------------------\n",
      "\n",
      "学习率: 0.001\n",
      "训练集的准确率: 88.99521531100478 %\n",
      "测试集的准确率: 64.0 %\n",
      "\n",
      "-------------------------------------------------------\n",
      "\n",
      "学习率: 0.0001\n",
      "训练集的准确率: 68.42105263157895 %\n",
      "测试集的准确率: 36.0 %\n",
      "\n",
      "-------------------------------------------------------\n",
      "\n"
     ]
    },
    {
     "data": {
      "image/png": "[encoded data removed]",
      "text/plain": [
       "<Figure size 432x288 with 1 Axes>"
      ]
     },
     "metadata": {
      "needs_background": "light"
     },
     "output_type": "display_data"
    }
   ],
   "source": [
    "learning_rates = [0.01, 0.001, 0.0001]\n",
    "models = {}\n",
    "for i in learning_rates:\n",
    "    print (\"学习率: \" + str(i))\n",
    "    models[str(i)] = model(train_set_x, train_set_y, test_set_x, test_set_y, num_iterations = 1500, learning_rate = i, print_cost = False)\n",
    "    print ('\\n' + \"-------------------------------------------------------\" + '\\n')\n",
    "\n",
    "for i in learning_rates:\n",
    "    plt.plot(np.squeeze(models[str(i)][\"costs\"]), label= str(models[str(i)][\"learning_rate\"]))\n",
    "\n",
    "plt.ylabel('成本值')\n",
    "plt.xlabel('迭代次数/百次')\n",
    "\n",
    "legend = plt.legend()\n",
    "frame = legend.get_frame()\n",
    "frame.set_facecolor('0.90')\n",
    "plt.show()"
   ]
  },
  {
   "cell_type": "markdown",
   "metadata": {},
   "source": [
    "## 预测一个非数据集图片"
   ]
  },
  {
   "cell_type": "code",
   "execution_count": 43,
   "metadata": {},
   "outputs": [
    {
     "name": "stderr",
     "output_type": "stream",
     "text": [
      "d:\\env\\pythonve\\test36\\lib\\site-packages\\ipykernel_launcher.py:5: DeprecationWarning: `imresize` is deprecated!\n",
      "`imresize` is deprecated in SciPy 1.0.0, and will be removed in 1.3.0.\n",
      "Use Pillow instead: ``numpy.array(Image.fromarray(arr).resize())``.\n",
      "  \"\"\"\n"
     ]
    },
    {
     "name": "stdout",
     "output_type": "stream",
     "text": [
      "y = 0.0, 模型预测结果是： \"non-cat\" picture.\n"
     ]
    },
    {
     "data": {
      "image/png": "[encoded data removed]",
      "text/plain": [
       "<Figure size 432x288 with 1 Axes>"
      ]
     },
     "metadata": {
      "needs_background": "light"
     },
     "output_type": "display_data"
    }
   ],
   "source": [
    "my_image = \"my_image.jpg\"   # 图片的名称\n",
    "# 整理图片数据\n",
    "fname = \"images/\" + my_image\n",
    "image = np.array(plt.imread(fname))\n",
    "my_image = scipy.misc.imresize(image, size=(num_px,num_px)).reshape((1, num_px*num_px*3)).T\n",
    "my_predicted_image = predict(d[\"w\"], d[\"b\"], my_image)\n",
    "plt.imshow(image)\n",
    "print(\"y = \" + str(np.squeeze(my_predicted_image)) + \n",
    "      \", 模型预测结果是： \\\"\" \n",
    "      + classes[int(np.squeeze(my_predicted_image)),].decode(\"utf-8\") +  \"\\\" picture.\")"
   ]
  }
 ],
 "metadata": {
  "kernelspec": {
   "display_name": "Python 3",
   "language": "python",
   "name": "python3"
  },
  "language_info": {
   "codemirror_mode": {
    "name": "ipython",
    "version": 3
   },
   "file_extension": ".py",
   "mimetype": "text/x-python",
   "name": "python",
   "nbconvert_exporter": "python",
   "pygments_lexer": "ipython3",
   "version": "3.6.5"
  },
  "toc": {
   "base_numbering": 1,
   "nav_menu": {
    "height": "420.98px",
    "width": "485.014px"
   },
   "number_sections": true,
   "sideBar": true,
   "skip_h1_title": false,
   "title_cell": "Table of Contents",
   "title_sidebar": "Contents",
   "toc_cell": false,
   "toc_position": {},
   "toc_section_display": true,
   "toc_window_display": false
  },
  "varInspector": {
   "cols": {
    "lenName": 16,
    "lenType": 16,
    "lenVar": 40
   },
   "kernels_config": {
    "python": {
     "delete_cmd_postfix": "",
     "delete_cmd_prefix": "del ",
     "library": "var_list.py",
     "varRefreshCmd": "print(var_dic_list())"
    },
    "r": {
     "delete_cmd_postfix": ") ",
     "delete_cmd_prefix": "rm(",
     "library": "var_list.r",
     "varRefreshCmd": "cat(var_dic_list()) "
    }
   },
   "types_to_exclude": [
    "module",
    "function",
    "builtin_function_or_method",
    "instance",
    "_Feature"
   ],
   "window_display": false
  }
 },
 "nbformat": 4,
 "nbformat_minor": 2
}
