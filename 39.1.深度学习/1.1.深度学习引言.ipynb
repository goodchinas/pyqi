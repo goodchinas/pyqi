{
 "cells": [
  {
   "cell_type": "markdown",
   "metadata": {},
   "source": [
    "# 深度学习引言\n",
    "\n",
    "<img style=\"float:left\" src=\"../images/o4YBAFrqsn-ASXTOAACrWX57V0U773.png\">"
   ]
  },
  {
   "cell_type": "markdown",
   "metadata": {},
   "source": [
    "## 学习内容：\n",
    "1. 神经网络的基础；\n",
    "2. 深度学习方面的实践；\n",
    "3. 何结构化机器学习项目；\n",
    "4. 卷积神经网络(**CNN(s)**)；\n",
    "5. 序列模型；\n",
    "\n",
    "<img align=left src=\"../images/ac477ba60e120e318cfb2ed71ff55478.png\"/>"
   ]
  },
  {
   "cell_type": "markdown",
   "metadata": {},
   "source": [
    "# 什么是神经网络？\n",
    "<img align=left src=\"../images/3fe6da26014467243e3d499569be3675.png\"/>"
   ]
  },
  {
   "cell_type": "markdown",
   "metadata": {},
   "source": [
    "<img style=\"float:left;width:60%\" src=\"../images/155-ReLU激活函数.png\"/>"
   ]
  },
  {
   "cell_type": "markdown",
   "metadata": {},
   "source": [
    "$ReLU:f(x)=max(0,x)=\\begin{cases}0&for&x<0\\\\x&for&x\\geq 0\\end{cases}$"
   ]
  },
  {
   "cell_type": "markdown",
   "metadata": {},
   "source": [
    "<img align=left src=\"../images/d900d26b850d55abce36d4c8daf71327.png\"/>\n",
    "<img align=left src=\"../images/7a0e0d40f4ba80a0466f0bd7aa9f8537.png\"/>"
   ]
  },
  {
   "cell_type": "markdown",
   "metadata": {},
   "source": [
    "# 神经网络的监督学习\n",
    "<img align=left src=\"../images/ec9f15da25c4072eeedc9ba7fa363f80.png\"/>"
   ]
  },
  {
   "cell_type": "markdown",
   "metadata": {},
   "source": [
    "## 神经网络的类型"
   ]
  },
  {
   "cell_type": "markdown",
   "metadata": {},
   "source": [
    "<img align=left src=\"../images/6cda3361ce142b4347593db842d95ef0.png\"/>\n",
    "<img align=left src=\"../images/1bebe0ac41715ef8132f2d802968495c.png\"/>\n",
    "<img align=left src=\"../images/4656617e30e7ad44490fe605b2e49e56.png\"/>"
   ]
  },
  {
   "cell_type": "markdown",
   "metadata": {},
   "source": [
    "## 结构化和非结构化数据\n",
    "<img align=left src=\"../images/86a39d40cb13842cd6c06463cd9b4a83.png\"/>"
   ]
  },
  {
   "cell_type": "markdown",
   "metadata": {},
   "source": [
    "# 为什么深度学习会兴起？\n",
    "1. 数据规模（训练样本、网络规模）\n",
    "2. 计算能力（CPU、GPU）\n",
    "3. 算法（sigmod、ReLU）\n",
    "4. 迭代速度"
   ]
  },
  {
   "cell_type": "markdown",
   "metadata": {},
   "source": [
    "<img align=left src=\"../images/e26d18a882cfc48837118572dca51c56.png\"/>"
   ]
  },
  {
   "cell_type": "markdown",
   "metadata": {},
   "source": [
    "# 接下来\n",
    "1. 神经网络编程知识\n",
    "2. 具有隐藏层的神经网络\n",
    "3. 建立深层的神经网络"
   ]
  }
 ],
 "metadata": {
  "kernelspec": {
   "display_name": "Python 3",
   "language": "python",
   "name": "python3"
  },
  "language_info": {
   "codemirror_mode": {
    "name": "ipython",
    "version": 3
   },
   "file_extension": ".py",
   "mimetype": "text/x-python",
   "name": "python",
   "nbconvert_exporter": "python",
   "pygments_lexer": "ipython3",
   "version": "3.6.5"
  },
  "toc": {
   "base_numbering": 1,
   "nav_menu": {
    "height": "195px",
    "width": "219px"
   },
   "number_sections": true,
   "sideBar": true,
   "skip_h1_title": false,
   "title_cell": "Table of Contents",
   "title_sidebar": "Contents",
   "toc_cell": false,
   "toc_position": {},
   "toc_section_display": true,
   "toc_window_display": false
  },
  "varInspector": {
   "cols": {
    "lenName": 16,
    "lenType": 16,
    "lenVar": 40
   },
   "kernels_config": {
    "python": {
     "delete_cmd_postfix": "",
     "delete_cmd_prefix": "del ",
     "library": "var_list.py",
     "varRefreshCmd": "print(var_dic_list())"
    },
    "r": {
     "delete_cmd_postfix": ") ",
     "delete_cmd_prefix": "rm(",
     "library": "var_list.r",
     "varRefreshCmd": "cat(var_dic_list()) "
    }
   },
   "types_to_exclude": [
    "module",
    "function",
    "builtin_function_or_method",
    "instance",
    "_Feature"
   ],
   "window_display": false
  }
 },
 "nbformat": 4,
 "nbformat_minor": 2
}
