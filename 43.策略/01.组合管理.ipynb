{
 "cells": [
  {
   "cell_type": "markdown",
   "metadata": {
    "toc-hr-collapsed": false
   },
   "source": [
    "# 准备"
   ]
  },
  {
   "cell_type": "markdown",
   "metadata": {},
   "source": [
    "## 环境"
   ]
  },
  {
   "cell_type": "code",
   "execution_count": 1,
   "metadata": {},
   "outputs": [],
   "source": [
    "%matplotlib inline\n",
    "import datetime\n",
    "import numpy as np\n",
    "import pandas as pd\n",
    "import matplotlib.pyplot as plt\n",
    "import cvxpy as cp\n",
    "# plt.style.use('seaborn-poster')\n",
    "plt.style.use('seaborn-dark')\n",
    "plt.rcParams['font.sans-serif'] = ['SimHei'] #指定默认字体,用来正常显示中文标签\n",
    "plt.rcParams['axes.unicode_minus'] = False #解决保存图像是负号'-'显示为方块的问题"
   ]
  },
  {
   "cell_type": "markdown",
   "metadata": {},
   "source": [
    "## 符号"
   ]
  },
  {
   "cell_type": "code",
   "execution_count": 2,
   "metadata": {},
   "outputs": [],
   "source": [
    "import sympy as sp\n",
    "a,b,c,d,x, y, z, t = sp.symbols('a b c d x y z t')\n",
    "k, m, n = sp.symbols('k m n', integer=True)\n",
    "f, g, h = sp.symbols('f g h', cls=sp.Function)\n",
    "sp.init_printing()\n",
    "# common tool function\n",
    "def getM(var_name,r,c):\n",
    "    \"\"\"\n",
    "    make a sympy s matrix\n",
    "    :param var_name:the symbol name\n",
    "    :param r:matrix s rows\n",
    "    :param c:matrix s cols\n",
    "    \"\"\"\n",
    "    if r>1 and c>1:\n",
    "        ss=sp.symbols(\"{0}_{{{{0:{1}}}{{0:{2}}}}}\".format(var_name,r,c))        \n",
    "    elif r==1:\n",
    "        ss=sp.symbols(\"{0}_{{0:{1}}}\".format(var_name,c))\n",
    "    elif c==1:\n",
    "        ss=sp.symbols(\"{0}_{{0:{1}}}\".format(var_name,r))\n",
    "    else:\n",
    "        raise Exception('invalid input parameter！')\n",
    "    return sp.Matrix([ss[i*c:(i+1)*c] for i in range(r)])"
   ]
  },
  {
   "cell_type": "code",
   "execution_count": 78,
   "metadata": {},
   "outputs": [],
   "source": [
    "def na(x:pd.DataFrame):\n",
    "    assert x.isna().sum().sum()==0"
   ]
  },
  {
   "cell_type": "markdown",
   "metadata": {},
   "source": [
    "## 无风险收益率和年交易日"
   ]
  },
  {
   "cell_type": "code",
   "execution_count": 3,
   "metadata": {},
   "outputs": [],
   "source": [
    "YTD=250#trading days in one year\n",
    "RFR=4e-2#risk free rate"
   ]
  },
  {
   "cell_type": "markdown",
   "metadata": {},
   "source": [
    "## 模拟数据"
   ]
  },
  {
   "cell_type": "code",
   "execution_count": 4,
   "metadata": {},
   "outputs": [],
   "source": [
    "s_n,s_t=4,20#的数、时序长\n",
    "np.random.seed(0)\n",
    "rs=pd.DataFrame(np.random.normal(loc=RFR,scale=2*RFR,size=(s_t,s_n,)))#t期的收益率"
   ]
  },
  {
   "cell_type": "code",
   "execution_count": 5,
   "metadata": {},
   "outputs": [
    {
     "data": {
      "image/png": "[encoded data removed]",
      "text/latex": [
       "$\\displaystyle \\left( \\left( 4, \\  4\\right), \\  \\left( 4\\right)\\right)$"
      ],
      "text/plain": [
       "((4, 4), (4,))"
      ]
     },
     "execution_count": 5,
     "metadata": {},
     "output_type": "execute_result"
    }
   ],
   "source": [
    "cov=rs.cov()#方差协方差矩阵\n",
    "exr=rs.mean(axis=0)#期望收益以历史收益的期望代替\n",
    "cov.shape,exr.shape"
   ]
  },
  {
   "cell_type": "code",
   "execution_count": 6,
   "metadata": {},
   "outputs": [
    {
     "data": {
      "text/html": [
       "<div>\n",
       "<style scoped>\n",
       "    .dataframe tbody tr th:only-of-type {\n",
       "        vertical-align: middle;\n",
       "    }\n",
       "\n",
       "    .dataframe tbody tr th {\n",
       "        vertical-align: top;\n",
       "    }\n",
       "\n",
       "    .dataframe thead th {\n",
       "        text-align: right;\n",
       "    }\n",
       "</style>\n",
       "<table border=\"1\" class=\"dataframe\">\n",
       "  <thead>\n",
       "    <tr style=\"text-align: right;\">\n",
       "      <th></th>\n",
       "      <th>0</th>\n",
       "      <th>1</th>\n",
       "      <th>2</th>\n",
       "      <th>3</th>\n",
       "    </tr>\n",
       "  </thead>\n",
       "  <tbody>\n",
       "    <tr>\n",
       "      <th>0</th>\n",
       "      <td>0.011113</td>\n",
       "      <td>0.000610</td>\n",
       "      <td>0.002297</td>\n",
       "      <td>0.000180</td>\n",
       "    </tr>\n",
       "    <tr>\n",
       "      <th>1</th>\n",
       "      <td>0.000610</td>\n",
       "      <td>0.005256</td>\n",
       "      <td>0.001100</td>\n",
       "      <td>0.000022</td>\n",
       "    </tr>\n",
       "    <tr>\n",
       "      <th>2</th>\n",
       "      <td>0.002297</td>\n",
       "      <td>0.001100</td>\n",
       "      <td>0.004235</td>\n",
       "      <td>-0.000610</td>\n",
       "    </tr>\n",
       "    <tr>\n",
       "      <th>3</th>\n",
       "      <td>0.000180</td>\n",
       "      <td>0.000022</td>\n",
       "      <td>-0.000610</td>\n",
       "      <td>0.005626</td>\n",
       "    </tr>\n",
       "  </tbody>\n",
       "</table>\n",
       "</div>"
      ],
      "text/plain": [
       "          0         1         2         3\n",
       "0  0.011113  0.000610  0.002297  0.000180\n",
       "1  0.000610  0.005256  0.001100  0.000022\n",
       "2  0.002297  0.001100  0.004235 -0.000610\n",
       "3  0.000180  0.000022 -0.000610  0.005626"
      ]
     },
     "execution_count": 6,
     "metadata": {},
     "output_type": "execute_result"
    }
   ],
   "source": [
    "cov"
   ]
  },
  {
   "cell_type": "markdown",
   "metadata": {},
   "source": [
    "# 现代资产组合理论\n",
    "[（Modern Portfolio Theory，简称MPT）](https://wiki.mbalib.com/wiki/%E6%8A%95%E8%B5%84%E7%BB%84%E5%90%88%E7%90%86%E8%AE%BA)"
   ]
  },
  {
   "cell_type": "markdown",
   "metadata": {},
   "source": [
    "# 收益和风险\n",
    "0. 预期数据\n",
    "    1. 一般以历史统计值表征\n",
    "    2. 其他方法估计\n",
    "1. 标的\n",
    "    1. 收益：$\\mu=E(r)$$=\\sum_sp(s)r(s)\\\\=\\frac{\\sum_{t=1}^{T}{r_t}}{T}$\n",
    "    2. 风险：$\\sigma=\\sqrt D=\\sqrt{\\sum_sp(s)[r(s)-\\mu]^2}\\\\=\\frac{\\sum_{t=1}^{T}{(r_t-\\mu)}^2}{T}$\n",
    "3. 组合\n",
    "    1. 收益: $M=w^Tu$   \n",
    "    2. 风险: $\\Sigma=\\sqrt{w^T{C}w}\\leq w^T\\sigma$\n",
    "3. eg.两资产组合\n",
    "    1. 收益：$E(R_p)=w_1E(R_1)+w_2E(R_2)$\n",
    "    2. 风险：$\\sigma_p$$=\\sqrt{w^T{C}w}\\\\=\\sqrt{w_1^2\\sigma_1^2+w_2^2\\sigma_2^2+2w_1w_2\\sigma_1\\sigma_2\\rho_{12}}\\qquad ,\\rho=\\frac{Cov(x,y)}{\\sigma_x\\sigma_y}\\in [-1,1]\\\\\\leq w_x \\sigma_x+w_y\\sigma_y$"
   ]
  },
  {
   "cell_type": "markdown",
   "metadata": {},
   "source": [
    "# 组合风险推导\n",
    "$\\because D(R)=E[{(R-\\bar R)}^2],\\mu=E(R)=w^Tr$\n",
    "\n",
    "$\\therefore D(R)$$=E\\left[{(w^Tr-w^T\\bar r)}^2\\right]\\\\\n",
    "=E\\left\\{{\\left[\\sum_{i=1}^n{(w_i(r_i-\\bar {r_i}))}\\right]}^2\\right\\}\\\\\n",
    "=E\\left\\{{\\left[\\sum_{i=1}^n\\sum_{j=1}^n{(w_i(r_i-\\bar {r_i})w_j(r_j-\\bar {r_j}))}\\right]}\\right\\}\\\\\n",
    "=E\\left\\{{\\left[\\sum_{i=1}^n\\sum_{j=1}^n{(w_iw_jcov(r_i,r_j))}\\right]}\\right\\}\\\\\n",
    "=w^TCw\\\\\n",
    "$"
   ]
  },
  {
   "cell_type": "markdown",
   "metadata": {},
   "source": [
    "# 可行集（蒙特卡洛）\n",
    "1. 所有可能的充分投资组合风险收益集合（限制做空）"
   ]
  },
  {
   "cell_type": "code",
   "execution_count": 7,
   "metadata": {},
   "outputs": [],
   "source": [
    "# 蒙特卡洛寻找有效边界\n",
    "def _f(ws,er,cov):\n",
    "    ws/=np.sum(ws)\n",
    "    xret=np.dot(ws,er)\n",
    "    xstd=np.sqrt(np.dot(np.dot(ws,cov),ws.T))    \n",
    "    return xret,xstd,(xret-RFR)/xstd\n",
    "mc=np.array([_f(np.random.random(size=exr.shape),exr,cov)for _ in range(10000)])"
   ]
  },
  {
   "cell_type": "code",
   "execution_count": 8,
   "metadata": {},
   "outputs": [
    {
     "data": {
      "text/plain": [
       "<matplotlib.colorbar.Colorbar at 0x1902579a808>"
      ]
     },
     "execution_count": 8,
     "metadata": {},
     "output_type": "execute_result"
    },
    {
     "data": {
      "image/png": "[encoded data removed]",
      "text/plain": [
       "<Figure size 864x504 with 2 Axes>"
      ]
     },
     "metadata": {},
     "output_type": "display_data"
    }
   ],
   "source": [
    "plt.figure(figsize=(12, 7))\n",
    "plt.scatter(\n",
    "    mc[:,1], mc[:,0], c=mc[:,2],cmap='RdYlGn', \n",
    "    edgecolors='black',marker='o',\n",
    "    linewidth=0.2,s=30) \n",
    "plt.grid(True)\n",
    "plt.xlabel('风险')\n",
    "plt.ylabel('收益')\n",
    "plt.colorbar(label='夏普比率')"
   ]
  },
  {
   "cell_type": "markdown",
   "metadata": {},
   "source": [
    "**小结:**\n",
    "1. 有效集：同等收益水平下风险最小，同等风险水平下收益最大\n",
    "2. 如何求有效集-有效前沿"
   ]
  },
  {
   "cell_type": "markdown",
   "metadata": {
    "toc-hr-collapsed": false
   },
   "source": [
    "# 特征投资组合"
   ]
  },
  {
   "cell_type": "markdown",
   "metadata": {},
   "source": [
    "## 投资组合的属性头寸\n",
    "每种资产标的都具有多重属性（因子）。令$\\alpha^T=\\{\\alpha_0,\\dots,\\alpha_n\\}$表示资产的属性（特征或因子）的向量，那么投资组合在属性向量$\\alpha$上的头寸（exposure）可简记为$\\alpha_p=\\alpha^Tw_p$,$w_p$:资产持有权重向量"
   ]
  },
  {
   "cell_type": "markdown",
   "metadata": {},
   "source": [
    "## 对应数学问题\n",
    "$minimize:\\quad f(w)=w^TVw\\\\subject\\ \\ to:\\begin{cases}\\quad h(w)=a^Tw-1=0\\end{cases}$\n",
    "\n",
    "$V$:资产的方差协方差矩阵"
   ]
  },
  {
   "cell_type": "markdown",
   "metadata": {},
   "source": [
    "## 小结\n",
    "1. 在$V$和$\\alpha$已知的情况下求满足约束条件下最小风险的$h$,对应凸优化方法"
   ]
  },
  {
   "cell_type": "markdown",
   "metadata": {},
   "source": [
    "# 凸优化、拉格朗日乘子法和KKT条件\n",
    "1. [凸优化、拉格朗日乘子法和KKT条件](https://zhuanlan.zhihu.com/p/59928816)\n",
    "2. [如何理解拉格朗日乘子法？](https://www.matongxue.com/madocs/939.html)\n",
    "3. [如何理解拉格朗日乘子法和KKT条件？](https://www.matongxue.com/madocs/987/)"
   ]
  },
  {
   "cell_type": "markdown",
   "metadata": {},
   "source": [
    "# 特征投资组合引理"
   ]
  },
  {
   "cell_type": "markdown",
   "metadata": {},
   "source": [
    "## 引理一:特征投资组合解\n",
    "$w=\\frac{V^{-1}a}{a^TV^{-1}a}$\n",
    "\n",
    "**证明：**\n",
    "1. 凸优化问题：$minimize:\\quad f(w)=w^TVw\\\\subject\\ \\ to:\\begin{cases}\\quad h(w)=a^Tw-1=0\\end{cases}$\n",
    "2. 拉格朗日乘子：$L=f(w)-\\lambda h(w)$ \n",
    "3. KKT条件：$\\begin{cases}\n",
    "\\frac{\\partial L}{\\partial w}=Vw-\\lambda a=O\\\\\n",
    "h(w)=a^Tw-1=0\n",
    "\\end{cases}$\n",
    "4. $\\because \\frac{\\partial L}{\\partial w}=Vw-\\lambda a=O\\\\\n",
    "\\to  V^{-1}Vw=\\lambda V^{-1}a\\to w=\\lambda V^{-1}a\\\\\n",
    "\\because h(w)=a^Tw-1=0\\\\\n",
    "\\to a^T\\lambda V^{-1}a=1\\to \\lambda=\\frac{1}{a^TV^{-1}a}\\\\\n",
    "\\therefore w=\\frac{V^{-1}a}{a^TV^{-1}a} \n",
    "$"
   ]
  },
  {
   "cell_type": "markdown",
   "metadata": {},
   "source": [
    "## 引理二：特征投资组合的方差\n",
    "$\\sigma^2=w^TVw=\\frac{1}{a^TV^{-1}a}$\n",
    "\n",
    "**证明：**\n",
    "1. 引理一：$w=\\frac{V^{-1}a}{a^TV^{-1}a} $\n",
    "2. 方差：$\\sigma^2\n",
    "=w^TVw\n",
    "$\n",
    "3. $V(协方差矩阵)为半正定矩阵,即，{\\left[V^{-1}\\right]}^T=V^{-1}$\n",
    "4. $\\to \\sigma^2=w^TVw={\\left[\\frac{V^{-1}a}{a^TV^{-1}a}\\right]}^TV{\\left[\\frac{V^{-1}a}{a^TV^{-1}a}\\right]}=\\frac{1}{a^TV^{-1}a}$"
   ]
  },
  {
   "cell_type": "markdown",
   "metadata": {},
   "source": [
    "## 引理三：特征组合所有资产的$\\beta$等于$a$"
   ]
  },
  {
   "cell_type": "markdown",
   "metadata": {},
   "source": [
    "1. $\\because Cov(r_i,R)=Cov(r_i,w^Tr)=Cov(r_i,\\sum_{i=1}^n{w_ir_i})$\n",
    "3. $且,Cov(X+Y,Z)=Cov(X,Z)+Cov(Y,Z)$\n",
    "4. $且,Cov(aX,Y)=aCov(X,Y)$\n",
    "4. $\\therefore Cov(r_i,R)=\\sum_{j=1}^n{\\left[w_jCov(r_i,r_j)\\right]}=V_iw\\\\\n",
    "\\therefore \\beta_i=\\frac{cov(r_i,R)}{\\sigma^2}=\\frac{V_iw}{w^TVw}\\to \\beta=\\frac{Vw}{w^TVw}$\n",
    "5. 引理二：$\\sigma^2=w^TVw=\\frac{1}{a^TV^{-1}a}$\n",
    "6. $\\therefore \\beta=Vwa^TV^{-1}a\\to V^{-1}\\beta=V^{-1}Vwa^TV^{-1}a=wa^TV^{-1}a\\\\\n",
    "\\because wa^T=w^Ta=1\\\\\n",
    "\\therefore VV^{-1}\\beta=VV^{-1}a\\to \\beta=a$"
   ]
  },
  {
   "cell_type": "markdown",
   "metadata": {},
   "source": [
    "# 凸优化求解包-cvxpy\n",
    "[cvxpy](https://www.cvxpy.org/index.html)\n"
   ]
  },
  {
   "cell_type": "markdown",
   "metadata": {
    "toc-hr-collapsed": false
   },
   "source": [
    "# 组合优化"
   ]
  },
  {
   "cell_type": "markdown",
   "metadata": {},
   "source": [
    "## 最小方差（无限制）\n",
    "1. 对应凸优化问题：$minimize:\\quad w^TVw$\n",
    "2. 求解$\\frac{\\partial f(w)}{\\partial w}=Vw=O$\n",
    ">[对向量矩阵进行求导](http://www.matrixcalculus.org/)"
   ]
  },
  {
   "cell_type": "code",
   "execution_count": 9,
   "metadata": {},
   "outputs": [
    {
     "data": {
      "text/latex": [
       "$\\displaystyle \\left[\\begin{matrix}0.0111125768627387 & 0.00060952555272645 & 0.00229741962177598 & 0.000179582034419218\\\\0.00060952555272645 & 0.00525578116084609 & 0.00109974299184632 & 2.18851894175112 \\cdot 10^{-5}\\\\0.00229741962177598 & 0.00109974299184632 & 0.00423466913046351 & -0.000610331658166095\\\\0.000179582034419218 & 2.18851894175112 \\cdot 10^{-5} & -0.000610331658166095 & 0.00562588347527641\\end{matrix}\\right]$"
      ],
      "text/plain": [
       "⎡ 0.0111125768627387   0.00060952555272645   0.00229741962177598   0.000179582\n",
       "⎢                                                                             \n",
       "⎢0.00060952555272645   0.00525578116084609   0.00109974299184632    2.18851894\n",
       "⎢                                                                             \n",
       "⎢0.00229741962177598   0.00109974299184632   0.00423466913046351   -0.00061033\n",
       "⎢                                                                             \n",
       "⎣0.000179582034419218  2.18851894175112e-5  -0.000610331658166095   0.00562588\n",
       "\n",
       "034419218 ⎤\n",
       "          ⎥\n",
       "175112e-5 ⎥\n",
       "          ⎥\n",
       "1658166095⎥\n",
       "          ⎥\n",
       "347527641 ⎦"
      ]
     },
     "execution_count": 9,
     "metadata": {},
     "output_type": "execute_result"
    }
   ],
   "source": [
    "V=sp.Matrix(cov.values)\n",
    "V"
   ]
  },
  {
   "cell_type": "code",
   "execution_count": 10,
   "metadata": {},
   "outputs": [
    {
     "data": {
      "text/latex": [
       "$\\displaystyle \\left[\\begin{matrix}w_{0}\\\\w_{1}\\\\w_{2}\\\\w_{3}\\end{matrix}\\right]$"
      ],
      "text/plain": [
       "⎡w_{0}⎤\n",
       "⎢     ⎥\n",
       "⎢w_{1}⎥\n",
       "⎢     ⎥\n",
       "⎢w_{2}⎥\n",
       "⎢     ⎥\n",
       "⎣w_{3}⎦"
      ]
     },
     "execution_count": 10,
     "metadata": {},
     "output_type": "execute_result"
    }
   ],
   "source": [
    "w=getM('w',s_n,1)\n",
    "w"
   ]
  },
  {
   "cell_type": "code",
   "execution_count": 11,
   "metadata": {},
   "outputs": [
    {
     "data": {
      "text/latex": [
       "$\\displaystyle \\left[\\begin{matrix}0.0111125768627387 w_{0} + 0.00060952555272645 w_{1} + 0.00229741962177598 w_{2} + 0.000179582034419218 w_{3}\\\\0.00060952555272645 w_{0} + 0.00525578116084609 w_{1} + 0.00109974299184632 w_{2} + 2.18851894175112 \\cdot 10^{-5} w_{3}\\\\0.00229741962177598 w_{0} + 0.00109974299184632 w_{1} + 0.00423466913046351 w_{2} - 0.000610331658166095 w_{3}\\\\0.000179582034419218 w_{0} + 2.18851894175112 \\cdot 10^{-5} w_{1} - 0.000610331658166095 w_{2} + 0.00562588347527641 w_{3}\\end{matrix}\\right]$"
      ],
      "text/plain": [
       "⎡ 0.0111125768627387⋅w_{0} + 0.00060952555272645⋅w_{1} + 0.00229741962177598⋅w\n",
       "⎢                                                                             \n",
       "⎢ 0.00060952555272645⋅w_{0} + 0.00525578116084609⋅w_{1} + 0.00109974299184632⋅\n",
       "⎢                                                                             \n",
       "⎢0.00229741962177598⋅w_{0} + 0.00109974299184632⋅w_{1} + 0.00423466913046351⋅w\n",
       "⎢                                                                             \n",
       "⎣0.000179582034419218⋅w_{0} + 2.18851894175112e-5⋅w_{1} - 0.000610331658166095\n",
       "\n",
       "_{2} + 0.000179582034419218⋅w_{3} ⎤\n",
       "                                  ⎥\n",
       "w_{2} + 2.18851894175112e-5⋅w_{3} ⎥\n",
       "                                  ⎥\n",
       "_{2} - 0.000610331658166095⋅w_{3} ⎥\n",
       "                                  ⎥\n",
       "⋅w_{2} + 0.00562588347527641⋅w_{3}⎦"
      ]
     },
     "execution_count": 11,
     "metadata": {},
     "output_type": "execute_result"
    }
   ],
   "source": [
    "xa=V@w\n",
    "xa"
   ]
  },
  {
   "cell_type": "code",
   "execution_count": 12,
   "metadata": {},
   "outputs": [
    {
     "data": {
      "image/png": "[encoded data removed]",
      "text/latex": [
       "$\\displaystyle \\left\\{ w_{0} : 0.0, \\  w_{1} : 0.0, \\  w_{2} : 0.0, \\  w_{3} : 0.0\\right\\}$"
      ],
      "text/plain": [
       "{w_{0}: 0.0, w_{1}: 0.0, w_{2}: 0.0, w_{3}: 0.0}"
      ]
     },
     "execution_count": 12,
     "metadata": {},
     "output_type": "execute_result"
    }
   ],
   "source": [
    "sp.solve(xa)"
   ]
  },
  {
   "cell_type": "code",
   "execution_count": 13,
   "metadata": {},
   "outputs": [
    {
     "data": {
      "text/plain": [
       "Variable((4,))"
      ]
     },
     "execution_count": 13,
     "metadata": {},
     "output_type": "execute_result"
    }
   ],
   "source": [
    "x = cp.Variable(s_n)\n",
    "x"
   ]
  },
  {
   "cell_type": "code",
   "execution_count": 14,
   "metadata": {},
   "outputs": [
    {
     "data": {
      "text/plain": [
       "(0.0, array([0., 0., 0., 0.]))"
      ]
     },
     "execution_count": 14,
     "metadata": {},
     "output_type": "execute_result"
    }
   ],
   "source": [
    "cp.Problem(\n",
    "    cp.Minimize(cp.quad_form(x, V)),\n",
    "#     [\n",
    "#         G @ x <= h,\n",
    "#         A @ x == b\n",
    "#     ]\n",
    ").solve(),x.value"
   ]
  },
  {
   "cell_type": "code",
   "execution_count": 15,
   "metadata": {},
   "outputs": [
    {
     "data": {
      "text/plain": [
       "array([0., 0., 0., 0.])"
      ]
     },
     "execution_count": 15,
     "metadata": {},
     "output_type": "execute_result"
    }
   ],
   "source": [
    "x.value"
   ]
  },
  {
   "cell_type": "markdown",
   "metadata": {},
   "source": [
    "## 最小方差（充分投资）\n",
    "1. 对应凸优化问题：$minimize:\\quad w^TVw\\\\subject\\ \\ to:\\quad\\begin{cases}h(w)=I^Tw-i=o\\end{cases}$\n",
    "2. 拉格朗日乘子：$L=w^TVw+ah(w)$\n",
    "3. KKT条件：\n",
    "$\\begin{cases}\n",
    "\\frac{\\partial L}{\\partial w}=Vw+aI=O\\\\ \n",
    "I^Tw-i=o\\\\\n",
    "\\end{cases}$"
   ]
  },
  {
   "cell_type": "code",
   "execution_count": 16,
   "metadata": {},
   "outputs": [
    {
     "data": {
      "text/latex": [
       "$\\displaystyle \\left( \\left[\\begin{matrix}w_{0}\\\\w_{1}\\\\w_{2}\\\\w_{3}\\end{matrix}\\right], \\  \\left[\\begin{matrix}1\\end{matrix}\\right], \\  \\left[\\begin{matrix}1\\\\1\\\\1\\\\1\\end{matrix}\\right], \\  \\left[\\begin{matrix}0\\end{matrix}\\right], \\  \\left[\\begin{matrix}0\\\\0\\\\0\\\\0\\end{matrix}\\right]\\right)$"
      ],
      "text/plain": [
       "⎛⎡w_{0}⎤       ⎡1⎤       ⎡0⎤⎞\n",
       "⎜⎢     ⎥       ⎢ ⎥       ⎢ ⎥⎟\n",
       "⎜⎢w_{1}⎥       ⎢1⎥       ⎢0⎥⎟\n",
       "⎜⎢     ⎥, [1], ⎢ ⎥, [0], ⎢ ⎥⎟\n",
       "⎜⎢w_{2}⎥       ⎢1⎥       ⎢0⎥⎟\n",
       "⎜⎢     ⎥       ⎢ ⎥       ⎢ ⎥⎟\n",
       "⎝⎣w_{3}⎦       ⎣1⎦       ⎣0⎦⎠"
      ]
     },
     "execution_count": 16,
     "metadata": {},
     "output_type": "execute_result"
    }
   ],
   "source": [
    "i=sp.ones(1,1)\n",
    "I=sp.ones(s_n,1)\n",
    "o=sp.zeros(1,1)\n",
    "O=sp.zeros(s_n,1)\n",
    "w,i,I,o,O"
   ]
  },
  {
   "cell_type": "code",
   "execution_count": 17,
   "metadata": {},
   "outputs": [
    {
     "data": {
      "text/latex": [
       "$\\displaystyle \\left( \\left[\\begin{matrix}a + 0.0111125768627387 w_{0} + 0.00060952555272645 w_{1} + 0.00229741962177598 w_{2} + 0.000179582034419218 w_{3}\\\\a + 0.00060952555272645 w_{0} + 0.00525578116084609 w_{1} + 0.00109974299184632 w_{2} + 2.18851894175112 \\cdot 10^{-5} w_{3}\\\\a + 0.00229741962177598 w_{0} + 0.00109974299184632 w_{1} + 0.00423466913046351 w_{2} - 0.000610331658166095 w_{3}\\\\a + 0.000179582034419218 w_{0} + 2.18851894175112 \\cdot 10^{-5} w_{1} - 0.000610331658166095 w_{2} + 0.00562588347527641 w_{3}\\end{matrix}\\right], \\  \\left[\\begin{matrix}w_{0} + w_{1} + w_{2} + w_{3} - 1\\end{matrix}\\right]\\right)$"
      ],
      "text/plain": [
       "⎛⎡ a + 0.0111125768627387⋅w_{0} + 0.00060952555272645⋅w_{1} + 0.00229741962177\n",
       "⎜⎢                                                                            \n",
       "⎜⎢ a + 0.00060952555272645⋅w_{0} + 0.00525578116084609⋅w_{1} + 0.0010997429918\n",
       "⎜⎢                                                                            \n",
       "⎜⎢a + 0.00229741962177598⋅w_{0} + 0.00109974299184632⋅w_{1} + 0.00423466913046\n",
       "⎜⎢                                                                            \n",
       "⎝⎣a + 0.000179582034419218⋅w_{0} + 2.18851894175112e-5⋅w_{1} - 0.0006103316581\n",
       "\n",
       "598⋅w_{2} + 0.000179582034419218⋅w_{3} ⎤                                     ⎞\n",
       "                                       ⎥                                     ⎟\n",
       "4632⋅w_{2} + 2.18851894175112e-5⋅w_{3} ⎥                                     ⎟\n",
       "                                       ⎥, [w_{0} + w_{1} + w_{2} + w_{3} - 1]⎟\n",
       "351⋅w_{2} - 0.000610331658166095⋅w_{3} ⎥                                     ⎟\n",
       "                                       ⎥                                     ⎟\n",
       "66095⋅w_{2} + 0.00562588347527641⋅w_{3}⎦                                     ⎠"
      ]
     },
     "execution_count": 17,
     "metadata": {},
     "output_type": "execute_result"
    }
   ],
   "source": [
    "xa=V@w+a*I,I.T@w-i\n",
    "xa"
   ]
  },
  {
   "cell_type": "code",
   "execution_count": 18,
   "metadata": {},
   "outputs": [
    {
     "data": {
      "image/png": "[encoded data removed]",
      "text/latex": [
       "$\\displaystyle \\left\\{ a : -0.00171017013080894, \\  w_{0} : 0.0613932727508591, \\  w_{1} : 0.242236409864454, \\  w_{2} : 0.356603260372916, \\  w_{3} : 0.339767057011771\\right\\}$"
      ],
      "text/plain": [
       "{a: -0.00171017013080894, w_{0}: 0.0613932727508591, w_{1}: 0.242236409864454,\n",
       " w_{2}: 0.356603260372916, w_{3}: 0.339767057011771}"
      ]
     },
     "execution_count": 18,
     "metadata": {},
     "output_type": "execute_result"
    }
   ],
   "source": [
    "xx=sp.solve(xa)\n",
    "xx"
   ]
  },
  {
   "cell_type": "code",
   "execution_count": 19,
   "metadata": {},
   "outputs": [
    {
     "data": {
      "image/png": "[encoded data removed]",
      "text/latex": [
       "$\\displaystyle 1.0$"
      ],
      "text/plain": [
       "1.00000000000000"
      ]
     },
     "execution_count": 19,
     "metadata": {},
     "output_type": "execute_result"
    }
   ],
   "source": [
    "sum([xx[i] for i in w])"
   ]
  },
  {
   "cell_type": "code",
   "execution_count": 20,
   "metadata": {},
   "outputs": [
    {
     "data": {
      "text/plain": [
       "(0.0017101701308089357,\n",
       " array([0.06139327, 0.24223641, 0.35660326, 0.33976706]))"
      ]
     },
     "execution_count": 20,
     "metadata": {},
     "output_type": "execute_result"
    }
   ],
   "source": [
    "cp.Problem(\n",
    "    cp.Minimize(cp.quad_form(x, V)),#目标函数\n",
    "#     等式约束和不等式约束条件\n",
    "    [\n",
    "        I.T @ x== i,\n",
    "    ]\n",
    ").solve(),x.value"
   ]
  },
  {
   "cell_type": "markdown",
   "metadata": {},
   "source": [
    "## 最小方差（充分投资、目标收益）\n",
    "1. 对应凸优化问题：$minimize:\\quad w^TVw\\\\subject\\ \\ to:\\quad\\begin{cases}h_1(w)=I^Tw-i=o\\\\h_2(w)=r^Tw-m=o\\end{cases}$\n",
    "2. 拉格朗日乘子：$L=w^TVw+ah_1(w)+bh_2(w)$\n",
    "3. KKT条件：\n",
    "$\\begin{cases}\n",
    "\\frac{\\partial L}{\\partial w}=Vw+aI+br=O\\\\ \n",
    "I^Tw-i=o\\\\\n",
    "r^Tw-m=o\n",
    "\\end{cases}$"
   ]
  },
  {
   "cell_type": "code",
   "execution_count": 21,
   "metadata": {},
   "outputs": [
    {
     "data": {
      "text/latex": [
       "$\\displaystyle \\left[\\begin{matrix}0.0505017487765274\\\\0.0166725306480043\\\\0.0280768107625651\\\\0.05497537888938\\end{matrix}\\right]$"
      ],
      "text/plain": [
       "⎡0.0505017487765274⎤\n",
       "⎢                  ⎥\n",
       "⎢0.0166725306480043⎥\n",
       "⎢                  ⎥\n",
       "⎢0.0280768107625651⎥\n",
       "⎢                  ⎥\n",
       "⎣ 0.05497537888938 ⎦"
      ]
     },
     "execution_count": 21,
     "metadata": {},
     "output_type": "execute_result"
    }
   ],
   "source": [
    "r=sp.Matrix(exr.values)\n",
    "r"
   ]
  },
  {
   "cell_type": "markdown",
   "metadata": {},
   "source": [
    "### 目标1"
   ]
  },
  {
   "cell_type": "code",
   "execution_count": 22,
   "metadata": {},
   "outputs": [
    {
     "data": {
      "text/latex": [
       "$\\displaystyle \\left[\\begin{matrix}0.0375566172691192\\end{matrix}\\right]$"
      ],
      "text/plain": [
       "[0.0375566172691192]"
      ]
     },
     "execution_count": 22,
     "metadata": {},
     "output_type": "execute_result"
    }
   ],
   "source": [
    "m=sp.Matrix([np.mean(r)])\n",
    "m"
   ]
  },
  {
   "cell_type": "code",
   "execution_count": 23,
   "metadata": {},
   "outputs": [
    {
     "data": {
      "text/latex": [
       "$\\displaystyle \\left( \\left[\\begin{matrix}a + 0.0505017487765274 b + 0.0111125768627387 w_{0} + 0.00060952555272645 w_{1} + 0.00229741962177598 w_{2} + 0.000179582034419218 w_{3}\\\\a + 0.0166725306480043 b + 0.00060952555272645 w_{0} + 0.00525578116084609 w_{1} + 0.00109974299184632 w_{2} + 2.18851894175112 \\cdot 10^{-5} w_{3}\\\\a + 0.0280768107625651 b + 0.00229741962177598 w_{0} + 0.00109974299184632 w_{1} + 0.00423466913046351 w_{2} - 0.000610331658166095 w_{3}\\\\a + 0.05497537888938 b + 0.000179582034419218 w_{0} + 2.18851894175112 \\cdot 10^{-5} w_{1} - 0.000610331658166095 w_{2} + 0.00562588347527641 w_{3}\\end{matrix}\\right], \\  \\left[\\begin{matrix}w_{0} + w_{1} + w_{2} + w_{3} - 1\\end{matrix}\\right], \\  \\left[\\begin{matrix}0.0505017487765274 w_{0} + 0.0166725306480043 w_{1} + 0.0280768107625651 w_{2} + 0.05497537888938 w_{3} - 0.0375566172691192\\end{matrix}\\right]\\right)$"
      ],
      "text/plain": [
       "⎛⎡a + 0.0505017487765274⋅b + 0.0111125768627387⋅w_{0} + 0.00060952555272645⋅w_\n",
       "⎜⎢                                                                            \n",
       "⎜⎢a + 0.0166725306480043⋅b + 0.00060952555272645⋅w_{0} + 0.00525578116084609⋅w\n",
       "⎜⎢                                                                            \n",
       "⎜⎢a + 0.0280768107625651⋅b + 0.00229741962177598⋅w_{0} + 0.00109974299184632⋅w\n",
       "⎜⎢                                                                            \n",
       "⎝⎣a + 0.05497537888938⋅b + 0.000179582034419218⋅w_{0} + 2.18851894175112e-5⋅w_\n",
       "\n",
       "{1} + 0.00229741962177598⋅w_{2} + 0.000179582034419218⋅w_{3} ⎤                \n",
       "                                                             ⎥                \n",
       "_{1} + 0.00109974299184632⋅w_{2} + 2.18851894175112e-5⋅w_{3} ⎥                \n",
       "                                                             ⎥, [w_{0} + w_{1}\n",
       "_{1} + 0.00423466913046351⋅w_{2} - 0.000610331658166095⋅w_{3}⎥                \n",
       "                                                             ⎥                \n",
       "{1} - 0.000610331658166095⋅w_{2} + 0.00562588347527641⋅w_{3} ⎦                \n",
       "\n",
       "                                                                              \n",
       "                                                                              \n",
       "                                                                              \n",
       " + w_{2} + w_{3} - 1], [0.0505017487765274⋅w_{0} + 0.0166725306480043⋅w_{1} + \n",
       "                                                                              \n",
       "                                                                              \n",
       "                                                                              \n",
       "\n",
       "                                                                       ⎞\n",
       "                                                                       ⎟\n",
       "                                                                       ⎟\n",
       "0.0280768107625651⋅w_{2} + 0.05497537888938⋅w_{3} - 0.0375566172691192]⎟\n",
       "                                                                       ⎟\n",
       "                                                                       ⎟\n",
       "                                                                       ⎠"
      ]
     },
     "execution_count": 23,
     "metadata": {},
     "output_type": "execute_result"
    }
   ],
   "source": [
    "xa=V@w+a*I+b*r,I.T@w-i,r.T@w-m\n",
    "xa"
   ]
  },
  {
   "cell_type": "code",
   "execution_count": 24,
   "metadata": {},
   "outputs": [
    {
     "data": {
      "image/png": "[encoded data removed]",
      "text/latex": [
       "$\\displaystyle \\left\\{ a : -0.00133833115791224, \\  b : -0.0103777897467805, \\  w_{0} : 0.0795741504095031, \\  w_{1} : 0.205182983456834, \\  w_{2} : 0.342162585916583, \\  w_{3} : 0.37308028021708\\right\\}$"
      ],
      "text/plain": [
       "{a: -0.00133833115791224, b: -0.0103777897467805, w_{0}: 0.0795741504095031, w\n",
       "_{1}: 0.205182983456834, w_{2}: 0.342162585916583, w_{3}: 0.37308028021708}"
      ]
     },
     "execution_count": 24,
     "metadata": {},
     "output_type": "execute_result"
    }
   ],
   "source": [
    "sp.solve(xa)"
   ]
  },
  {
   "cell_type": "code",
   "execution_count": 25,
   "metadata": {},
   "outputs": [
    {
     "data": {
      "image/png": "[encoded data removed]",
      "text/latex": [
       "$\\displaystyle 1.0$"
      ],
      "text/plain": [
       "1.00000000000000"
      ]
     },
     "execution_count": 25,
     "metadata": {},
     "output_type": "execute_result"
    }
   ],
   "source": [
    "sum([xx[i] for i in w])"
   ]
  },
  {
   "cell_type": "code",
   "execution_count": 26,
   "metadata": {},
   "outputs": [
    {
     "data": {
      "text/plain": [
       "(0.0017280858355314592,\n",
       " array([0.07957415, 0.20518298, 0.34216259, 0.37308028]))"
      ]
     },
     "execution_count": 26,
     "metadata": {},
     "output_type": "execute_result"
    }
   ],
   "source": [
    "cp.Problem(\n",
    "    cp.Minimize(cp.quad_form(x, V)),#目标函数\n",
    "#     等式约束和不等式约束条件\n",
    "    [\n",
    "        I.T @ x== i,\n",
    "        r.T@x==m,\n",
    "    ]\n",
    ").solve(),x.value"
   ]
  },
  {
   "cell_type": "markdown",
   "metadata": {},
   "source": [
    "### 目标2"
   ]
  },
  {
   "cell_type": "code",
   "execution_count": 27,
   "metadata": {},
   "outputs": [
    {
     "data": {
      "text/latex": [
       "$\\displaystyle \\left[\\begin{matrix}0.0563349259036788\\end{matrix}\\right]$"
      ],
      "text/plain": [
       "[0.0563349259036788]"
      ]
     },
     "execution_count": 27,
     "metadata": {},
     "output_type": "execute_result"
    }
   ],
   "source": [
    "m=sp.Matrix([np.mean(r)*1.5])\n",
    "m"
   ]
  },
  {
   "cell_type": "code",
   "execution_count": 28,
   "metadata": {},
   "outputs": [
    {
     "data": {
      "text/latex": [
       "$\\displaystyle \\left( \\left[\\begin{matrix}a + 0.0505017487765274 b + 0.0111125768627387 w_{0} + 0.00060952555272645 w_{1} + 0.00229741962177598 w_{2} + 0.000179582034419218 w_{3}\\\\a + 0.0166725306480043 b + 0.00060952555272645 w_{0} + 0.00525578116084609 w_{1} + 0.00109974299184632 w_{2} + 2.18851894175112 \\cdot 10^{-5} w_{3}\\\\a + 0.0280768107625651 b + 0.00229741962177598 w_{0} + 0.00109974299184632 w_{1} + 0.00423466913046351 w_{2} - 0.000610331658166095 w_{3}\\\\a + 0.05497537888938 b + 0.000179582034419218 w_{0} + 2.18851894175112 \\cdot 10^{-5} w_{1} - 0.000610331658166095 w_{2} + 0.00562588347527641 w_{3}\\end{matrix}\\right], \\  \\left[\\begin{matrix}w_{0} + w_{1} + w_{2} + w_{3} - 1\\end{matrix}\\right], \\  \\left[\\begin{matrix}0.0505017487765274 w_{0} + 0.0166725306480043 w_{1} + 0.0280768107625651 w_{2} + 0.05497537888938 w_{3} - 0.0563349259036788\\end{matrix}\\right]\\right)$"
      ],
      "text/plain": [
       "⎛⎡a + 0.0505017487765274⋅b + 0.0111125768627387⋅w_{0} + 0.00060952555272645⋅w_\n",
       "⎜⎢                                                                            \n",
       "⎜⎢a + 0.0166725306480043⋅b + 0.00060952555272645⋅w_{0} + 0.00525578116084609⋅w\n",
       "⎜⎢                                                                            \n",
       "⎜⎢a + 0.0280768107625651⋅b + 0.00229741962177598⋅w_{0} + 0.00109974299184632⋅w\n",
       "⎜⎢                                                                            \n",
       "⎝⎣a + 0.05497537888938⋅b + 0.000179582034419218⋅w_{0} + 2.18851894175112e-5⋅w_\n",
       "\n",
       "{1} + 0.00229741962177598⋅w_{2} + 0.000179582034419218⋅w_{3} ⎤                \n",
       "                                                             ⎥                \n",
       "_{1} + 0.00109974299184632⋅w_{2} + 2.18851894175112e-5⋅w_{3} ⎥                \n",
       "                                                             ⎥, [w_{0} + w_{1}\n",
       "_{1} + 0.00423466913046351⋅w_{2} - 0.000610331658166095⋅w_{3}⎥                \n",
       "                                                             ⎥                \n",
       "{1} - 0.000610331658166095⋅w_{2} + 0.00562588347527641⋅w_{3} ⎦                \n",
       "\n",
       "                                                                              \n",
       "                                                                              \n",
       "                                                                              \n",
       " + w_{2} + w_{3} - 1], [0.0505017487765274⋅w_{0} + 0.0166725306480043⋅w_{1} + \n",
       "                                                                              \n",
       "                                                                              \n",
       "                                                                              \n",
       "\n",
       "                                                                       ⎞\n",
       "                                                                       ⎟\n",
       "                                                                       ⎟\n",
       "0.0280768107625651⋅w_{2} + 0.05497537888938⋅w_{3} - 0.0563349259036788]⎟\n",
       "                                                                       ⎟\n",
       "                                                                       ⎟\n",
       "                                                                       ⎠"
      ]
     },
     "execution_count": 28,
     "metadata": {},
     "output_type": "execute_result"
    }
   ],
   "source": [
    "xa=V@w+a*I+b*r,I.T@w-i,r.T@w-m\n",
    "xa"
   ]
  },
  {
   "cell_type": "code",
   "execution_count": 29,
   "metadata": {},
   "outputs": [
    {
     "data": {
      "image/png": "[encoded data removed]",
      "text/latex": [
       "$\\displaystyle \\left\\{ a : 0.00270633192546105, \\  b : -0.123261769467415, \\  w_{0} : 0.277335896889135, \\  w_{1} : -0.197864133245004, \\  w_{2} : 0.185084745426827, \\  w_{3} : 0.735443490929042\\right\\}$"
      ],
      "text/plain": [
       "{a: 0.00270633192546105, b: -0.123261769467415, w_{0}: 0.277335896889135, w_{1\n",
       "}: -0.197864133245004, w_{2}: 0.185084745426827, w_{3}: 0.735443490929042}"
      ]
     },
     "execution_count": 29,
     "metadata": {},
     "output_type": "execute_result"
    }
   ],
   "source": [
    "sp.solve(xa)"
   ]
  },
  {
   "cell_type": "code",
   "execution_count": 30,
   "metadata": {},
   "outputs": [
    {
     "data": {
      "image/png": "[encoded data removed]",
      "text/latex": [
       "$\\displaystyle 1.0$"
      ],
      "text/plain": [
       "1.00000000000000"
      ]
     },
     "execution_count": 30,
     "metadata": {},
     "output_type": "execute_result"
    }
   ],
   "source": [
    "sum([xx[i] for i in w])"
   ]
  },
  {
   "cell_type": "code",
   "execution_count": 31,
   "metadata": {},
   "outputs": [
    {
     "data": {
      "text/plain": [
       "(0.004237610724242131,\n",
       " array([ 0.2773359 , -0.19786413,  0.18508475,  0.73544349]))"
      ]
     },
     "execution_count": 31,
     "metadata": {},
     "output_type": "execute_result"
    }
   ],
   "source": [
    "cp.Problem(\n",
    "    cp.Minimize(cp.quad_form(x, V)),#目标函数\n",
    "#     等式约束和不等式约束条件\n",
    "    [\n",
    "        I.T @ x== i,\n",
    "        r.T@x==m,\n",
    "    ]\n",
    ").solve(),x.value"
   ]
  },
  {
   "cell_type": "markdown",
   "metadata": {},
   "source": [
    "## 最小方差（充分投资、目标收益、限制做空）\n",
    "1. 对应凸优化问题：\n",
    "$minimize:\\quad w^TVw\\\\\n",
    "subject\\ \\ to:\\quad\\begin{cases}\n",
    "h_1(w)=I^Tw-i=o\\\\\n",
    "h_2(w)=r^Tw-m=o\\\\\n",
    "G(x)=-w\\leq O\n",
    "\\end{cases}$\n",
    "2. 拉格朗日乘子：$L=w^TVw+ah_1(w)+bh_2(w)+c^TG(x)$\n",
    "3. KKT条件：\n",
    "$\\begin{cases}\n",
    "\\frac{\\partial L}{\\partial w}=Vw+aI+br-c=O\\\\ \n",
    "I^Tw-i=o\\\\\n",
    "r^Tw-m=o\\\\\n",
    "c\\cdot(-w)=O\\\\\n",
    "c\\geq O\\\\\n",
    "-w\\leq O\n",
    "\\end{cases}$"
   ]
  },
  {
   "cell_type": "code",
   "execution_count": 32,
   "metadata": {},
   "outputs": [
    {
     "data": {
      "text/latex": [
       "$\\displaystyle \\left( \\left[\\begin{matrix}0\\\\0\\\\0\\\\0\\end{matrix}\\right], \\  \\left[\\begin{matrix}c_{0}\\\\c_{1}\\\\c_{2}\\\\c_{3}\\end{matrix}\\right], \\  \\left[\\begin{matrix}w_{0}\\\\w_{1}\\\\w_{2}\\\\w_{3}\\end{matrix}\\right], \\  \\left[\\begin{matrix}0.048823602449855\\end{matrix}\\right]\\right)$"
      ],
      "text/plain": [
       "⎛⎡0⎤  ⎡c_{0}⎤  ⎡w_{0}⎤                     ⎞\n",
       "⎜⎢ ⎥  ⎢     ⎥  ⎢     ⎥                     ⎟\n",
       "⎜⎢0⎥  ⎢c_{1}⎥  ⎢w_{1}⎥                     ⎟\n",
       "⎜⎢ ⎥, ⎢     ⎥, ⎢     ⎥, [0.048823602449855]⎟\n",
       "⎜⎢0⎥  ⎢c_{2}⎥  ⎢w_{2}⎥                     ⎟\n",
       "⎜⎢ ⎥  ⎢     ⎥  ⎢     ⎥                     ⎟\n",
       "⎝⎣0⎦  ⎣c_{3}⎦  ⎣w_{3}⎦                     ⎠"
      ]
     },
     "execution_count": 32,
     "metadata": {},
     "output_type": "execute_result"
    }
   ],
   "source": [
    "# 1\n",
    "w=getM('w',s_n,1)\n",
    "C0=sp.zeros(s_n,1)\n",
    "C1=getM('c',s_n,1)\n",
    "m=sp.Matrix([np.mean(r)*1.3])\n",
    "C0,C1,w,m"
   ]
  },
  {
   "cell_type": "code",
   "execution_count": 33,
   "metadata": {},
   "outputs": [
    {
     "data": {
      "text/latex": [
       "$\\displaystyle \\left( \\left( \\left[\\begin{matrix}a + 0.0505017487765274 b + 0.0111125768627387 w_{0} + 0.00060952555272645 w_{1} + 0.00229741962177598 w_{2} + 0.000179582034419218 w_{3}\\\\a + 0.0166725306480043 b + 0.00060952555272645 w_{0} + 0.00525578116084609 w_{1} + 0.00109974299184632 w_{2} + 2.18851894175112 \\cdot 10^{-5} w_{3}\\\\a + 0.0280768107625651 b + 0.00229741962177598 w_{0} + 0.00109974299184632 w_{1} + 0.00423466913046351 w_{2} - 0.000610331658166095 w_{3}\\\\a + 0.05497537888938 b + 0.000179582034419218 w_{0} + 2.18851894175112 \\cdot 10^{-5} w_{1} - 0.000610331658166095 w_{2} + 0.00562588347527641 w_{3}\\end{matrix}\\right], \\  \\left[\\begin{matrix}w_{0} + w_{1} + w_{2} + w_{3} - 1\\end{matrix}\\right], \\  \\left[\\begin{matrix}0.0505017487765274 w_{0} + 0.0166725306480043 w_{1} + 0.0280768107625651 w_{2} + 0.05497537888938 w_{3} - 0.048823602449855\\end{matrix}\\right]\\right), \\  \\left\\{ a : 0.00108846669211174, \\  b : -0.0781081775791616, \\  w_{0} : 0.198231198297282, \\  w_{1} : -0.0366452865642695, \\  w_{2} : 0.247915881622729, \\  w_{3} : 0.590498206644258\\right\\}\\right)$"
      ],
      "text/plain": [
       "⎛⎛⎡a + 0.0505017487765274⋅b + 0.0111125768627387⋅w_{0} + 0.00060952555272645⋅w\n",
       "⎜⎜⎢                                                                           \n",
       "⎜⎜⎢a + 0.0166725306480043⋅b + 0.00060952555272645⋅w_{0} + 0.00525578116084609⋅\n",
       "⎜⎜⎢                                                                           \n",
       "⎜⎜⎢a + 0.0280768107625651⋅b + 0.00229741962177598⋅w_{0} + 0.00109974299184632⋅\n",
       "⎜⎜⎢                                                                           \n",
       "⎝⎝⎣a + 0.05497537888938⋅b + 0.000179582034419218⋅w_{0} + 2.18851894175112e-5⋅w\n",
       "\n",
       "_{1} + 0.00229741962177598⋅w_{2} + 0.000179582034419218⋅w_{3} ⎤               \n",
       "                                                              ⎥               \n",
       "w_{1} + 0.00109974299184632⋅w_{2} + 2.18851894175112e-5⋅w_{3} ⎥               \n",
       "                                                              ⎥, [w_{0} + w_{1\n",
       "w_{1} + 0.00423466913046351⋅w_{2} - 0.000610331658166095⋅w_{3}⎥               \n",
       "                                                              ⎥               \n",
       "_{1} - 0.000610331658166095⋅w_{2} + 0.00562588347527641⋅w_{3} ⎦               \n",
       "\n",
       "                                                                              \n",
       "                                                                              \n",
       "                                                                              \n",
       "} + w_{2} + w_{3} - 1], [0.0505017487765274⋅w_{0} + 0.0166725306480043⋅w_{1} +\n",
       "                                                                              \n",
       "                                                                              \n",
       "                                                                              \n",
       "\n",
       "                                                                       ⎞      \n",
       "                                                                       ⎟      \n",
       "                                                                       ⎟      \n",
       " 0.0280768107625651⋅w_{2} + 0.05497537888938⋅w_{3} - 0.048823602449855]⎟, {a: \n",
       "                                                                       ⎟      \n",
       "                                                                       ⎟      \n",
       "                                                                       ⎠      \n",
       "\n",
       "                                                                              \n",
       "                                                                              \n",
       "                                                                              \n",
       "0.00108846669211174, b: -0.0781081775791616, w_{0}: 0.198231198297282, w_{1}: \n",
       "                                                                              \n",
       "                                                                              \n",
       "                                                                              \n",
       "\n",
       "                                                                        ⎞\n",
       "                                                                        ⎟\n",
       "                                                                        ⎟\n",
       "-0.0366452865642695, w_{2}: 0.247915881622729, w_{3}: 0.590498206644258}⎟\n",
       "                                                                        ⎟\n",
       "                                                                        ⎟\n",
       "                                                                        ⎠"
      ]
     },
     "execution_count": 33,
     "metadata": {},
     "output_type": "execute_result"
    }
   ],
   "source": [
    "# 2\n",
    "xa=V@w+a*I+b*r-C0,I.T@w-i,r.T@w-m\n",
    "xa,sp.solve(xa)"
   ]
  },
  {
   "cell_type": "code",
   "execution_count": 34,
   "metadata": {},
   "outputs": [
    {
     "data": {
      "text/latex": [
       "$\\displaystyle \\left( \\left[\\begin{matrix}0\\\\0\\\\c_{2}\\\\0\\end{matrix}\\right], \\  \\left[\\begin{matrix}c_{0}\\\\c_{1}\\\\c_{2}\\\\c_{3}\\end{matrix}\\right], \\  \\left[\\begin{matrix}w_{0}\\\\w_{1}\\\\0\\\\w_{3}\\end{matrix}\\right]\\right)$"
      ],
      "text/plain": [
       "⎛⎡  0  ⎤  ⎡c_{0}⎤  ⎡w_{0}⎤⎞\n",
       "⎜⎢     ⎥  ⎢     ⎥  ⎢     ⎥⎟\n",
       "⎜⎢  0  ⎥  ⎢c_{1}⎥  ⎢w_{1}⎥⎟\n",
       "⎜⎢     ⎥, ⎢     ⎥, ⎢     ⎥⎟\n",
       "⎜⎢c_{2}⎥  ⎢c_{2}⎥  ⎢  0  ⎥⎟\n",
       "⎜⎢     ⎥  ⎢     ⎥  ⎢     ⎥⎟\n",
       "⎝⎣  0  ⎦  ⎣c_{3}⎦  ⎣w_{3}⎦⎠"
      ]
     },
     "execution_count": 34,
     "metadata": {},
     "output_type": "execute_result"
    }
   ],
   "source": [
    "# 3\n",
    "p=2\n",
    "C0[p]=C1[p]\n",
    "w[p]=0\n",
    "C0,C1,w"
   ]
  },
  {
   "cell_type": "markdown",
   "metadata": {},
   "source": [
    "解题过程：1-2-<3-2>-."
   ]
  },
  {
   "cell_type": "code",
   "execution_count": 35,
   "metadata": {},
   "outputs": [
    {
     "data": {
      "text/latex": [
       "$\\displaystyle \\left[\\begin{matrix}0.048823602449855\\end{matrix}\\right]$"
      ],
      "text/plain": [
       "[0.048823602449855]"
      ]
     },
     "execution_count": 35,
     "metadata": {},
     "output_type": "execute_result"
    }
   ],
   "source": [
    "m"
   ]
  },
  {
   "cell_type": "code",
   "execution_count": 36,
   "metadata": {},
   "outputs": [
    {
     "data": {
      "text/plain": [
       "(0.0027398955661454734,\n",
       " array([ 2.09967873e-01, -3.17864038e-22,  1.93781982e-01,  5.96250145e-01]))"
      ]
     },
     "execution_count": 36,
     "metadata": {},
     "output_type": "execute_result"
    }
   ],
   "source": [
    "cp.Problem(\n",
    "    cp.Minimize(cp.quad_form(x, V)),#目标函数\n",
    "#     等式约束和不等式约束条件\n",
    "    [\n",
    "        I.T @ x== i,\n",
    "        r.T@x==m,\n",
    "        x>=0,\n",
    "    ]\n",
    ").solve(),x.value"
   ]
  },
  {
   "cell_type": "markdown",
   "metadata": {},
   "source": [
    "## 分离定理\n",
    ">分离定理指在投资组合中可以以无风险利率自由借贷的情况下，投资人选择投资组合时都会选择无风险资产和风险投资组合的得最优组合点，因为这一点相对于其他的投资组合在风险上或是报酬上都具有优势。所以谁投资都会都会选择这一点。投资人对风险的态度，只会影响投入的资金数量，而不会影响最优组合点。\n",
    "\n",
    "引入无风险资产，组合投资包括之前得到的风险投资组合和无风险资产。\n",
    ">$E(R_p)=w_fR_f+w_mE(R_m)\\\\\\sigma=\\sqrt{w_f^2\\sigma_f^2+w_m^2\\sigma_m^2+2w_fw_m\\rho_{mf}\\sigma_m\\sigma_f}\\\\\\because\\sigma_f=0,\\rho_{mf}=0\\\\\\therefore\\sigma=w_m\\sigma_m\\\\E(R_p)=R_f+\\left[\\frac{(E(R_m)-R_f)}{\\sigma_m}\\right]\\sigma_p$\n",
    "\n",
    "所以，风险投资组合和无风险资产组成的投资组合，是一个风险和收益的线性函数。\n",
    "\n",
    "风险最小化，不限定风险投资组合的比例，在约定收益的约束下，求最优化，所获得的最优点即为夏普比率最大点。\n",
    "\n",
    "todo,分离定理和MM定理的联系和区别？\n",
    ">\n",
    "1. [分离定理](https://wiki.mbalib.com/wiki/%E5%88%86%E7%A6%BB%E5%AE%9A%E7%90%86)\n",
    "2. [MM模型](https://wiki.mbalib.com/wiki/MM%E6%A8%A1%E5%9E%8B)"
   ]
  },
  {
   "cell_type": "markdown",
   "metadata": {},
   "source": [
    "## 最小方差-最优夏普（限定收益，限制做空）\n",
    "1. 对应凸优化问题：\n",
    "$minimize:\\quad w^TVw\\\\\n",
    "subject\\ \\ to:\\quad\\begin{cases}\n",
    "h_2(w)=r^Tw+(i-I^Tw)f-d=o\\\\\n",
    "G(x)=-w\\leq O\n",
    "\\end{cases}$\n",
    "2. 拉格朗日乘子：$L=w^TVw+bh_2(w)+c^TG(x)$\n",
    "3. KKT条件：\n",
    "$\\begin{cases}\n",
    "\\frac{\\partial L}{\\partial w}=Vw+b(r-If)-c=O\\\\ \n",
    "h_2(w)=o\\\\\n",
    "c\\cdot(-w)=O\\\\\n",
    "c\\geq O\\\\\n",
    "-w\\leq O\n",
    "\\end{cases}$"
   ]
  },
  {
   "cell_type": "code",
   "execution_count": 37,
   "metadata": {},
   "outputs": [
    {
     "data": {
      "text/latex": [
       "$\\displaystyle \\left( \\left[\\begin{matrix}0\\\\0\\\\0\\\\0\\end{matrix}\\right], \\  \\left[\\begin{matrix}c_{0}\\\\c_{1}\\\\c_{2}\\\\c_{3}\\end{matrix}\\right], \\  \\left[\\begin{matrix}w_{0}\\\\w_{1}\\\\w_{2}\\\\w_{3}\\end{matrix}\\right], \\  \\left[\\begin{matrix}0.048823602449855\\end{matrix}\\right]\\right)$"
      ],
      "text/plain": [
       "⎛⎡0⎤  ⎡c_{0}⎤  ⎡w_{0}⎤                     ⎞\n",
       "⎜⎢ ⎥  ⎢     ⎥  ⎢     ⎥                     ⎟\n",
       "⎜⎢0⎥  ⎢c_{1}⎥  ⎢w_{1}⎥                     ⎟\n",
       "⎜⎢ ⎥, ⎢     ⎥, ⎢     ⎥, [0.048823602449855]⎟\n",
       "⎜⎢0⎥  ⎢c_{2}⎥  ⎢w_{2}⎥                     ⎟\n",
       "⎜⎢ ⎥  ⎢     ⎥  ⎢     ⎥                     ⎟\n",
       "⎝⎣0⎦  ⎣c_{3}⎦  ⎣w_{3}⎦                     ⎠"
      ]
     },
     "execution_count": 37,
     "metadata": {},
     "output_type": "execute_result"
    }
   ],
   "source": [
    "# 1\n",
    "w=getM('w',s_n,1)\n",
    "C0=sp.zeros(s_n,1)\n",
    "C1=getM('c',s_n,1)\n",
    "m=sp.Matrix([np.mean(r)*1.3])\n",
    "C0,C1,w,m"
   ]
  },
  {
   "cell_type": "code",
   "execution_count": 38,
   "metadata": {},
   "outputs": [
    {
     "data": {
      "text/latex": [
       "$\\displaystyle \\left( \\left[\\begin{matrix}0.0105017487765274 b + 0.0111125768627387 w_{0} + 0.00060952555272645 w_{1} + 0.00229741962177598 w_{2} + 0.000179582034419218 w_{3}\\\\- 0.0233274693519957 b + 0.00060952555272645 w_{0} + 0.00525578116084609 w_{1} + 0.00109974299184632 w_{2} + 2.18851894175112 \\cdot 10^{-5} w_{3}\\\\- 0.0119231892374349 b + 0.00229741962177598 w_{0} + 0.00109974299184632 w_{1} + 0.00423466913046351 w_{2} - 0.000610331658166095 w_{3}\\\\0.01497537888938 b + 0.000179582034419218 w_{0} + 2.18851894175112 \\cdot 10^{-5} w_{1} - 0.000610331658166095 w_{2} + 0.00562588347527641 w_{3}\\end{matrix}\\right], \\  \\left[\\begin{matrix}- d + 0.0105017487765274 w_{0} - 0.0233274693519957 w_{1} - 0.0119231892374349 w_{2} + 0.01497537888938 w_{3} + 0.04\\end{matrix}\\right]\\right)$"
      ],
      "text/plain": [
       "⎛⎡ 0.0105017487765274⋅b + 0.0111125768627387⋅w_{0} + 0.00060952555272645⋅w_{1}\n",
       "⎜⎢                                                                            \n",
       "⎜⎢-0.0233274693519957⋅b + 0.00060952555272645⋅w_{0} + 0.00525578116084609⋅w_{1\n",
       "⎜⎢                                                                            \n",
       "⎜⎢-0.0119231892374349⋅b + 0.00229741962177598⋅w_{0} + 0.00109974299184632⋅w_{1\n",
       "⎜⎢                                                                            \n",
       "⎝⎣ 0.01497537888938⋅b + 0.000179582034419218⋅w_{0} + 2.18851894175112e-5⋅w_{1}\n",
       "\n",
       " + 0.00229741962177598⋅w_{2} + 0.000179582034419218⋅w_{3} ⎤                   \n",
       "                                                          ⎥                   \n",
       "} + 0.00109974299184632⋅w_{2} + 2.18851894175112e-5⋅w_{3} ⎥                   \n",
       "                                                          ⎥, [-d + 0.010501748\n",
       "} + 0.00423466913046351⋅w_{2} - 0.000610331658166095⋅w_{3}⎥                   \n",
       "                                                          ⎥                   \n",
       " - 0.000610331658166095⋅w_{2} + 0.00562588347527641⋅w_{3} ⎦                   \n",
       "\n",
       "                                                                              \n",
       "                                                                              \n",
       "                                                                              \n",
       "7765274⋅w_{0} - 0.0233274693519957⋅w_{1} - 0.0119231892374349⋅w_{2} + 0.014975\n",
       "                                                                              \n",
       "                                                                              \n",
       "                                                                              \n",
       "\n",
       "                      ⎞\n",
       "                      ⎟\n",
       "                      ⎟\n",
       "37888938⋅w_{3} + 0.04]⎟\n",
       "                      ⎟\n",
       "                      ⎟\n",
       "                      ⎠"
      ]
     },
     "execution_count": 38,
     "metadata": {},
     "output_type": "execute_result"
    }
   ],
   "source": [
    "xa=V@w+b*(r-I*RFR)-C0,r.T@w+(i-I.T@w)*RFR-sp.Matrix([d])\n",
    "xa"
   ]
  },
  {
   "cell_type": "code",
   "execution_count": 39,
   "metadata": {},
   "outputs": [
    {
     "data": {
      "image/png": "[encoded data removed]",
      "text/latex": [
       "$\\displaystyle \\left\\{ b : - 0.419880403857567 w_{3}, \\  d : 0.0741160943517554 w_{3} + 0.04, \\  w_{0} : 0.672738144770744 w_{3}, \\  w_{1} : - 1.74715379552871 w_{3}, \\  w_{2} : - 0.949335922611108 w_{3}\\right\\}$"
      ],
      "text/plain": [
       "{b: -0.419880403857567⋅w_{3}, d: 0.0741160943517554⋅w_{3} + 0.04, w_{0}: 0.672\n",
       "738144770744⋅w_{3}, w_{1}: -1.74715379552871⋅w_{3}, w_{2}: -0.949335922611108⋅\n",
       "w_{3}}"
      ]
     },
     "execution_count": 39,
     "metadata": {},
     "output_type": "execute_result"
    }
   ],
   "source": [
    "xx=sp.solve(xa)\n",
    "xx"
   ]
  },
  {
   "cell_type": "code",
   "execution_count": 40,
   "metadata": {},
   "outputs": [
    {
     "data": {
      "text/latex": [
       "$\\displaystyle \\left( \\left[\\begin{matrix}0\\\\0\\\\c_{2}\\\\0\\end{matrix}\\right], \\  \\left[\\begin{matrix}c_{0}\\\\c_{1}\\\\c_{2}\\\\c_{3}\\end{matrix}\\right], \\  \\left[\\begin{matrix}w_{0}\\\\w_{1}\\\\0\\\\w_{3}\\end{matrix}\\right]\\right)$"
      ],
      "text/plain": [
       "⎛⎡  0  ⎤  ⎡c_{0}⎤  ⎡w_{0}⎤⎞\n",
       "⎜⎢     ⎥  ⎢     ⎥  ⎢     ⎥⎟\n",
       "⎜⎢  0  ⎥  ⎢c_{1}⎥  ⎢w_{1}⎥⎟\n",
       "⎜⎢     ⎥, ⎢     ⎥, ⎢     ⎥⎟\n",
       "⎜⎢c_{2}⎥  ⎢c_{2}⎥  ⎢  0  ⎥⎟\n",
       "⎜⎢     ⎥  ⎢     ⎥  ⎢     ⎥⎟\n",
       "⎝⎣  0  ⎦  ⎣c_{3}⎦  ⎣w_{3}⎦⎠"
      ]
     },
     "execution_count": 40,
     "metadata": {},
     "output_type": "execute_result"
    }
   ],
   "source": [
    "# 3\n",
    "p=2\n",
    "C0[p]=C1[p]\n",
    "w[p]=0\n",
    "C0,C1,w"
   ]
  },
  {
   "cell_type": "markdown",
   "metadata": {},
   "source": [
    "### 结论：\n",
    "从上述解，我们发现风险资产的的权重是成比例关系的，不因为目标收益而不同，从而可以确定最优夏普比例对应的风险投资组合只有一种。目标收益$d$只影响风险资产组合和无风险资产的配置比例。"
   ]
  },
  {
   "cell_type": "code",
   "execution_count": 41,
   "metadata": {},
   "outputs": [
    {
     "data": {
      "image/png": "[encoded data removed]",
      "text/latex": [
       "$\\displaystyle \\left\\{ b : - 0.419880403857567 w_{3}, \\  d : 0.0741160943517554 w_{3} + 0.04, \\  w_{0} : 0.672738144770744 w_{3}, \\  w_{1} : - 1.74715379552871 w_{3}, \\  w_{2} : - 0.949335922611108 w_{3}\\right\\}$"
      ],
      "text/plain": [
       "{b: -0.419880403857567⋅w_{3}, d: 0.0741160943517554⋅w_{3} + 0.04, w_{0}: 0.672\n",
       "738144770744⋅w_{3}, w_{1}: -1.74715379552871⋅w_{3}, w_{2}: -0.949335922611108⋅\n",
       "w_{3}}"
      ]
     },
     "execution_count": 41,
     "metadata": {},
     "output_type": "execute_result"
    }
   ],
   "source": [
    "xx"
   ]
  },
  {
   "cell_type": "code",
   "execution_count": 42,
   "metadata": {},
   "outputs": [
    {
     "data": {
      "text/plain": [
       "array([0.672738144770744, 0, 0, 1], dtype=object)"
      ]
     },
     "execution_count": 42,
     "metadata": {},
     "output_type": "execute_result"
    }
   ],
   "source": [
    "xc=np.array([xx[w[0]]/w[3],0,0,1])\n",
    "xc"
   ]
  },
  {
   "cell_type": "code",
   "execution_count": 43,
   "metadata": {},
   "outputs": [
    {
     "data": {
      "text/plain": [
       "array([0.402177798643401, 0, 0, 0.597822201356599], dtype=object)"
      ]
     },
     "execution_count": 43,
     "metadata": {},
     "output_type": "execute_result"
    }
   ],
   "source": [
    "xd=xc/xc.sum()\n",
    "xd"
   ]
  },
  {
   "cell_type": "markdown",
   "metadata": {},
   "source": [
    "### cvxpy求解"
   ]
  },
  {
   "cell_type": "code",
   "execution_count": 44,
   "metadata": {},
   "outputs": [
    {
     "data": {
      "text/plain": [
       "(20.44623385433262,\n",
       " array([1.84523530e+01, 1.96378325e-20, 2.02448475e-20, 5.38362355e+01]))"
      ]
     },
     "execution_count": 44,
     "metadata": {},
     "output_type": "execute_result"
    }
   ],
   "source": [
    "cp.Problem(\n",
    "    cp.Minimize(cp.quad_form(x, V)),#目标函数\n",
    "#     等式约束和不等式约束条件\n",
    "    [\n",
    "        r.T@x-(I.T@x)*RFR==1,\n",
    "        x>=0,\n",
    "    ]\n",
    ").solve(),x.value"
   ]
  },
  {
   "cell_type": "code",
   "execution_count": 45,
   "metadata": {},
   "outputs": [
    {
     "data": {
      "text/plain": [
       "array([2.55259556e-01, 2.71658819e-22, 2.80055924e-22, 7.44740444e-01])"
      ]
     },
     "execution_count": 45,
     "metadata": {},
     "output_type": "execute_result"
    }
   ],
   "source": [
    "sr=x.value/x.value.sum()\n",
    "sr"
   ]
  },
  {
   "cell_type": "markdown",
   "metadata": {},
   "source": [
    "## 最小方差（充分投资、限制做空）"
   ]
  },
  {
   "cell_type": "code",
   "execution_count": 46,
   "metadata": {},
   "outputs": [
    {
     "data": {
      "text/plain": [
       "(0.0017101701308089357,\n",
       " array([0.06139327, 0.24223641, 0.35660326, 0.33976706]))"
      ]
     },
     "execution_count": 46,
     "metadata": {},
     "output_type": "execute_result"
    }
   ],
   "source": [
    "cp.Problem(\n",
    "    cp.Minimize(cp.quad_form(x, V)),#目标函数\n",
    "#     等式约束和不等式约束条件\n",
    "    [\n",
    "        I.T @ x== i,\n",
    "#         r.T@x==np.mean(r),\n",
    "        x>=0,\n",
    "    ]\n",
    ").solve(),x.value"
   ]
  },
  {
   "cell_type": "code",
   "execution_count": 47,
   "metadata": {},
   "outputs": [
    {
     "data": {
      "text/plain": [
       "array([0.06139327, 0.24223641, 0.35660326, 0.33976706])"
      ]
     },
     "execution_count": 47,
     "metadata": {},
     "output_type": "execute_result"
    }
   ],
   "source": [
    "mv=x.value\n",
    "mv"
   ]
  },
  {
   "cell_type": "markdown",
   "metadata": {},
   "source": [
    "# 有效集、Q和C组合\n",
    "1. 有效集：有效前沿，满足一定风险下收益最大，一定收益下风险最小\n",
    "2. Q组合：分离定理下的最优夏普组合\n",
    "3. C组合：最小方差组合"
   ]
  },
  {
   "cell_type": "code",
   "execution_count": 48,
   "metadata": {},
   "outputs": [],
   "source": [
    "def _f(w,V,r):\n",
    "    return (w.T@V@w)**(1/2),w.T@r\n",
    "def _w(V,r,m):\n",
    "    x = cp.Variable(s_n)\n",
    "    cp.Problem(\n",
    "        cp.Minimize(cp.quad_form(x, V)),#目标函数\n",
    "        [\n",
    "            I.T @ x== i,\n",
    "            r.T@x==m,\n",
    "            x>=0,\n",
    "        ]\n",
    "    ).solve()\n",
    "    return x.value    "
   ]
  },
  {
   "cell_type": "code",
   "execution_count": 49,
   "metadata": {},
   "outputs": [
    {
     "data": {
      "text/plain": [
       "[<matplotlib.lines.Line2D at 0x19025cd9048>]"
      ]
     },
     "execution_count": 49,
     "metadata": {},
     "output_type": "execute_result"
    },
    {
     "data": {
      "image/png": "[encoded data removed]",
      "text/plain": [
       "<Figure size 864x504 with 2 Axes>"
      ]
     },
     "metadata": {},
     "output_type": "display_data"
    }
   ],
   "source": [
    "plt.figure(figsize=(12, 7))\n",
    "plt.scatter(\n",
    "    mc[:,1], mc[:,0], c=mc[:,2],cmap='RdYlGn', \n",
    "    edgecolors='black',marker='o',\n",
    "    linewidth=0.2,s=30) \n",
    "plt.grid(True)\n",
    "plt.xlabel('风险')\n",
    "plt.ylabel('收益')\n",
    "plt.colorbar(label='夏普比率')\n",
    "plt.plot(*_f(mv,cov.values,exr.values),'bo',markersize=12)\n",
    "plt.plot(*_f(sr,cov.values,exr.values),'ro',markersize=12)\n",
    "plt.plot(\n",
    "    *np.array(\n",
    "        [_f(_w(V,r,i),cov.values,exr.values) \n",
    "         for i in np.linspace(_f(mv,cov.values,exr.values)[1],exr.max(),100)]\n",
    "    ).T,\n",
    "    'r',linewidth=2)"
   ]
  },
  {
   "cell_type": "markdown",
   "metadata": {},
   "source": []
  },
  {
   "cell_type": "markdown",
   "metadata": {},
   "source": [
    "# 资本配置线\n",
    "[CAL](https://baike.baidu.com/item/%E8%B5%84%E6%9C%AC%E9%85%8D%E7%BD%AE%E7%BA%BF/6308143?fr=aladdin),是引入无风险借贷后，将一定量的资本在某一特定的风险资产组合与无风险资产之间分配，描述所有可能的新组合的预期收益与风险之间关系的线条。"
   ]
  },
  {
   "cell_type": "markdown",
   "metadata": {},
   "source": [
    "# 资本市场线\n",
    "[CML](https://baike.baidu.com/item/%E8%B5%84%E6%9C%AC%E5%B8%82%E5%9C%BA%E7%BA%BF/8332395?fr=aladdin),资本市场线是指表明有效组合的期望收益率和标准差之间的一种简单的线性关系的一条射线。它是沿着投资组合的有效边界，由风险资产和无风险资产构成的投资组合。"
   ]
  },
  {
   "cell_type": "code",
   "execution_count": 50,
   "metadata": {},
   "outputs": [
    {
     "data": {
      "text/plain": [
       "[<matplotlib.lines.Line2D at 0x19025fcc608>]"
      ]
     },
     "execution_count": 50,
     "metadata": {},
     "output_type": "execute_result"
    },
    {
     "data": {
      "image/png": "[encoded data removed]",
      "text/plain": [
       "<Figure size 864x504 with 1 Axes>"
      ]
     },
     "metadata": {},
     "output_type": "display_data"
    }
   ],
   "source": [
    "plt.figure(figsize=(12, 7))\n",
    "plt.grid(True)\n",
    "plt.xlabel('风险')\n",
    "plt.ylabel('收益')\n",
    "plt.plot(*_f(mv,cov.values,exr.values),'bo',markersize=12)\n",
    "plt.plot(*_f(sr,cov.values,exr.values),'ro',markersize=12)\n",
    "plt.plot(0,RFR,'go',markersize=12)\n",
    "plt.plot(\n",
    "    *np.array(\n",
    "        [_f(_w(V,r,i),cov.values,exr.values) \n",
    "         for i in np.linspace(_f(mv,cov.values,exr.values)[1],exr.max(),100)]\n",
    "    ).T,\n",
    "    'r',linewidth=2)\n",
    "_=np.zeros(s_n)\n",
    "_[0]=1\n",
    "plt.plot(*np.array([[0,RFR],_f(_,cov.values,exr.values)]).T)\n",
    "plt.plot(*np.array([[0,RFR],_f(sr,cov.values,exr.values)]).T)"
   ]
  },
  {
   "cell_type": "markdown",
   "metadata": {},
   "source": [
    "# 资本资产定价模型"
   ]
  },
  {
   "cell_type": "markdown",
   "metadata": {},
   "source": [
    "## 概述\n",
    "马科维茨投资组合理论：\n",
    "1. 期望收益、风险及相关系数（方差协方差矩阵）需要持续且精确的估计\n",
    "2. 较大的计算量\n",
    "\n",
    "CAPM：\n",
    "\n",
    "阐述了在投资者都采用马科维茨的理论进行投资管理的条件下市场均衡状态的形成，把资产的预期收益与预期风险之间的理论关系用一个简单的线性关系表达出来了，即认为一个资产的预期收益率与衡量该资产风险的一个尺度β值之间存在正相关关系。\n",
    "\n",
    "$E(R_i)-R_f=\\beta_i\\left[E(R_m)-R_f\\right]$\n",
    "\n",
    "[（Capital Asset Pricing Model 简称CAPM）](https://wiki.mbalib.com/wiki/CAPM)"
   ]
  },
  {
   "cell_type": "markdown",
   "metadata": {},
   "source": [
    "## 证明"
   ]
  },
  {
   "cell_type": "markdown",
   "metadata": {},
   "source": [
    "### 构建Q+风险资产组合"
   ]
  },
  {
   "cell_type": "code",
   "execution_count": 51,
   "metadata": {},
   "outputs": [
    {
     "data": {
      "text/plain": [
       "[<matplotlib.lines.Line2D at 0x19025e34e88>]"
      ]
     },
     "execution_count": 51,
     "metadata": {},
     "output_type": "execute_result"
    },
    {
     "data": {
      "image/png": "[encoded data removed]",
      "text/plain": [
       "<Figure size 864x504 with 1 Axes>"
      ]
     },
     "metadata": {},
     "output_type": "display_data"
    }
   ],
   "source": [
    "plt.figure(figsize=(12, 7))\n",
    "plt.grid(True)\n",
    "plt.xlabel('风险')\n",
    "plt.ylabel('收益')\n",
    "plt.plot(*_f(mv,cov.values,exr.values),'bo',markersize=12)\n",
    "plt.plot(*_f(sr,cov.values,exr.values),'ro',markersize=12)\n",
    "plt.plot(\n",
    "    *np.array(\n",
    "        [_f(_w(V,r,i),cov.values,exr.values) \n",
    "         for i in np.linspace(_f(mv,cov.values,exr.values)[1],exr.max(),100)]\n",
    "    ).T,\n",
    "    'r',linewidth=2)\n",
    "# 第一种方案，权重配比\n",
    "_i=1\n",
    "_=np.zeros(s_n)\n",
    "_[_i]=1\n",
    "plt.plot(\n",
    "    *np.array([_f(sr*i+_*(1-i),cov.values,exr.values) for i in np.linspace(0,1,100)]).T,\n",
    ")\n",
    "# 第二种方案，经典方法\n",
    "# 求Q组合的方差。为什么这个表达式代表Q组合的风险，参看《组合风险推导》\n",
    "# 求第i项资产的方差\n",
    "_i=2\n",
    "_c=(cov.values@sr)[_i]# 第i项资产与Q组合的协方差\n",
    "_cov=np.array([[sr.T@cov.values@sr,_c],[_c,cov.values[_i,_i]]])\n",
    "_exr=np.array([sr.T@exr.values,exr.values[_i]])\n",
    "plt.plot(\n",
    "    *np.array([_f(np.array([i,1-i]),_cov,_exr) for i in np.linspace(0,1,100)]).T,\n",
    ")"
   ]
  },
  {
   "cell_type": "markdown",
   "metadata": {},
   "source": [
    "**总结：**\n",
    "1. 构造组合的可行集属于全市场可行集\n",
    "2. 构造组合的可行集与市场有限前沿相切与Q点"
   ]
  },
  {
   "cell_type": "markdown",
   "metadata": {},
   "source": [
    "## 推导"
   ]
  },
  {
   "cell_type": "code",
   "execution_count": 52,
   "metadata": {},
   "outputs": [
    {
     "data": {
      "image/png": "[encoded data removed]",
      "text/latex": [
       "$\\displaystyle \\left( \\mu_i, \\  \\mu_m, \\  \\mu_f, \\  \\sigma_i, \\  \\sigma_m, \\  \\sigma_{{im}}, \\  w_{i}\\right)$"
      ],
      "text/plain": [
       "(\\muᵢ, \\muₘ, \\mu_f, \\sigmaᵢ, \\sigmaₘ, \\sigma_{{im}}, wᵢ)"
      ]
     },
     "execution_count": 52,
     "metadata": {},
     "output_type": "execute_result"
    }
   ],
   "source": [
    "ui,um,uf,si,sm,sim,wi=sp.symbols('\\mu_i,\\mu_m,\\mu_f,\\sigma_i,\\sigma_m,\\sigma_{{im}},w_i')\n",
    "ui,um,uf,si,sm,sim,wi"
   ]
  },
  {
   "cell_type": "code",
   "execution_count": 53,
   "metadata": {},
   "outputs": [
    {
     "data": {
      "image/png": "[encoded data removed]",
      "text/latex": [
       "$\\displaystyle \\mu_i w_{i} + \\mu_m \\left(1 - w_{i}\\right)$"
      ],
      "text/plain": [
       "\\muᵢ⋅wᵢ + \\muₘ⋅(1 - wᵢ)"
      ]
     },
     "execution_count": 53,
     "metadata": {},
     "output_type": "execute_result"
    }
   ],
   "source": [
    "# 构造组合的期望收益\n",
    "uw=wi*ui+(1-wi)*um\n",
    "uw"
   ]
  },
  {
   "cell_type": "code",
   "execution_count": 54,
   "metadata": {},
   "outputs": [
    {
     "data": {
      "image/png": "[encoded data removed]",
      "text/latex": [
       "$\\displaystyle \\sqrt{\\sigma_i^{2} w_{i}^{2} + \\sigma_m^{2} \\left(1 - w_{i}\\right)^{2} + 2 \\sigma_{{im}} w_{i} \\left(1 - w_{i}\\right)}$"
      ],
      "text/plain": [
       "   _________________________________________________________________\n",
       "  ╱        2   2          2         2                               \n",
       "╲╱  \\sigmaᵢ ⋅wᵢ  + \\sigmaₘ ⋅(1 - wᵢ)  + 2⋅\\sigma_{{im}}⋅wᵢ⋅(1 - wᵢ) "
      ]
     },
     "execution_count": 54,
     "metadata": {},
     "output_type": "execute_result"
    }
   ],
   "source": [
    "# 构造组合的标准差\n",
    "sw=sp.sqrt(wi**2*si**2+(1-wi)**2*sm**2+2*wi*(1-wi)*sim)\n",
    "sw"
   ]
  },
  {
   "cell_type": "markdown",
   "metadata": {},
   "source": [
    "$\\because 两者相切与Q点，和链式法则\n",
    "\\\\\\therefore\\Large \\frac{\\partial \\mu_w}{\\partial \\sigma_w}=\\frac{\\frac{\\partial \\mu_w}{\\partial w}}{\\frac{\\partial \\sigma_w}{\\partial w}}=\\frac{\\mu_m-\\mu_f}{\\sigma_m},w=0$"
   ]
  },
  {
   "cell_type": "code",
   "execution_count": 55,
   "metadata": {},
   "outputs": [
    {
     "data": {
      "image/png": "[encoded data removed]",
      "text/latex": [
       "$\\displaystyle \\left[ \\frac{\\mu_m \\sigma_m^{3} + \\sigma_m^{2} \\left(\\mu_f - \\mu_m\\right) \\sqrt{\\sigma_m^{2}} + \\sigma_{{im}} \\left(- \\mu_f + \\mu_m\\right) \\sqrt{\\sigma_m^{2}}}{\\sigma_m^{3}}\\right]$"
      ],
      "text/plain": [
       "⎡                                           __________                        \n",
       "⎢            3          2                  ╱        2                         \n",
       "⎢\\muₘ⋅\\sigmaₘ  + \\sigmaₘ ⋅(\\mu_f - \\muₘ)⋅╲╱  \\sigmaₘ   + \\sigma_{{im}}⋅(-\\mu_f\n",
       "⎢─────────────────────────────────────────────────────────────────────────────\n",
       "⎢                                                     3                       \n",
       "⎣                                              \\sigmaₘ                        \n",
       "\n",
       "            __________⎤\n",
       "           ╱        2 ⎥\n",
       " + \\muₘ)⋅╲╱  \\sigmaₘ  ⎥\n",
       "──────────────────────⎥\n",
       "                      ⎥\n",
       "                      ⎦"
      ]
     },
     "execution_count": 55,
     "metadata": {},
     "output_type": "execute_result"
    }
   ],
   "source": [
    "xx=sp.solve(sp.Eq(sp.diff(uw,wi)/sp.diff(sw,wi).subs(wi,0),(um-uf)/sm),ui)\n",
    "xx"
   ]
  },
  {
   "cell_type": "markdown",
   "metadata": {},
   "source": [
    "令$\\beta=\\frac{\\sigma_{im}}{\\sigma_m^2}$,上式化简可得：$\\underbrace{\\mu_i-\\mu_f}_{风险资产超额收益}=(\\mu_m-\\mu_f)\\frac{\\sigma_{im}}{\\sigma_m^2}=\\beta\\underbrace{(\\mu_m-\\mu_f)}_{市场组合超额收益}$"
   ]
  },
  {
   "cell_type": "markdown",
   "metadata": {},
   "source": [
    "# 证券市场线\n",
    "[SML](https://wiki.mbalib.com/wiki/SML%E7%BA%BF),是资本资产定价模型（CAPM）以$\\beta$为横坐标，预期收益为纵坐标，构建的一条从无风险收益资产开始的射线。它主要用来说明投资组合预期收益与系统风险程度$\\beta$系数之间的关系。"
   ]
  },
  {
   "cell_type": "code",
   "execution_count": 56,
   "metadata": {},
   "outputs": [
    {
     "data": {
      "text/plain": [
       "[<matplotlib.lines.Line2D at 0x190261f19c8>]"
      ]
     },
     "execution_count": 56,
     "metadata": {},
     "output_type": "execute_result"
    },
    {
     "data": {
      "image/png": "[encoded data removed]",
      "text/plain": [
       "<Figure size 864x504 with 1 Axes>"
      ]
     },
     "metadata": {},
     "output_type": "display_data"
    }
   ],
   "source": [
    "plt.figure(figsize=(12, 7))\n",
    "plt.grid(True)\n",
    "plt.xlabel('贝塔系数')\n",
    "plt.ylabel('期望收益')\n",
    "plt.plot(*np.array([[0,RFR],[1,sr@exr.values]]).T,'bo',markersize=12)\n",
    "_umf=(sr@exr.values-RFR)\n",
    "plt.plot(*np.array([[i,i*_umf+RFR] for i in np.linspace(0,1.5,3)]).T)\n",
    "plt.plot(cov.values@sr/(sr.T@cov.values@sr),exr.values,'ro',markersize=12)"
   ]
  },
  {
   "cell_type": "markdown",
   "metadata": {},
   "source": [
    "# 收益构成"
   ]
  },
  {
   "cell_type": "markdown",
   "metadata": {},
   "source": [
    "$\\underbrace{R_i}_{收益}=\\underbrace{R_f}_{无风险收益}+\\underbrace{\\beta_i\\left[R_m-R_f\\right]}_{系统性风险收益}+\\underbrace{\\alpha_i}_{非系统性风险收益}$"
   ]
  },
  {
   "cell_type": "markdown",
   "metadata": {},
   "source": [
    "# A股数据"
   ]
  },
  {
   "cell_type": "markdown",
   "metadata": {},
   "source": [
    "1. 股票因子数据\n",
    "2. 行业指数价格\n",
    "3. 行业指数信息\n",
    "4. 市场组合指数（沪深300指数）\n",
    "5. 股票价格\n",
    "6. 股票行业归属\n",
    "7. 沪深300成分股权重表"
   ]
  },
  {
   "cell_type": "markdown",
   "metadata": {},
   "source": [
    "## 加载数据"
   ]
  },
  {
   "cell_type": "code",
   "execution_count": 57,
   "metadata": {},
   "outputs": [
    {
     "data": {
      "text/plain": [
       "['/fac',\n",
       " '/ind_close',\n",
       " '/ind_info',\n",
       " '/inx_close',\n",
       " '/obj_close',\n",
       " '/obj_cls',\n",
       " '/obj_weight']"
      ]
     },
     "execution_count": 57,
     "metadata": {},
     "output_type": "execute_result"
    }
   ],
   "source": [
    "h5 = pd.HDFStore('data/data.h5', mode='r')  \n",
    "h5.keys()"
   ]
  },
  {
   "cell_type": "markdown",
   "metadata": {},
   "source": [
    "## 股票因子数据"
   ]
  },
  {
   "cell_type": "code",
   "execution_count": 58,
   "metadata": {},
   "outputs": [
    {
     "data": {
      "text/html": [
       "<div>\n",
       "<style scoped>\n",
       "    .dataframe tbody tr th:only-of-type {\n",
       "        vertical-align: middle;\n",
       "    }\n",
       "\n",
       "    .dataframe tbody tr th {\n",
       "        vertical-align: top;\n",
       "    }\n",
       "\n",
       "    .dataframe thead th {\n",
       "        text-align: right;\n",
       "    }\n",
       "</style>\n",
       "<table border=\"1\" class=\"dataframe\">\n",
       "  <thead>\n",
       "    <tr style=\"text-align: right;\">\n",
       "      <th></th>\n",
       "      <th>avg_turn_20</th>\n",
       "      <th>avg_turn_240</th>\n",
       "      <th>avg_turn_60</th>\n",
       "      <th>beta_csi300_60_0</th>\n",
       "      <th>close_0</th>\n",
       "      <th>date</th>\n",
       "      <th>fs_common_equity_0</th>\n",
       "      <th>fs_net_cash_flow_ttm_0</th>\n",
       "      <th>fs_net_profit_yoy_0</th>\n",
       "      <th>fs_non_current_liabilities_0</th>\n",
       "      <th>...</th>\n",
       "      <th>fs_total_liability_0</th>\n",
       "      <th>instrument</th>\n",
       "      <th>market_cap_0</th>\n",
       "      <th>market_cap_float_0</th>\n",
       "      <th>pb_lf_0</th>\n",
       "      <th>pe_ttm_0</th>\n",
       "      <th>return_60</th>\n",
       "      <th>swing_volatility_60_0</th>\n",
       "      <th>volatility_60_0</th>\n",
       "      <th>west_eps_ftm_0</th>\n",
       "    </tr>\n",
       "  </thead>\n",
       "  <tbody>\n",
       "    <tr>\n",
       "      <th>0</th>\n",
       "      <td>0.361890</td>\n",
       "      <td>0.364016</td>\n",
       "      <td>0.241283</td>\n",
       "      <td>0.798543</td>\n",
       "      <td>32.895355</td>\n",
       "      <td>2019-03-04</td>\n",
       "      <td>3.696409e+10</td>\n",
       "      <td>-2.738063e+09</td>\n",
       "      <td>8.335700</td>\n",
       "      <td>2.171018e+10</td>\n",
       "      <td>...</td>\n",
       "      <td>9.037635e+10</td>\n",
       "      <td>600297.SHA</td>\n",
       "      <td>4.116363e+10</td>\n",
       "      <td>4.079482e+10</td>\n",
       "      <td>1.119917</td>\n",
       "      <td>9.966406</td>\n",
       "      <td>1.183529</td>\n",
       "      <td>0.017560</td>\n",
       "      <td>0.022313</td>\n",
       "      <td>0.5308</td>\n",
       "    </tr>\n",
       "    <tr>\n",
       "      <th>1</th>\n",
       "      <td>1.166124</td>\n",
       "      <td>0.571547</td>\n",
       "      <td>0.827291</td>\n",
       "      <td>0.753365</td>\n",
       "      <td>294.284088</td>\n",
       "      <td>2019-03-04</td>\n",
       "      <td>3.234399e+10</td>\n",
       "      <td>2.099414e+09</td>\n",
       "      <td>4.464700</td>\n",
       "      <td>1.699484e+10</td>\n",
       "      <td>...</td>\n",
       "      <td>5.457291e+10</td>\n",
       "      <td>600089.SHA</td>\n",
       "      <td>2.956744e+10</td>\n",
       "      <td>2.956593e+10</td>\n",
       "      <td>1.014530</td>\n",
       "      <td>12.976037</td>\n",
       "      <td>1.162044</td>\n",
       "      <td>0.009117</td>\n",
       "      <td>0.015089</td>\n",
       "      <td>0.6978</td>\n",
       "    </tr>\n",
       "    <tr>\n",
       "      <th>2</th>\n",
       "      <td>5.080401</td>\n",
       "      <td>3.110909</td>\n",
       "      <td>3.564228</td>\n",
       "      <td>1.324330</td>\n",
       "      <td>54.565777</td>\n",
       "      <td>2019-03-04</td>\n",
       "      <td>8.044239e+09</td>\n",
       "      <td>-1.128414e+08</td>\n",
       "      <td>74.143097</td>\n",
       "      <td>1.218728e+09</td>\n",
       "      <td>...</td>\n",
       "      <td>1.136024e+10</td>\n",
       "      <td>603799.SHA</td>\n",
       "      <td>3.196187e+10</td>\n",
       "      <td>3.158182e+10</td>\n",
       "      <td>3.973262</td>\n",
       "      <td>11.796223</td>\n",
       "      <td>1.158496</td>\n",
       "      <td>0.023050</td>\n",
       "      <td>0.030983</td>\n",
       "      <td>2.8106</td>\n",
       "    </tr>\n",
       "    <tr>\n",
       "      <th>3</th>\n",
       "      <td>1.151961</td>\n",
       "      <td>0.963841</td>\n",
       "      <td>0.791393</td>\n",
       "      <td>0.503264</td>\n",
       "      <td>67.877487</td>\n",
       "      <td>2019-03-04</td>\n",
       "      <td>7.306716e+09</td>\n",
       "      <td>6.637488e+08</td>\n",
       "      <td>11.567500</td>\n",
       "      <td>3.088342e+07</td>\n",
       "      <td>...</td>\n",
       "      <td>1.013928e+09</td>\n",
       "      <td>000408.SZA</td>\n",
       "      <td>2.384560e+10</td>\n",
       "      <td>5.341728e+09</td>\n",
       "      <td>3.263519</td>\n",
       "      <td>18.449429</td>\n",
       "      <td>1.050967</td>\n",
       "      <td>0.010574</td>\n",
       "      <td>0.015331</td>\n",
       "      <td>0.7142</td>\n",
       "    </tr>\n",
       "    <tr>\n",
       "      <th>4</th>\n",
       "      <td>3.082663</td>\n",
       "      <td>1.035434</td>\n",
       "      <td>2.424723</td>\n",
       "      <td>0.713421</td>\n",
       "      <td>109.131134</td>\n",
       "      <td>2019-03-04</td>\n",
       "      <td>2.432507e+10</td>\n",
       "      <td>5.131218e+09</td>\n",
       "      <td>-92.448303</td>\n",
       "      <td>3.669428e+10</td>\n",
       "      <td>...</td>\n",
       "      <td>7.914598e+10</td>\n",
       "      <td>600157.SHA</td>\n",
       "      <td>2.671546e+10</td>\n",
       "      <td>2.671546e+10</td>\n",
       "      <td>1.098269</td>\n",
       "      <td>120.433922</td>\n",
       "      <td>1.221591</td>\n",
       "      <td>0.034369</td>\n",
       "      <td>0.050207</td>\n",
       "      <td>0.0691</td>\n",
       "    </tr>\n",
       "  </tbody>\n",
       "</table>\n",
       "<p>5 rows × 22 columns</p>\n",
       "</div>"
      ],
      "text/plain": [
       "   avg_turn_20  avg_turn_240  avg_turn_60  beta_csi300_60_0     close_0  \\\n",
       "0     0.361890      0.364016     0.241283          0.798543   32.895355   \n",
       "1     1.166124      0.571547     0.827291          0.753365  294.284088   \n",
       "2     5.080401      3.110909     3.564228          1.324330   54.565777   \n",
       "3     1.151961      0.963841     0.791393          0.503264   67.877487   \n",
       "4     3.082663      1.035434     2.424723          0.713421  109.131134   \n",
       "\n",
       "        date  fs_common_equity_0  fs_net_cash_flow_ttm_0  fs_net_profit_yoy_0  \\\n",
       "0 2019-03-04        3.696409e+10           -2.738063e+09             8.335700   \n",
       "1 2019-03-04        3.234399e+10            2.099414e+09             4.464700   \n",
       "2 2019-03-04        8.044239e+09           -1.128414e+08            74.143097   \n",
       "3 2019-03-04        7.306716e+09            6.637488e+08            11.567500   \n",
       "4 2019-03-04        2.432507e+10            5.131218e+09           -92.448303   \n",
       "\n",
       "   fs_non_current_liabilities_0  ...  fs_total_liability_0  instrument  \\\n",
       "0                  2.171018e+10  ...          9.037635e+10  600297.SHA   \n",
       "1                  1.699484e+10  ...          5.457291e+10  600089.SHA   \n",
       "2                  1.218728e+09  ...          1.136024e+10  603799.SHA   \n",
       "3                  3.088342e+07  ...          1.013928e+09  000408.SZA   \n",
       "4                  3.669428e+10  ...          7.914598e+10  600157.SHA   \n",
       "\n",
       "   market_cap_0 market_cap_float_0   pb_lf_0    pe_ttm_0  return_60  \\\n",
       "0  4.116363e+10       4.079482e+10  1.119917    9.966406   1.183529   \n",
       "1  2.956744e+10       2.956593e+10  1.014530   12.976037   1.162044   \n",
       "2  3.196187e+10       3.158182e+10  3.973262   11.796223   1.158496   \n",
       "3  2.384560e+10       5.341728e+09  3.263519   18.449429   1.050967   \n",
       "4  2.671546e+10       2.671546e+10  1.098269  120.433922   1.221591   \n",
       "\n",
       "   swing_volatility_60_0  volatility_60_0  west_eps_ftm_0  \n",
       "0               0.017560         0.022313          0.5308  \n",
       "1               0.009117         0.015089          0.6978  \n",
       "2               0.023050         0.030983          2.8106  \n",
       "3               0.010574         0.015331          0.7142  \n",
       "4               0.034369         0.050207          0.0691  \n",
       "\n",
       "[5 rows x 22 columns]"
      ]
     },
     "execution_count": 58,
     "metadata": {},
     "output_type": "execute_result"
    }
   ],
   "source": [
    "h5['fac'].head()"
   ]
  },
  {
   "cell_type": "markdown",
   "metadata": {},
   "source": [
    "## 行业指数价格"
   ]
  },
  {
   "cell_type": "code",
   "execution_count": 59,
   "metadata": {},
   "outputs": [
    {
     "data": {
      "text/html": [
       "<div>\n",
       "<style scoped>\n",
       "    .dataframe tbody tr th:only-of-type {\n",
       "        vertical-align: middle;\n",
       "    }\n",
       "\n",
       "    .dataframe tbody tr th {\n",
       "        vertical-align: top;\n",
       "    }\n",
       "\n",
       "    .dataframe thead th {\n",
       "        text-align: right;\n",
       "    }\n",
       "</style>\n",
       "<table border=\"1\" class=\"dataframe\">\n",
       "  <thead>\n",
       "    <tr style=\"text-align: right;\">\n",
       "      <th></th>\n",
       "      <th>instrument</th>\n",
       "      <th>date</th>\n",
       "      <th>s_dq_close</th>\n",
       "    </tr>\n",
       "  </thead>\n",
       "  <tbody>\n",
       "    <tr>\n",
       "      <th>0</th>\n",
       "      <td>801880.SI</td>\n",
       "      <td>2019-01-02</td>\n",
       "      <td>3364.27</td>\n",
       "    </tr>\n",
       "    <tr>\n",
       "      <th>1</th>\n",
       "      <td>801740.SI</td>\n",
       "      <td>2019-01-02</td>\n",
       "      <td>894.03</td>\n",
       "    </tr>\n",
       "    <tr>\n",
       "      <th>2</th>\n",
       "      <td>801210.SI</td>\n",
       "      <td>2019-01-02</td>\n",
       "      <td>4735.80</td>\n",
       "    </tr>\n",
       "    <tr>\n",
       "      <th>3</th>\n",
       "      <td>801200.SI</td>\n",
       "      <td>2019-01-02</td>\n",
       "      <td>2964.57</td>\n",
       "    </tr>\n",
       "    <tr>\n",
       "      <th>4</th>\n",
       "      <td>801750.SI</td>\n",
       "      <td>2019-01-02</td>\n",
       "      <td>3150.27</td>\n",
       "    </tr>\n",
       "  </tbody>\n",
       "</table>\n",
       "</div>"
      ],
      "text/plain": [
       "  instrument       date  s_dq_close\n",
       "0  801880.SI 2019-01-02     3364.27\n",
       "1  801740.SI 2019-01-02      894.03\n",
       "2  801210.SI 2019-01-02     4735.80\n",
       "3  801200.SI 2019-01-02     2964.57\n",
       "4  801750.SI 2019-01-02     3150.27"
      ]
     },
     "execution_count": 59,
     "metadata": {},
     "output_type": "execute_result"
    }
   ],
   "source": [
    "h5['ind_close'].head()"
   ]
  },
  {
   "cell_type": "markdown",
   "metadata": {},
   "source": [
    "## 行业指数信息"
   ]
  },
  {
   "cell_type": "code",
   "execution_count": 61,
   "metadata": {},
   "outputs": [
    {
     "data": {
      "text/html": [
       "<div>\n",
       "<style scoped>\n",
       "    .dataframe tbody tr th:only-of-type {\n",
       "        vertical-align: middle;\n",
       "    }\n",
       "\n",
       "    .dataframe tbody tr th {\n",
       "        vertical-align: top;\n",
       "    }\n",
       "\n",
       "    .dataframe thead th {\n",
       "        text-align: right;\n",
       "    }\n",
       "</style>\n",
       "<table border=\"1\" class=\"dataframe\">\n",
       "  <thead>\n",
       "    <tr style=\"text-align: right;\">\n",
       "      <th></th>\n",
       "      <th>industriesalias</th>\n",
       "      <th>industriesname</th>\n",
       "      <th>memo</th>\n",
       "    </tr>\n",
       "  </thead>\n",
       "  <tbody>\n",
       "    <tr>\n",
       "      <th>356</th>\n",
       "      <td>801080.SI</td>\n",
       "      <td>电子</td>\n",
       "      <td>270000</td>\n",
       "    </tr>\n",
       "    <tr>\n",
       "      <th>968</th>\n",
       "      <td>801770.SI</td>\n",
       "      <td>通信</td>\n",
       "      <td>730000</td>\n",
       "    </tr>\n",
       "    <tr>\n",
       "      <th>1067</th>\n",
       "      <td>801040.SI</td>\n",
       "      <td>钢铁</td>\n",
       "      <td>230000</td>\n",
       "    </tr>\n",
       "    <tr>\n",
       "      <th>1084</th>\n",
       "      <td>801180.SI</td>\n",
       "      <td>房地产</td>\n",
       "      <td>430000</td>\n",
       "    </tr>\n",
       "    <tr>\n",
       "      <th>1661</th>\n",
       "      <td>801890.SI</td>\n",
       "      <td>机械设备</td>\n",
       "      <td>640000</td>\n",
       "    </tr>\n",
       "    <tr>\n",
       "      <th>2164</th>\n",
       "      <td>801720.SI</td>\n",
       "      <td>建筑装饰</td>\n",
       "      <td>620000</td>\n",
       "    </tr>\n",
       "    <tr>\n",
       "      <th>2833</th>\n",
       "      <td>801110.SI</td>\n",
       "      <td>家用电器</td>\n",
       "      <td>330000</td>\n",
       "    </tr>\n",
       "    <tr>\n",
       "      <th>3360</th>\n",
       "      <td>801780.SI</td>\n",
       "      <td>银行</td>\n",
       "      <td>480000</td>\n",
       "    </tr>\n",
       "    <tr>\n",
       "      <th>4289</th>\n",
       "      <td>801010.SI</td>\n",
       "      <td>农林牧渔</td>\n",
       "      <td>110000</td>\n",
       "    </tr>\n",
       "    <tr>\n",
       "      <th>4573</th>\n",
       "      <td>801200.SI</td>\n",
       "      <td>商业贸易</td>\n",
       "      <td>450000</td>\n",
       "    </tr>\n",
       "    <tr>\n",
       "      <th>4638</th>\n",
       "      <td>801210.SI</td>\n",
       "      <td>休闲服务</td>\n",
       "      <td>460000</td>\n",
       "    </tr>\n",
       "    <tr>\n",
       "      <th>4816</th>\n",
       "      <td>801880.SI</td>\n",
       "      <td>汽车</td>\n",
       "      <td>280000</td>\n",
       "    </tr>\n",
       "    <tr>\n",
       "      <th>4904</th>\n",
       "      <td>801750.SI</td>\n",
       "      <td>计算机</td>\n",
       "      <td>710000</td>\n",
       "    </tr>\n",
       "    <tr>\n",
       "      <th>4997</th>\n",
       "      <td>801140.SI</td>\n",
       "      <td>轻工制造</td>\n",
       "      <td>360000</td>\n",
       "    </tr>\n",
       "    <tr>\n",
       "      <th>5245</th>\n",
       "      <td>801160.SI</td>\n",
       "      <td>公用事业</td>\n",
       "      <td>410000</td>\n",
       "    </tr>\n",
       "    <tr>\n",
       "      <th>5574</th>\n",
       "      <td>801170.SI</td>\n",
       "      <td>交通运输</td>\n",
       "      <td>420000</td>\n",
       "    </tr>\n",
       "    <tr>\n",
       "      <th>7283</th>\n",
       "      <td>801130.SI</td>\n",
       "      <td>纺织服装</td>\n",
       "      <td>350000</td>\n",
       "    </tr>\n",
       "    <tr>\n",
       "      <th>7633</th>\n",
       "      <td>801760.SI</td>\n",
       "      <td>传媒</td>\n",
       "      <td>720000</td>\n",
       "    </tr>\n",
       "    <tr>\n",
       "      <th>8073</th>\n",
       "      <td>801230.SI</td>\n",
       "      <td>综合</td>\n",
       "      <td>510000</td>\n",
       "    </tr>\n",
       "    <tr>\n",
       "      <th>8176</th>\n",
       "      <td>801050.SI</td>\n",
       "      <td>有色金属</td>\n",
       "      <td>240000</td>\n",
       "    </tr>\n",
       "    <tr>\n",
       "      <th>9415</th>\n",
       "      <td>801020.SI</td>\n",
       "      <td>采掘</td>\n",
       "      <td>210000</td>\n",
       "    </tr>\n",
       "    <tr>\n",
       "      <th>9614</th>\n",
       "      <td>801740.SI</td>\n",
       "      <td>国防军工</td>\n",
       "      <td>650000</td>\n",
       "    </tr>\n",
       "    <tr>\n",
       "      <th>9676</th>\n",
       "      <td>801150.SI</td>\n",
       "      <td>医药生物</td>\n",
       "      <td>370000</td>\n",
       "    </tr>\n",
       "    <tr>\n",
       "      <th>9988</th>\n",
       "      <td>801030.SI</td>\n",
       "      <td>化工</td>\n",
       "      <td>220000</td>\n",
       "    </tr>\n",
       "    <tr>\n",
       "      <th>10156</th>\n",
       "      <td>801120.SI</td>\n",
       "      <td>食品饮料</td>\n",
       "      <td>340000</td>\n",
       "    </tr>\n",
       "    <tr>\n",
       "      <th>10389</th>\n",
       "      <td>801730.SI</td>\n",
       "      <td>电气设备</td>\n",
       "      <td>630000</td>\n",
       "    </tr>\n",
       "    <tr>\n",
       "      <th>10725</th>\n",
       "      <td>801790.SI</td>\n",
       "      <td>非银金融</td>\n",
       "      <td>490000</td>\n",
       "    </tr>\n",
       "    <tr>\n",
       "      <th>10862</th>\n",
       "      <td>801710.SI</td>\n",
       "      <td>建筑材料</td>\n",
       "      <td>610000</td>\n",
       "    </tr>\n",
       "  </tbody>\n",
       "</table>\n",
       "</div>"
      ],
      "text/plain": [
       "      industriesalias industriesname    memo\n",
       "356         801080.SI             电子  270000\n",
       "968         801770.SI             通信  730000\n",
       "1067        801040.SI             钢铁  230000\n",
       "1084        801180.SI            房地产  430000\n",
       "1661        801890.SI           机械设备  640000\n",
       "2164        801720.SI           建筑装饰  620000\n",
       "2833        801110.SI           家用电器  330000\n",
       "3360        801780.SI             银行  480000\n",
       "4289        801010.SI           农林牧渔  110000\n",
       "4573        801200.SI           商业贸易  450000\n",
       "4638        801210.SI           休闲服务  460000\n",
       "4816        801880.SI             汽车  280000\n",
       "4904        801750.SI            计算机  710000\n",
       "4997        801140.SI           轻工制造  360000\n",
       "5245        801160.SI           公用事业  410000\n",
       "5574        801170.SI           交通运输  420000\n",
       "7283        801130.SI           纺织服装  350000\n",
       "7633        801760.SI             传媒  720000\n",
       "8073        801230.SI             综合  510000\n",
       "8176        801050.SI           有色金属  240000\n",
       "9415        801020.SI             采掘  210000\n",
       "9614        801740.SI           国防军工  650000\n",
       "9676        801150.SI           医药生物  370000\n",
       "9988        801030.SI             化工  220000\n",
       "10156       801120.SI           食品饮料  340000\n",
       "10389       801730.SI           电气设备  630000\n",
       "10725       801790.SI           非银金融  490000\n",
       "10862       801710.SI           建筑材料  610000"
      ]
     },
     "execution_count": 61,
     "metadata": {},
     "output_type": "execute_result"
    }
   ],
   "source": [
    "h5['ind_info']"
   ]
  },
  {
   "cell_type": "markdown",
   "metadata": {},
   "source": [
    "## 市场组合指数（沪深300指数）"
   ]
  },
  {
   "cell_type": "code",
   "execution_count": 62,
   "metadata": {},
   "outputs": [
    {
     "data": {
      "text/html": [
       "<div>\n",
       "<style scoped>\n",
       "    .dataframe tbody tr th:only-of-type {\n",
       "        vertical-align: middle;\n",
       "    }\n",
       "\n",
       "    .dataframe tbody tr th {\n",
       "        vertical-align: top;\n",
       "    }\n",
       "\n",
       "    .dataframe thead th {\n",
       "        text-align: right;\n",
       "    }\n",
       "</style>\n",
       "<table border=\"1\" class=\"dataframe\">\n",
       "  <thead>\n",
       "    <tr style=\"text-align: right;\">\n",
       "      <th></th>\n",
       "      <th>instrument</th>\n",
       "      <th>date</th>\n",
       "      <th>s_dq_close</th>\n",
       "    </tr>\n",
       "  </thead>\n",
       "  <tbody>\n",
       "    <tr>\n",
       "      <th>0</th>\n",
       "      <td>000300.SHA</td>\n",
       "      <td>2019-01-02</td>\n",
       "      <td>2969.5353</td>\n",
       "    </tr>\n",
       "    <tr>\n",
       "      <th>1</th>\n",
       "      <td>000300.SHA</td>\n",
       "      <td>2019-01-03</td>\n",
       "      <td>2964.8421</td>\n",
       "    </tr>\n",
       "    <tr>\n",
       "      <th>2</th>\n",
       "      <td>000300.SHA</td>\n",
       "      <td>2019-01-04</td>\n",
       "      <td>3035.8741</td>\n",
       "    </tr>\n",
       "    <tr>\n",
       "      <th>3</th>\n",
       "      <td>000300.SHA</td>\n",
       "      <td>2019-01-07</td>\n",
       "      <td>3054.3030</td>\n",
       "    </tr>\n",
       "    <tr>\n",
       "      <th>4</th>\n",
       "      <td>000300.SHA</td>\n",
       "      <td>2019-01-08</td>\n",
       "      <td>3047.7035</td>\n",
       "    </tr>\n",
       "  </tbody>\n",
       "</table>\n",
       "</div>"
      ],
      "text/plain": [
       "   instrument       date  s_dq_close\n",
       "0  000300.SHA 2019-01-02   2969.5353\n",
       "1  000300.SHA 2019-01-03   2964.8421\n",
       "2  000300.SHA 2019-01-04   3035.8741\n",
       "3  000300.SHA 2019-01-07   3054.3030\n",
       "4  000300.SHA 2019-01-08   3047.7035"
      ]
     },
     "execution_count": 62,
     "metadata": {},
     "output_type": "execute_result"
    }
   ],
   "source": [
    "h5['inx_close'].head()"
   ]
  },
  {
   "cell_type": "markdown",
   "metadata": {},
   "source": [
    "## 股票价格"
   ]
  },
  {
   "cell_type": "code",
   "execution_count": 63,
   "metadata": {},
   "outputs": [
    {
     "data": {
      "text/html": [
       "<div>\n",
       "<style scoped>\n",
       "    .dataframe tbody tr th:only-of-type {\n",
       "        vertical-align: middle;\n",
       "    }\n",
       "\n",
       "    .dataframe tbody tr th {\n",
       "        vertical-align: top;\n",
       "    }\n",
       "\n",
       "    .dataframe thead th {\n",
       "        text-align: right;\n",
       "    }\n",
       "</style>\n",
       "<table border=\"1\" class=\"dataframe\">\n",
       "  <thead>\n",
       "    <tr style=\"text-align: right;\">\n",
       "      <th></th>\n",
       "      <th>instrument</th>\n",
       "      <th>date</th>\n",
       "      <th>s_dq_adjclose</th>\n",
       "    </tr>\n",
       "  </thead>\n",
       "  <tbody>\n",
       "    <tr>\n",
       "      <th>0</th>\n",
       "      <td>600518.SHA</td>\n",
       "      <td>2019-01-02</td>\n",
       "      <td>372.15</td>\n",
       "    </tr>\n",
       "    <tr>\n",
       "      <th>1</th>\n",
       "      <td>600549.SHA</td>\n",
       "      <td>2019-01-02</td>\n",
       "      <td>153.67</td>\n",
       "    </tr>\n",
       "    <tr>\n",
       "      <th>2</th>\n",
       "      <td>600570.SHA</td>\n",
       "      <td>2019-01-02</td>\n",
       "      <td>724.17</td>\n",
       "    </tr>\n",
       "    <tr>\n",
       "      <th>3</th>\n",
       "      <td>600023.SHA</td>\n",
       "      <td>2019-01-02</td>\n",
       "      <td>7.23</td>\n",
       "    </tr>\n",
       "    <tr>\n",
       "      <th>4</th>\n",
       "      <td>000786.SZA</td>\n",
       "      <td>2019-01-02</td>\n",
       "      <td>142.95</td>\n",
       "    </tr>\n",
       "  </tbody>\n",
       "</table>\n",
       "</div>"
      ],
      "text/plain": [
       "   instrument       date  s_dq_adjclose\n",
       "0  600518.SHA 2019-01-02         372.15\n",
       "1  600549.SHA 2019-01-02         153.67\n",
       "2  600570.SHA 2019-01-02         724.17\n",
       "3  600023.SHA 2019-01-02           7.23\n",
       "4  000786.SZA 2019-01-02         142.95"
      ]
     },
     "execution_count": 63,
     "metadata": {},
     "output_type": "execute_result"
    }
   ],
   "source": [
    "h5['obj_close'].head()"
   ]
  },
  {
   "cell_type": "markdown",
   "metadata": {},
   "source": [
    "## 股票行业归属"
   ]
  },
  {
   "cell_type": "code",
   "execution_count": 64,
   "metadata": {},
   "outputs": [
    {
     "data": {
      "text/html": [
       "<div>\n",
       "<style scoped>\n",
       "    .dataframe tbody tr th:only-of-type {\n",
       "        vertical-align: middle;\n",
       "    }\n",
       "\n",
       "    .dataframe tbody tr th {\n",
       "        vertical-align: top;\n",
       "    }\n",
       "\n",
       "    .dataframe thead th {\n",
       "        text-align: right;\n",
       "    }\n",
       "</style>\n",
       "<table border=\"1\" class=\"dataframe\">\n",
       "  <thead>\n",
       "    <tr style=\"text-align: right;\">\n",
       "      <th></th>\n",
       "      <th>date</th>\n",
       "      <th>instrument</th>\n",
       "      <th>industry_sw_level1</th>\n",
       "    </tr>\n",
       "  </thead>\n",
       "  <tbody>\n",
       "    <tr>\n",
       "      <th>0</th>\n",
       "      <td>2019-03-04</td>\n",
       "      <td>600415.SHA</td>\n",
       "      <td>450000</td>\n",
       "    </tr>\n",
       "    <tr>\n",
       "      <th>1</th>\n",
       "      <td>2019-03-04</td>\n",
       "      <td>600299.SHA</td>\n",
       "      <td>220000</td>\n",
       "    </tr>\n",
       "    <tr>\n",
       "      <th>2</th>\n",
       "      <td>2019-03-04</td>\n",
       "      <td>600309.SHA</td>\n",
       "      <td>220000</td>\n",
       "    </tr>\n",
       "    <tr>\n",
       "      <th>3</th>\n",
       "      <td>2019-03-04</td>\n",
       "      <td>600660.SHA</td>\n",
       "      <td>280000</td>\n",
       "    </tr>\n",
       "    <tr>\n",
       "      <th>4</th>\n",
       "      <td>2019-03-04</td>\n",
       "      <td>600177.SHA</td>\n",
       "      <td>430000</td>\n",
       "    </tr>\n",
       "  </tbody>\n",
       "</table>\n",
       "</div>"
      ],
      "text/plain": [
       "        date  instrument industry_sw_level1\n",
       "0 2019-03-04  600415.SHA             450000\n",
       "1 2019-03-04  600299.SHA             220000\n",
       "2 2019-03-04  600309.SHA             220000\n",
       "3 2019-03-04  600660.SHA             280000\n",
       "4 2019-03-04  600177.SHA             430000"
      ]
     },
     "execution_count": 64,
     "metadata": {},
     "output_type": "execute_result"
    }
   ],
   "source": [
    "h5['obj_cls'].head()"
   ]
  },
  {
   "cell_type": "markdown",
   "metadata": {},
   "source": [
    "## 沪深300成分股权重表"
   ]
  },
  {
   "cell_type": "code",
   "execution_count": 65,
   "metadata": {},
   "outputs": [
    {
     "data": {
      "text/html": [
       "<div>\n",
       "<style scoped>\n",
       "    .dataframe tbody tr th:only-of-type {\n",
       "        vertical-align: middle;\n",
       "    }\n",
       "\n",
       "    .dataframe tbody tr th {\n",
       "        vertical-align: top;\n",
       "    }\n",
       "\n",
       "    .dataframe thead th {\n",
       "        text-align: right;\n",
       "    }\n",
       "</style>\n",
       "<table border=\"1\" class=\"dataframe\">\n",
       "  <thead>\n",
       "    <tr style=\"text-align: right;\">\n",
       "      <th></th>\n",
       "      <th>date</th>\n",
       "      <th>instrument</th>\n",
       "      <th>weight</th>\n",
       "    </tr>\n",
       "  </thead>\n",
       "  <tbody>\n",
       "    <tr>\n",
       "      <th>401</th>\n",
       "      <td>2019-01-02</td>\n",
       "      <td>002241.SZA</td>\n",
       "      <td>0.001426</td>\n",
       "    </tr>\n",
       "    <tr>\n",
       "      <th>402</th>\n",
       "      <td>2019-01-02</td>\n",
       "      <td>002230.SZA</td>\n",
       "      <td>0.003842</td>\n",
       "    </tr>\n",
       "    <tr>\n",
       "      <th>403</th>\n",
       "      <td>2019-01-02</td>\n",
       "      <td>002179.SZA</td>\n",
       "      <td>0.001418</td>\n",
       "    </tr>\n",
       "    <tr>\n",
       "      <th>404</th>\n",
       "      <td>2019-01-02</td>\n",
       "      <td>002153.SZA</td>\n",
       "      <td>0.000884</td>\n",
       "    </tr>\n",
       "    <tr>\n",
       "      <th>405</th>\n",
       "      <td>2019-01-02</td>\n",
       "      <td>002146.SZA</td>\n",
       "      <td>0.001472</td>\n",
       "    </tr>\n",
       "  </tbody>\n",
       "</table>\n",
       "</div>"
      ],
      "text/plain": [
       "          date  instrument    weight\n",
       "401 2019-01-02  002241.SZA  0.001426\n",
       "402 2019-01-02  002230.SZA  0.003842\n",
       "403 2019-01-02  002179.SZA  0.001418\n",
       "404 2019-01-02  002153.SZA  0.000884\n",
       "405 2019-01-02  002146.SZA  0.001472"
      ]
     },
     "execution_count": 65,
     "metadata": {},
     "output_type": "execute_result"
    }
   ],
   "source": [
    "h5['obj_weight'].head()"
   ]
  },
  {
   "cell_type": "markdown",
   "metadata": {},
   "source": [
    "#  Beta"
   ]
  },
  {
   "cell_type": "markdown",
   "metadata": {},
   "source": [
    "## 行业指数$\\beta$"
   ]
  },
  {
   "cell_type": "markdown",
   "metadata": {},
   "source": [
    "行业指数的收益率序列"
   ]
  },
  {
   "cell_type": "code",
   "execution_count": 86,
   "metadata": {},
   "outputs": [],
   "source": [
    "ind_ret=h5['ind_close'].set_index('date').groupby('instrument').apply(lambda i:np.log(i).diff().iloc[1:,:])\n",
    "ind_ret=ind_ret.unstack(0)\n",
    "ind_ret.columns=ind_ret.columns.droplevel(0)"
   ]
  },
  {
   "cell_type": "code",
   "execution_count": 87,
   "metadata": {},
   "outputs": [],
   "source": [
    "na(ind_ret)"
   ]
  },
  {
   "cell_type": "code",
   "execution_count": 88,
   "metadata": {},
   "outputs": [
    {
     "data": {
      "text/html": [
       "<div>\n",
       "<style scoped>\n",
       "    .dataframe tbody tr th:only-of-type {\n",
       "        vertical-align: middle;\n",
       "    }\n",
       "\n",
       "    .dataframe tbody tr th {\n",
       "        vertical-align: top;\n",
       "    }\n",
       "\n",
       "    .dataframe thead th {\n",
       "        text-align: right;\n",
       "    }\n",
       "</style>\n",
       "<table border=\"1\" class=\"dataframe\">\n",
       "  <thead>\n",
       "    <tr style=\"text-align: right;\">\n",
       "      <th>instrument</th>\n",
       "      <th>801010.SI</th>\n",
       "      <th>801020.SI</th>\n",
       "      <th>801030.SI</th>\n",
       "      <th>801040.SI</th>\n",
       "      <th>801050.SI</th>\n",
       "      <th>801080.SI</th>\n",
       "      <th>801110.SI</th>\n",
       "      <th>801120.SI</th>\n",
       "      <th>801130.SI</th>\n",
       "      <th>801140.SI</th>\n",
       "      <th>...</th>\n",
       "      <th>801720.SI</th>\n",
       "      <th>801730.SI</th>\n",
       "      <th>801740.SI</th>\n",
       "      <th>801750.SI</th>\n",
       "      <th>801760.SI</th>\n",
       "      <th>801770.SI</th>\n",
       "      <th>801780.SI</th>\n",
       "      <th>801790.SI</th>\n",
       "      <th>801880.SI</th>\n",
       "      <th>801890.SI</th>\n",
       "    </tr>\n",
       "    <tr>\n",
       "      <th>date</th>\n",
       "      <th></th>\n",
       "      <th></th>\n",
       "      <th></th>\n",
       "      <th></th>\n",
       "      <th></th>\n",
       "      <th></th>\n",
       "      <th></th>\n",
       "      <th></th>\n",
       "      <th></th>\n",
       "      <th></th>\n",
       "      <th></th>\n",
       "      <th></th>\n",
       "      <th></th>\n",
       "      <th></th>\n",
       "      <th></th>\n",
       "      <th></th>\n",
       "      <th></th>\n",
       "      <th></th>\n",
       "      <th></th>\n",
       "      <th></th>\n",
       "      <th></th>\n",
       "    </tr>\n",
       "  </thead>\n",
       "  <tbody>\n",
       "    <tr>\n",
       "      <th>2019-01-03</th>\n",
       "      <td>-0.001376</td>\n",
       "      <td>0.000031</td>\n",
       "      <td>-0.009764</td>\n",
       "      <td>0.004839</td>\n",
       "      <td>0.010878</td>\n",
       "      <td>-0.018785</td>\n",
       "      <td>-0.005360</td>\n",
       "      <td>-0.019283</td>\n",
       "      <td>-0.008358</td>\n",
       "      <td>-0.008521</td>\n",
       "      <td>...</td>\n",
       "      <td>-0.001549</td>\n",
       "      <td>-0.001338</td>\n",
       "      <td>0.031717</td>\n",
       "      <td>-0.005181</td>\n",
       "      <td>-0.005659</td>\n",
       "      <td>-0.023717</td>\n",
       "      <td>0.008808</td>\n",
       "      <td>0.015021</td>\n",
       "      <td>-0.009563</td>\n",
       "      <td>-0.002140</td>\n",
       "    </tr>\n",
       "    <tr>\n",
       "      <th>2019-01-04</th>\n",
       "      <td>0.022919</td>\n",
       "      <td>0.019222</td>\n",
       "      <td>0.019993</td>\n",
       "      <td>0.016694</td>\n",
       "      <td>0.023939</td>\n",
       "      <td>0.020810</td>\n",
       "      <td>0.021326</td>\n",
       "      <td>0.018145</td>\n",
       "      <td>0.018216</td>\n",
       "      <td>0.020109</td>\n",
       "      <td>...</td>\n",
       "      <td>0.022616</td>\n",
       "      <td>0.030395</td>\n",
       "      <td>0.023771</td>\n",
       "      <td>0.038957</td>\n",
       "      <td>0.029046</td>\n",
       "      <td>0.018404</td>\n",
       "      <td>0.020393</td>\n",
       "      <td>0.042590</td>\n",
       "      <td>0.015538</td>\n",
       "      <td>0.024149</td>\n",
       "    </tr>\n",
       "    <tr>\n",
       "      <th>2019-01-07</th>\n",
       "      <td>0.023130</td>\n",
       "      <td>0.014805</td>\n",
       "      <td>0.014974</td>\n",
       "      <td>0.013634</td>\n",
       "      <td>0.018326</td>\n",
       "      <td>0.028248</td>\n",
       "      <td>0.004181</td>\n",
       "      <td>0.008772</td>\n",
       "      <td>0.013107</td>\n",
       "      <td>0.013747</td>\n",
       "      <td>...</td>\n",
       "      <td>0.012573</td>\n",
       "      <td>0.032052</td>\n",
       "      <td>0.042510</td>\n",
       "      <td>0.027252</td>\n",
       "      <td>0.016918</td>\n",
       "      <td>0.031417</td>\n",
       "      <td>-0.002179</td>\n",
       "      <td>-0.003469</td>\n",
       "      <td>0.014377</td>\n",
       "      <td>0.023132</td>\n",
       "    </tr>\n",
       "    <tr>\n",
       "      <th>2019-01-08</th>\n",
       "      <td>-0.007305</td>\n",
       "      <td>0.000606</td>\n",
       "      <td>0.000957</td>\n",
       "      <td>-0.002930</td>\n",
       "      <td>-0.013494</td>\n",
       "      <td>0.004085</td>\n",
       "      <td>0.001549</td>\n",
       "      <td>-0.003738</td>\n",
       "      <td>0.002463</td>\n",
       "      <td>-0.001010</td>\n",
       "      <td>...</td>\n",
       "      <td>0.000078</td>\n",
       "      <td>-0.000880</td>\n",
       "      <td>-0.018743</td>\n",
       "      <td>-0.005174</td>\n",
       "      <td>0.000602</td>\n",
       "      <td>-0.005516</td>\n",
       "      <td>-0.004347</td>\n",
       "      <td>-0.003220</td>\n",
       "      <td>-0.001600</td>\n",
       "      <td>0.001473</td>\n",
       "    </tr>\n",
       "    <tr>\n",
       "      <th>2019-01-09</th>\n",
       "      <td>-0.000361</td>\n",
       "      <td>0.001533</td>\n",
       "      <td>0.008862</td>\n",
       "      <td>0.007602</td>\n",
       "      <td>0.000267</td>\n",
       "      <td>0.007476</td>\n",
       "      <td>0.038257</td>\n",
       "      <td>0.015079</td>\n",
       "      <td>0.005175</td>\n",
       "      <td>0.006200</td>\n",
       "      <td>...</td>\n",
       "      <td>-0.001771</td>\n",
       "      <td>0.002945</td>\n",
       "      <td>-0.010679</td>\n",
       "      <td>-0.000390</td>\n",
       "      <td>0.002250</td>\n",
       "      <td>0.005068</td>\n",
       "      <td>0.008510</td>\n",
       "      <td>0.009539</td>\n",
       "      <td>0.017082</td>\n",
       "      <td>-0.001849</td>\n",
       "    </tr>\n",
       "  </tbody>\n",
       "</table>\n",
       "<p>5 rows × 28 columns</p>\n",
       "</div>"
      ],
      "text/plain": [
       "instrument  801010.SI  801020.SI  801030.SI  801040.SI  801050.SI  801080.SI  \\\n",
       "date                                                                           \n",
       "2019-01-03  -0.001376   0.000031  -0.009764   0.004839   0.010878  -0.018785   \n",
       "2019-01-04   0.022919   0.019222   0.019993   0.016694   0.023939   0.020810   \n",
       "2019-01-07   0.023130   0.014805   0.014974   0.013634   0.018326   0.028248   \n",
       "2019-01-08  -0.007305   0.000606   0.000957  -0.002930  -0.013494   0.004085   \n",
       "2019-01-09  -0.000361   0.001533   0.008862   0.007602   0.000267   0.007476   \n",
       "\n",
       "instrument  801110.SI  801120.SI  801130.SI  801140.SI  ...  801720.SI  \\\n",
       "date                                                    ...              \n",
       "2019-01-03  -0.005360  -0.019283  -0.008358  -0.008521  ...  -0.001549   \n",
       "2019-01-04   0.021326   0.018145   0.018216   0.020109  ...   0.022616   \n",
       "2019-01-07   0.004181   0.008772   0.013107   0.013747  ...   0.012573   \n",
       "2019-01-08   0.001549  -0.003738   0.002463  -0.001010  ...   0.000078   \n",
       "2019-01-09   0.038257   0.015079   0.005175   0.006200  ...  -0.001771   \n",
       "\n",
       "instrument  801730.SI  801740.SI  801750.SI  801760.SI  801770.SI  801780.SI  \\\n",
       "date                                                                           \n",
       "2019-01-03  -0.001338   0.031717  -0.005181  -0.005659  -0.023717   0.008808   \n",
       "2019-01-04   0.030395   0.023771   0.038957   0.029046   0.018404   0.020393   \n",
       "2019-01-07   0.032052   0.042510   0.027252   0.016918   0.031417  -0.002179   \n",
       "2019-01-08  -0.000880  -0.018743  -0.005174   0.000602  -0.005516  -0.004347   \n",
       "2019-01-09   0.002945  -0.010679  -0.000390   0.002250   0.005068   0.008510   \n",
       "\n",
       "instrument  801790.SI  801880.SI  801890.SI  \n",
       "date                                         \n",
       "2019-01-03   0.015021  -0.009563  -0.002140  \n",
       "2019-01-04   0.042590   0.015538   0.024149  \n",
       "2019-01-07  -0.003469   0.014377   0.023132  \n",
       "2019-01-08  -0.003220  -0.001600   0.001473  \n",
       "2019-01-09   0.009539   0.017082  -0.001849  \n",
       "\n",
       "[5 rows x 28 columns]"
      ]
     },
     "execution_count": 88,
     "metadata": {},
     "output_type": "execute_result"
    }
   ],
   "source": [
    "ind_ret.head()"
   ]
  },
  {
   "cell_type": "markdown",
   "metadata": {},
   "source": [
    "市场组合的收益率序列"
   ]
  },
  {
   "cell_type": "code",
   "execution_count": 80,
   "metadata": {},
   "outputs": [],
   "source": [
    "inx_ret=np.log(h5['inx_close'].set_index('date').s_dq_close).diff().iloc[1:]"
   ]
  },
  {
   "cell_type": "code",
   "execution_count": 83,
   "metadata": {},
   "outputs": [],
   "source": [
    "na(ind_ret)"
   ]
  },
  {
   "cell_type": "code",
   "execution_count": 81,
   "metadata": {},
   "outputs": [
    {
     "data": {
      "text/plain": [
       "date\n",
       "2019-01-03   -0.001582\n",
       "2019-01-04    0.023676\n",
       "2019-01-07    0.006052\n",
       "2019-01-08   -0.002163\n",
       "2019-01-09    0.010046\n",
       "Name: s_dq_close, dtype: float64"
      ]
     },
     "execution_count": 81,
     "metadata": {},
     "output_type": "execute_result"
    }
   ],
   "source": [
    "inx_ret.head()"
   ]
  },
  {
   "cell_type": "markdown",
   "metadata": {},
   "source": [
    "检查行数是否一致"
   ]
  },
  {
   "cell_type": "code",
   "execution_count": 82,
   "metadata": {},
   "outputs": [
    {
     "data": {
      "image/png": "[encoded data removed]",
      "text/latex": [
       "$\\displaystyle \\left( \\left( 289, \\  28\\right), \\  \\left( 289\\right)\\right)$"
      ],
      "text/plain": [
       "((289, 28), (289,))"
      ]
     },
     "execution_count": 82,
     "metadata": {},
     "output_type": "execute_result"
    }
   ],
   "source": [
    "ind_ret.shape,inx_ret.shape"
   ]
  },
  {
   "cell_type": "markdown",
   "metadata": {},
   "source": [
    "合并行业和市场的收益率序列"
   ]
  },
  {
   "cell_type": "code",
   "execution_count": 90,
   "metadata": {},
   "outputs": [],
   "source": [
    "x=ind_ret.merge(right=inx_ret,left_index=True,right_index=True,how='outer')"
   ]
  },
  {
   "cell_type": "markdown",
   "metadata": {},
   "source": [
    "计算各资产与市场组合的协方差\n",
    "\n",
    "$\\beta=\\frac{cov(s,m)}{\\sigma_m^2}=\\frac{\\rho\\sigma_s}{\\sigma_m}$"
   ]
  },
  {
   "cell_type": "code",
   "execution_count": 93,
   "metadata": {},
   "outputs": [],
   "source": [
    "b,m=x.corrwith(x.iloc[:,-1])*x.std()/x.iloc[:,-1].std(),x.mean()*YTD"
   ]
  },
  {
   "cell_type": "code",
   "execution_count": 102,
   "metadata": {},
   "outputs": [
    {
     "data": {
      "text/plain": [
       "Index(['801010.SI', '801020.SI', '801030.SI', '801040.SI', '801050.SI',\n",
       "       '801080.SI', '801110.SI', '801120.SI', '801130.SI', '801140.SI',\n",
       "       '801150.SI', '801160.SI', '801170.SI', '801180.SI', '801200.SI',\n",
       "       '801210.SI', '801230.SI', '801710.SI', '801720.SI', '801730.SI',\n",
       "       '801740.SI', '801750.SI', '801760.SI', '801770.SI', '801780.SI',\n",
       "       '801790.SI', '801880.SI', '801890.SI', 's_dq_close'],\n",
       "      dtype='object')"
      ]
     },
     "execution_count": 102,
     "metadata": {},
     "output_type": "execute_result"
    }
   ],
   "source": [
    "b.index"
   ]
  },
  {
   "cell_type": "code",
   "execution_count": 103,
   "metadata": {},
   "outputs": [],
   "source": [
    "_kv={i[0]:i[1] for i in h5['ind_info'].values}\n",
    "_kv['s_dq_close']='市场组合'"
   ]
  },
  {
   "cell_type": "code",
   "execution_count": 114,
   "metadata": {},
   "outputs": [
    {
     "data": {
      "text/plain": [
       "[<matplotlib.lines.Line2D at 0x190313cef48>]"
      ]
     },
     "execution_count": 114,
     "metadata": {},
     "output_type": "execute_result"
    },
    {
     "data": {
      "image/png": "[encoded data removed]",
      "text/plain": [
       "<Figure size 864x504 with 1 Axes>"
      ]
     },
     "metadata": {},
     "output_type": "display_data"
    }
   ],
   "source": [
    "plt.figure(figsize=(12, 7))\n",
    "plt.grid(True)\n",
    "plt.xlabel('贝塔')\n",
    "plt.ylabel('收益')\n",
    "plt.plot(b,m,'o')\n",
    "_=list(map(lambda x:plt.text(*x,fontsize=11),zip(b,m,[_kv[i] for i in b.index])))\n",
    "plt.plot(*np.array([[i,i*(x.iloc[:,-1].mean()*YTD-RFR)+RFR] for i in np.linspace(0,1.5,3)]).T)"
   ]
  },
  {
   "cell_type": "markdown",
   "metadata": {},
   "source": [
    "# 运用\n",
    "1. 已知风险，求收益\n",
    "2. 已知收益，求风险，引出APT"
   ]
  },
  {
   "cell_type": "markdown",
   "metadata": {},
   "source": [
    "# 套利定价模型（APT Arbitrage Pricing Theory ）"
   ]
  },
  {
   "cell_type": "markdown",
   "metadata": {},
   "source": [
    "# 风险"
   ]
  },
  {
   "cell_type": "markdown",
   "metadata": {},
   "source": [
    "# BARRA"
   ]
  },
  {
   "cell_type": "markdown",
   "metadata": {},
   "source": [
    "1. 求市值权重、风险平价权重、最大因子暴漏（可投资性和因子性）等配置的barra风险"
   ]
  },
  {
   "cell_type": "code",
   "execution_count": null,
   "metadata": {},
   "outputs": [],
   "source": []
  }
 ],
 "metadata": {
  "kernelspec": {
   "display_name": "Python 3",
   "language": "python",
   "name": "python3"
  },
  "language_info": {
   "codemirror_mode": {
    "name": "ipython",
    "version": 3
   },
   "file_extension": ".py",
   "mimetype": "text/x-python",
   "name": "python",
   "nbconvert_exporter": "python",
   "pygments_lexer": "ipython3",
   "version": "3.7.6"
  },
  "toc-autonumbering": true
 },
 "nbformat": 4,
 "nbformat_minor": 4
}
