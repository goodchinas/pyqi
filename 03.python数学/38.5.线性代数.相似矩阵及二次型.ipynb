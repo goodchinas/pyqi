{
 "cells": [
  {
   "cell_type": "markdown",
   "metadata": {},
   "source": [
    "# 0.相似矩阵及二次型\n",
    "## 0.1.环境、库"
   ]
  },
  {
   "cell_type": "code",
   "execution_count": 1,
   "metadata": {},
   "outputs": [],
   "source": [
    "%matplotlib inline\n",
    "import numpy as np\n",
    "import sympy as sp\n",
    "import pandas as pd\n",
    "import matplotlib.pyplot as plt\n",
    "import itertools\n",
    "from functools import reduce\n",
    "plt.rcParams['font.sans-serif'] = ['SimHei'] #指定默认字体   \n",
    "plt.rcParams['axes.unicode_minus'] = False #解决保存图像是负号'-'显示为方块的问题\n",
    "x, y, z, t = sp.symbols('x y z t')\n",
    "k, m, n = sp.symbols('k m n', integer=True)\n",
    "f, g, h = sp.symbols('f g h', cls=sp.Function)\n",
    "sp.init_printing()\n",
    "# common tool function\n",
    "def getM(var_name,r,c):\n",
    "    \"\"\"\n",
    "    make a sympy s matrix\n",
    "    :param var_name:the symbol name\n",
    "    :param r:matrix s rows\n",
    "    :param c:matrix s cols\n",
    "    \"\"\"\n",
    "    if r>1 and c>1:\n",
    "        ss=sp.symbols(\"{0}_{{{{0:{1}}}{{0:{2}}}}}\".format(var_name,r,c))        \n",
    "    elif r==1:\n",
    "        ss=sp.symbols(\"{0}_{{0:{1}}}\".format(var_name,c))\n",
    "    elif c==1:\n",
    "        ss=sp.symbols(\"{0}_{{0:{1}}}\".format(var_name,r))\n",
    "    else:\n",
    "        raise Exception('invalid input parameter！')\n",
    "    return sp.Matrix([ss[i*c:(i+1)*c] for i in range(r)])"
   ]
  },
  {
   "cell_type": "markdown",
   "metadata": {},
   "source": [
    "# 1.向量的內积、长度及正交性\n",
    "## 1.1.向量的內积\n",
    "**定义:**设有$n$维向量$x=\\begin{bmatrix}x_1\\\\\\vdots\\\\x_n\\end{bmatrix},y=\\begin{bmatrix}y_1\\\\\\vdots\\\\y_n\\end{bmatrix},$<br>\n",
    "$令x_1y_1+\\dots+x_ny_n=\\begin{bmatrix}x_1&\\dots&x_n\\end{bmatrix}\\begin{bmatrix}y_1\\\\\\vdots\\\\y_n\\end{bmatrix}=x^Ty$<br>\n",
    "则称$[x,y]为向量x和y的{\\color{red}{內积}},[x,y]=x^Ty$."
   ]
  },
  {
   "cell_type": "markdown",
   "metadata": {},
   "source": [
    "內积具有下列性质(其中$x,y,z为n维向量,\\lambda为实数$):\n",
    ">* 对称性:$[x,y]=[y,x]$.\n",
    "* 线性性质:$[\\lambda x,y]=\\lambda[x,y]\\\\ [x+y,z]=[x,z]+[y,z]$.\n",
    "* 当$x=0$(零向量)时,$[x,x]=0$;<br>当$x\\not=0$(零向量)时,$[x,x]>0$<br>\n",
    "* 施瓦兹(Schwarz)不等式:${[x,y]}^2\\leq [x,x][y,y]$."
   ]
  },
  {
   "cell_type": "markdown",
   "metadata": {},
   "source": [
    "## 1.2.线段的长度\n",
    "二维空间点$x$坐标为$(x_1,x_2)$,则$x$点距原点的距离为$\\sqrt{x_1^2+x_2^2}$\n",
    "\n",
    "三维维空间点$x$坐标为$(x_1,x_2,x_3)$,则$x$点距原点的距离为$\\sqrt{x_1^2+x_2^2+x_3^2}$"
   ]
  },
  {
   "cell_type": "markdown",
   "metadata": {},
   "source": [
    "## 1.3.向量的长度\n",
    "**定义:**令$\\sqrt{[x,x]}=\\sqrt{x_1^2+\\dots+x_n^2}\\geq 0$,称$\\|x\\|$为$n$维向量$x$的长度(或范数).当$\\|x\\|=1$时,称$x$为单位向量."
   ]
  },
  {
   "cell_type": "markdown",
   "metadata": {},
   "source": [
    "向量的长度具有下列性质:\n",
    ">* 非负性:$当x=0(零向量)时,\\|x\\|=0;\\\\当x\\not=0(零向量)时,\\|x\\|>0$.\n",
    "* 齐次性:$\\|\\lambda x\\|=|\\lambda|\\cdot\\|x\\|.$\n",
    "* 三角不等式:$\\|x+y\\|\\leq\\|x\\|+\\|y\\|$."
   ]
  },
  {
   "cell_type": "markdown",
   "metadata": {},
   "source": [
    "# 1.4.向量的正交性\n",
    "施瓦兹(Schwarz)不等式:${[x,y]}^2\\leq [x,x][y,y]$.<br>\n",
    "当$x\\not=0且y\\not=0$时,$\\left |\\frac{[x,y]}{\\|x\\|\\cdot\\|y\\|}\\right |\\leq 1$"
   ]
  },
  {
   "cell_type": "markdown",
   "metadata": {},
   "source": [
    "**定义:**当$x\\not=0且y\\not=0$时,把$\\theta=arccos\\frac{[x,y]}{\\|x\\|\\cdot\\|y\\|}$,称为$n$维向量$x和y$的夹角.当$[x,y]=0,称向量x和y正交.$\n",
    "\n",
    "**结论:**若$x=0$,则$x$与任何向量都正交."
   ]
  },
  {
   "cell_type": "markdown",
   "metadata": {},
   "source": [
    "**定义:**两两正交的非零向量组成的向量为正交向量组."
   ]
  },
  {
   "cell_type": "markdown",
   "metadata": {},
   "source": [
    "**定理:**若$n$维向量$a_1,\\dots,a_r$是一组两两正交的非零向量,则$a_1,\\dots,a_r$线性无关.\n",
    "\n",
    "**证明:**设$k_1a_1+\\dots+k_ra_r=0(零向量)$,那么<br>\n",
    "$0=[a_1,0]=[a_1,k_1a_1+\\dots+k_ra_r]\\\\=k_1[a_1,a_1]+\\dots+k_r[a_1,a_r]\\\\k_1[a_1,a_1]+0+\\dots+0\\\\=k_1{\\|a_1\\|}^2$<br>\n",
    "$\\Rightarrow k_1=0.$<br>\n",
    "同理可证,$k_2=\\dots=k_r=0.$<br>\n",
    "综上所述,根据向量组线性相关的定义$\\Rightarrow a_1,\\dots,a_r$线性无关."
   ]
  },
  {
   "cell_type": "markdown",
   "metadata": {},
   "source": [
    "**定义:**$n$维向量$e_1,\\dots,e_r$是向量空间$V\\in\\mathbb R^n$中的向量,满足\n",
    ">* $e_1,\\dots,e_r$是向量空间$V\\in\\mathbb R^n$中的一个基(最大无关组);\n",
    "* $e_1,\\dots,e_r$两两正交;\n",
    "* $e_1,\\dots,e_r$都是单位向量;\n",
    "\n",
    "则称$e_1,\\dots,e_r$是$V$的一个${\\color{red}{规范正交基}}$.\n",
    "\n",
    "**例:**"
   ]
  },
  {
   "cell_type": "code",
   "execution_count": 2,
   "metadata": {},
   "outputs": [
    {
     "data": {
      "text/latex": [
       "$$\\left[\\begin{matrix}\\left[\\begin{matrix}1\\\\0\\\\0\\\\0\\end{matrix}\\right] & \\left[\\begin{matrix}0\\\\1\\\\0\\\\0\\end{matrix}\\right] & \\left[\\begin{matrix}0\\\\0\\\\1\\\\0\\end{matrix}\\right] & \\left[\\begin{matrix}0\\\\0\\\\0\\\\1\\end{matrix}\\right]\\end{matrix}\\right]$$"
      ],
      "text/plain": [
       "⎡⎡1⎤  ⎡0⎤  ⎡0⎤  ⎡0⎤⎤\n",
       "⎢⎢ ⎥  ⎢ ⎥  ⎢ ⎥  ⎢ ⎥⎥\n",
       "⎢⎢0⎥  ⎢1⎥  ⎢0⎥  ⎢0⎥⎥\n",
       "⎢⎢ ⎥  ⎢ ⎥  ⎢ ⎥  ⎢ ⎥⎥\n",
       "⎢⎢0⎥  ⎢0⎥  ⎢1⎥  ⎢0⎥⎥\n",
       "⎢⎢ ⎥  ⎢ ⎥  ⎢ ⎥  ⎢ ⎥⎥\n",
       "⎣⎣0⎦  ⎣0⎦  ⎣0⎦  ⎣1⎦⎦"
      ]
     },
     "execution_count": 2,
     "metadata": {},
     "output_type": "execute_result"
    }
   ],
   "source": [
    "xe=sp.eye(4)\n",
    "xes=sp.Matrix([[xe[:,i]] for i in range(xe.shape[1])]).T\n",
    "xes"
   ]
  },
  {
   "cell_type": "markdown",
   "metadata": {},
   "source": [
    "是$\\mathbb R^4$的一个规范正交基."
   ]
  },
  {
   "cell_type": "markdown",
   "metadata": {},
   "source": [
    "**推论:**设$e_1,\\dots,e_r$是向量空间$V$中的一个正交基,则$V$中的任意一个向量可以唯一表示为$x=\\lambda_1e_1+\\dots+\\lambda_re_r$<br>\n",
    "于是$\\lambda_i=\\frac{[x,e_i]}{[e_i,e_i]}=\\frac{[x,e_i]}{{\\|e_i\\|}^2},i=1,\\dots,r$<br>\n",
    "特别地,若$e_1,\\dots,e_r$是$V$的一个规范正交基,则<br>\n",
    "$\\lambda_i=[x,e_i],i=1,\\dots,r$"
   ]
  },
  {
   "cell_type": "markdown",
   "metadata": {},
   "source": [
    "## 1.5.求规范正交基的方法\n",
    "**步骤:**\n",
    ">1. 基\n",
    "2. 正交基\n",
    "3. 规范正交基"
   ]
  },
  {
   "cell_type": "markdown",
   "metadata": {},
   "source": [
    "### 1.5.1.第一步:正交化-施密特正交化过程\n",
    "设$a_1,\\dots,a_r$是向量空间$V$中的一个基,那么令<br>\n",
    "$b_1=a_1\\\\b_2=a_2-\\frac{[b_1,a_2]}{[b_1,b_1]}b_1\\\\b_3=a_3-\\frac{[b_2,a_3]}{[b_2,b_2]}b_2-\\frac{[b_1,a_3]}{[b_1,b_1]}b_1\\\\\\vdots\\\\b_r=a_r-\\#b_1-\\dots-\\#b_{r-1}$<br>\n",
    "其中$b_1,\\dots,b_r$两两正交,并且与$a_1,\\dots,a_r$等价,即$b_1,\\dots,b_r$是向量空间$V$中的一个正交基.<br>\n",
    "特别地,$b_1,\\dots,b_k$与$a_1,\\dots,a_k$等价$(1\\leq k\\leq r)$."
   ]
  },
  {
   "cell_type": "markdown",
   "metadata": {},
   "source": [
    "### 1.5.2.第二步:单位化\n",
    "设$b_1,\\dots,b_r$是向量空间$V$中的一个正交基,那么令<br>\n",
    "$e_1=\\frac{1}{\\|b_1\\|}b_1,\\dots,e_r=\\frac{1}{\\|b_r\\|}b_r\\\\\\because  [e_1,e_1]=\\left | \\frac{1}{\\|b_1\\|}b_1,\\frac{1}{\\|b_1\\|}b_1 \\right |=\\frac{1}{{\\|b_1\\|}^2}[b_1,b_1]=1\\\\\\therefore \\|e_1\\|=\\sqrt{[e_1,e_1]}=1\\\\从而e_1,\\dots,e_r是向量空间V中的一个规范正交基.$"
   ]
  },
  {
   "cell_type": "markdown",
   "metadata": {},
   "source": [
    "**例:**如下矩阵$A$向量组，试用施密特正交化过程把这组向量规范正交化."
   ]
  },
  {
   "cell_type": "code",
   "execution_count": 3,
   "metadata": {},
   "outputs": [
    {
     "data": {
      "text/latex": [
       "$$\\left[\\begin{matrix}\\left[\\begin{matrix}1\\\\2\\\\-1\\end{matrix}\\right] & \\left[\\begin{matrix}-1\\\\3\\\\1\\end{matrix}\\right] & \\left[\\begin{matrix}4\\\\-1\\\\0\\end{matrix}\\right]\\end{matrix}\\right]$$"
      ],
      "text/plain": [
       "⎡⎡1 ⎤  ⎡-1⎤  ⎡4 ⎤⎤\n",
       "⎢⎢  ⎥  ⎢  ⎥  ⎢  ⎥⎥\n",
       "⎢⎢2 ⎥  ⎢3 ⎥  ⎢-1⎥⎥\n",
       "⎢⎢  ⎥  ⎢  ⎥  ⎢  ⎥⎥\n",
       "⎣⎣-1⎦  ⎣1 ⎦  ⎣0 ⎦⎦"
      ]
     },
     "execution_count": 3,
     "metadata": {},
     "output_type": "execute_result"
    }
   ],
   "source": [
    "xa=sp.Matrix([[1,2,-1],[-1,3,1],[4,-1,0]])\n",
    "xas=sp.Matrix([[xa[i,:].T] for i in range(xa.shape[1])]).T\n",
    "xas"
   ]
  },
  {
   "cell_type": "markdown",
   "metadata": {},
   "source": [
    "**解:**第一步正交化:"
   ]
  },
  {
   "cell_type": "code",
   "execution_count": 4,
   "metadata": {},
   "outputs": [
    {
     "data": {
      "text/latex": [
       "$$\\left ( \\left[\\begin{matrix}1\\\\2\\\\-1\\end{matrix}\\right], \\quad \\left[\\begin{matrix}- \\frac{5}{3}\\\\\\frac{5}{3}\\\\\\frac{5}{3}\\end{matrix}\\right], \\quad \\left[\\begin{matrix}2\\\\0\\\\2\\end{matrix}\\right]\\right )$$"
      ],
      "text/plain": [
       "⎛⎡1 ⎤  ⎡-5/3⎤  ⎡2⎤⎞\n",
       "⎜⎢  ⎥  ⎢    ⎥  ⎢ ⎥⎟\n",
       "⎜⎢2 ⎥, ⎢5/3 ⎥, ⎢0⎥⎟\n",
       "⎜⎢  ⎥  ⎢    ⎥  ⎢ ⎥⎟\n",
       "⎝⎣-1⎦  ⎣5/3 ⎦  ⎣2⎦⎠"
      ]
     },
     "execution_count": 4,
     "metadata": {},
     "output_type": "execute_result"
    }
   ],
   "source": [
    "xb0=xas[0]\n",
    "xb1=xas[1]-(xb0.T*xas[1])[0]/(xb0.T*xb0)[0]*xb0\n",
    "xb2=xas[2]-(xb0.T*xas[2])[0]/(xb0.T*xb0)[0]*xb0-(xb1.T*xas[2])[0]/(xb1.T*xb1)[0]*xb1\n",
    "xb0,xb1,xb2"
   ]
  },
  {
   "cell_type": "markdown",
   "metadata": {},
   "source": [
    "第二步单位化"
   ]
  },
  {
   "cell_type": "code",
   "execution_count": 5,
   "metadata": {},
   "outputs": [
    {
     "data": {
      "text/latex": [
       "$$\\left [ \\left[\\begin{matrix}\\frac{\\sqrt{6}}{6}\\\\\\frac{\\sqrt{6}}{3}\\\\- \\frac{\\sqrt{6}}{6}\\end{matrix}\\right], \\quad \\left[\\begin{matrix}- \\frac{\\sqrt{3}}{3}\\\\\\frac{\\sqrt{3}}{3}\\\\\\frac{\\sqrt{3}}{3}\\end{matrix}\\right], \\quad \\left[\\begin{matrix}\\frac{\\sqrt{2}}{2}\\\\0\\\\\\frac{\\sqrt{2}}{2}\\end{matrix}\\right]\\right ]$$"
      ],
      "text/plain": [
       "⎡⎡ √6 ⎤  ⎡-√3 ⎤      ⎤\n",
       "⎢⎢ ── ⎥  ⎢────⎥  ⎡√2⎤⎥\n",
       "⎢⎢ 6  ⎥  ⎢ 3  ⎥  ⎢──⎥⎥\n",
       "⎢⎢    ⎥  ⎢    ⎥  ⎢2 ⎥⎥\n",
       "⎢⎢ √6 ⎥  ⎢ √3 ⎥  ⎢  ⎥⎥\n",
       "⎢⎢ ── ⎥, ⎢ ── ⎥, ⎢0 ⎥⎥\n",
       "⎢⎢ 3  ⎥  ⎢ 3  ⎥  ⎢  ⎥⎥\n",
       "⎢⎢    ⎥  ⎢    ⎥  ⎢√2⎥⎥\n",
       "⎢⎢-√6 ⎥  ⎢ √3 ⎥  ⎢──⎥⎥\n",
       "⎢⎢────⎥  ⎢ ── ⎥  ⎣2 ⎦⎥\n",
       "⎣⎣ 6  ⎦  ⎣ 3  ⎦      ⎦"
      ]
     },
     "execution_count": 5,
     "metadata": {},
     "output_type": "execute_result"
    }
   ],
   "source": [
    "[1/sp.sqrt((i.T*i)[0])*i for i in [xb0,xb1,xb2]]"
   ]
  },
  {
   "cell_type": "markdown",
   "metadata": {},
   "source": [
    "**定义:**如果$n$阶矩阵$A$满足$A^TA=E_n,即A^{-1}=A^T$,则称矩阵$A$为正交矩阵,简称正交阵.\n",
    "\n",
    "**证明:**<br>\n",
    "$\\because A^TA=E_n,$<br>$\\therefore a_{:,i}^Ta_{:,j}=\\begin{cases}1,i=j\\\\0,i\\not=j\\end{cases}(i,j=1,\\dots,n)$<br>$\\therefore$ 方阵$A$为正交阵的充要条件是$A$的列向量都是单位向量,且两两相交.即$A$的列向量组构成$\\mathbb R^n$的规范正交基.<br>\n",
    "又$\\therefore A^TA=E与AA^T=E$等价,<br>\n",
    "$\\therefore b_{i,;}b_{j,:}^T=\\begin{cases}1,i=j\\\\0,i\\not=j\\end{cases}(i,j=1,\\dots,n)$<br>\n",
    "$\\therefore$ 方阵$A$为正交阵的充要条件是$A$的<font color=red>行向量</font>都是单位向量,且两两相交.即$A$的<font color=red>行向量组</font>构成$\\mathbb R^n$的规范正交基."
   ]
  },
  {
   "cell_type": "markdown",
   "metadata": {},
   "source": [
    "**正交矩阵具有如下性质:**\n",
    ">* 若$A$是正交阵,则$A^{-1}$也是正交阵,且$\\left|A \\right|=1或-1$.\n",
    "* 若$A和B$是正交阵,则$AB$也是正交矩阵."
   ]
  },
  {
   "cell_type": "markdown",
   "metadata": {},
   "source": [
    "**定义:**若$P$是正交阵,则线性变换$y=Px$称为正交变换.$\\|y\\|$经过正交变换,线段的长度保持不变(从而三角形的形状保持不变),这就是正交变换的优良特性."
   ]
  },
  {
   "cell_type": "markdown",
   "metadata": {},
   "source": [
    "# 2.方阵的特征值与特征向量\n",
    "**引言:**\n",
    ">* 纯量阵$\\lambda E$与任何同阶矩阵的乘法都满足交换律,即$(\\lambda E_n)A_n=A_n(\\lambda E_n)$.\n",
    "* 矩阵乘法一般不满足交换律,即$AB\\not=BA$.\n",
    "* 数乘矩阵与矩阵乘法都是可交换的,即$\\lambda (AB)=(\\lambda A)B=A(\\lambda B)$."
   ]
  },
  {
   "cell_type": "markdown",
   "metadata": {},
   "source": [
    "## 2.1.基本概念\n",
    "**定义:**设$A$是$n$阶矩阵,如果数$\\lambda 和n$维非零向量$x$满足$Ax=\\lambda x$,那么这样的数$\\lambda$称为矩阵$A$的特征值,非零向量$x$称为$A$对应的特征值$\\lambda$的特征向量.\n",
    "\n",
    "**例:**\n",
    ">$\\begin{bmatrix}3&-4\\\\2&-3\\end{bmatrix}\\begin{bmatrix}2\\\\1\\end{bmatrix}=1\\cdot\\begin{bmatrix}2\\\\1\\end{bmatrix}$<br>\n",
    "则$\\lambda=1$为$\\begin{bmatrix}3&-4\\\\2&-3\\end{bmatrix}$的特征值."
   ]
  },
  {
   "cell_type": "markdown",
   "metadata": {},
   "source": [
    "$Ax=\\lambda x=\\lambda Ex\\\\\\Leftrightarrow 非零向量满足(A-\\lambda E)x=0(零向量)\\\\\\Leftrightarrow 齐次线性方程组有非零解\\\\\\Leftrightarrow 系数行列式\\left |A-\\lambda E \\right |=0$\n",
    "\n",
    "**定义:**\n",
    ">* 系数行列式$\\left |A-\\lambda E \\right |$,称为特征多项式\n",
    "* $\\left |A-\\lambda E \\right |=0$,称为特征方程"
   ]
  },
  {
   "cell_type": "markdown",
   "metadata": {},
   "source": [
    "## 2.2.基本性质\n",
    "**性质:** 在复数范围内$n$阶矩阵$A$有$n$个特征值(重根按重数计算).\n",
    "\n",
    "**性质:** 设$n$阶矩阵$A$的特征值为$\\lambda_1,\\dots,\\lambda_n$,则\n",
    "* $\\lambda_1+\\dots+\\lambda_n=a_{11}+\\dots+a_{nn}$\n",
    "* $\\lambda_1\\dots\\lambda_n=\\left | A \\right |$"
   ]
  },
  {
   "cell_type": "markdown",
   "metadata": {},
   "source": [
    "**例:**求解矩阵$A$的特征值和特征向量."
   ]
  },
  {
   "cell_type": "code",
   "execution_count": 6,
   "metadata": {},
   "outputs": [
    {
     "data": {
      "text/latex": [
       "$$\\left[\\begin{matrix}3 & -1\\\\-1 & 3\\end{matrix}\\right]$$"
      ],
      "text/plain": [
       "⎡3   -1⎤\n",
       "⎢      ⎥\n",
       "⎣-1  3 ⎦"
      ]
     },
     "execution_count": 6,
     "metadata": {},
     "output_type": "execute_result"
    }
   ],
   "source": [
    "xa=sp.Matrix([[3,-1],[-1,3]])\n",
    "xa"
   ]
  },
  {
   "cell_type": "markdown",
   "metadata": {},
   "source": [
    "**解:**$A$的特征多项式为"
   ]
  },
  {
   "cell_type": "code",
   "execution_count": 7,
   "metadata": {},
   "outputs": [
    {
     "data": {
      "image/png": "[encoded data removed]",
      "text/latex": [
       "$$\\left(- x + 3\\right)^{2} - 1$$"
      ],
      "text/plain": [
       "        2    \n",
       "(-x + 3)  - 1"
      ]
     },
     "execution_count": 7,
     "metadata": {},
     "output_type": "execute_result"
    }
   ],
   "source": [
    "(xa-x*sp.eye(2)).det()"
   ]
  },
  {
   "cell_type": "markdown",
   "metadata": {},
   "source": [
    "求解矩阵$A$的特征方程"
   ]
  },
  {
   "cell_type": "code",
   "execution_count": 8,
   "metadata": {},
   "outputs": [
    {
     "data": {
      "image/png": "[encoded data removed]",
      "text/latex": [
       "$$\\left [ 2, \\quad 4\\right ]$$"
      ],
      "text/plain": [
       "[2, 4]"
      ]
     },
     "execution_count": 8,
     "metadata": {},
     "output_type": "execute_result"
    }
   ],
   "source": [
    "sp.solve((xa-x*sp.eye(2)).det(),x)"
   ]
  },
  {
   "cell_type": "markdown",
   "metadata": {},
   "source": [
    "所以$A$的特征值为$\\lambda_1=2,\\lambda_2=4$."
   ]
  },
  {
   "cell_type": "markdown",
   "metadata": {},
   "source": [
    "当$\\lambda_1=2$时,对应的特征向量应满足"
   ]
  },
  {
   "cell_type": "code",
   "execution_count": 9,
   "metadata": {},
   "outputs": [
    {
     "data": {
      "image/png": "[encoded data removed]",
      "text/latex": [
       "$$\\left \\{ x_{0} : x_{1}\\right \\}$$"
      ],
      "text/plain": [
       "{x_{0}: x_{1}}"
      ]
     },
     "execution_count": 9,
     "metadata": {},
     "output_type": "execute_result"
    }
   ],
   "source": [
    "xx=getM('x',2,1)\n",
    "sp.solve((xa-2*sp.eye(2))*xx,xx)"
   ]
  },
  {
   "cell_type": "markdown",
   "metadata": {},
   "source": [
    "**由上**解的基础解系$p_1=\\begin{bmatrix}1\\\\1\\end{bmatrix}$.$kp_1(k\\not=0)$也就是对应的特征向量."
   ]
  },
  {
   "cell_type": "markdown",
   "metadata": {},
   "source": [
    "当$\\lambda_2=4$时,求解过程同上."
   ]
  },
  {
   "cell_type": "markdown",
   "metadata": {},
   "source": [
    "**性质:**若$\\lambda是A$的一个特征值,则齐次线性方程组的基础解系就是对应于特征值$\\lambda$的全体特征向量的最大无关组."
   ]
  },
  {
   "cell_type": "markdown",
   "metadata": {},
   "source": [
    "**例:**设$\\lambda$是方阵$A$的特征值,证明\n",
    ">1. ${\\lambda}^2是A^2$的特征值;\n",
    "2. 当$A$可逆时,$\\frac{1}{\\lambda}是A^{-1}$的特征值."
   ]
  },
  {
   "cell_type": "markdown",
   "metadata": {},
   "source": [
    "**证明1:**\n",
    ">$\\because Ax=\\lambda x\\\\\\therefore AAx=A\\lambda x=\\lambda Ax={\\lambda}^2x\\\\\\therefore {\\lambda}^2是A^2的特征值$"
   ]
  },
  {
   "cell_type": "markdown",
   "metadata": {},
   "source": [
    "**证明2:**\n",
    ">$\\because Ax=\\lambda x\\\\\\therefore A^{-1}Ax=A^{-1}\\lambda x\\\\\\therefore A^{-1}x=\\frac{1}{\\lambda}Ex=\\frac{1}{\\lambda}x \\\\\\therefore \\frac{1}{\\lambda}是A^{-1}的特征值$"
   ]
  },
  {
   "cell_type": "markdown",
   "metadata": {},
   "source": [
    "**结论:**若非零向量$p是A$对应于特征值$\\lambda$的特征向量,则\n",
    "> * ${\\lambda}^2是A^2的特征值$,对应的特征向量也是$p$.\n",
    "* ${\\lambda}^k是A^k的特征值$,对应的特征向量也是$p,k\\in\\mathbb{Z+}$.\n",
    "* 当$A$可逆时,$\\frac 1 \\lambda 是A^{-1}$的特征值,对应的特征向量仍然是$p$."
   ]
  },
  {
   "cell_type": "markdown",
   "metadata": {},
   "source": [
    "**性质:**若$\\lambda 是A$的一个特征值,则$\\phi(\\lambda)=a_1{\\lambda}^0+\\dots+a_m{\\lambda}^m$是矩阵多项式$\\phi(A)=a_1{A}^0+\\dots+a_m{A}^m$的特征值."
   ]
  },
  {
   "cell_type": "markdown",
   "metadata": {},
   "source": [
    "**定理:**设$\\lambda_1,\\dots,\\lambda_m$是方阵$A$的特征值,$p_1,\\dots,p_m$依次是与之对应的特征向量,如果$\\lambda_1,\\dots,\\lambda_m$各不相同,则$p_1,\\dots,p_m$线性无关."
   ]
  },
  {
   "cell_type": "markdown",
   "metadata": {},
   "source": [
    "**例:**设$\\lambda_1和\\lambda_2$是方阵$A$的不同的特征值,对应的特征向量依次为$p_1,p_2$,证明$p_1+p_2$不是$A$的特征向量."
   ]
  },
  {
   "cell_type": "markdown",
   "metadata": {},
   "source": [
    "**证明:**\n",
    "如果$p_1+p_2$是$A$的特征向量,<br>\n",
    "$\\Rightarrow A(p_1+p_2)=\\lambda (p_1+p_2)=\\lambda E(p_1+p_2)$<br>\n",
    "$\\Rightarrow \\lambda_1p_1+\\lambda_2p_2=\\lambda p_1+\\lambda p_2$<br>\n",
    "$\\because \\lambda_1\\not=\\lambda_2\\Rightarrow \\lambda 无解$<br>\n",
    "$\\therefore p_1+p_2不是A的特征向量.$"
   ]
  },
  {
   "cell_type": "markdown",
   "metadata": {},
   "source": [
    "# 3.相似矩阵\n",
    "**定义:**设$A,B$都是$n$阶矩阵,若有可逆矩阵$P$满足$P^{-1}AP=B$,则称$B$为矩阵$A$的相似矩阵,对$A$进行运算$P^{-1}AP$称为对$A$进行相似变换.称可逆矩阵$P$为把$A$变成B的相似变换矩阵."
   ]
  },
  {
   "cell_type": "markdown",
   "metadata": {},
   "source": [
    "**定理:**若$n$阶矩阵$A和B$相似,则$A和B$的特征多项式相同,从而$A和B$的特征值也相同.\n",
    "\n",
    "**证明:**\n",
    ">根据题意,存在可逆矩阵$P$,使得$P^{-1}AP=B$,<br>\n",
    "$\\Rightarrow B的特征多项式为$<br>\n",
    "$\\left|B-\\lambda E\\right|\\\\=\\left|P^{-1}AP -\\lambda P^{-1}P\\right|\\\\=|P^{-1}||A-\\lambda E||P|(由|P^{-1}||P|=1)\\\\=|A-\\lambda E|$"
   ]
  },
  {
   "cell_type": "markdown",
   "metadata": {},
   "source": [
    "**推论:**若$n$阶矩阵$A和B$相似,则$A$的多项式$\\phi(A)和B$的多项式$\\phi(B)$相似.\n",
    "\n",
    "**证明:**设存在可逆矩阵$P$,使得$P^{-1}AP=B$,则$P^{-1}A^{\\color{red}{k}}P=B^{\\color{red}{k}}$.<br>\n",
    "$设\\phi(x)=c_0x^0+\\dots+c_mx^m,那么\\\\P^{-1}\\phi(A)P\\\\=P^{-1}(c_0A^0+\\dots+c_mA^m)P\\\\=c_0P^{-1}A^0P+\\dots+c_mP^{-1}A^mP\\\\=c_0B^0+\\dots+c_mB^m\\\\=\\phi(B).$"
   ]
  },
  {
   "cell_type": "markdown",
   "metadata": {},
   "source": [
    "**定理:**设$n$阶矩阵$\\Lambda=diag(\\lambda_1,\\dots,\\lambda_n)$,则$\\lambda_1,\\dots,\\lambda_n$就是$A$的$n$个特征值."
   ]
  },
  {
   "cell_type": "markdown",
   "metadata": {},
   "source": [
    "**推论:**若$n$阶矩阵$B和n$阶对角阵$\\Lambda=diag(\\lambda_1,\\dots,\\lambda_n)$相似,则$\\phi(B)=P^{-1}\\phi(\\Lambda)P$.从而通过计算$\\phi(\\Lambda)$可方便地计算$\\phi(B)$."
   ]
  },
  {
   "cell_type": "markdown",
   "metadata": {},
   "source": [
    "# 4.对称矩阵的对角化\n",
    "**定理:**设$\\lambda_1,\\dots,\\lambda_m$是方阵$A$的特征值,$p_1,\\dots,p_m$依次是与之对应的特征向量,如果$\\lambda_1,\\dots,\\lambda_m$各不相同,则$p_1,\\dots,p_m$线性无关."
   ]
  },
  {
   "cell_type": "markdown",
   "metadata": {},
   "source": [
    "可逆矩阵$P$,满足$P^{-1}BP=\\Lambda$(对角阵),则:<br>\n",
    "$P^{-1}BP=\\Lambda\\Leftrightarrow BP=P\\Lambda$($n$阶矩阵$B$和对角阵相似的,当且仅当$B$有$n$个线性无关的特征向量.)<br>\n",
    "$\\Leftrightarrow Bp_i=\\lambda_ip_i(i=1,\\dots,n)(\\lambda_i:B的特征值,p_i:\\lambda_i对应的特征向量)$(推论:如果$B$有$n$个不同的特征值,则$B$和对角阵相似.)<br>\n",
    "$\\Leftrightarrow B(p_1,\\dots,p_n)=\\begin{bmatrix}p_1&\\dots&p_n\\end{bmatrix}\\begin{bmatrix}\\lambda_1&&\\\\&\\ddots&\\\\&&\\lambda_n\\end{bmatrix}$\n",
    "\n",
    "**说明:**当$A$的特征方程有重根时,就不一定有$n$个线性无关的特征向量,从而不一定能对角化."
   ]
  },
  {
   "cell_type": "markdown",
   "metadata": {},
   "source": [
    "**定理:**设$\\lambda_1和\\lambda_2$是对称矩阵$A$的特征值,$p_1,p_2$是对应的特征向量,如果$\\lambda_1\\not=\\lambda_2$,则$p_1,p_2$正交.\n",
    "\n",
    "**证明:**\n",
    ">$\\because Ap_1=\\lambda_1p_1,Ap_2=\\lambda_2p_2,\\lambda_1\\not=\\lambda_2\\\\\\therefore p_1^TA^T=\\lambda_1p^T_1\\\\\\because A=A^T\\Rightarrow p_1^TAp_2=\\lambda_1p^T_1p_2\\\\\\because Ap_2=\\lambda_2p_2\\Rightarrow p_1^TAp_2=\\lambda_2p_1^Tp_2\\\\\\therefore \\lambda_1p^T_1p_2=\\lambda_2p_1^Tp_2\\\\\\because \\lambda_1\\not=\\lambda_2\\\\\\therefore p_1^Tp_2=0,即p_1,p_2正交.$"
   ]
  },
  {
   "cell_type": "markdown",
   "metadata": {},
   "source": [
    "**定理:**设$A$为$n$阶对称阵,则必有正交阵$P$,使得$P^{-1}AP=P^TAP=\\Lambda$,其中$\\Lambda$是以$A$的$n$个特征值为对角元的对角阵(不唯一)."
   ]
  },
  {
   "cell_type": "markdown",
   "metadata": {},
   "source": [
    "**推论:**设$A为n$阶对称阵,$\\lambda是A$的特征方程的$k$重根,则\n",
    "* 矩阵$A-\\lambda E$的秩等于$n-k$,\n",
    "* 恰有$k$个线性无关的特征向量与特征值$\\lambda$对应."
   ]
  },
  {
   "cell_type": "markdown",
   "metadata": {},
   "source": [
    "**例:**设$A$为如下矩阵"
   ]
  },
  {
   "cell_type": "code",
   "execution_count": 10,
   "metadata": {},
   "outputs": [
    {
     "data": {
      "text/latex": [
       "$$\\left ( \\left[\\begin{matrix}0 & -1 & 1\\\\-1 & 0 & 1\\\\1 & 1 & 0\\end{matrix}\\right], \\quad \\left[\\begin{matrix}0 & -1 & 1\\\\-1 & 0 & 1\\\\1 & 1 & 0\\end{matrix}\\right]\\right )$$"
      ],
      "text/plain": [
       "⎛⎡0   -1  1⎤  ⎡0   -1  1⎤⎞\n",
       "⎜⎢         ⎥  ⎢         ⎥⎟\n",
       "⎜⎢-1  0   1⎥, ⎢-1  0   1⎥⎟\n",
       "⎜⎢         ⎥  ⎢         ⎥⎟\n",
       "⎝⎣1   1   0⎦  ⎣1   1   0⎦⎠"
      ]
     },
     "execution_count": 10,
     "metadata": {},
     "output_type": "execute_result"
    }
   ],
   "source": [
    "xa=sp.Matrix([[0,-1,1],[-1,0,1],[1,1,0]])\n",
    "xa,xa.T"
   ]
  },
  {
   "cell_type": "markdown",
   "metadata": {},
   "source": [
    "求正交阵$P$,使$P^{-1}AP=\\Lambda对角阵$."
   ]
  },
  {
   "cell_type": "markdown",
   "metadata": {},
   "source": [
    "**解:**因为$A$是对称阵,所以$A$可以对角化.对应特征多项式为"
   ]
  },
  {
   "cell_type": "code",
   "execution_count": 11,
   "metadata": {},
   "outputs": [
    {
     "data": {
      "image/png": "[encoded data removed]",
      "text/latex": [
       "$$- x^{3} + 3 x - 2$$"
      ],
      "text/plain": [
       "   3          \n",
       "- x  + 3⋅x - 2"
      ]
     },
     "execution_count": 11,
     "metadata": {},
     "output_type": "execute_result"
    }
   ],
   "source": [
    "(xa-x*sp.eye(3)).det()"
   ]
  },
  {
   "cell_type": "markdown",
   "metadata": {},
   "source": [
    "求解特征方程得矩阵$A$的特征值"
   ]
  },
  {
   "cell_type": "code",
   "execution_count": 12,
   "metadata": {},
   "outputs": [
    {
     "data": {
      "image/png": "[encoded data removed]",
      "text/latex": [
       "$$\\left [ -2, \\quad 1\\right ]$$"
      ],
      "text/plain": [
       "[-2, 1]"
      ]
     },
     "execution_count": 12,
     "metadata": {},
     "output_type": "execute_result"
    }
   ],
   "source": [
    "sp.solve((xa-x*sp.eye(3)).det(),x)"
   ]
  },
  {
   "cell_type": "markdown",
   "metadata": {},
   "source": [
    "求得$A$的特征值$\\lambda_1=-2,\\lambda_2=\\lambda_3=1$."
   ]
  },
  {
   "cell_type": "markdown",
   "metadata": {},
   "source": [
    "当$\\lambda_1=-2$时,解方程组$(A+2E)x=0$.得基础解系$\\xi_1$"
   ]
  },
  {
   "cell_type": "code",
   "execution_count": 13,
   "metadata": {},
   "outputs": [
    {
     "data": {
      "image/png": "[encoded data removed]",
      "text/latex": [
       "$$\\left \\{ x_{0} : - x_{2}, \\quad x_{1} : - x_{2}\\right \\}$$"
      ],
      "text/plain": [
       "{x_{0}: -x_{2}, x_{1}: -x_{2}}"
      ]
     },
     "execution_count": 13,
     "metadata": {},
     "output_type": "execute_result"
    }
   ],
   "source": [
    "xx=getM('x',3,1)\n",
    "sp.solve((xa+2*sp.eye(3))*xx,xx)"
   ]
  },
  {
   "cell_type": "markdown",
   "metadata": {},
   "source": [
    "$\\xi_1=\\begin{bmatrix}-1\\\\-1\\\\1\\end{bmatrix}$."
   ]
  },
  {
   "cell_type": "markdown",
   "metadata": {},
   "source": [
    "当$\\lambda_2=\\lambda_3=1$时,解方程组$(A-E)x=0$."
   ]
  },
  {
   "cell_type": "code",
   "execution_count": 14,
   "metadata": {},
   "outputs": [
    {
     "data": {
      "image/png": "[encoded data removed]",
      "text/latex": [
       "$$\\left \\{ x_{0} : - x_{1} + x_{2}\\right \\}$$"
      ],
      "text/plain": [
       "{x_{0}: -x_{1} + x_{2}}"
      ]
     },
     "execution_count": 14,
     "metadata": {},
     "output_type": "execute_result"
    }
   ],
   "source": [
    "xx=getM('x',3,1)\n",
    "sp.solve((xa-sp.eye(3))*xx,xx)"
   ]
  },
  {
   "cell_type": "markdown",
   "metadata": {},
   "source": [
    "得$\\xi_2=\\begin{bmatrix}-1\\\\1\\\\0\\end{bmatrix},\\xi_3=\\begin{bmatrix}1\\\\0\\\\1\\end{bmatrix}$."
   ]
  },
  {
   "cell_type": "markdown",
   "metadata": {},
   "source": [
    "其中$\\xi_2\\xi_3^T\\not=0$,需要正交化:\n",
    ">$\\eta_2=\\xi_2,\\eta_3=\\xi_3-\\frac{[\\xi_3,\\eta_2]}{[\\eta_2,\\eta_2]}\\eta_2=\\begin{bmatrix}.5\\\\.5\\\\1\\end{bmatrix}$\n",
    "\n",
    "此时$\\xi_1\\bot\\eta_2,\\xi_1\\bot\\eta_3,\\eta_2\\bot\\eta_3.$"
   ]
  },
  {
   "cell_type": "markdown",
   "metadata": {},
   "source": [
    "单位化$P_1=\\frac{\\xi_1}{|\\xi_1|},P_2=\\frac{\\eta_2}{|\\eta_2|},P_3=\\frac{\\eta_3}{|\\eta_3|}$"
   ]
  },
  {
   "cell_type": "markdown",
   "metadata": {},
   "source": [
    "于是正交阵$P=[p_1,p_2,p_3]$,使$P^{-1}AP=\\Lambda$"
   ]
  },
  {
   "cell_type": "markdown",
   "metadata": {},
   "source": [
    "**步骤:**把对称阵$A$对角化的步骤为:\n",
    ">1. 求出$A$的所有各不相同的特征值$\\lambda_1,\\dots,\\lambda_s$,它们的重数依次为$k_1,\\dots,k_s(k_1+\\dots+k_s=n)$.\n",
    "2. 对每个$k_i$重特征值$\\lambda_i$,求方程组$|A-\\lambda_iE|=0$的基础解系,得$k_i$个线性无关的特征向量.<br>\n",
    "把这$k_i$个线性无关的特征向量正交化、单位化,得到$k_i$个两两正交的单位特征向量.<br>\n",
    "因为$k_1+\\dots+k_s=n$,总共可得$n$个两两正交的单位特征向量.\n",
    "3. 这$n$个两两正交的单位特征向量构成正交阵$P$,便有$P^{-1}AP=\\Lambda.\\Lambda$中对角元的排列次序应该与对应的列向量的排列次序相对应."
   ]
  },
  {
   "cell_type": "markdown",
   "metadata": {},
   "source": [
    "**例:**设$A$矩阵如下:"
   ]
  },
  {
   "cell_type": "code",
   "execution_count": 15,
   "metadata": {},
   "outputs": [
    {
     "data": {
      "text/latex": [
       "$$\\left ( \\left[\\begin{matrix}2 & -1\\\\-1 & 2\\end{matrix}\\right], \\quad \\left[\\begin{matrix}2 & -1\\\\-1 & 2\\end{matrix}\\right]\\right )$$"
      ],
      "text/plain": [
       "⎛⎡2   -1⎤  ⎡2   -1⎤⎞\n",
       "⎜⎢      ⎥, ⎢      ⎥⎟\n",
       "⎝⎣-1  2 ⎦  ⎣-1  2 ⎦⎠"
      ]
     },
     "execution_count": 15,
     "metadata": {},
     "output_type": "execute_result"
    }
   ],
   "source": [
    "xa=sp.Matrix([[2,-1],[-1,2]])\n",
    "xa,xa.T"
   ]
  },
  {
   "cell_type": "markdown",
   "metadata": {},
   "source": [
    "求$A^n,n\\in\\mathbb{Z+}$."
   ]
  },
  {
   "cell_type": "markdown",
   "metadata": {},
   "source": [
    "**解:**\n",
    "因为$A$是对称阵,所以$A$可以对角化."
   ]
  },
  {
   "cell_type": "code",
   "execution_count": 16,
   "metadata": {},
   "outputs": [
    {
     "data": {
      "image/png": "[encoded data removed]",
      "text/latex": [
       "$$\\left [ 1, \\quad 3\\right ]$$"
      ],
      "text/plain": [
       "[1, 3]"
      ]
     },
     "execution_count": 16,
     "metadata": {},
     "output_type": "execute_result"
    }
   ],
   "source": [
    "sp.solve((xa-x*sp.eye(2)).det(),x)"
   ]
  },
  {
   "cell_type": "markdown",
   "metadata": {},
   "source": [
    "求得$A$的特征值$\\lambda_1=1,\\lambda_2=3.$"
   ]
  },
  {
   "cell_type": "markdown",
   "metadata": {},
   "source": [
    "$\\Lambda=diag(1,3),\\Lambda^n=diag(1,3^n)$"
   ]
  },
  {
   "cell_type": "markdown",
   "metadata": {},
   "source": [
    "下面求满足$P^{-1}AP=\\Lambda$的可逆矩阵$P$."
   ]
  },
  {
   "cell_type": "markdown",
   "metadata": {},
   "source": [
    "当$\\lambda_1=1$时,解方程组"
   ]
  },
  {
   "cell_type": "code",
   "execution_count": 17,
   "metadata": {},
   "outputs": [
    {
     "data": {
      "image/png": "[encoded data removed]",
      "text/latex": [
       "$$\\left \\{ x_{0} : x_{1}\\right \\}$$"
      ],
      "text/plain": [
       "{x_{0}: x_{1}}"
      ]
     },
     "execution_count": 17,
     "metadata": {},
     "output_type": "execute_result"
    }
   ],
   "source": [
    "xx=getM('x',2,1)\n",
    "sp.solve((xa-sp.eye(2))*xx,xx)"
   ]
  },
  {
   "cell_type": "markdown",
   "metadata": {},
   "source": [
    "求得基础解系$p_1={[1,1]}^T.$"
   ]
  },
  {
   "cell_type": "markdown",
   "metadata": {},
   "source": [
    "当$\\lambda_2=3$时,解方程组"
   ]
  },
  {
   "cell_type": "code",
   "execution_count": 18,
   "metadata": {},
   "outputs": [
    {
     "data": {
      "image/png": "[encoded data removed]",
      "text/latex": [
       "$$\\left \\{ x_{0} : - x_{1}\\right \\}$$"
      ],
      "text/plain": [
       "{x_{0}: -x_{1}}"
      ]
     },
     "execution_count": 18,
     "metadata": {},
     "output_type": "execute_result"
    }
   ],
   "source": [
    "sp.solve((xa-3*sp.eye(2))*xx,xx)"
   ]
  },
  {
   "cell_type": "markdown",
   "metadata": {},
   "source": [
    "求得基础解系$p_2={[1,-1]}^T.$"
   ]
  },
  {
   "cell_type": "markdown",
   "metadata": {},
   "source": [
    "于是$Ap_1=p_1,Ap_2=3p_2$<br>\n",
    "若$P=[p_1,p_2]=\\begin{bmatrix}1&1\\\\1&-1\\end{bmatrix}$,则<br>\n",
    "$P^{-1}=$"
   ]
  },
  {
   "cell_type": "code",
   "execution_count": 19,
   "metadata": {},
   "outputs": [
    {
     "data": {
      "text/latex": [
       "$$\\left[\\begin{matrix}\\frac{1}{2} & \\frac{1}{2}\\\\\\frac{1}{2} & - \\frac{1}{2}\\end{matrix}\\right]$$"
      ],
      "text/plain": [
       "⎡1/2  1/2 ⎤\n",
       "⎢         ⎥\n",
       "⎣1/2  -1/2⎦"
      ]
     },
     "execution_count": 19,
     "metadata": {},
     "output_type": "execute_result"
    }
   ],
   "source": [
    "xp=sp.Matrix([[1,1],[1,-1]])\n",
    "xpi=xp.inv()\n",
    "xpi"
   ]
  },
  {
   "cell_type": "markdown",
   "metadata": {},
   "source": [
    "$P^{-1}AP=\\Lambda$"
   ]
  },
  {
   "cell_type": "code",
   "execution_count": 20,
   "metadata": {},
   "outputs": [
    {
     "data": {
      "text/latex": [
       "$$\\left[\\begin{matrix}1 & 0\\\\0 & 3\\end{matrix}\\right]$$"
      ],
      "text/plain": [
       "⎡1  0⎤\n",
       "⎢    ⎥\n",
       "⎣0  3⎦"
      ]
     },
     "execution_count": 20,
     "metadata": {},
     "output_type": "execute_result"
    }
   ],
   "source": [
    "xp*xa*xpi"
   ]
  },
  {
   "cell_type": "markdown",
   "metadata": {},
   "source": [
    "即$A=P\\Lambda P^{-1},A^n={(P\\Lambda P^{-1})}^n=P\\Lambda^n P^{-1}$"
   ]
  },
  {
   "cell_type": "markdown",
   "metadata": {},
   "source": [
    "# 5.二次型及其标准形\n",
    "**例:**<br>\n",
    "解析几何中,二次曲线的一般形式$ax^2+bxy+cy^2=0$,通过选择适当的旋转变换$\\begin{cases}x=x^{'}cos\\phi-y^{'}sin\\phi\\\\y=x^{'}sin\\phi+y^{'}cos\\phi\\\\\\end{cases}$,使得$mx^{'2}+ny^{'2}=0$."
   ]
  },
  {
   "cell_type": "markdown",
   "metadata": {},
   "source": [
    "**定义:**含有$n$个变量$x_1,\\dots,x_n$的二次齐次函数$f(x_1,\\dots,x_n)=\\sum_{i,j}^{i=n,j=n}a_{ij}x_ix_j$,称为二次型."
   ]
  },
  {
   "cell_type": "markdown",
   "metadata": {},
   "source": [
    "令$X=\\begin{bmatrix}x_1\\\\\\vdots\\\\x_n\\end{bmatrix},A=\\begin{bmatrix}a_{11}&\\dots&a_{1n}\\\\\\vdots&\\ddots&\\vdots\\\\a_{n1}&\\dots&a_{nn}\\end{bmatrix}$,则$f(x_1,\\dots,x_n)=\\sum_{i,j}^{i=n,j=n}a_{ij}x_ix_j=X^TAX$,其中$A$为二次型的矩阵."
   ]
  },
  {
   "cell_type": "markdown",
   "metadata": {},
   "source": [
    "令$A=\\Lambda$(对称阵),则$f(x_1,\\dots,x_n)$为对称阵的二次型,其中对称阵$A$的秩也叫做二次型$f$的秩."
   ]
  },
  {
   "cell_type": "markdown",
   "metadata": {},
   "source": [
    "对于二次型,需找可逆的线性变换<br>\n",
    "$\\begin{cases}x_1=c_{11}y_1+\\dots+c_{1n}y_n,\\\\\\vdots\\\\x_n=c_{n1}y_1+\\dots+c_{nn}y_n.\\end{cases}$<br>\n",
    "简记为$X=CY$,于是$f=X^TAX={(CY)}^TA{(CY)}=Y^T(C^TAC)Y$"
   ]
  },
  {
   "cell_type": "markdown",
   "metadata": {},
   "source": [
    "**定义:**设$A,B$都是$n$阶矩阵,若有可逆矩阵$P$满足$P^{-1}AP=B$,则称矩阵$A和B$相似."
   ]
  },
  {
   "cell_type": "markdown",
   "metadata": {},
   "source": [
    "**定义:**设$A,B$都是$n$阶矩阵,若有可逆矩阵$C$满足$C^{T}AC=B$,则称矩阵$A和B$合同."
   ]
  },
  {
   "cell_type": "markdown",
   "metadata": {},
   "source": [
    "**合同的性质:**\n",
    "> 1. 合同关系为等价关系\n",
    "2. 与对称矩阵合同的矩阵也是对称矩阵\n",
    "3. 合同矩阵具有相同的秩"
   ]
  },
  {
   "cell_type": "markdown",
   "metadata": {},
   "source": [
    "**显然,**\n",
    ">* $若A为对称阵,B^T={(C^TAC)}^T=C^TA^T{(C^T)}^T=C^TAC=B\\Rightarrow B也为对称阵.$\n",
    "* $R(B)=R(A).$\n",
    "\n",
    "经过可逆变换后,二次型$f$的矩阵由$A$变为与$A$合同的矩阵$C^TAC$,且二次型的秩不变."
   ]
  },
  {
   "cell_type": "markdown",
   "metadata": {},
   "source": [
    "**定义:**如果二次型只含有平方项,即$f=k_1y_1^2+\\dots+k_ny_n^2$,称之为二次型的标准形(或法式).如果标准形的系数$k_1,\\dots,k_n$只在$(-1,0,1)$三个数中取值,则上式称为二次型的规范形.(这里只讨论实二次型,所求线性变换也限于实数范围.)"
   ]
  },
  {
   "cell_type": "markdown",
   "metadata": {},
   "source": [
    "二次型$f$经过可逆变换$X=CY$变为标准形,即$f=X^TAX$."
   ]
  },
  {
   "cell_type": "markdown",
   "metadata": {},
   "source": [
    "**定义:**如果$n$阶矩阵$A$满足$A^TA=E$,则称矩阵$A$为正交矩阵,简称正交阵."
   ]
  },
  {
   "cell_type": "markdown",
   "metadata": {},
   "source": [
    "**定理:**设$A为n$阶对称阵,则必有正交阵$P$,使得$P^{-1}AP=\\Lambda,其中\\Lambda$是以$A的n$个特征值为对角元的对角阵(不唯一)."
   ]
  },
  {
   "cell_type": "markdown",
   "metadata": {},
   "source": [
    "**定理:**任给二次型$f(X)=X^T\\Lambda X$,总存在正交变换$X=PY$,使$f$化为标准$f(PY)=\\lambda_1y_1^2+\\dots+\\lambda_ny_n^2$,其中$\\lambda_1,\\dots,\\lambda_n是f$的矩阵$A$的特征值."
   ]
  },
  {
   "cell_type": "markdown",
   "metadata": {},
   "source": [
    "**推论:**任给二次型$f(X)=X^TAX$，总存在可逆变换$X=CZ$,使得$F(CZ)$为规范形.\n",
    "\n",
    "**证明:**\n",
    ">$f(PY)=\\lambda_1y_1^2+\\dots+\\lambda_ny_n^2$若$R(A)=r$,不妨设$\\lambda_1,\\dots,\\lambda_r$不等于零,$\\lambda_{r+1}=\\dots=\\lambda_n=0$,令<br>\n",
    "$K=\\begin{bmatrix}k_1&&\\\\&\\ddots&\\\\&&k_n\\end{bmatrix}$,其中$k_i=\\begin{cases}\\frac{1}{\\sqrt{|\\lambda_i|}}&,i\\leq r,\\\\1&,i>r\\end{cases}$<br>\n",
    "则$K$可逆,变换$Y=KZ$把$f(PY)$化为$f(PKZ)={(PKZ)}^TA(PKZ)=Z^TK^TP^TAPKZ=Z^TK^T\\Lambda KZ$<br>\n",
    "其中$K^T\\Lambda K=diag\\begin{bmatrix}\\frac{\\lambda_1}{|\\lambda_1|},\\dots,\\frac{\\lambda_r}{|\\lambda_r|},0,\\dots,0\\end{bmatrix}$"
   ]
  },
  {
   "cell_type": "markdown",
   "metadata": {},
   "source": [
    "**用正交变换化二次型为标准形的具体步骤:**\n",
    ">1. 将二次型表示成矩阵形式$f=X^TAX$,求出$A$;\n",
    "2. 求出$A$的所有特征值$\\lambda_1,\\dots,\\lambda_n$;\n",
    "3. 求出对应于特征值的特征向量$\\xi_1,\\dots,\\xi_n$;\n",
    "4. 将特征向量$\\xi_1,\\dots,\\xi_n$正交化,单位化,得$p_1,\\dots,p_n$,记$P=(p_1,\\dots,p_n)$;\n",
    "5. 作正交变换$X=PY$,则得$f$的标准形$f=\\lambda_1y_1^2+\\dots+\\lambda_ny_n^2$."
   ]
  }
 ],
 "metadata": {
  "kernelspec": {
   "display_name": "Python 3",
   "language": "python",
   "name": "python3"
  },
  "language_info": {
   "codemirror_mode": {
    "name": "ipython",
    "version": 3
   },
   "file_extension": ".py",
   "mimetype": "text/x-python",
   "name": "python",
   "nbconvert_exporter": "python",
   "pygments_lexer": "ipython3",
   "version": "3.6.5"
  },
  "toc": {
   "base_numbering": 1,
   "nav_menu": {},
   "number_sections": true,
   "sideBar": true,
   "skip_h1_title": false,
   "title_cell": "Table of Contents",
   "title_sidebar": "Contents",
   "toc_cell": false,
   "toc_position": {},
   "toc_section_display": true,
   "toc_window_display": false
  },
  "varInspector": {
   "cols": {
    "lenName": 16,
    "lenType": 16,
    "lenVar": 40
   },
   "kernels_config": {
    "python": {
     "delete_cmd_postfix": "",
     "delete_cmd_prefix": "del ",
     "library": "var_list.py",
     "varRefreshCmd": "print(var_dic_list())"
    },
    "r": {
     "delete_cmd_postfix": ") ",
     "delete_cmd_prefix": "rm(",
     "library": "var_list.r",
     "varRefreshCmd": "cat(var_dic_list()) "
    }
   },
   "types_to_exclude": [
    "module",
    "function",
    "builtin_function_or_method",
    "instance",
    "_Feature"
   ],
   "window_display": false
  }
 },
 "nbformat": 4,
 "nbformat_minor": 2
}
